{
  "nbformat": 4,
  "nbformat_minor": 0,
  "metadata": {
    "colab": {
      "name": "forecasting_Covid-19_Vaccines-Prophet-FIX.ipynb",
      "provenance": []
    },
    "kernelspec": {
      "name": "python3",
      "display_name": "Python 3"
    },
    "language_info": {
      "name": "python"
    }
  },
  "cells": [
    {
      "cell_type": "code",
      "metadata": {
        "colab": {
          "base_uri": "https://localhost:8080/"
        },
        "id": "FycO6_-V8cO7",
        "outputId": "dc09295e-ef95-4c96-9369-2738e7837e07"
      },
      "source": [
        "from google.colab import drive\n",
        "drive.mount('/content/drive')"
      ],
      "execution_count": 1,
      "outputs": [
        {
          "output_type": "stream",
          "text": [
            "Drive already mounted at /content/drive; to attempt to forcibly remount, call drive.mount(\"/content/drive\", force_remount=True).\n"
          ],
          "name": "stdout"
        }
      ]
    },
    {
      "cell_type": "code",
      "metadata": {
        "id": "PaRpWfm579jD"
      },
      "source": [
        "import numpy as np # numpy arrays / linear algebra\n",
        "import pandas as pd # data processing, CSV file I/O (e.g. pd.read_csv)\n",
        "import plotly.express as px # map plot\n",
        "import warnings\n",
        "warnings.filterwarnings('ignore') \n",
        "\n",
        "import matplotlib as mpl\n",
        "import matplotlib.pyplot as plt \n",
        "import matplotlib.dates as md\n",
        "%matplotlib inline\n",
        "from scipy.optimize import curve_fit # predictive modeling\n",
        "import seaborn as sns\n",
        "import statsmodels.api as sm\n",
        "\n",
        "import datetime\n",
        "from datetime import date"
      ],
      "execution_count": 2,
      "outputs": []
    },
    {
      "cell_type": "markdown",
      "metadata": {
        "id": "zgYxdpkzvIum"
      },
      "source": [
        "# Top 1 - Sinopharm and Sinovac"
      ]
    },
    {
      "cell_type": "code",
      "metadata": {
        "colab": {
          "base_uri": "https://localhost:8080/",
          "height": 202
        },
        "id": "T6DupBdv8guo",
        "outputId": "58f6819a-0239-44b7-f12b-c4ac05460606"
      },
      "source": [
        "df = pd.read_csv('/content/drive/MyDrive/dataset/country_vaccinations.csv', index_col='date', parse_dates=True, engine='python', header=0)\n",
        "df = df[df['country']=='Indonesia']['total_vaccinations']\n",
        "df.dropna(inplace=True)\n",
        "df = df.reset_index()\n",
        "df.head()"
      ],
      "execution_count": 3,
      "outputs": [
        {
          "output_type": "execute_result",
          "data": {
            "text/html": [
              "<div>\n",
              "<style scoped>\n",
              "    .dataframe tbody tr th:only-of-type {\n",
              "        vertical-align: middle;\n",
              "    }\n",
              "\n",
              "    .dataframe tbody tr th {\n",
              "        vertical-align: top;\n",
              "    }\n",
              "\n",
              "    .dataframe thead th {\n",
              "        text-align: right;\n",
              "    }\n",
              "</style>\n",
              "<table border=\"1\" class=\"dataframe\">\n",
              "  <thead>\n",
              "    <tr style=\"text-align: right;\">\n",
              "      <th></th>\n",
              "      <th>date</th>\n",
              "      <th>total_vaccinations</th>\n",
              "    </tr>\n",
              "  </thead>\n",
              "  <tbody>\n",
              "    <tr>\n",
              "      <th>0</th>\n",
              "      <td>2021-01-12</td>\n",
              "      <td>0.0</td>\n",
              "    </tr>\n",
              "    <tr>\n",
              "      <th>1</th>\n",
              "      <td>2021-01-22</td>\n",
              "      <td>132000.0</td>\n",
              "    </tr>\n",
              "    <tr>\n",
              "      <th>2</th>\n",
              "      <td>2021-01-24</td>\n",
              "      <td>149242.0</td>\n",
              "    </tr>\n",
              "    <tr>\n",
              "      <th>3</th>\n",
              "      <td>2021-01-25</td>\n",
              "      <td>161959.0</td>\n",
              "    </tr>\n",
              "    <tr>\n",
              "      <th>4</th>\n",
              "      <td>2021-01-26</td>\n",
              "      <td>245685.0</td>\n",
              "    </tr>\n",
              "  </tbody>\n",
              "</table>\n",
              "</div>"
            ],
            "text/plain": [
              "        date  total_vaccinations\n",
              "0 2021-01-12                 0.0\n",
              "1 2021-01-22            132000.0\n",
              "2 2021-01-24            149242.0\n",
              "3 2021-01-25            161959.0\n",
              "4 2021-01-26            245685.0"
            ]
          },
          "metadata": {
            "tags": []
          },
          "execution_count": 3
        }
      ]
    },
    {
      "cell_type": "code",
      "metadata": {
        "colab": {
          "base_uri": "https://localhost:8080/",
          "height": 202
        },
        "id": "jOdfl6T55hsZ",
        "outputId": "b7987fc4-654c-47f6-bf1e-0b964b05e084"
      },
      "source": [
        "df=df.rename(columns={'date':'ds', 'total_vaccinations':'y'})\n",
        "df.head()"
      ],
      "execution_count": 4,
      "outputs": [
        {
          "output_type": "execute_result",
          "data": {
            "text/html": [
              "<div>\n",
              "<style scoped>\n",
              "    .dataframe tbody tr th:only-of-type {\n",
              "        vertical-align: middle;\n",
              "    }\n",
              "\n",
              "    .dataframe tbody tr th {\n",
              "        vertical-align: top;\n",
              "    }\n",
              "\n",
              "    .dataframe thead th {\n",
              "        text-align: right;\n",
              "    }\n",
              "</style>\n",
              "<table border=\"1\" class=\"dataframe\">\n",
              "  <thead>\n",
              "    <tr style=\"text-align: right;\">\n",
              "      <th></th>\n",
              "      <th>ds</th>\n",
              "      <th>y</th>\n",
              "    </tr>\n",
              "  </thead>\n",
              "  <tbody>\n",
              "    <tr>\n",
              "      <th>0</th>\n",
              "      <td>2021-01-12</td>\n",
              "      <td>0.0</td>\n",
              "    </tr>\n",
              "    <tr>\n",
              "      <th>1</th>\n",
              "      <td>2021-01-22</td>\n",
              "      <td>132000.0</td>\n",
              "    </tr>\n",
              "    <tr>\n",
              "      <th>2</th>\n",
              "      <td>2021-01-24</td>\n",
              "      <td>149242.0</td>\n",
              "    </tr>\n",
              "    <tr>\n",
              "      <th>3</th>\n",
              "      <td>2021-01-25</td>\n",
              "      <td>161959.0</td>\n",
              "    </tr>\n",
              "    <tr>\n",
              "      <th>4</th>\n",
              "      <td>2021-01-26</td>\n",
              "      <td>245685.0</td>\n",
              "    </tr>\n",
              "  </tbody>\n",
              "</table>\n",
              "</div>"
            ],
            "text/plain": [
              "          ds         y\n",
              "0 2021-01-12       0.0\n",
              "1 2021-01-22  132000.0\n",
              "2 2021-01-24  149242.0\n",
              "3 2021-01-25  161959.0\n",
              "4 2021-01-26  245685.0"
            ]
          },
          "metadata": {
            "tags": []
          },
          "execution_count": 4
        }
      ]
    },
    {
      "cell_type": "code",
      "metadata": {
        "colab": {
          "base_uri": "https://localhost:8080/"
        },
        "id": "FWHJnoq36rcJ",
        "outputId": "67d20319-715e-499c-8caf-6c957f3215f2"
      },
      "source": [
        "from fbprophet import Prophet\n",
        "model = Prophet(daily_seasonality=True)\n",
        "model.fit(df);"
      ],
      "execution_count": 5,
      "outputs": [
        {
          "output_type": "stream",
          "text": [
            "INFO:numexpr.utils:NumExpr defaulting to 2 threads.\n",
            "INFO:fbprophet:Disabling yearly seasonality. Run prophet with yearly_seasonality=True to override this.\n"
          ],
          "name": "stderr"
        }
      ]
    },
    {
      "cell_type": "code",
      "metadata": {
        "id": "nFjCXg676uM5",
        "colab": {
          "base_uri": "https://localhost:8080/",
          "height": 202
        },
        "outputId": "622473f1-9f52-43cb-cddf-5560700540aa"
      },
      "source": [
        "future = model.make_future_dataframe(periods=60, freq = 'd')\n",
        "future.tail()"
      ],
      "execution_count": 6,
      "outputs": [
        {
          "output_type": "execute_result",
          "data": {
            "text/html": [
              "<div>\n",
              "<style scoped>\n",
              "    .dataframe tbody tr th:only-of-type {\n",
              "        vertical-align: middle;\n",
              "    }\n",
              "\n",
              "    .dataframe tbody tr th {\n",
              "        vertical-align: top;\n",
              "    }\n",
              "\n",
              "    .dataframe thead th {\n",
              "        text-align: right;\n",
              "    }\n",
              "</style>\n",
              "<table border=\"1\" class=\"dataframe\">\n",
              "  <thead>\n",
              "    <tr style=\"text-align: right;\">\n",
              "      <th></th>\n",
              "      <th>ds</th>\n",
              "    </tr>\n",
              "  </thead>\n",
              "  <tbody>\n",
              "    <tr>\n",
              "      <th>137</th>\n",
              "      <td>2021-07-01</td>\n",
              "    </tr>\n",
              "    <tr>\n",
              "      <th>138</th>\n",
              "      <td>2021-07-02</td>\n",
              "    </tr>\n",
              "    <tr>\n",
              "      <th>139</th>\n",
              "      <td>2021-07-03</td>\n",
              "    </tr>\n",
              "    <tr>\n",
              "      <th>140</th>\n",
              "      <td>2021-07-04</td>\n",
              "    </tr>\n",
              "    <tr>\n",
              "      <th>141</th>\n",
              "      <td>2021-07-05</td>\n",
              "    </tr>\n",
              "  </tbody>\n",
              "</table>\n",
              "</div>"
            ],
            "text/plain": [
              "            ds\n",
              "137 2021-07-01\n",
              "138 2021-07-02\n",
              "139 2021-07-03\n",
              "140 2021-07-04\n",
              "141 2021-07-05"
            ]
          },
          "metadata": {
            "tags": []
          },
          "execution_count": 6
        }
      ]
    },
    {
      "cell_type": "code",
      "metadata": {
        "id": "p1D65si26wU6"
      },
      "source": [
        "forecast = model.predict(future)"
      ],
      "execution_count": 7,
      "outputs": []
    },
    {
      "cell_type": "code",
      "metadata": {
        "id": "WmNp-S5N60Jh",
        "colab": {
          "base_uri": "https://localhost:8080/",
          "height": 305
        },
        "outputId": "cf9e76bd-dddf-43c4-85d4-4f663e9b9452"
      },
      "source": [
        "forecast.tail()"
      ],
      "execution_count": 8,
      "outputs": [
        {
          "output_type": "execute_result",
          "data": {
            "text/html": [
              "<div>\n",
              "<style scoped>\n",
              "    .dataframe tbody tr th:only-of-type {\n",
              "        vertical-align: middle;\n",
              "    }\n",
              "\n",
              "    .dataframe tbody tr th {\n",
              "        vertical-align: top;\n",
              "    }\n",
              "\n",
              "    .dataframe thead th {\n",
              "        text-align: right;\n",
              "    }\n",
              "</style>\n",
              "<table border=\"1\" class=\"dataframe\">\n",
              "  <thead>\n",
              "    <tr style=\"text-align: right;\">\n",
              "      <th></th>\n",
              "      <th>ds</th>\n",
              "      <th>trend</th>\n",
              "      <th>yhat_lower</th>\n",
              "      <th>yhat_upper</th>\n",
              "      <th>trend_lower</th>\n",
              "      <th>trend_upper</th>\n",
              "      <th>additive_terms</th>\n",
              "      <th>additive_terms_lower</th>\n",
              "      <th>additive_terms_upper</th>\n",
              "      <th>daily</th>\n",
              "      <th>daily_lower</th>\n",
              "      <th>daily_upper</th>\n",
              "      <th>weekly</th>\n",
              "      <th>weekly_lower</th>\n",
              "      <th>weekly_upper</th>\n",
              "      <th>multiplicative_terms</th>\n",
              "      <th>multiplicative_terms_lower</th>\n",
              "      <th>multiplicative_terms_upper</th>\n",
              "      <th>yhat</th>\n",
              "    </tr>\n",
              "  </thead>\n",
              "  <tbody>\n",
              "    <tr>\n",
              "      <th>137</th>\n",
              "      <td>2021-07-01</td>\n",
              "      <td>3.508403e+07</td>\n",
              "      <td>3.097514e+07</td>\n",
              "      <td>3.876066e+07</td>\n",
              "      <td>3.100620e+07</td>\n",
              "      <td>3.885667e+07</td>\n",
              "      <td>-71233.532054</td>\n",
              "      <td>-71233.532054</td>\n",
              "      <td>-71233.532054</td>\n",
              "      <td>-116339.187576</td>\n",
              "      <td>-116339.187576</td>\n",
              "      <td>-116339.187576</td>\n",
              "      <td>45105.655522</td>\n",
              "      <td>45105.655522</td>\n",
              "      <td>45105.655522</td>\n",
              "      <td>0.0</td>\n",
              "      <td>0.0</td>\n",
              "      <td>0.0</td>\n",
              "      <td>3.501280e+07</td>\n",
              "    </tr>\n",
              "    <tr>\n",
              "      <th>138</th>\n",
              "      <td>2021-07-02</td>\n",
              "      <td>3.532712e+07</td>\n",
              "      <td>3.108097e+07</td>\n",
              "      <td>3.910619e+07</td>\n",
              "      <td>3.115290e+07</td>\n",
              "      <td>3.918781e+07</td>\n",
              "      <td>-73301.041081</td>\n",
              "      <td>-73301.041081</td>\n",
              "      <td>-73301.041081</td>\n",
              "      <td>-116339.187576</td>\n",
              "      <td>-116339.187576</td>\n",
              "      <td>-116339.187576</td>\n",
              "      <td>43038.146495</td>\n",
              "      <td>43038.146495</td>\n",
              "      <td>43038.146495</td>\n",
              "      <td>0.0</td>\n",
              "      <td>0.0</td>\n",
              "      <td>0.0</td>\n",
              "      <td>3.525382e+07</td>\n",
              "    </tr>\n",
              "    <tr>\n",
              "      <th>139</th>\n",
              "      <td>2021-07-03</td>\n",
              "      <td>3.557020e+07</td>\n",
              "      <td>3.122808e+07</td>\n",
              "      <td>3.951627e+07</td>\n",
              "      <td>3.126044e+07</td>\n",
              "      <td>3.948061e+07</td>\n",
              "      <td>-61284.411591</td>\n",
              "      <td>-61284.411591</td>\n",
              "      <td>-61284.411591</td>\n",
              "      <td>-116339.187576</td>\n",
              "      <td>-116339.187576</td>\n",
              "      <td>-116339.187576</td>\n",
              "      <td>55054.775985</td>\n",
              "      <td>55054.775985</td>\n",
              "      <td>55054.775985</td>\n",
              "      <td>0.0</td>\n",
              "      <td>0.0</td>\n",
              "      <td>0.0</td>\n",
              "      <td>3.550892e+07</td>\n",
              "    </tr>\n",
              "    <tr>\n",
              "      <th>140</th>\n",
              "      <td>2021-07-04</td>\n",
              "      <td>3.581329e+07</td>\n",
              "      <td>3.112226e+07</td>\n",
              "      <td>3.961614e+07</td>\n",
              "      <td>3.134349e+07</td>\n",
              "      <td>3.987680e+07</td>\n",
              "      <td>-214622.751996</td>\n",
              "      <td>-214622.751996</td>\n",
              "      <td>-214622.751996</td>\n",
              "      <td>-116339.187576</td>\n",
              "      <td>-116339.187576</td>\n",
              "      <td>-116339.187576</td>\n",
              "      <td>-98283.564420</td>\n",
              "      <td>-98283.564420</td>\n",
              "      <td>-98283.564420</td>\n",
              "      <td>0.0</td>\n",
              "      <td>0.0</td>\n",
              "      <td>0.0</td>\n",
              "      <td>3.559867e+07</td>\n",
              "    </tr>\n",
              "    <tr>\n",
              "      <th>141</th>\n",
              "      <td>2021-07-05</td>\n",
              "      <td>3.605638e+07</td>\n",
              "      <td>3.129075e+07</td>\n",
              "      <td>3.999965e+07</td>\n",
              "      <td>3.140402e+07</td>\n",
              "      <td>4.021865e+07</td>\n",
              "      <td>-196333.665910</td>\n",
              "      <td>-196333.665910</td>\n",
              "      <td>-196333.665910</td>\n",
              "      <td>-116339.187576</td>\n",
              "      <td>-116339.187576</td>\n",
              "      <td>-116339.187576</td>\n",
              "      <td>-79994.478334</td>\n",
              "      <td>-79994.478334</td>\n",
              "      <td>-79994.478334</td>\n",
              "      <td>0.0</td>\n",
              "      <td>0.0</td>\n",
              "      <td>0.0</td>\n",
              "      <td>3.586004e+07</td>\n",
              "    </tr>\n",
              "  </tbody>\n",
              "</table>\n",
              "</div>"
            ],
            "text/plain": [
              "            ds         trend  ...  multiplicative_terms_upper          yhat\n",
              "137 2021-07-01  3.508403e+07  ...                         0.0  3.501280e+07\n",
              "138 2021-07-02  3.532712e+07  ...                         0.0  3.525382e+07\n",
              "139 2021-07-03  3.557020e+07  ...                         0.0  3.550892e+07\n",
              "140 2021-07-04  3.581329e+07  ...                         0.0  3.559867e+07\n",
              "141 2021-07-05  3.605638e+07  ...                         0.0  3.586004e+07\n",
              "\n",
              "[5 rows x 19 columns]"
            ]
          },
          "metadata": {
            "tags": []
          },
          "execution_count": 8
        }
      ]
    },
    {
      "cell_type": "code",
      "metadata": {
        "id": "wvgR58Gh623x",
        "colab": {
          "base_uri": "https://localhost:8080/",
          "height": 355
        },
        "outputId": "68a6970d-6dad-4fdc-fe54-52f466f85ba6"
      },
      "source": [
        "forecast[['ds', 'yhat', 'yhat_lower', 'yhat_upper']].tail(10)"
      ],
      "execution_count": 9,
      "outputs": [
        {
          "output_type": "execute_result",
          "data": {
            "text/html": [
              "<div>\n",
              "<style scoped>\n",
              "    .dataframe tbody tr th:only-of-type {\n",
              "        vertical-align: middle;\n",
              "    }\n",
              "\n",
              "    .dataframe tbody tr th {\n",
              "        vertical-align: top;\n",
              "    }\n",
              "\n",
              "    .dataframe thead th {\n",
              "        text-align: right;\n",
              "    }\n",
              "</style>\n",
              "<table border=\"1\" class=\"dataframe\">\n",
              "  <thead>\n",
              "    <tr style=\"text-align: right;\">\n",
              "      <th></th>\n",
              "      <th>ds</th>\n",
              "      <th>yhat</th>\n",
              "      <th>yhat_lower</th>\n",
              "      <th>yhat_upper</th>\n",
              "    </tr>\n",
              "  </thead>\n",
              "  <tbody>\n",
              "    <tr>\n",
              "      <th>132</th>\n",
              "      <td>2021-06-26</td>\n",
              "      <td>3.380731e+07</td>\n",
              "      <td>3.025114e+07</td>\n",
              "      <td>3.709325e+07</td>\n",
              "    </tr>\n",
              "    <tr>\n",
              "      <th>133</th>\n",
              "      <td>2021-06-27</td>\n",
              "      <td>3.389706e+07</td>\n",
              "      <td>3.026958e+07</td>\n",
              "      <td>3.731167e+07</td>\n",
              "    </tr>\n",
              "    <tr>\n",
              "      <th>134</th>\n",
              "      <td>2021-06-28</td>\n",
              "      <td>3.415844e+07</td>\n",
              "      <td>3.045318e+07</td>\n",
              "      <td>3.764861e+07</td>\n",
              "    </tr>\n",
              "    <tr>\n",
              "      <th>135</th>\n",
              "      <td>2021-06-29</td>\n",
              "      <td>3.448368e+07</td>\n",
              "      <td>3.066396e+07</td>\n",
              "      <td>3.812023e+07</td>\n",
              "    </tr>\n",
              "    <tr>\n",
              "      <th>136</th>\n",
              "      <td>2021-06-30</td>\n",
              "      <td>3.475752e+07</td>\n",
              "      <td>3.079928e+07</td>\n",
              "      <td>3.837233e+07</td>\n",
              "    </tr>\n",
              "    <tr>\n",
              "      <th>137</th>\n",
              "      <td>2021-07-01</td>\n",
              "      <td>3.501280e+07</td>\n",
              "      <td>3.097514e+07</td>\n",
              "      <td>3.876066e+07</td>\n",
              "    </tr>\n",
              "    <tr>\n",
              "      <th>138</th>\n",
              "      <td>2021-07-02</td>\n",
              "      <td>3.525382e+07</td>\n",
              "      <td>3.108097e+07</td>\n",
              "      <td>3.910619e+07</td>\n",
              "    </tr>\n",
              "    <tr>\n",
              "      <th>139</th>\n",
              "      <td>2021-07-03</td>\n",
              "      <td>3.550892e+07</td>\n",
              "      <td>3.122808e+07</td>\n",
              "      <td>3.951627e+07</td>\n",
              "    </tr>\n",
              "    <tr>\n",
              "      <th>140</th>\n",
              "      <td>2021-07-04</td>\n",
              "      <td>3.559867e+07</td>\n",
              "      <td>3.112226e+07</td>\n",
              "      <td>3.961614e+07</td>\n",
              "    </tr>\n",
              "    <tr>\n",
              "      <th>141</th>\n",
              "      <td>2021-07-05</td>\n",
              "      <td>3.586004e+07</td>\n",
              "      <td>3.129075e+07</td>\n",
              "      <td>3.999965e+07</td>\n",
              "    </tr>\n",
              "  </tbody>\n",
              "</table>\n",
              "</div>"
            ],
            "text/plain": [
              "            ds          yhat    yhat_lower    yhat_upper\n",
              "132 2021-06-26  3.380731e+07  3.025114e+07  3.709325e+07\n",
              "133 2021-06-27  3.389706e+07  3.026958e+07  3.731167e+07\n",
              "134 2021-06-28  3.415844e+07  3.045318e+07  3.764861e+07\n",
              "135 2021-06-29  3.448368e+07  3.066396e+07  3.812023e+07\n",
              "136 2021-06-30  3.475752e+07  3.079928e+07  3.837233e+07\n",
              "137 2021-07-01  3.501280e+07  3.097514e+07  3.876066e+07\n",
              "138 2021-07-02  3.525382e+07  3.108097e+07  3.910619e+07\n",
              "139 2021-07-03  3.550892e+07  3.122808e+07  3.951627e+07\n",
              "140 2021-07-04  3.559867e+07  3.112226e+07  3.961614e+07\n",
              "141 2021-07-05  3.586004e+07  3.129075e+07  3.999965e+07"
            ]
          },
          "metadata": {
            "tags": []
          },
          "execution_count": 9
        }
      ]
    },
    {
      "cell_type": "code",
      "metadata": {
        "id": "lHKJ_cWl66n5",
        "colab": {
          "base_uri": "https://localhost:8080/",
          "height": 1000
        },
        "outputId": "8ed634b0-57bd-48ea-9b4b-8f97972a44c6"
      },
      "source": [
        "model.plot(forecast, figsize=(15,7))"
      ],
      "execution_count": 10,
      "outputs": [
        {
          "output_type": "execute_result",
          "data": {
            "image/png": "[encoded data removed]",
            "text/plain": [
              "<Figure size 1080x504 with 1 Axes>"
            ]
          },
          "metadata": {
            "tags": []
          },
          "execution_count": 10
        },
        {
          "output_type": "display_data",
          "data": {
            "image/png": "[encoded data removed]",
            "text/plain": [
              "<Figure size 1080x504 with 1 Axes>"
            ]
          },
          "metadata": {
            "tags": []
          }
        }
      ]
    },
    {
      "cell_type": "code",
      "metadata": {
        "id": "BRTc50BO6-zh",
        "colab": {
          "base_uri": "https://localhost:8080/",
          "height": 656
        },
        "outputId": "93509eab-aaf7-444d-8a5b-465aa1e414e3"
      },
      "source": [
        "model.plot_components(forecast);"
      ],
      "execution_count": 11,
      "outputs": [
        {
          "output_type": "display_data",
          "data": {
            "image/png": "[encoded data removed]",
            "text/plain": [
              "<Figure size 648x648 with 3 Axes>"
            ]
          },
          "metadata": {
            "tags": []
          }
        }
      ]
    },
    {
      "cell_type": "code",
      "metadata": {
        "id": "ItPLD7dw7CM5"
      },
      "source": [
        "metric_df = forecast.set_index('ds')[['yhat', 'yhat_lower', 'yhat_upper']].join(df.set_index('ds').y).reset_index()"
      ],
      "execution_count": 12,
      "outputs": []
    },
    {
      "cell_type": "code",
      "metadata": {
        "id": "cFvaBNSY7EfQ",
        "colab": {
          "base_uri": "https://localhost:8080/",
          "height": 202
        },
        "outputId": "4030099c-8335-47d3-c7f4-6924ec31d69e"
      },
      "source": [
        "metric_df.dropna(inplace=True)\n",
        "metric_df.tail()"
      ],
      "execution_count": 13,
      "outputs": [
        {
          "output_type": "execute_result",
          "data": {
            "text/html": [
              "<div>\n",
              "<style scoped>\n",
              "    .dataframe tbody tr th:only-of-type {\n",
              "        vertical-align: middle;\n",
              "    }\n",
              "\n",
              "    .dataframe tbody tr th {\n",
              "        vertical-align: top;\n",
              "    }\n",
              "\n",
              "    .dataframe thead th {\n",
              "        text-align: right;\n",
              "    }\n",
              "</style>\n",
              "<table border=\"1\" class=\"dataframe\">\n",
              "  <thead>\n",
              "    <tr style=\"text-align: right;\">\n",
              "      <th></th>\n",
              "      <th>ds</th>\n",
              "      <th>yhat</th>\n",
              "      <th>yhat_lower</th>\n",
              "      <th>yhat_upper</th>\n",
              "      <th>y</th>\n",
              "    </tr>\n",
              "  </thead>\n",
              "  <tbody>\n",
              "    <tr>\n",
              "      <th>77</th>\n",
              "      <td>2021-04-29</td>\n",
              "      <td>1.969836e+07</td>\n",
              "      <td>1.955696e+07</td>\n",
              "      <td>1.985028e+07</td>\n",
              "      <td>19890198.0</td>\n",
              "    </tr>\n",
              "    <tr>\n",
              "      <th>78</th>\n",
              "      <td>2021-04-30</td>\n",
              "      <td>1.993938e+07</td>\n",
              "      <td>1.979447e+07</td>\n",
              "      <td>2.008535e+07</td>\n",
              "      <td>20068537.0</td>\n",
              "    </tr>\n",
              "    <tr>\n",
              "      <th>79</th>\n",
              "      <td>2021-05-02</td>\n",
              "      <td>2.028423e+07</td>\n",
              "      <td>2.013788e+07</td>\n",
              "      <td>2.042362e+07</td>\n",
              "      <td>20172516.0</td>\n",
              "    </tr>\n",
              "    <tr>\n",
              "      <th>80</th>\n",
              "      <td>2021-05-04</td>\n",
              "      <td>2.087085e+07</td>\n",
              "      <td>2.073125e+07</td>\n",
              "      <td>2.101529e+07</td>\n",
              "      <td>20701804.0</td>\n",
              "    </tr>\n",
              "    <tr>\n",
              "      <th>81</th>\n",
              "      <td>2021-05-06</td>\n",
              "      <td>2.139996e+07</td>\n",
              "      <td>2.125624e+07</td>\n",
              "      <td>2.154747e+07</td>\n",
              "      <td>21367754.0</td>\n",
              "    </tr>\n",
              "  </tbody>\n",
              "</table>\n",
              "</div>"
            ],
            "text/plain": [
              "           ds          yhat    yhat_lower    yhat_upper           y\n",
              "77 2021-04-29  1.969836e+07  1.955696e+07  1.985028e+07  19890198.0\n",
              "78 2021-04-30  1.993938e+07  1.979447e+07  2.008535e+07  20068537.0\n",
              "79 2021-05-02  2.028423e+07  2.013788e+07  2.042362e+07  20172516.0\n",
              "80 2021-05-04  2.087085e+07  2.073125e+07  2.101529e+07  20701804.0\n",
              "81 2021-05-06  2.139996e+07  2.125624e+07  2.154747e+07  21367754.0"
            ]
          },
          "metadata": {
            "tags": []
          },
          "execution_count": 13
        }
      ]
    },
    {
      "cell_type": "code",
      "metadata": {
        "id": "SSHR1API7MP4",
        "colab": {
          "base_uri": "https://localhost:8080/"
        },
        "outputId": "7869fc2f-46cc-4a42-d317-1348800568fc"
      },
      "source": [
        "from sklearn.metrics import r2_score\n",
        "r2_score(metric_df.y, metric_df.yhat)"
      ],
      "execution_count": 14,
      "outputs": [
        {
          "output_type": "execute_result",
          "data": {
            "text/plain": [
              "0.9997412452159284"
            ]
          },
          "metadata": {
            "tags": []
          },
          "execution_count": 14
        }
      ]
    },
    {
      "cell_type": "code",
      "metadata": {
        "id": "fdyYk8Ur7O9I",
        "colab": {
          "base_uri": "https://localhost:8080/"
        },
        "outputId": "9f18ad71-bd77-41e5-816e-d34ec629e6af"
      },
      "source": [
        "from sklearn.metrics import mean_squared_error\n",
        "mean_squared_error(metric_df.y, metric_df.yhat)"
      ],
      "execution_count": 15,
      "outputs": [
        {
          "output_type": "execute_result",
          "data": {
            "text/plain": [
              "12666058110.502552"
            ]
          },
          "metadata": {
            "tags": []
          },
          "execution_count": 15
        }
      ]
    },
    {
      "cell_type": "code",
      "metadata": {
        "id": "_Q0AVvFj9qj5",
        "colab": {
          "base_uri": "https://localhost:8080/"
        },
        "outputId": "8cc89297-7a6b-4cff-f1a7-32fa79e916db"
      },
      "source": [
        "metric_df.yhat.mean()"
      ],
      "execution_count": 16,
      "outputs": [
        {
          "output_type": "execute_result",
          "data": {
            "text/plain": [
              "7617697.355930631"
            ]
          },
          "metadata": {
            "tags": []
          },
          "execution_count": 16
        }
      ]
    },
    {
      "cell_type": "code",
      "metadata": {
        "id": "1-kLjEIi-J2h",
        "colab": {
          "base_uri": "https://localhost:8080/"
        },
        "outputId": "fc08f5fe-fe12-42aa-c8fa-e737672e36ea"
      },
      "source": [
        "from sklearn.metrics import mean_absolute_error\n",
        "print(mean_absolute_error(metric_df.y, metric_df.yhat))"
      ],
      "execution_count": 17,
      "outputs": [
        {
          "output_type": "stream",
          "text": [
            "84543.05844187175\n"
          ],
          "name": "stdout"
        }
      ]
    },
    {
      "cell_type": "code",
      "metadata": {
        "id": "Ruk1mWnh-RCP",
        "colab": {
          "base_uri": "https://localhost:8080/"
        },
        "outputId": "13f50c67-d050-4927-b3c4-98e202fb2f3d"
      },
      "source": [
        "from sklearn.metrics import median_absolute_error\n",
        "print(median_absolute_error(metric_df.y, metric_df.yhat))"
      ],
      "execution_count": 18,
      "outputs": [
        {
          "output_type": "stream",
          "text": [
            "66004.07242192607\n"
          ],
          "name": "stdout"
        }
      ]
    },
    {
      "cell_type": "code",
      "metadata": {
        "id": "EOhBHFDB-iig",
        "colab": {
          "base_uri": "https://localhost:8080/"
        },
        "outputId": "4c0afc86-337d-485b-eb97-3cf6474bf263"
      },
      "source": [
        "from math import sqrt\n",
        "rmse = sqrt(mean_squared_error(metric_df.y, metric_df.yhat))\n",
        "print(rmse)"
      ],
      "execution_count": 19,
      "outputs": [
        {
          "output_type": "stream",
          "text": [
            "112543.58316004761\n"
          ],
          "name": "stdout"
        }
      ]
    }
  ]
}