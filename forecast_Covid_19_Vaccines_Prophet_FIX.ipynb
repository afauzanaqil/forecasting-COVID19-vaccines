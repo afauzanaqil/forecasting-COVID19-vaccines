{
  "nbformat": 4,
  "nbformat_minor": 0,
  "metadata": {
    "colab": {
      "name": "forecasting_Covid-19_Vaccines-Prophet-FIX.ipynb",
      "provenance": []
    },
    "kernelspec": {
      "name": "python3",
      "display_name": "Python 3"
    },
    "language_info": {
      "name": "python"
    }
  },
  "cells": [
    {
      "cell_type": "code",
      "metadata": {
        "colab": {
          "base_uri": "https://localhost:8080/"
        },
        "id": "FycO6_-V8cO7",
        "outputId": "6a825ced-2b5d-4b7b-8fd4-1be74266c0f1"
      },
      "source": [
        "from google.colab import drive\n",
        "drive.mount('/content/drive')"
      ],
      "execution_count": null,
      "outputs": [
        {
          "output_type": "stream",
          "text": [
            "Mounted at /content/drive\n"
          ],
          "name": "stdout"
        }
      ]
    },
    {
      "cell_type": "code",
      "metadata": {
        "id": "PaRpWfm579jD"
      },
      "source": [
        "import numpy as np # numpy arrays / linear algebra\n",
        "import pandas as pd # data processing, CSV file I/O (e.g. pd.read_csv)\n",
        "import plotly.express as px # map plot\n",
        "import warnings\n",
        "warnings.filterwarnings('ignore') \n",
        "\n",
        "import matplotlib as mpl\n",
        "import matplotlib.pyplot as plt \n",
        "import matplotlib.dates as md\n",
        "%matplotlib inline\n",
        "from scipy.optimize import curve_fit # predictive modeling\n",
        "import seaborn as sns\n",
        "import statsmodels.api as sm\n",
        "\n",
        "import datetime\n",
        "from datetime import date"
      ],
      "execution_count": null,
      "outputs": []
    },
    {
      "cell_type": "code",
      "metadata": {
        "colab": {
          "base_uri": "https://localhost:8080/",
          "height": 202
        },
        "id": "T6DupBdv8guo",
        "outputId": "7136f6fd-615a-402b-8b19-d4fcbf08ceda"
      },
      "source": [
        "df = pd.read_csv('/content/drive/MyDrive/dataset/country_vaccinations.csv', index_col='date', parse_dates=True, engine='python', header=0)\n",
        "df = df[df['vaccines']=='Sinopharm/Beijing, Sinopharm/Wuhan, Sinovac']['total_vaccinations']\n",
        "df.dropna(inplace=True)\n",
        "df = df.reset_index()\n",
        "df.head()"
      ],
      "execution_count": null,
      "outputs": [
        {
          "output_type": "execute_result",
          "data": {
            "text/html": [
              "<div>\n",
              "<style scoped>\n",
              "    .dataframe tbody tr th:only-of-type {\n",
              "        vertical-align: middle;\n",
              "    }\n",
              "\n",
              "    .dataframe tbody tr th {\n",
              "        vertical-align: top;\n",
              "    }\n",
              "\n",
              "    .dataframe thead th {\n",
              "        text-align: right;\n",
              "    }\n",
              "</style>\n",
              "<table border=\"1\" class=\"dataframe\">\n",
              "  <thead>\n",
              "    <tr style=\"text-align: right;\">\n",
              "      <th></th>\n",
              "      <th>date</th>\n",
              "      <th>total_vaccinations</th>\n",
              "    </tr>\n",
              "  </thead>\n",
              "  <tbody>\n",
              "    <tr>\n",
              "      <th>0</th>\n",
              "      <td>2020-12-15</td>\n",
              "      <td>1500000.0</td>\n",
              "    </tr>\n",
              "    <tr>\n",
              "      <th>1</th>\n",
              "      <td>2020-12-31</td>\n",
              "      <td>4500000.0</td>\n",
              "    </tr>\n",
              "    <tr>\n",
              "      <th>2</th>\n",
              "      <td>2021-01-09</td>\n",
              "      <td>9000000.0</td>\n",
              "    </tr>\n",
              "    <tr>\n",
              "      <th>3</th>\n",
              "      <td>2021-01-13</td>\n",
              "      <td>10000000.0</td>\n",
              "    </tr>\n",
              "    <tr>\n",
              "      <th>4</th>\n",
              "      <td>2021-01-20</td>\n",
              "      <td>15000000.0</td>\n",
              "    </tr>\n",
              "  </tbody>\n",
              "</table>\n",
              "</div>"
            ],
            "text/plain": [
              "        date  total_vaccinations\n",
              "0 2020-12-15           1500000.0\n",
              "1 2020-12-31           4500000.0\n",
              "2 2021-01-09           9000000.0\n",
              "3 2021-01-13          10000000.0\n",
              "4 2021-01-20          15000000.0"
            ]
          },
          "metadata": {
            "tags": []
          },
          "execution_count": 48
        }
      ]
    },
    {
      "cell_type": "code",
      "metadata": {
        "colab": {
          "base_uri": "https://localhost:8080/",
          "height": 202
        },
        "id": "jOdfl6T55hsZ",
        "outputId": "1c6ba8e1-96ed-45b8-ca1f-b6bef5d8d251"
      },
      "source": [
        "df=df.rename(columns={'date':'ds', 'total_vaccinations':'y'})\n",
        "df.head()"
      ],
      "execution_count": null,
      "outputs": [
        {
          "output_type": "execute_result",
          "data": {
            "text/html": [
              "<div>\n",
              "<style scoped>\n",
              "    .dataframe tbody tr th:only-of-type {\n",
              "        vertical-align: middle;\n",
              "    }\n",
              "\n",
              "    .dataframe tbody tr th {\n",
              "        vertical-align: top;\n",
              "    }\n",
              "\n",
              "    .dataframe thead th {\n",
              "        text-align: right;\n",
              "    }\n",
              "</style>\n",
              "<table border=\"1\" class=\"dataframe\">\n",
              "  <thead>\n",
              "    <tr style=\"text-align: right;\">\n",
              "      <th></th>\n",
              "      <th>ds</th>\n",
              "      <th>y</th>\n",
              "    </tr>\n",
              "  </thead>\n",
              "  <tbody>\n",
              "    <tr>\n",
              "      <th>0</th>\n",
              "      <td>2020-12-15</td>\n",
              "      <td>1500000.0</td>\n",
              "    </tr>\n",
              "    <tr>\n",
              "      <th>1</th>\n",
              "      <td>2020-12-31</td>\n",
              "      <td>4500000.0</td>\n",
              "    </tr>\n",
              "    <tr>\n",
              "      <th>2</th>\n",
              "      <td>2021-01-09</td>\n",
              "      <td>9000000.0</td>\n",
              "    </tr>\n",
              "    <tr>\n",
              "      <th>3</th>\n",
              "      <td>2021-01-13</td>\n",
              "      <td>10000000.0</td>\n",
              "    </tr>\n",
              "    <tr>\n",
              "      <th>4</th>\n",
              "      <td>2021-01-20</td>\n",
              "      <td>15000000.0</td>\n",
              "    </tr>\n",
              "  </tbody>\n",
              "</table>\n",
              "</div>"
            ],
            "text/plain": [
              "          ds           y\n",
              "0 2020-12-15   1500000.0\n",
              "1 2020-12-31   4500000.0\n",
              "2 2021-01-09   9000000.0\n",
              "3 2021-01-13  10000000.0\n",
              "4 2021-01-20  15000000.0"
            ]
          },
          "metadata": {
            "tags": []
          },
          "execution_count": 49
        }
      ]
    },
    {
      "cell_type": "code",
      "metadata": {
        "colab": {
          "base_uri": "https://localhost:8080/"
        },
        "id": "FWHJnoq36rcJ",
        "outputId": "46e55cef-71a8-4e8a-ed65-9aa6162d1b8a"
      },
      "source": [
        "from fbprophet import Prophet\n",
        "model = Prophet(daily_seasonality=True)\n",
        "model.fit(df);"
      ],
      "execution_count": null,
      "outputs": [
        {
          "output_type": "stream",
          "text": [
            "INFO:fbprophet:Disabling yearly seasonality. Run prophet with yearly_seasonality=True to override this.\n"
          ],
          "name": "stderr"
        }
      ]
    },
    {
      "cell_type": "code",
      "metadata": {
        "id": "nFjCXg676uM5",
        "colab": {
          "base_uri": "https://localhost:8080/",
          "height": 202
        },
        "outputId": "9bb3d409-90da-462c-a581-3050b229fd50"
      },
      "source": [
        "future = model.make_future_dataframe(periods=60, freq = 'd')\n",
        "future.tail()"
      ],
      "execution_count": null,
      "outputs": [
        {
          "output_type": "execute_result",
          "data": {
            "text/html": [
              "<div>\n",
              "<style scoped>\n",
              "    .dataframe tbody tr th:only-of-type {\n",
              "        vertical-align: middle;\n",
              "    }\n",
              "\n",
              "    .dataframe tbody tr th {\n",
              "        vertical-align: top;\n",
              "    }\n",
              "\n",
              "    .dataframe thead th {\n",
              "        text-align: right;\n",
              "    }\n",
              "</style>\n",
              "<table border=\"1\" class=\"dataframe\">\n",
              "  <thead>\n",
              "    <tr style=\"text-align: right;\">\n",
              "      <th></th>\n",
              "      <th>ds</th>\n",
              "    </tr>\n",
              "  </thead>\n",
              "  <tbody>\n",
              "    <tr>\n",
              "      <th>113</th>\n",
              "      <td>2021-07-01</td>\n",
              "    </tr>\n",
              "    <tr>\n",
              "      <th>114</th>\n",
              "      <td>2021-07-02</td>\n",
              "    </tr>\n",
              "    <tr>\n",
              "      <th>115</th>\n",
              "      <td>2021-07-03</td>\n",
              "    </tr>\n",
              "    <tr>\n",
              "      <th>116</th>\n",
              "      <td>2021-07-04</td>\n",
              "    </tr>\n",
              "    <tr>\n",
              "      <th>117</th>\n",
              "      <td>2021-07-05</td>\n",
              "    </tr>\n",
              "  </tbody>\n",
              "</table>\n",
              "</div>"
            ],
            "text/plain": [
              "            ds\n",
              "113 2021-07-01\n",
              "114 2021-07-02\n",
              "115 2021-07-03\n",
              "116 2021-07-04\n",
              "117 2021-07-05"
            ]
          },
          "metadata": {
            "tags": []
          },
          "execution_count": 112
        }
      ]
    },
    {
      "cell_type": "code",
      "metadata": {
        "id": "p1D65si26wU6"
      },
      "source": [
        "forecast = model.predict(future)"
      ],
      "execution_count": null,
      "outputs": []
    },
    {
      "cell_type": "code",
      "metadata": {
        "id": "WmNp-S5N60Jh",
        "colab": {
          "base_uri": "https://localhost:8080/",
          "height": 305
        },
        "outputId": "0faf0525-ed2c-40b6-e099-93d7aa7a55d3"
      },
      "source": [
        "forecast.tail()"
      ],
      "execution_count": null,
      "outputs": [
        {
          "output_type": "execute_result",
          "data": {
            "text/html": [
              "<div>\n",
              "<style scoped>\n",
              "    .dataframe tbody tr th:only-of-type {\n",
              "        vertical-align: middle;\n",
              "    }\n",
              "\n",
              "    .dataframe tbody tr th {\n",
              "        vertical-align: top;\n",
              "    }\n",
              "\n",
              "    .dataframe thead th {\n",
              "        text-align: right;\n",
              "    }\n",
              "</style>\n",
              "<table border=\"1\" class=\"dataframe\">\n",
              "  <thead>\n",
              "    <tr style=\"text-align: right;\">\n",
              "      <th></th>\n",
              "      <th>ds</th>\n",
              "      <th>trend</th>\n",
              "      <th>yhat_lower</th>\n",
              "      <th>yhat_upper</th>\n",
              "      <th>trend_lower</th>\n",
              "      <th>trend_upper</th>\n",
              "      <th>additive_terms</th>\n",
              "      <th>additive_terms_lower</th>\n",
              "      <th>additive_terms_upper</th>\n",
              "      <th>daily</th>\n",
              "      <th>daily_lower</th>\n",
              "      <th>daily_upper</th>\n",
              "      <th>weekly</th>\n",
              "      <th>weekly_lower</th>\n",
              "      <th>weekly_upper</th>\n",
              "      <th>multiplicative_terms</th>\n",
              "      <th>multiplicative_terms_lower</th>\n",
              "      <th>multiplicative_terms_upper</th>\n",
              "      <th>yhat</th>\n",
              "    </tr>\n",
              "  </thead>\n",
              "  <tbody>\n",
              "    <tr>\n",
              "      <th>113</th>\n",
              "      <td>2021-07-01</td>\n",
              "      <td>6.705261e+08</td>\n",
              "      <td>6.141475e+08</td>\n",
              "      <td>7.220045e+08</td>\n",
              "      <td>6.139656e+08</td>\n",
              "      <td>7.207100e+08</td>\n",
              "      <td>6.864466e+05</td>\n",
              "      <td>6.864466e+05</td>\n",
              "      <td>6.864466e+05</td>\n",
              "      <td>699347.246323</td>\n",
              "      <td>699347.246323</td>\n",
              "      <td>699347.246323</td>\n",
              "      <td>-1.290068e+04</td>\n",
              "      <td>-1.290068e+04</td>\n",
              "      <td>-1.290068e+04</td>\n",
              "      <td>0.0</td>\n",
              "      <td>0.0</td>\n",
              "      <td>0.0</td>\n",
              "      <td>6.712125e+08</td>\n",
              "    </tr>\n",
              "    <tr>\n",
              "      <th>114</th>\n",
              "      <td>2021-07-02</td>\n",
              "      <td>6.771686e+08</td>\n",
              "      <td>6.216502e+08</td>\n",
              "      <td>7.318220e+08</td>\n",
              "      <td>6.186238e+08</td>\n",
              "      <td>7.290194e+08</td>\n",
              "      <td>3.004306e+06</td>\n",
              "      <td>3.004306e+06</td>\n",
              "      <td>3.004306e+06</td>\n",
              "      <td>699347.246323</td>\n",
              "      <td>699347.246323</td>\n",
              "      <td>699347.246323</td>\n",
              "      <td>2.304959e+06</td>\n",
              "      <td>2.304959e+06</td>\n",
              "      <td>2.304959e+06</td>\n",
              "      <td>0.0</td>\n",
              "      <td>0.0</td>\n",
              "      <td>0.0</td>\n",
              "      <td>6.801729e+08</td>\n",
              "    </tr>\n",
              "    <tr>\n",
              "      <th>115</th>\n",
              "      <td>2021-07-03</td>\n",
              "      <td>6.838111e+08</td>\n",
              "      <td>6.258757e+08</td>\n",
              "      <td>7.395016e+08</td>\n",
              "      <td>6.234797e+08</td>\n",
              "      <td>7.369773e+08</td>\n",
              "      <td>2.189580e+06</td>\n",
              "      <td>2.189580e+06</td>\n",
              "      <td>2.189580e+06</td>\n",
              "      <td>699347.246323</td>\n",
              "      <td>699347.246323</td>\n",
              "      <td>699347.246323</td>\n",
              "      <td>1.490232e+06</td>\n",
              "      <td>1.490232e+06</td>\n",
              "      <td>1.490232e+06</td>\n",
              "      <td>0.0</td>\n",
              "      <td>0.0</td>\n",
              "      <td>0.0</td>\n",
              "      <td>6.860007e+08</td>\n",
              "    </tr>\n",
              "    <tr>\n",
              "      <th>116</th>\n",
              "      <td>2021-07-04</td>\n",
              "      <td>6.904536e+08</td>\n",
              "      <td>6.280171e+08</td>\n",
              "      <td>7.446853e+08</td>\n",
              "      <td>6.283538e+08</td>\n",
              "      <td>7.453083e+08</td>\n",
              "      <td>-1.324883e+05</td>\n",
              "      <td>-1.324883e+05</td>\n",
              "      <td>-1.324883e+05</td>\n",
              "      <td>699347.246323</td>\n",
              "      <td>699347.246323</td>\n",
              "      <td>699347.246323</td>\n",
              "      <td>-8.318356e+05</td>\n",
              "      <td>-8.318356e+05</td>\n",
              "      <td>-8.318356e+05</td>\n",
              "      <td>0.0</td>\n",
              "      <td>0.0</td>\n",
              "      <td>0.0</td>\n",
              "      <td>6.903211e+08</td>\n",
              "    </tr>\n",
              "    <tr>\n",
              "      <th>117</th>\n",
              "      <td>2021-07-05</td>\n",
              "      <td>6.970961e+08</td>\n",
              "      <td>6.332544e+08</td>\n",
              "      <td>7.535284e+08</td>\n",
              "      <td>6.332285e+08</td>\n",
              "      <td>7.531826e+08</td>\n",
              "      <td>-7.153827e+03</td>\n",
              "      <td>-7.153827e+03</td>\n",
              "      <td>-7.153827e+03</td>\n",
              "      <td>699347.246323</td>\n",
              "      <td>699347.246323</td>\n",
              "      <td>699347.246323</td>\n",
              "      <td>-7.065011e+05</td>\n",
              "      <td>-7.065011e+05</td>\n",
              "      <td>-7.065011e+05</td>\n",
              "      <td>0.0</td>\n",
              "      <td>0.0</td>\n",
              "      <td>0.0</td>\n",
              "      <td>6.970889e+08</td>\n",
              "    </tr>\n",
              "  </tbody>\n",
              "</table>\n",
              "</div>"
            ],
            "text/plain": [
              "            ds         trend  ...  multiplicative_terms_upper          yhat\n",
              "113 2021-07-01  6.705261e+08  ...                         0.0  6.712125e+08\n",
              "114 2021-07-02  6.771686e+08  ...                         0.0  6.801729e+08\n",
              "115 2021-07-03  6.838111e+08  ...                         0.0  6.860007e+08\n",
              "116 2021-07-04  6.904536e+08  ...                         0.0  6.903211e+08\n",
              "117 2021-07-05  6.970961e+08  ...                         0.0  6.970889e+08\n",
              "\n",
              "[5 rows x 19 columns]"
            ]
          },
          "metadata": {
            "tags": []
          },
          "execution_count": 114
        }
      ]
    },
    {
      "cell_type": "code",
      "metadata": {
        "id": "wvgR58Gh623x",
        "colab": {
          "base_uri": "https://localhost:8080/",
          "height": 355
        },
        "outputId": "ed1d807b-3b14-4c02-e9a4-f87e045a9a21"
      },
      "source": [
        "forecast[['ds', 'yhat', 'yhat_lower', 'yhat_upper']].tail(10)"
      ],
      "execution_count": null,
      "outputs": [
        {
          "output_type": "execute_result",
          "data": {
            "text/html": [
              "<div>\n",
              "<style scoped>\n",
              "    .dataframe tbody tr th:only-of-type {\n",
              "        vertical-align: middle;\n",
              "    }\n",
              "\n",
              "    .dataframe tbody tr th {\n",
              "        vertical-align: top;\n",
              "    }\n",
              "\n",
              "    .dataframe thead th {\n",
              "        text-align: right;\n",
              "    }\n",
              "</style>\n",
              "<table border=\"1\" class=\"dataframe\">\n",
              "  <thead>\n",
              "    <tr style=\"text-align: right;\">\n",
              "      <th></th>\n",
              "      <th>ds</th>\n",
              "      <th>yhat</th>\n",
              "      <th>yhat_lower</th>\n",
              "      <th>yhat_upper</th>\n",
              "    </tr>\n",
              "  </thead>\n",
              "  <tbody>\n",
              "    <tr>\n",
              "      <th>108</th>\n",
              "      <td>2021-06-26</td>\n",
              "      <td>6.395032e+08</td>\n",
              "      <td>5.914318e+08</td>\n",
              "      <td>6.841666e+08</td>\n",
              "    </tr>\n",
              "    <tr>\n",
              "      <th>109</th>\n",
              "      <td>2021-06-27</td>\n",
              "      <td>6.438236e+08</td>\n",
              "      <td>5.935001e+08</td>\n",
              "      <td>6.893528e+08</td>\n",
              "    </tr>\n",
              "    <tr>\n",
              "      <th>110</th>\n",
              "      <td>2021-06-28</td>\n",
              "      <td>6.505915e+08</td>\n",
              "      <td>5.977907e+08</td>\n",
              "      <td>6.980254e+08</td>\n",
              "    </tr>\n",
              "    <tr>\n",
              "      <th>111</th>\n",
              "      <td>2021-06-29</td>\n",
              "      <td>6.573154e+08</td>\n",
              "      <td>6.036709e+08</td>\n",
              "      <td>7.055478e+08</td>\n",
              "    </tr>\n",
              "    <tr>\n",
              "      <th>112</th>\n",
              "      <td>2021-06-30</td>\n",
              "      <td>6.629641e+08</td>\n",
              "      <td>6.076408e+08</td>\n",
              "      <td>7.121722e+08</td>\n",
              "    </tr>\n",
              "    <tr>\n",
              "      <th>113</th>\n",
              "      <td>2021-07-01</td>\n",
              "      <td>6.712125e+08</td>\n",
              "      <td>6.141475e+08</td>\n",
              "      <td>7.220045e+08</td>\n",
              "    </tr>\n",
              "    <tr>\n",
              "      <th>114</th>\n",
              "      <td>2021-07-02</td>\n",
              "      <td>6.801729e+08</td>\n",
              "      <td>6.216502e+08</td>\n",
              "      <td>7.318220e+08</td>\n",
              "    </tr>\n",
              "    <tr>\n",
              "      <th>115</th>\n",
              "      <td>2021-07-03</td>\n",
              "      <td>6.860007e+08</td>\n",
              "      <td>6.258757e+08</td>\n",
              "      <td>7.395016e+08</td>\n",
              "    </tr>\n",
              "    <tr>\n",
              "      <th>116</th>\n",
              "      <td>2021-07-04</td>\n",
              "      <td>6.903211e+08</td>\n",
              "      <td>6.280171e+08</td>\n",
              "      <td>7.446853e+08</td>\n",
              "    </tr>\n",
              "    <tr>\n",
              "      <th>117</th>\n",
              "      <td>2021-07-05</td>\n",
              "      <td>6.970889e+08</td>\n",
              "      <td>6.332544e+08</td>\n",
              "      <td>7.535284e+08</td>\n",
              "    </tr>\n",
              "  </tbody>\n",
              "</table>\n",
              "</div>"
            ],
            "text/plain": [
              "            ds          yhat    yhat_lower    yhat_upper\n",
              "108 2021-06-26  6.395032e+08  5.914318e+08  6.841666e+08\n",
              "109 2021-06-27  6.438236e+08  5.935001e+08  6.893528e+08\n",
              "110 2021-06-28  6.505915e+08  5.977907e+08  6.980254e+08\n",
              "111 2021-06-29  6.573154e+08  6.036709e+08  7.055478e+08\n",
              "112 2021-06-30  6.629641e+08  6.076408e+08  7.121722e+08\n",
              "113 2021-07-01  6.712125e+08  6.141475e+08  7.220045e+08\n",
              "114 2021-07-02  6.801729e+08  6.216502e+08  7.318220e+08\n",
              "115 2021-07-03  6.860007e+08  6.258757e+08  7.395016e+08\n",
              "116 2021-07-04  6.903211e+08  6.280171e+08  7.446853e+08\n",
              "117 2021-07-05  6.970889e+08  6.332544e+08  7.535284e+08"
            ]
          },
          "metadata": {
            "tags": []
          },
          "execution_count": 126
        }
      ]
    },
    {
      "cell_type": "code",
      "metadata": {
        "id": "lHKJ_cWl66n5",
        "colab": {
          "base_uri": "https://localhost:8080/",
          "height": 441
        },
        "outputId": "c4f1dcca-824d-4f50-9c83-a68155bfdc91"
      },
      "source": [
        "model.plot(forecast);"
      ],
      "execution_count": null,
      "outputs": [
        {
          "output_type": "display_data",
          "data": {
            "image/png": "[encoded data removed]",
            "text/plain": [
              "<Figure size 720x432 with 1 Axes>"
            ]
          },
          "metadata": {
            "tags": []
          }
        }
      ]
    },
    {
      "cell_type": "code",
      "metadata": {
        "id": "BRTc50BO6-zh",
        "colab": {
          "base_uri": "https://localhost:8080/",
          "height": 656
        },
        "outputId": "2e60bb70-d116-4841-ed55-496cf205c7ad"
      },
      "source": [
        "model.plot_components(forecast);"
      ],
      "execution_count": null,
      "outputs": [
        {
          "output_type": "display_data",
          "data": {
            "image/png": "[encoded data removed]",
            "text/plain": [
              "<Figure size 648x648 with 3 Axes>"
            ]
          },
          "metadata": {
            "tags": []
          }
        }
      ]
    },
    {
      "cell_type": "code",
      "metadata": {
        "id": "ItPLD7dw7CM5"
      },
      "source": [
        "metric_df = forecast.set_index('ds')[['yhat']].join(df.set_index('ds').y).reset_index()"
      ],
      "execution_count": null,
      "outputs": []
    },
    {
      "cell_type": "code",
      "metadata": {
        "id": "cFvaBNSY7EfQ",
        "colab": {
          "base_uri": "https://localhost:8080/",
          "height": 202
        },
        "outputId": "9cefe6e9-77cf-4489-d16e-b21f4b12673e"
      },
      "source": [
        "metric_df.dropna(inplace=True)\n",
        "metric_df.tail()"
      ],
      "execution_count": null,
      "outputs": [
        {
          "output_type": "execute_result",
          "data": {
            "text/html": [
              "<div>\n",
              "<style scoped>\n",
              "    .dataframe tbody tr th:only-of-type {\n",
              "        vertical-align: middle;\n",
              "    }\n",
              "\n",
              "    .dataframe tbody tr th {\n",
              "        vertical-align: top;\n",
              "    }\n",
              "\n",
              "    .dataframe thead th {\n",
              "        text-align: right;\n",
              "    }\n",
              "</style>\n",
              "<table border=\"1\" class=\"dataframe\">\n",
              "  <thead>\n",
              "    <tr style=\"text-align: right;\">\n",
              "      <th></th>\n",
              "      <th>ds</th>\n",
              "      <th>yhat</th>\n",
              "      <th>y</th>\n",
              "    </tr>\n",
              "  </thead>\n",
              "  <tbody>\n",
              "    <tr>\n",
              "      <th>53</th>\n",
              "      <td>2021-05-02</td>\n",
              "      <td>2.718441e+08</td>\n",
              "      <td>275338000.0</td>\n",
              "    </tr>\n",
              "    <tr>\n",
              "      <th>54</th>\n",
              "      <td>2021-05-03</td>\n",
              "      <td>2.786120e+08</td>\n",
              "      <td>279905000.0</td>\n",
              "    </tr>\n",
              "    <tr>\n",
              "      <th>55</th>\n",
              "      <td>2021-05-04</td>\n",
              "      <td>2.853359e+08</td>\n",
              "      <td>284595000.0</td>\n",
              "    </tr>\n",
              "    <tr>\n",
              "      <th>56</th>\n",
              "      <td>2021-05-05</td>\n",
              "      <td>2.909845e+08</td>\n",
              "      <td>289627000.0</td>\n",
              "    </tr>\n",
              "    <tr>\n",
              "      <th>57</th>\n",
              "      <td>2021-05-06</td>\n",
              "      <td>2.992330e+08</td>\n",
              "      <td>297734000.0</td>\n",
              "    </tr>\n",
              "  </tbody>\n",
              "</table>\n",
              "</div>"
            ],
            "text/plain": [
              "           ds          yhat            y\n",
              "53 2021-05-02  2.718441e+08  275338000.0\n",
              "54 2021-05-03  2.786120e+08  279905000.0\n",
              "55 2021-05-04  2.853359e+08  284595000.0\n",
              "56 2021-05-05  2.909845e+08  289627000.0\n",
              "57 2021-05-06  2.992330e+08  297734000.0"
            ]
          },
          "metadata": {
            "tags": []
          },
          "execution_count": 130
        }
      ]
    },
    {
      "cell_type": "code",
      "metadata": {
        "id": "SSHR1API7MP4",
        "colab": {
          "base_uri": "https://localhost:8080/"
        },
        "outputId": "d46a8522-6a51-44c9-ea9d-e3f968c70cf7"
      },
      "source": [
        "from sklearn.metrics import r2_score\n",
        "r2_score(metric_df.y, metric_df.yhat)"
      ],
      "execution_count": null,
      "outputs": [
        {
          "output_type": "execute_result",
          "data": {
            "text/plain": [
              "0.999591853579626"
            ]
          },
          "metadata": {
            "tags": []
          },
          "execution_count": 131
        }
      ]
    },
    {
      "cell_type": "code",
      "metadata": {
        "id": "fdyYk8Ur7O9I",
        "colab": {
          "base_uri": "https://localhost:8080/"
        },
        "outputId": "93465476-cbce-4017-d8fb-10ad46ed5c05"
      },
      "source": [
        "from sklearn.metrics import mean_squared_error\n",
        "mean_squared_error(metric_df.y, metric_df.yhat)"
      ],
      "execution_count": null,
      "outputs": [
        {
          "output_type": "execute_result",
          "data": {
            "text/plain": [
              "2797862243366.1426"
            ]
          },
          "metadata": {
            "tags": []
          },
          "execution_count": 132
        }
      ]
    },
    {
      "cell_type": "code",
      "metadata": {
        "id": "_Q0AVvFj9qj5",
        "colab": {
          "base_uri": "https://localhost:8080/"
        },
        "outputId": "d9de36fa-c081-42be-8978-1ce70d6fc74e"
      },
      "source": [
        "metric_df.yhat.mean()"
      ],
      "execution_count": null,
      "outputs": [
        {
          "output_type": "execute_result",
          "data": {
            "text/plain": [
              "149002598.2124216"
            ]
          },
          "metadata": {
            "tags": []
          },
          "execution_count": 133
        }
      ]
    },
    {
      "cell_type": "code",
      "metadata": {
        "id": "1-kLjEIi-J2h",
        "colab": {
          "base_uri": "https://localhost:8080/"
        },
        "outputId": "de81f914-b5ef-47fb-e59f-20cbe1643ab4"
      },
      "source": [
        "from sklearn.metrics import mean_absolute_error\n",
        "print(mean_absolute_error(metric_df.y, metric_df.yhat))"
      ],
      "execution_count": null,
      "outputs": [
        {
          "output_type": "stream",
          "text": [
            "1353209.451508771\n"
          ],
          "name": "stdout"
        }
      ]
    },
    {
      "cell_type": "code",
      "metadata": {
        "id": "Ruk1mWnh-RCP",
        "colab": {
          "base_uri": "https://localhost:8080/"
        },
        "outputId": "841b0fa2-ca03-4560-fdb0-022dabbb449f"
      },
      "source": [
        "from sklearn.metrics import median_absolute_error\n",
        "print(median_absolute_error(metric_df.y, metric_df.yhat))"
      ],
      "execution_count": null,
      "outputs": [
        {
          "output_type": "stream",
          "text": [
            "1212807.897076413\n"
          ],
          "name": "stdout"
        }
      ]
    },
    {
      "cell_type": "code",
      "metadata": {
        "id": "EOhBHFDB-iig",
        "colab": {
          "base_uri": "https://localhost:8080/"
        },
        "outputId": "7b00cc3e-0255-49c3-f167-6aca7137e903"
      },
      "source": [
        "from math import sqrt\n",
        "rmse = sqrt(mean_squared_error(metric_df.y, metric_df.yhat))\n",
        "print(rmse)"
      ],
      "execution_count": null,
      "outputs": [
        {
          "output_type": "stream",
          "text": [
            "1672681.154125359\n"
          ],
          "name": "stdout"
        }
      ]
    }
  ]
}