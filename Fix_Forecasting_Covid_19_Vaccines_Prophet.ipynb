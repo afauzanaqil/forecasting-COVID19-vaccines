{
  "nbformat": 4,
  "nbformat_minor": 0,
  "metadata": {
    "colab": {
      "name": "Fix_Forecasting_Covid-19_Vaccines-Prophet.ipynb",
      "provenance": []
    },
    "kernelspec": {
      "name": "python3",
      "display_name": "Python 3"
    },
    "language_info": {
      "name": "python"
    }
  },
  "cells": [
    {
      "cell_type": "code",
      "metadata": {
        "colab": {
          "base_uri": "https://localhost:8080/"
        },
        "id": "FycO6_-V8cO7",
        "outputId": "685d6b57-4933-4e4f-cc1d-1f289a486347"
      },
      "source": [
        "from google.colab import drive\n",
        "drive.mount('/content/drive')"
      ],
      "execution_count": 1,
      "outputs": [
        {
          "output_type": "stream",
          "text": [
            "Mounted at /content/drive\n"
          ],
          "name": "stdout"
        }
      ]
    },
    {
      "cell_type": "code",
      "metadata": {
        "id": "PaRpWfm579jD"
      },
      "source": [
        "import numpy as np # numpy arrays / linear algebra\n",
        "import pandas as pd # data processing, CSV file I/O (e.g. pd.read_csv)\n",
        "import plotly.express as px # map plot\n",
        "import warnings\n",
        "warnings.filterwarnings('ignore') \n",
        "\n",
        "import matplotlib as mpl\n",
        "import matplotlib.pyplot as plt \n",
        "import matplotlib.dates as md\n",
        "%matplotlib inline\n",
        "from scipy.optimize import curve_fit # predictive modeling\n",
        "import seaborn as sns\n",
        "import statsmodels.api as sm\n",
        "\n",
        "import datetime\n",
        "from datetime import date"
      ],
      "execution_count": 2,
      "outputs": []
    },
    {
      "cell_type": "code",
      "metadata": {
        "colab": {
          "base_uri": "https://localhost:8080/",
          "height": 197
        },
        "id": "T6DupBdv8guo",
        "outputId": "7009430d-d1ff-4179-9dc5-8f90278f9fe3"
      },
      "source": [
        "df = pd.read_csv('/content/drive/MyDrive/dataset/country_vaccinations.csv', index_col='date', parse_dates=True, engine='python', header=0)\n",
        "df = df[df['vaccines']=='Sinopharm/Beijing, Sinopharm/Wuhan, Sinovac']['total_vaccinations_per_hundred']\n",
        "df.dropna(inplace=True)\n",
        "df = df.reset_index()\n",
        "df.head()"
      ],
      "execution_count": 3,
      "outputs": [
        {
          "output_type": "execute_result",
          "data": {
            "text/html": [
              "<div>\n",
              "<style scoped>\n",
              "    .dataframe tbody tr th:only-of-type {\n",
              "        vertical-align: middle;\n",
              "    }\n",
              "\n",
              "    .dataframe tbody tr th {\n",
              "        vertical-align: top;\n",
              "    }\n",
              "\n",
              "    .dataframe thead th {\n",
              "        text-align: right;\n",
              "    }\n",
              "</style>\n",
              "<table border=\"1\" class=\"dataframe\">\n",
              "  <thead>\n",
              "    <tr style=\"text-align: right;\">\n",
              "      <th></th>\n",
              "      <th>date</th>\n",
              "      <th>total_vaccinations_per_hundred</th>\n",
              "    </tr>\n",
              "  </thead>\n",
              "  <tbody>\n",
              "    <tr>\n",
              "      <th>0</th>\n",
              "      <td>2020-12-15</td>\n",
              "      <td>0.10</td>\n",
              "    </tr>\n",
              "    <tr>\n",
              "      <th>1</th>\n",
              "      <td>2020-12-31</td>\n",
              "      <td>0.31</td>\n",
              "    </tr>\n",
              "    <tr>\n",
              "      <th>2</th>\n",
              "      <td>2021-01-09</td>\n",
              "      <td>0.63</td>\n",
              "    </tr>\n",
              "    <tr>\n",
              "      <th>3</th>\n",
              "      <td>2021-01-13</td>\n",
              "      <td>0.69</td>\n",
              "    </tr>\n",
              "    <tr>\n",
              "      <th>4</th>\n",
              "      <td>2021-01-20</td>\n",
              "      <td>1.04</td>\n",
              "    </tr>\n",
              "  </tbody>\n",
              "</table>\n",
              "</div>"
            ],
            "text/plain": [
              "        date  total_vaccinations_per_hundred\n",
              "0 2020-12-15                            0.10\n",
              "1 2020-12-31                            0.31\n",
              "2 2021-01-09                            0.63\n",
              "3 2021-01-13                            0.69\n",
              "4 2021-01-20                            1.04"
            ]
          },
          "metadata": {
            "tags": []
          },
          "execution_count": 3
        }
      ]
    },
    {
      "cell_type": "code",
      "metadata": {
        "colab": {
          "base_uri": "https://localhost:8080/",
          "height": 197
        },
        "id": "jOdfl6T55hsZ",
        "outputId": "54af8d54-f169-47f2-d4e2-bbae1d9460ea"
      },
      "source": [
        "df=df.rename(columns={'date':'ds', 'total_vaccinations_per_hundred':'y'})\n",
        "df.head()"
      ],
      "execution_count": 4,
      "outputs": [
        {
          "output_type": "execute_result",
          "data": {
            "text/html": [
              "<div>\n",
              "<style scoped>\n",
              "    .dataframe tbody tr th:only-of-type {\n",
              "        vertical-align: middle;\n",
              "    }\n",
              "\n",
              "    .dataframe tbody tr th {\n",
              "        vertical-align: top;\n",
              "    }\n",
              "\n",
              "    .dataframe thead th {\n",
              "        text-align: right;\n",
              "    }\n",
              "</style>\n",
              "<table border=\"1\" class=\"dataframe\">\n",
              "  <thead>\n",
              "    <tr style=\"text-align: right;\">\n",
              "      <th></th>\n",
              "      <th>ds</th>\n",
              "      <th>y</th>\n",
              "    </tr>\n",
              "  </thead>\n",
              "  <tbody>\n",
              "    <tr>\n",
              "      <th>0</th>\n",
              "      <td>2020-12-15</td>\n",
              "      <td>0.10</td>\n",
              "    </tr>\n",
              "    <tr>\n",
              "      <th>1</th>\n",
              "      <td>2020-12-31</td>\n",
              "      <td>0.31</td>\n",
              "    </tr>\n",
              "    <tr>\n",
              "      <th>2</th>\n",
              "      <td>2021-01-09</td>\n",
              "      <td>0.63</td>\n",
              "    </tr>\n",
              "    <tr>\n",
              "      <th>3</th>\n",
              "      <td>2021-01-13</td>\n",
              "      <td>0.69</td>\n",
              "    </tr>\n",
              "    <tr>\n",
              "      <th>4</th>\n",
              "      <td>2021-01-20</td>\n",
              "      <td>1.04</td>\n",
              "    </tr>\n",
              "  </tbody>\n",
              "</table>\n",
              "</div>"
            ],
            "text/plain": [
              "          ds     y\n",
              "0 2020-12-15  0.10\n",
              "1 2020-12-31  0.31\n",
              "2 2021-01-09  0.63\n",
              "3 2021-01-13  0.69\n",
              "4 2021-01-20  1.04"
            ]
          },
          "metadata": {
            "tags": []
          },
          "execution_count": 4
        }
      ]
    },
    {
      "cell_type": "code",
      "metadata": {
        "colab": {
          "base_uri": "https://localhost:8080/"
        },
        "id": "FWHJnoq36rcJ",
        "outputId": "be81ec6f-cdc2-4f2c-b703-171b92000efa"
      },
      "source": [
        "from fbprophet import Prophet\n",
        "model = Prophet(weekly_seasonality=True)\n",
        "model.fit(df);"
      ],
      "execution_count": 5,
      "outputs": [
        {
          "output_type": "stream",
          "text": [
            "INFO:numexpr.utils:NumExpr defaulting to 2 threads.\n",
            "INFO:fbprophet:Disabling yearly seasonality. Run prophet with yearly_seasonality=True to override this.\n",
            "INFO:fbprophet:Disabling daily seasonality. Run prophet with daily_seasonality=True to override this.\n"
          ],
          "name": "stderr"
        }
      ]
    },
    {
      "cell_type": "code",
      "metadata": {
        "colab": {
          "base_uri": "https://localhost:8080/",
          "height": 197
        },
        "id": "nFjCXg676uM5",
        "outputId": "8d30e7cc-dbeb-4c18-cfe9-6d94ad2da4ae"
      },
      "source": [
        "future = model.make_future_dataframe(periods=24, freq = 'm')\n",
        "future.tail()"
      ],
      "execution_count": 6,
      "outputs": [
        {
          "output_type": "execute_result",
          "data": {
            "text/html": [
              "<div>\n",
              "<style scoped>\n",
              "    .dataframe tbody tr th:only-of-type {\n",
              "        vertical-align: middle;\n",
              "    }\n",
              "\n",
              "    .dataframe tbody tr th {\n",
              "        vertical-align: top;\n",
              "    }\n",
              "\n",
              "    .dataframe thead th {\n",
              "        text-align: right;\n",
              "    }\n",
              "</style>\n",
              "<table border=\"1\" class=\"dataframe\">\n",
              "  <thead>\n",
              "    <tr style=\"text-align: right;\">\n",
              "      <th></th>\n",
              "      <th>ds</th>\n",
              "    </tr>\n",
              "  </thead>\n",
              "  <tbody>\n",
              "    <tr>\n",
              "      <th>77</th>\n",
              "      <td>2022-12-31</td>\n",
              "    </tr>\n",
              "    <tr>\n",
              "      <th>78</th>\n",
              "      <td>2023-01-31</td>\n",
              "    </tr>\n",
              "    <tr>\n",
              "      <th>79</th>\n",
              "      <td>2023-02-28</td>\n",
              "    </tr>\n",
              "    <tr>\n",
              "      <th>80</th>\n",
              "      <td>2023-03-31</td>\n",
              "    </tr>\n",
              "    <tr>\n",
              "      <th>81</th>\n",
              "      <td>2023-04-30</td>\n",
              "    </tr>\n",
              "  </tbody>\n",
              "</table>\n",
              "</div>"
            ],
            "text/plain": [
              "           ds\n",
              "77 2022-12-31\n",
              "78 2023-01-31\n",
              "79 2023-02-28\n",
              "80 2023-03-31\n",
              "81 2023-04-30"
            ]
          },
          "metadata": {
            "tags": []
          },
          "execution_count": 6
        }
      ]
    },
    {
      "cell_type": "code",
      "metadata": {
        "id": "p1D65si26wU6"
      },
      "source": [
        "forecast = model.predict(future)"
      ],
      "execution_count": 7,
      "outputs": []
    },
    {
      "cell_type": "code",
      "metadata": {
        "colab": {
          "base_uri": "https://localhost:8080/",
          "height": 281
        },
        "id": "WmNp-S5N60Jh",
        "outputId": "46aeae2e-e6ab-45b4-b68e-d56d6dfbd6b2"
      },
      "source": [
        "forecast.tail()"
      ],
      "execution_count": 8,
      "outputs": [
        {
          "output_type": "execute_result",
          "data": {
            "text/html": [
              "<div>\n",
              "<style scoped>\n",
              "    .dataframe tbody tr th:only-of-type {\n",
              "        vertical-align: middle;\n",
              "    }\n",
              "\n",
              "    .dataframe tbody tr th {\n",
              "        vertical-align: top;\n",
              "    }\n",
              "\n",
              "    .dataframe thead th {\n",
              "        text-align: right;\n",
              "    }\n",
              "</style>\n",
              "<table border=\"1\" class=\"dataframe\">\n",
              "  <thead>\n",
              "    <tr style=\"text-align: right;\">\n",
              "      <th></th>\n",
              "      <th>ds</th>\n",
              "      <th>trend</th>\n",
              "      <th>yhat_lower</th>\n",
              "      <th>yhat_upper</th>\n",
              "      <th>trend_lower</th>\n",
              "      <th>trend_upper</th>\n",
              "      <th>additive_terms</th>\n",
              "      <th>additive_terms_lower</th>\n",
              "      <th>additive_terms_upper</th>\n",
              "      <th>weekly</th>\n",
              "      <th>weekly_lower</th>\n",
              "      <th>weekly_upper</th>\n",
              "      <th>multiplicative_terms</th>\n",
              "      <th>multiplicative_terms_lower</th>\n",
              "      <th>multiplicative_terms_upper</th>\n",
              "      <th>yhat</th>\n",
              "    </tr>\n",
              "  </thead>\n",
              "  <tbody>\n",
              "    <tr>\n",
              "      <th>77</th>\n",
              "      <td>2022-12-31</td>\n",
              "      <td>298.658834</td>\n",
              "      <td>172.706744</td>\n",
              "      <td>421.571579</td>\n",
              "      <td>172.641357</td>\n",
              "      <td>421.389887</td>\n",
              "      <td>0.103293</td>\n",
              "      <td>0.103293</td>\n",
              "      <td>0.103293</td>\n",
              "      <td>0.103293</td>\n",
              "      <td>0.103293</td>\n",
              "      <td>0.103293</td>\n",
              "      <td>0.0</td>\n",
              "      <td>0.0</td>\n",
              "      <td>0.0</td>\n",
              "      <td>298.762127</td>\n",
              "    </tr>\n",
              "    <tr>\n",
              "      <th>78</th>\n",
              "      <td>2023-01-31</td>\n",
              "      <td>312.920569</td>\n",
              "      <td>177.699541</td>\n",
              "      <td>444.896672</td>\n",
              "      <td>177.934824</td>\n",
              "      <td>444.784592</td>\n",
              "      <td>-0.045519</td>\n",
              "      <td>-0.045519</td>\n",
              "      <td>-0.045519</td>\n",
              "      <td>-0.045519</td>\n",
              "      <td>-0.045519</td>\n",
              "      <td>-0.045519</td>\n",
              "      <td>0.0</td>\n",
              "      <td>0.0</td>\n",
              "      <td>0.0</td>\n",
              "      <td>312.875050</td>\n",
              "    </tr>\n",
              "    <tr>\n",
              "      <th>79</th>\n",
              "      <td>2023-02-28</td>\n",
              "      <td>325.802136</td>\n",
              "      <td>182.410484</td>\n",
              "      <td>465.859639</td>\n",
              "      <td>182.566886</td>\n",
              "      <td>465.953829</td>\n",
              "      <td>-0.045519</td>\n",
              "      <td>-0.045519</td>\n",
              "      <td>-0.045519</td>\n",
              "      <td>-0.045519</td>\n",
              "      <td>-0.045519</td>\n",
              "      <td>-0.045519</td>\n",
              "      <td>0.0</td>\n",
              "      <td>0.0</td>\n",
              "      <td>0.0</td>\n",
              "      <td>325.756617</td>\n",
              "    </tr>\n",
              "    <tr>\n",
              "      <th>80</th>\n",
              "      <td>2023-03-31</td>\n",
              "      <td>340.063871</td>\n",
              "      <td>181.471238</td>\n",
              "      <td>489.288434</td>\n",
              "      <td>181.331134</td>\n",
              "      <td>489.017897</td>\n",
              "      <td>0.161005</td>\n",
              "      <td>0.161005</td>\n",
              "      <td>0.161005</td>\n",
              "      <td>0.161005</td>\n",
              "      <td>0.161005</td>\n",
              "      <td>0.161005</td>\n",
              "      <td>0.0</td>\n",
              "      <td>0.0</td>\n",
              "      <td>0.0</td>\n",
              "      <td>340.224877</td>\n",
              "    </tr>\n",
              "    <tr>\n",
              "      <th>81</th>\n",
              "      <td>2023-04-30</td>\n",
              "      <td>353.865551</td>\n",
              "      <td>183.143717</td>\n",
              "      <td>514.425663</td>\n",
              "      <td>183.054529</td>\n",
              "      <td>514.297641</td>\n",
              "      <td>-0.060212</td>\n",
              "      <td>-0.060212</td>\n",
              "      <td>-0.060212</td>\n",
              "      <td>-0.060212</td>\n",
              "      <td>-0.060212</td>\n",
              "      <td>-0.060212</td>\n",
              "      <td>0.0</td>\n",
              "      <td>0.0</td>\n",
              "      <td>0.0</td>\n",
              "      <td>353.805339</td>\n",
              "    </tr>\n",
              "  </tbody>\n",
              "</table>\n",
              "</div>"
            ],
            "text/plain": [
              "           ds       trend  ...  multiplicative_terms_upper        yhat\n",
              "77 2022-12-31  298.658834  ...                         0.0  298.762127\n",
              "78 2023-01-31  312.920569  ...                         0.0  312.875050\n",
              "79 2023-02-28  325.802136  ...                         0.0  325.756617\n",
              "80 2023-03-31  340.063871  ...                         0.0  340.224877\n",
              "81 2023-04-30  353.865551  ...                         0.0  353.805339\n",
              "\n",
              "[5 rows x 16 columns]"
            ]
          },
          "metadata": {
            "tags": []
          },
          "execution_count": 8
        }
      ]
    },
    {
      "cell_type": "code",
      "metadata": {
        "colab": {
          "base_uri": "https://localhost:8080/",
          "height": 197
        },
        "id": "wvgR58Gh623x",
        "outputId": "980bc314-fbfb-4d61-9a45-073cd88d129e"
      },
      "source": [
        "forecast[['ds', 'yhat', 'yhat_lower', 'yhat_upper']].tail()"
      ],
      "execution_count": 9,
      "outputs": [
        {
          "output_type": "execute_result",
          "data": {
            "text/html": [
              "<div>\n",
              "<style scoped>\n",
              "    .dataframe tbody tr th:only-of-type {\n",
              "        vertical-align: middle;\n",
              "    }\n",
              "\n",
              "    .dataframe tbody tr th {\n",
              "        vertical-align: top;\n",
              "    }\n",
              "\n",
              "    .dataframe thead th {\n",
              "        text-align: right;\n",
              "    }\n",
              "</style>\n",
              "<table border=\"1\" class=\"dataframe\">\n",
              "  <thead>\n",
              "    <tr style=\"text-align: right;\">\n",
              "      <th></th>\n",
              "      <th>ds</th>\n",
              "      <th>yhat</th>\n",
              "      <th>yhat_lower</th>\n",
              "      <th>yhat_upper</th>\n",
              "    </tr>\n",
              "  </thead>\n",
              "  <tbody>\n",
              "    <tr>\n",
              "      <th>77</th>\n",
              "      <td>2022-12-31</td>\n",
              "      <td>298.762127</td>\n",
              "      <td>172.706744</td>\n",
              "      <td>421.571579</td>\n",
              "    </tr>\n",
              "    <tr>\n",
              "      <th>78</th>\n",
              "      <td>2023-01-31</td>\n",
              "      <td>312.875050</td>\n",
              "      <td>177.699541</td>\n",
              "      <td>444.896672</td>\n",
              "    </tr>\n",
              "    <tr>\n",
              "      <th>79</th>\n",
              "      <td>2023-02-28</td>\n",
              "      <td>325.756617</td>\n",
              "      <td>182.410484</td>\n",
              "      <td>465.859639</td>\n",
              "    </tr>\n",
              "    <tr>\n",
              "      <th>80</th>\n",
              "      <td>2023-03-31</td>\n",
              "      <td>340.224877</td>\n",
              "      <td>181.471238</td>\n",
              "      <td>489.288434</td>\n",
              "    </tr>\n",
              "    <tr>\n",
              "      <th>81</th>\n",
              "      <td>2023-04-30</td>\n",
              "      <td>353.805339</td>\n",
              "      <td>183.143717</td>\n",
              "      <td>514.425663</td>\n",
              "    </tr>\n",
              "  </tbody>\n",
              "</table>\n",
              "</div>"
            ],
            "text/plain": [
              "           ds        yhat  yhat_lower  yhat_upper\n",
              "77 2022-12-31  298.762127  172.706744  421.571579\n",
              "78 2023-01-31  312.875050  177.699541  444.896672\n",
              "79 2023-02-28  325.756617  182.410484  465.859639\n",
              "80 2023-03-31  340.224877  181.471238  489.288434\n",
              "81 2023-04-30  353.805339  183.143717  514.425663"
            ]
          },
          "metadata": {
            "tags": []
          },
          "execution_count": 9
        }
      ]
    },
    {
      "cell_type": "code",
      "metadata": {
        "colab": {
          "base_uri": "https://localhost:8080/",
          "height": 441
        },
        "id": "lHKJ_cWl66n5",
        "outputId": "2e283bfe-614c-47cd-e4ac-cf1a95276df4"
      },
      "source": [
        "model.plot(forecast);"
      ],
      "execution_count": 10,
      "outputs": [
        {
          "output_type": "display_data",
          "data": {
            "image/png": "[encoded data removed]",
            "text/plain": [
              "<Figure size 720x432 with 1 Axes>"
            ]
          },
          "metadata": {
            "tags": []
          }
        }
      ]
    },
    {
      "cell_type": "code",
      "metadata": {
        "colab": {
          "base_uri": "https://localhost:8080/",
          "height": 441
        },
        "id": "BRTc50BO6-zh",
        "outputId": "c6696780-1894-4f09-f6f4-85d2c36427d3"
      },
      "source": [
        "model.plot_components(forecast);"
      ],
      "execution_count": 11,
      "outputs": [
        {
          "output_type": "display_data",
          "data": {
            "image/png": "[encoded data removed]",
            "text/plain": [
              "<Figure size 648x432 with 2 Axes>"
            ]
          },
          "metadata": {
            "tags": []
          }
        }
      ]
    },
    {
      "cell_type": "code",
      "metadata": {
        "id": "ItPLD7dw7CM5"
      },
      "source": [
        "metric_df = forecast.set_index('ds')[['yhat']].join(df.set_index('ds').y).reset_index()"
      ],
      "execution_count": 12,
      "outputs": []
    },
    {
      "cell_type": "code",
      "metadata": {
        "colab": {
          "base_uri": "https://localhost:8080/",
          "height": 197
        },
        "id": "cFvaBNSY7EfQ",
        "outputId": "58f53f1d-b013-45bc-96b9-45b345705bf0"
      },
      "source": [
        "metric_df.dropna(inplace=True)\n",
        "metric_df.tail()"
      ],
      "execution_count": 13,
      "outputs": [
        {
          "output_type": "execute_result",
          "data": {
            "text/html": [
              "<div>\n",
              "<style scoped>\n",
              "    .dataframe tbody tr th:only-of-type {\n",
              "        vertical-align: middle;\n",
              "    }\n",
              "\n",
              "    .dataframe tbody tr th {\n",
              "        vertical-align: top;\n",
              "    }\n",
              "\n",
              "    .dataframe thead th {\n",
              "        text-align: right;\n",
              "    }\n",
              "</style>\n",
              "<table border=\"1\" class=\"dataframe\">\n",
              "  <thead>\n",
              "    <tr style=\"text-align: right;\">\n",
              "      <th></th>\n",
              "      <th>ds</th>\n",
              "      <th>yhat</th>\n",
              "      <th>y</th>\n",
              "    </tr>\n",
              "  </thead>\n",
              "  <tbody>\n",
              "    <tr>\n",
              "      <th>53</th>\n",
              "      <td>2021-05-02</td>\n",
              "      <td>18.884592</td>\n",
              "      <td>19.13</td>\n",
              "    </tr>\n",
              "    <tr>\n",
              "      <th>54</th>\n",
              "      <td>2021-05-03</td>\n",
              "      <td>19.352637</td>\n",
              "      <td>19.45</td>\n",
              "    </tr>\n",
              "    <tr>\n",
              "      <th>55</th>\n",
              "      <td>2021-05-04</td>\n",
              "      <td>19.819396</td>\n",
              "      <td>19.77</td>\n",
              "    </tr>\n",
              "    <tr>\n",
              "      <th>56</th>\n",
              "      <td>2021-05-05</td>\n",
              "      <td>20.213149</td>\n",
              "      <td>20.12</td>\n",
              "    </tr>\n",
              "    <tr>\n",
              "      <th>57</th>\n",
              "      <td>2021-05-06</td>\n",
              "      <td>20.790505</td>\n",
              "      <td>20.69</td>\n",
              "    </tr>\n",
              "  </tbody>\n",
              "</table>\n",
              "</div>"
            ],
            "text/plain": [
              "           ds       yhat      y\n",
              "53 2021-05-02  18.884592  19.13\n",
              "54 2021-05-03  19.352637  19.45\n",
              "55 2021-05-04  19.819396  19.77\n",
              "56 2021-05-05  20.213149  20.12\n",
              "57 2021-05-06  20.790505  20.69"
            ]
          },
          "metadata": {
            "tags": []
          },
          "execution_count": 13
        }
      ]
    },
    {
      "cell_type": "code",
      "metadata": {
        "colab": {
          "base_uri": "https://localhost:8080/"
        },
        "id": "SSHR1API7MP4",
        "outputId": "c59167ad-cc59-4396-88db-9c510509249b"
      },
      "source": [
        "from sklearn.metrics import r2_score\n",
        "r2_score(metric_df.y, metric_df.yhat)"
      ],
      "execution_count": 14,
      "outputs": [
        {
          "output_type": "execute_result",
          "data": {
            "text/plain": [
              "0.9995741639879729"
            ]
          },
          "metadata": {
            "tags": []
          },
          "execution_count": 14
        }
      ]
    },
    {
      "cell_type": "code",
      "metadata": {
        "colab": {
          "base_uri": "https://localhost:8080/"
        },
        "id": "fdyYk8Ur7O9I",
        "outputId": "483e2abb-2483-4ebf-8c6a-2a3fd8f3c341"
      },
      "source": [
        "from sklearn.metrics import mean_squared_error\n",
        "mean_squared_error(metric_df.y, metric_df.yhat)"
      ],
      "execution_count": 15,
      "outputs": [
        {
          "output_type": "execute_result",
          "data": {
            "text/plain": [
              "0.014092244312221001"
            ]
          },
          "metadata": {
            "tags": []
          },
          "execution_count": 15
        }
      ]
    },
    {
      "cell_type": "code",
      "metadata": {
        "colab": {
          "base_uri": "https://localhost:8080/"
        },
        "id": "_Q0AVvFj9qj5",
        "outputId": "461e4760-33a8-4d58-89d2-3186e016c3f5"
      },
      "source": [
        "metric_df.yhat.mean()"
      ],
      "execution_count": 16,
      "outputs": [
        {
          "output_type": "execute_result",
          "data": {
            "text/plain": [
              "10.353103822725057"
            ]
          },
          "metadata": {
            "tags": []
          },
          "execution_count": 16
        }
      ]
    },
    {
      "cell_type": "code",
      "metadata": {
        "colab": {
          "base_uri": "https://localhost:8080/"
        },
        "id": "1-kLjEIi-J2h",
        "outputId": "4166beaf-bad5-4ba6-972e-b2b797411710"
      },
      "source": [
        "from sklearn.metrics import mean_absolute_error\n",
        "print(mean_absolute_error(metric_df.y, metric_df.yhat))"
      ],
      "execution_count": 17,
      "outputs": [
        {
          "output_type": "stream",
          "text": [
            "0.09582621145924435\n"
          ],
          "name": "stdout"
        }
      ]
    },
    {
      "cell_type": "code",
      "metadata": {
        "colab": {
          "base_uri": "https://localhost:8080/"
        },
        "id": "Ruk1mWnh-RCP",
        "outputId": "be7b53c3-ad5a-4dda-f937-bebe5f83baa6"
      },
      "source": [
        "from sklearn.metrics import median_absolute_error\n",
        "print(median_absolute_error(metric_df.y, metric_df.yhat))"
      ],
      "execution_count": 18,
      "outputs": [
        {
          "output_type": "stream",
          "text": [
            "0.08662537895983446\n"
          ],
          "name": "stdout"
        }
      ]
    },
    {
      "cell_type": "code",
      "metadata": {
        "colab": {
          "base_uri": "https://localhost:8080/"
        },
        "id": "EOhBHFDB-iig",
        "outputId": "96a0b918-61f1-4173-8467-6685c1d4c726"
      },
      "source": [
        "from math import sqrt\n",
        "rmse = sqrt(mean_squared_error(metric_df.y, metric_df.yhat))\n",
        "print(rmse)"
      ],
      "execution_count": 19,
      "outputs": [
        {
          "output_type": "stream",
          "text": [
            "0.11871075904155023\n"
          ],
          "name": "stdout"
        }
      ]
    }
  ]
}