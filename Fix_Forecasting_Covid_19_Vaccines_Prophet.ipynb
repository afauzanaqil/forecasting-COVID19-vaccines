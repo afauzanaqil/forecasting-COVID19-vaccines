{
  "nbformat": 4,
  "nbformat_minor": 0,
  "metadata": {
    "colab": {
      "name": "Fix_Forecasting_Covid-19_Vaccines-Prophet.ipynb",
      "provenance": []
    },
    "kernelspec": {
      "name": "python3",
      "display_name": "Python 3"
    },
    "language_info": {
      "name": "python"
    }
  },
  "cells": [
    {
      "cell_type": "code",
      "metadata": {
        "colab": {
          "base_uri": "https://localhost:8080/"
        },
        "id": "FycO6_-V8cO7",
        "outputId": "9080ce8a-5b2d-4130-c334-bb225e0bcf5b"
      },
      "source": [
        "from google.colab import drive\n",
        "drive.mount('/content/drive')"
      ],
      "execution_count": 1,
      "outputs": [
        {
          "output_type": "stream",
          "text": [
            "Mounted at /content/drive\n"
          ],
          "name": "stdout"
        }
      ]
    },
    {
      "cell_type": "code",
      "metadata": {
        "id": "PaRpWfm579jD"
      },
      "source": [
        "import numpy as np # numpy arrays / linear algebra\n",
        "import pandas as pd # data processing, CSV file I/O (e.g. pd.read_csv)\n",
        "import plotly.express as px # map plot\n",
        "import warnings\n",
        "warnings.filterwarnings('ignore') \n",
        "\n",
        "import matplotlib as mpl\n",
        "import matplotlib.pyplot as plt \n",
        "import matplotlib.dates as md\n",
        "%matplotlib inline\n",
        "from scipy.optimize import curve_fit # predictive modeling\n",
        "import seaborn as sns\n",
        "import statsmodels.api as sm\n",
        "\n",
        "import datetime\n",
        "from datetime import date"
      ],
      "execution_count": 2,
      "outputs": []
    },
    {
      "cell_type": "code",
      "metadata": {
        "colab": {
          "base_uri": "https://localhost:8080/",
          "height": 197
        },
        "id": "T6DupBdv8guo",
        "outputId": "2ca418e5-38cf-4542-df1e-dc3ba00fc346"
      },
      "source": [
        "df = pd.read_csv('/content/drive/MyDrive/dataset/country_vaccinations.csv', index_col='date', parse_dates=True, engine='python', header=0)\n",
        "df = df[df['vaccines']=='Sinopharm/Beijing, Sinopharm/Wuhan, Sinovac']['daily_vaccinations']\n",
        "df.dropna(inplace=True)\n",
        "df = df.reset_index()\n",
        "df.head()"
      ],
      "execution_count": 3,
      "outputs": [
        {
          "output_type": "execute_result",
          "data": {
            "text/html": [
              "<div>\n",
              "<style scoped>\n",
              "    .dataframe tbody tr th:only-of-type {\n",
              "        vertical-align: middle;\n",
              "    }\n",
              "\n",
              "    .dataframe tbody tr th {\n",
              "        vertical-align: top;\n",
              "    }\n",
              "\n",
              "    .dataframe thead th {\n",
              "        text-align: right;\n",
              "    }\n",
              "</style>\n",
              "<table border=\"1\" class=\"dataframe\">\n",
              "  <thead>\n",
              "    <tr style=\"text-align: right;\">\n",
              "      <th></th>\n",
              "      <th>date</th>\n",
              "      <th>daily_vaccinations</th>\n",
              "    </tr>\n",
              "  </thead>\n",
              "  <tbody>\n",
              "    <tr>\n",
              "      <th>0</th>\n",
              "      <td>2020-12-16</td>\n",
              "      <td>187500.0</td>\n",
              "    </tr>\n",
              "    <tr>\n",
              "      <th>1</th>\n",
              "      <td>2020-12-17</td>\n",
              "      <td>187500.0</td>\n",
              "    </tr>\n",
              "    <tr>\n",
              "      <th>2</th>\n",
              "      <td>2020-12-18</td>\n",
              "      <td>187500.0</td>\n",
              "    </tr>\n",
              "    <tr>\n",
              "      <th>3</th>\n",
              "      <td>2020-12-19</td>\n",
              "      <td>187500.0</td>\n",
              "    </tr>\n",
              "    <tr>\n",
              "      <th>4</th>\n",
              "      <td>2020-12-20</td>\n",
              "      <td>187500.0</td>\n",
              "    </tr>\n",
              "  </tbody>\n",
              "</table>\n",
              "</div>"
            ],
            "text/plain": [
              "        date  daily_vaccinations\n",
              "0 2020-12-16            187500.0\n",
              "1 2020-12-17            187500.0\n",
              "2 2020-12-18            187500.0\n",
              "3 2020-12-19            187500.0\n",
              "4 2020-12-20            187500.0"
            ]
          },
          "metadata": {
            "tags": []
          },
          "execution_count": 3
        }
      ]
    },
    {
      "cell_type": "code",
      "metadata": {
        "colab": {
          "base_uri": "https://localhost:8080/",
          "height": 197
        },
        "id": "jOdfl6T55hsZ",
        "outputId": "6cdc1032-fc6e-4267-e4e4-77caf31c331a"
      },
      "source": [
        "df=df.rename(columns={'date':'ds', 'daily_vaccinations':'y'})\n",
        "df.head()"
      ],
      "execution_count": 4,
      "outputs": [
        {
          "output_type": "execute_result",
          "data": {
            "text/html": [
              "<div>\n",
              "<style scoped>\n",
              "    .dataframe tbody tr th:only-of-type {\n",
              "        vertical-align: middle;\n",
              "    }\n",
              "\n",
              "    .dataframe tbody tr th {\n",
              "        vertical-align: top;\n",
              "    }\n",
              "\n",
              "    .dataframe thead th {\n",
              "        text-align: right;\n",
              "    }\n",
              "</style>\n",
              "<table border=\"1\" class=\"dataframe\">\n",
              "  <thead>\n",
              "    <tr style=\"text-align: right;\">\n",
              "      <th></th>\n",
              "      <th>ds</th>\n",
              "      <th>y</th>\n",
              "    </tr>\n",
              "  </thead>\n",
              "  <tbody>\n",
              "    <tr>\n",
              "      <th>0</th>\n",
              "      <td>2020-12-16</td>\n",
              "      <td>187500.0</td>\n",
              "    </tr>\n",
              "    <tr>\n",
              "      <th>1</th>\n",
              "      <td>2020-12-17</td>\n",
              "      <td>187500.0</td>\n",
              "    </tr>\n",
              "    <tr>\n",
              "      <th>2</th>\n",
              "      <td>2020-12-18</td>\n",
              "      <td>187500.0</td>\n",
              "    </tr>\n",
              "    <tr>\n",
              "      <th>3</th>\n",
              "      <td>2020-12-19</td>\n",
              "      <td>187500.0</td>\n",
              "    </tr>\n",
              "    <tr>\n",
              "      <th>4</th>\n",
              "      <td>2020-12-20</td>\n",
              "      <td>187500.0</td>\n",
              "    </tr>\n",
              "  </tbody>\n",
              "</table>\n",
              "</div>"
            ],
            "text/plain": [
              "          ds         y\n",
              "0 2020-12-16  187500.0\n",
              "1 2020-12-17  187500.0\n",
              "2 2020-12-18  187500.0\n",
              "3 2020-12-19  187500.0\n",
              "4 2020-12-20  187500.0"
            ]
          },
          "metadata": {
            "tags": []
          },
          "execution_count": 4
        }
      ]
    },
    {
      "cell_type": "code",
      "metadata": {
        "colab": {
          "base_uri": "https://localhost:8080/"
        },
        "id": "FWHJnoq36rcJ",
        "outputId": "bb4f2dff-f87f-445b-b28d-a670741c3543"
      },
      "source": [
        "from fbprophet import Prophet\n",
        "model = Prophet(weekly_seasonality=True)\n",
        "model.fit(df);"
      ],
      "execution_count": 6,
      "outputs": [
        {
          "output_type": "stream",
          "text": [
            "INFO:numexpr.utils:NumExpr defaulting to 2 threads.\n",
            "INFO:fbprophet:Disabling yearly seasonality. Run prophet with yearly_seasonality=True to override this.\n",
            "INFO:fbprophet:Disabling daily seasonality. Run prophet with daily_seasonality=True to override this.\n"
          ],
          "name": "stderr"
        }
      ]
    },
    {
      "cell_type": "code",
      "metadata": {
        "colab": {
          "base_uri": "https://localhost:8080/",
          "height": 197
        },
        "id": "nFjCXg676uM5",
        "outputId": "daf5c9e0-6b42-443f-9900-e97797542153"
      },
      "source": [
        "future = model.make_future_dataframe(periods=24, freq = 'm')\n",
        "future.tail()"
      ],
      "execution_count": 7,
      "outputs": [
        {
          "output_type": "execute_result",
          "data": {
            "text/html": [
              "<div>\n",
              "<style scoped>\n",
              "    .dataframe tbody tr th:only-of-type {\n",
              "        vertical-align: middle;\n",
              "    }\n",
              "\n",
              "    .dataframe tbody tr th {\n",
              "        vertical-align: top;\n",
              "    }\n",
              "\n",
              "    .dataframe thead th {\n",
              "        text-align: right;\n",
              "    }\n",
              "</style>\n",
              "<table border=\"1\" class=\"dataframe\">\n",
              "  <thead>\n",
              "    <tr style=\"text-align: right;\">\n",
              "      <th></th>\n",
              "      <th>ds</th>\n",
              "    </tr>\n",
              "  </thead>\n",
              "  <tbody>\n",
              "    <tr>\n",
              "      <th>161</th>\n",
              "      <td>2022-12-31</td>\n",
              "    </tr>\n",
              "    <tr>\n",
              "      <th>162</th>\n",
              "      <td>2023-01-31</td>\n",
              "    </tr>\n",
              "    <tr>\n",
              "      <th>163</th>\n",
              "      <td>2023-02-28</td>\n",
              "    </tr>\n",
              "    <tr>\n",
              "      <th>164</th>\n",
              "      <td>2023-03-31</td>\n",
              "    </tr>\n",
              "    <tr>\n",
              "      <th>165</th>\n",
              "      <td>2023-04-30</td>\n",
              "    </tr>\n",
              "  </tbody>\n",
              "</table>\n",
              "</div>"
            ],
            "text/plain": [
              "            ds\n",
              "161 2022-12-31\n",
              "162 2023-01-31\n",
              "163 2023-02-28\n",
              "164 2023-03-31\n",
              "165 2023-04-30"
            ]
          },
          "metadata": {
            "tags": []
          },
          "execution_count": 7
        }
      ]
    },
    {
      "cell_type": "code",
      "metadata": {
        "id": "p1D65si26wU6"
      },
      "source": [
        "forecast = model.predict(future)"
      ],
      "execution_count": 8,
      "outputs": []
    },
    {
      "cell_type": "code",
      "metadata": {
        "colab": {
          "base_uri": "https://localhost:8080/",
          "height": 301
        },
        "id": "WmNp-S5N60Jh",
        "outputId": "82ba97a8-6271-4665-b41a-7e3693719374"
      },
      "source": [
        "forecast.tail()"
      ],
      "execution_count": 9,
      "outputs": [
        {
          "output_type": "execute_result",
          "data": {
            "text/html": [
              "<div>\n",
              "<style scoped>\n",
              "    .dataframe tbody tr th:only-of-type {\n",
              "        vertical-align: middle;\n",
              "    }\n",
              "\n",
              "    .dataframe tbody tr th {\n",
              "        vertical-align: top;\n",
              "    }\n",
              "\n",
              "    .dataframe thead th {\n",
              "        text-align: right;\n",
              "    }\n",
              "</style>\n",
              "<table border=\"1\" class=\"dataframe\">\n",
              "  <thead>\n",
              "    <tr style=\"text-align: right;\">\n",
              "      <th></th>\n",
              "      <th>ds</th>\n",
              "      <th>trend</th>\n",
              "      <th>yhat_lower</th>\n",
              "      <th>yhat_upper</th>\n",
              "      <th>trend_lower</th>\n",
              "      <th>trend_upper</th>\n",
              "      <th>additive_terms</th>\n",
              "      <th>additive_terms_lower</th>\n",
              "      <th>additive_terms_upper</th>\n",
              "      <th>weekly</th>\n",
              "      <th>weekly_lower</th>\n",
              "      <th>weekly_upper</th>\n",
              "      <th>multiplicative_terms</th>\n",
              "      <th>multiplicative_terms_lower</th>\n",
              "      <th>multiplicative_terms_upper</th>\n",
              "      <th>yhat</th>\n",
              "    </tr>\n",
              "  </thead>\n",
              "  <tbody>\n",
              "    <tr>\n",
              "      <th>161</th>\n",
              "      <td>2022-12-31</td>\n",
              "      <td>5.619191e+07</td>\n",
              "      <td>3.788553e+07</td>\n",
              "      <td>7.290003e+07</td>\n",
              "      <td>3.745742e+07</td>\n",
              "      <td>7.287898e+07</td>\n",
              "      <td>16823.928022</td>\n",
              "      <td>16823.928022</td>\n",
              "      <td>16823.928022</td>\n",
              "      <td>16823.928022</td>\n",
              "      <td>16823.928022</td>\n",
              "      <td>16823.928022</td>\n",
              "      <td>0.0</td>\n",
              "      <td>0.0</td>\n",
              "      <td>0.0</td>\n",
              "      <td>5.620873e+07</td>\n",
              "    </tr>\n",
              "    <tr>\n",
              "      <th>162</th>\n",
              "      <td>2023-01-31</td>\n",
              "      <td>5.875970e+07</td>\n",
              "      <td>3.895130e+07</td>\n",
              "      <td>7.680069e+07</td>\n",
              "      <td>3.886008e+07</td>\n",
              "      <td>7.711991e+07</td>\n",
              "      <td>-15021.580398</td>\n",
              "      <td>-15021.580398</td>\n",
              "      <td>-15021.580398</td>\n",
              "      <td>-15021.580398</td>\n",
              "      <td>-15021.580398</td>\n",
              "      <td>-15021.580398</td>\n",
              "      <td>0.0</td>\n",
              "      <td>0.0</td>\n",
              "      <td>0.0</td>\n",
              "      <td>5.874468e+07</td>\n",
              "    </tr>\n",
              "    <tr>\n",
              "      <th>163</th>\n",
              "      <td>2023-02-28</td>\n",
              "      <td>6.107900e+07</td>\n",
              "      <td>4.028126e+07</td>\n",
              "      <td>8.053053e+07</td>\n",
              "      <td>4.020743e+07</td>\n",
              "      <td>8.071963e+07</td>\n",
              "      <td>-15021.580398</td>\n",
              "      <td>-15021.580398</td>\n",
              "      <td>-15021.580398</td>\n",
              "      <td>-15021.580398</td>\n",
              "      <td>-15021.580398</td>\n",
              "      <td>-15021.580398</td>\n",
              "      <td>0.0</td>\n",
              "      <td>0.0</td>\n",
              "      <td>0.0</td>\n",
              "      <td>6.106398e+07</td>\n",
              "    </tr>\n",
              "    <tr>\n",
              "      <th>164</th>\n",
              "      <td>2023-03-31</td>\n",
              "      <td>6.364679e+07</td>\n",
              "      <td>4.133461e+07</td>\n",
              "      <td>8.438749e+07</td>\n",
              "      <td>4.109869e+07</td>\n",
              "      <td>8.456528e+07</td>\n",
              "      <td>22257.830367</td>\n",
              "      <td>22257.830367</td>\n",
              "      <td>22257.830367</td>\n",
              "      <td>22257.830367</td>\n",
              "      <td>22257.830367</td>\n",
              "      <td>22257.830367</td>\n",
              "      <td>0.0</td>\n",
              "      <td>0.0</td>\n",
              "      <td>0.0</td>\n",
              "      <td>6.366905e+07</td>\n",
              "    </tr>\n",
              "    <tr>\n",
              "      <th>165</th>\n",
              "      <td>2023-04-30</td>\n",
              "      <td>6.613175e+07</td>\n",
              "      <td>4.251045e+07</td>\n",
              "      <td>8.790784e+07</td>\n",
              "      <td>4.206480e+07</td>\n",
              "      <td>8.812950e+07</td>\n",
              "      <td>8169.212207</td>\n",
              "      <td>8169.212207</td>\n",
              "      <td>8169.212207</td>\n",
              "      <td>8169.212207</td>\n",
              "      <td>8169.212207</td>\n",
              "      <td>8169.212207</td>\n",
              "      <td>0.0</td>\n",
              "      <td>0.0</td>\n",
              "      <td>0.0</td>\n",
              "      <td>6.613992e+07</td>\n",
              "    </tr>\n",
              "  </tbody>\n",
              "</table>\n",
              "</div>"
            ],
            "text/plain": [
              "            ds         trend  ...  multiplicative_terms_upper          yhat\n",
              "161 2022-12-31  5.619191e+07  ...                         0.0  5.620873e+07\n",
              "162 2023-01-31  5.875970e+07  ...                         0.0  5.874468e+07\n",
              "163 2023-02-28  6.107900e+07  ...                         0.0  6.106398e+07\n",
              "164 2023-03-31  6.364679e+07  ...                         0.0  6.366905e+07\n",
              "165 2023-04-30  6.613175e+07  ...                         0.0  6.613992e+07\n",
              "\n",
              "[5 rows x 16 columns]"
            ]
          },
          "metadata": {
            "tags": []
          },
          "execution_count": 9
        }
      ]
    },
    {
      "cell_type": "code",
      "metadata": {
        "colab": {
          "base_uri": "https://localhost:8080/",
          "height": 197
        },
        "id": "wvgR58Gh623x",
        "outputId": "5ed7d42a-8c1d-467f-e165-5823312b84f1"
      },
      "source": [
        "forecast[['ds', 'yhat', 'yhat_lower', 'yhat_upper']].tail()"
      ],
      "execution_count": 10,
      "outputs": [
        {
          "output_type": "execute_result",
          "data": {
            "text/html": [
              "<div>\n",
              "<style scoped>\n",
              "    .dataframe tbody tr th:only-of-type {\n",
              "        vertical-align: middle;\n",
              "    }\n",
              "\n",
              "    .dataframe tbody tr th {\n",
              "        vertical-align: top;\n",
              "    }\n",
              "\n",
              "    .dataframe thead th {\n",
              "        text-align: right;\n",
              "    }\n",
              "</style>\n",
              "<table border=\"1\" class=\"dataframe\">\n",
              "  <thead>\n",
              "    <tr style=\"text-align: right;\">\n",
              "      <th></th>\n",
              "      <th>ds</th>\n",
              "      <th>yhat</th>\n",
              "      <th>yhat_lower</th>\n",
              "      <th>yhat_upper</th>\n",
              "    </tr>\n",
              "  </thead>\n",
              "  <tbody>\n",
              "    <tr>\n",
              "      <th>161</th>\n",
              "      <td>2022-12-31</td>\n",
              "      <td>5.620873e+07</td>\n",
              "      <td>3.788553e+07</td>\n",
              "      <td>7.290003e+07</td>\n",
              "    </tr>\n",
              "    <tr>\n",
              "      <th>162</th>\n",
              "      <td>2023-01-31</td>\n",
              "      <td>5.874468e+07</td>\n",
              "      <td>3.895130e+07</td>\n",
              "      <td>7.680069e+07</td>\n",
              "    </tr>\n",
              "    <tr>\n",
              "      <th>163</th>\n",
              "      <td>2023-02-28</td>\n",
              "      <td>6.106398e+07</td>\n",
              "      <td>4.028126e+07</td>\n",
              "      <td>8.053053e+07</td>\n",
              "    </tr>\n",
              "    <tr>\n",
              "      <th>164</th>\n",
              "      <td>2023-03-31</td>\n",
              "      <td>6.366905e+07</td>\n",
              "      <td>4.133461e+07</td>\n",
              "      <td>8.438749e+07</td>\n",
              "    </tr>\n",
              "    <tr>\n",
              "      <th>165</th>\n",
              "      <td>2023-04-30</td>\n",
              "      <td>6.613992e+07</td>\n",
              "      <td>4.251045e+07</td>\n",
              "      <td>8.790784e+07</td>\n",
              "    </tr>\n",
              "  </tbody>\n",
              "</table>\n",
              "</div>"
            ],
            "text/plain": [
              "            ds          yhat    yhat_lower    yhat_upper\n",
              "161 2022-12-31  5.620873e+07  3.788553e+07  7.290003e+07\n",
              "162 2023-01-31  5.874468e+07  3.895130e+07  7.680069e+07\n",
              "163 2023-02-28  6.106398e+07  4.028126e+07  8.053053e+07\n",
              "164 2023-03-31  6.366905e+07  4.133461e+07  8.438749e+07\n",
              "165 2023-04-30  6.613992e+07  4.251045e+07  8.790784e+07"
            ]
          },
          "metadata": {
            "tags": []
          },
          "execution_count": 10
        }
      ]
    },
    {
      "cell_type": "code",
      "metadata": {
        "colab": {
          "base_uri": "https://localhost:8080/",
          "height": 441
        },
        "id": "lHKJ_cWl66n5",
        "outputId": "7031790c-650c-4481-c795-bc51fd41228c"
      },
      "source": [
        "model.plot(forecast);"
      ],
      "execution_count": 11,
      "outputs": [
        {
          "output_type": "display_data",
          "data": {
            "image/png": "[encoded data removed]",
            "text/plain": [
              "<Figure size 720x432 with 1 Axes>"
            ]
          },
          "metadata": {
            "tags": []
          }
        }
      ]
    },
    {
      "cell_type": "code",
      "metadata": {
        "colab": {
          "base_uri": "https://localhost:8080/",
          "height": 441
        },
        "id": "BRTc50BO6-zh",
        "outputId": "5fcd5c99-5df4-465f-ef27-7b20cb5123d4"
      },
      "source": [
        "model.plot_components(forecast);"
      ],
      "execution_count": 12,
      "outputs": [
        {
          "output_type": "display_data",
          "data": {
            "image/png": "[encoded data removed]",
            "text/plain": [
              "<Figure size 648x432 with 2 Axes>"
            ]
          },
          "metadata": {
            "tags": []
          }
        }
      ]
    },
    {
      "cell_type": "code",
      "metadata": {
        "id": "ItPLD7dw7CM5"
      },
      "source": [
        "metric_df = forecast.set_index('ds')[['yhat']].join(df.set_index('ds').y).reset_index()"
      ],
      "execution_count": 13,
      "outputs": []
    },
    {
      "cell_type": "code",
      "metadata": {
        "colab": {
          "base_uri": "https://localhost:8080/",
          "height": 197
        },
        "id": "cFvaBNSY7EfQ",
        "outputId": "94e606a7-c815-434c-fa0d-4e2f379d5992"
      },
      "source": [
        "metric_df.dropna(inplace=True)\n",
        "metric_df.tail()"
      ],
      "execution_count": 14,
      "outputs": [
        {
          "output_type": "execute_result",
          "data": {
            "text/html": [
              "<div>\n",
              "<style scoped>\n",
              "    .dataframe tbody tr th:only-of-type {\n",
              "        vertical-align: middle;\n",
              "    }\n",
              "\n",
              "    .dataframe tbody tr th {\n",
              "        vertical-align: top;\n",
              "    }\n",
              "\n",
              "    .dataframe thead th {\n",
              "        text-align: right;\n",
              "    }\n",
              "</style>\n",
              "<table border=\"1\" class=\"dataframe\">\n",
              "  <thead>\n",
              "    <tr style=\"text-align: right;\">\n",
              "      <th></th>\n",
              "      <th>ds</th>\n",
              "      <th>yhat</th>\n",
              "      <th>y</th>\n",
              "    </tr>\n",
              "  </thead>\n",
              "  <tbody>\n",
              "    <tr>\n",
              "      <th>137</th>\n",
              "      <td>2021-05-02</td>\n",
              "      <td>5.838200e+06</td>\n",
              "      <td>7205286.0</td>\n",
              "    </tr>\n",
              "    <tr>\n",
              "      <th>138</th>\n",
              "      <td>2021-05-03</td>\n",
              "      <td>5.908999e+06</td>\n",
              "      <td>7202286.0</td>\n",
              "    </tr>\n",
              "    <tr>\n",
              "      <th>139</th>\n",
              "      <td>2021-05-04</td>\n",
              "      <td>5.980673e+06</td>\n",
              "      <td>6945571.0</td>\n",
              "    </tr>\n",
              "    <tr>\n",
              "      <th>140</th>\n",
              "      <td>2021-05-05</td>\n",
              "      <td>6.059152e+06</td>\n",
              "      <td>6531714.0</td>\n",
              "    </tr>\n",
              "    <tr>\n",
              "      <th>141</th>\n",
              "      <td>2021-05-06</td>\n",
              "      <td>6.152368e+06</td>\n",
              "      <td>6324429.0</td>\n",
              "    </tr>\n",
              "  </tbody>\n",
              "</table>\n",
              "</div>"
            ],
            "text/plain": [
              "            ds          yhat          y\n",
              "137 2021-05-02  5.838200e+06  7205286.0\n",
              "138 2021-05-03  5.908999e+06  7202286.0\n",
              "139 2021-05-04  5.980673e+06  6945571.0\n",
              "140 2021-05-05  6.059152e+06  6531714.0\n",
              "141 2021-05-06  6.152368e+06  6324429.0"
            ]
          },
          "metadata": {
            "tags": []
          },
          "execution_count": 14
        }
      ]
    },
    {
      "cell_type": "code",
      "metadata": {
        "colab": {
          "base_uri": "https://localhost:8080/"
        },
        "id": "SSHR1API7MP4",
        "outputId": "dd8ba32c-4d58-414f-f088-6989a995bd3e"
      },
      "source": [
        "from sklearn.metrics import r2_score\n",
        "r2_score(metric_df.y, metric_df.yhat)"
      ],
      "execution_count": 16,
      "outputs": [
        {
          "output_type": "execute_result",
          "data": {
            "text/plain": [
              "0.8854391177303298"
            ]
          },
          "metadata": {
            "tags": []
          },
          "execution_count": 16
        }
      ]
    },
    {
      "cell_type": "code",
      "metadata": {
        "colab": {
          "base_uri": "https://localhost:8080/"
        },
        "id": "fdyYk8Ur7O9I",
        "outputId": "4d1a345e-ff23-4f4e-85ae-9517714b912c"
      },
      "source": [
        "from sklearn.metrics import mean_squared_error\n",
        "mean_squared_error(metric_df.y, metric_df.yhat)"
      ],
      "execution_count": 19,
      "outputs": [
        {
          "output_type": "execute_result",
          "data": {
            "text/plain": [
              "437748525540.529"
            ]
          },
          "metadata": {
            "tags": []
          },
          "execution_count": 19
        }
      ]
    },
    {
      "cell_type": "code",
      "metadata": {
        "colab": {
          "base_uri": "https://localhost:8080/"
        },
        "id": "_Q0AVvFj9qj5",
        "outputId": "a983e8fd-c057-4ad9-e5e3-454c84f03822"
      },
      "source": [
        "metric_df.y.mean()"
      ],
      "execution_count": 20,
      "outputs": [
        {
          "output_type": "execute_result",
          "data": {
            "text/plain": [
              "1967914.0"
            ]
          },
          "metadata": {
            "tags": []
          },
          "execution_count": 20
        }
      ]
    },
    {
      "cell_type": "code",
      "metadata": {
        "colab": {
          "base_uri": "https://localhost:8080/"
        },
        "id": "1-kLjEIi-J2h",
        "outputId": "bf34d2d2-b014-4d95-c652-1f813d3ec767"
      },
      "source": [
        "from sklearn.metrics import mean_absolute_error\n",
        "print(mean_absolute_error(metric_df.y, metric_df.yhat))"
      ],
      "execution_count": 21,
      "outputs": [
        {
          "output_type": "stream",
          "text": [
            "486656.2152592966\n"
          ],
          "name": "stdout"
        }
      ]
    },
    {
      "cell_type": "code",
      "metadata": {
        "colab": {
          "base_uri": "https://localhost:8080/"
        },
        "id": "Ruk1mWnh-RCP",
        "outputId": "83117e75-844f-4c55-8b82-115cb03b15c8"
      },
      "source": [
        "from sklearn.metrics import median_absolute_error\n",
        "print(median_absolute_error(metric_df.y, metric_df.yhat))"
      ],
      "execution_count": 22,
      "outputs": [
        {
          "output_type": "stream",
          "text": [
            "411114.53060619807\n"
          ],
          "name": "stdout"
        }
      ]
    },
    {
      "cell_type": "code",
      "metadata": {
        "colab": {
          "base_uri": "https://localhost:8080/"
        },
        "id": "EOhBHFDB-iig",
        "outputId": "814cb708-78d7-4d8f-aa5a-f6e24761efbf"
      },
      "source": [
        "from math import sqrt\n",
        "rmse = sqrt(mean_squared_error(metric_df.y, metric_df.yhat))\n",
        "print(rmse)"
      ],
      "execution_count": 23,
      "outputs": [
        {
          "output_type": "stream",
          "text": [
            "661625.6687436855\n"
          ],
          "name": "stdout"
        }
      ]
    }
  ]
}