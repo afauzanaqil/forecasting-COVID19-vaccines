{
  "nbformat": 4,
  "nbformat_minor": 0,
  "metadata": {
    "colab": {
      "name": "Fix_Forecasting_Covid-19_Vaccines-Prophet.ipynb",
      "provenance": []
    },
    "kernelspec": {
      "name": "python3",
      "display_name": "Python 3"
    },
    "language_info": {
      "name": "python"
    }
  },
  "cells": [
    {
      "cell_type": "code",
      "metadata": {
        "colab": {
          "base_uri": "https://localhost:8080/"
        },
        "id": "FycO6_-V8cO7",
        "outputId": "095697b1-66ca-419b-9a54-0e3ad2c6d87f"
      },
      "source": [
        "from google.colab import drive\n",
        "drive.mount('/content/drive')"
      ],
      "execution_count": 1,
      "outputs": [
        {
          "output_type": "stream",
          "text": [
            "Mounted at /content/drive\n"
          ],
          "name": "stdout"
        }
      ]
    },
    {
      "cell_type": "code",
      "metadata": {
        "id": "PaRpWfm579jD"
      },
      "source": [
        "import numpy as np # numpy arrays / linear algebra\n",
        "import pandas as pd # data processing, CSV file I/O (e.g. pd.read_csv)\n",
        "import plotly.express as px # map plot\n",
        "import warnings\n",
        "warnings.filterwarnings('ignore') \n",
        "\n",
        "import matplotlib as mpl\n",
        "import matplotlib.pyplot as plt \n",
        "import matplotlib.dates as md\n",
        "%matplotlib inline\n",
        "from scipy.optimize import curve_fit # predictive modeling\n",
        "import seaborn as sns\n",
        "import statsmodels.api as sm\n",
        "\n",
        "import datetime\n",
        "from datetime import date"
      ],
      "execution_count": 2,
      "outputs": []
    },
    {
      "cell_type": "code",
      "metadata": {
        "colab": {
          "base_uri": "https://localhost:8080/",
          "height": 197
        },
        "id": "T6DupBdv8guo",
        "outputId": "e37ade10-bd2d-40af-e015-8a6eeebffd01"
      },
      "source": [
        "df = pd.read_csv('/content/drive/MyDrive/dataset/country_vaccinations.csv', index_col='date', parse_dates=True, engine='python', header=0)\n",
        "df = df[df['vaccines']=='Sinopharm/Beijing, Sinopharm/Wuhan, Sinovac']['daily_vaccinations']\n",
        "df.dropna(inplace=True)\n",
        "df = df.reset_index()\n",
        "df.head()"
      ],
      "execution_count": 56,
      "outputs": [
        {
          "output_type": "execute_result",
          "data": {
            "text/html": [
              "<div>\n",
              "<style scoped>\n",
              "    .dataframe tbody tr th:only-of-type {\n",
              "        vertical-align: middle;\n",
              "    }\n",
              "\n",
              "    .dataframe tbody tr th {\n",
              "        vertical-align: top;\n",
              "    }\n",
              "\n",
              "    .dataframe thead th {\n",
              "        text-align: right;\n",
              "    }\n",
              "</style>\n",
              "<table border=\"1\" class=\"dataframe\">\n",
              "  <thead>\n",
              "    <tr style=\"text-align: right;\">\n",
              "      <th></th>\n",
              "      <th>date</th>\n",
              "      <th>daily_vaccinations</th>\n",
              "    </tr>\n",
              "  </thead>\n",
              "  <tbody>\n",
              "    <tr>\n",
              "      <th>0</th>\n",
              "      <td>2020-12-16</td>\n",
              "      <td>187500.0</td>\n",
              "    </tr>\n",
              "    <tr>\n",
              "      <th>1</th>\n",
              "      <td>2020-12-17</td>\n",
              "      <td>187500.0</td>\n",
              "    </tr>\n",
              "    <tr>\n",
              "      <th>2</th>\n",
              "      <td>2020-12-18</td>\n",
              "      <td>187500.0</td>\n",
              "    </tr>\n",
              "    <tr>\n",
              "      <th>3</th>\n",
              "      <td>2020-12-19</td>\n",
              "      <td>187500.0</td>\n",
              "    </tr>\n",
              "    <tr>\n",
              "      <th>4</th>\n",
              "      <td>2020-12-20</td>\n",
              "      <td>187500.0</td>\n",
              "    </tr>\n",
              "  </tbody>\n",
              "</table>\n",
              "</div>"
            ],
            "text/plain": [
              "        date  daily_vaccinations\n",
              "0 2020-12-16            187500.0\n",
              "1 2020-12-17            187500.0\n",
              "2 2020-12-18            187500.0\n",
              "3 2020-12-19            187500.0\n",
              "4 2020-12-20            187500.0"
            ]
          },
          "metadata": {
            "tags": []
          },
          "execution_count": 56
        }
      ]
    },
    {
      "cell_type": "code",
      "metadata": {
        "colab": {
          "base_uri": "https://localhost:8080/",
          "height": 197
        },
        "id": "jOdfl6T55hsZ",
        "outputId": "3f71cddd-6c21-4d92-9c6a-573cdd0eba7d"
      },
      "source": [
        "df=df.rename(columns={'date':'ds', 'daily_vaccinations':'y'})\n",
        "df.head()"
      ],
      "execution_count": 57,
      "outputs": [
        {
          "output_type": "execute_result",
          "data": {
            "text/html": [
              "<div>\n",
              "<style scoped>\n",
              "    .dataframe tbody tr th:only-of-type {\n",
              "        vertical-align: middle;\n",
              "    }\n",
              "\n",
              "    .dataframe tbody tr th {\n",
              "        vertical-align: top;\n",
              "    }\n",
              "\n",
              "    .dataframe thead th {\n",
              "        text-align: right;\n",
              "    }\n",
              "</style>\n",
              "<table border=\"1\" class=\"dataframe\">\n",
              "  <thead>\n",
              "    <tr style=\"text-align: right;\">\n",
              "      <th></th>\n",
              "      <th>ds</th>\n",
              "      <th>y</th>\n",
              "    </tr>\n",
              "  </thead>\n",
              "  <tbody>\n",
              "    <tr>\n",
              "      <th>0</th>\n",
              "      <td>2020-12-16</td>\n",
              "      <td>187500.0</td>\n",
              "    </tr>\n",
              "    <tr>\n",
              "      <th>1</th>\n",
              "      <td>2020-12-17</td>\n",
              "      <td>187500.0</td>\n",
              "    </tr>\n",
              "    <tr>\n",
              "      <th>2</th>\n",
              "      <td>2020-12-18</td>\n",
              "      <td>187500.0</td>\n",
              "    </tr>\n",
              "    <tr>\n",
              "      <th>3</th>\n",
              "      <td>2020-12-19</td>\n",
              "      <td>187500.0</td>\n",
              "    </tr>\n",
              "    <tr>\n",
              "      <th>4</th>\n",
              "      <td>2020-12-20</td>\n",
              "      <td>187500.0</td>\n",
              "    </tr>\n",
              "  </tbody>\n",
              "</table>\n",
              "</div>"
            ],
            "text/plain": [
              "          ds         y\n",
              "0 2020-12-16  187500.0\n",
              "1 2020-12-17  187500.0\n",
              "2 2020-12-18  187500.0\n",
              "3 2020-12-19  187500.0\n",
              "4 2020-12-20  187500.0"
            ]
          },
          "metadata": {
            "tags": []
          },
          "execution_count": 57
        }
      ]
    },
    {
      "cell_type": "code",
      "metadata": {
        "colab": {
          "base_uri": "https://localhost:8080/"
        },
        "id": "FWHJnoq36rcJ",
        "outputId": "c9e35621-4a59-4bd7-c395-731fd37d5cae"
      },
      "source": [
        "model = Prophet(weekly_seasonality=True)\n",
        "model.fit(df);"
      ],
      "execution_count": 58,
      "outputs": [
        {
          "output_type": "stream",
          "text": [
            "INFO:fbprophet:Disabling yearly seasonality. Run prophet with yearly_seasonality=True to override this.\n",
            "INFO:fbprophet:Disabling daily seasonality. Run prophet with daily_seasonality=True to override this.\n"
          ],
          "name": "stderr"
        }
      ]
    },
    {
      "cell_type": "code",
      "metadata": {
        "colab": {
          "base_uri": "https://localhost:8080/",
          "height": 197
        },
        "id": "nFjCXg676uM5",
        "outputId": "16bd82e0-5a78-40d2-9671-780a8501d55e"
      },
      "source": [
        "future = model.make_future_dataframe(periods=24, freq = 'm')\n",
        "future.tail()"
      ],
      "execution_count": 59,
      "outputs": [
        {
          "output_type": "execute_result",
          "data": {
            "text/html": [
              "<div>\n",
              "<style scoped>\n",
              "    .dataframe tbody tr th:only-of-type {\n",
              "        vertical-align: middle;\n",
              "    }\n",
              "\n",
              "    .dataframe tbody tr th {\n",
              "        vertical-align: top;\n",
              "    }\n",
              "\n",
              "    .dataframe thead th {\n",
              "        text-align: right;\n",
              "    }\n",
              "</style>\n",
              "<table border=\"1\" class=\"dataframe\">\n",
              "  <thead>\n",
              "    <tr style=\"text-align: right;\">\n",
              "      <th></th>\n",
              "      <th>ds</th>\n",
              "    </tr>\n",
              "  </thead>\n",
              "  <tbody>\n",
              "    <tr>\n",
              "      <th>161</th>\n",
              "      <td>2022-12-31</td>\n",
              "    </tr>\n",
              "    <tr>\n",
              "      <th>162</th>\n",
              "      <td>2023-01-31</td>\n",
              "    </tr>\n",
              "    <tr>\n",
              "      <th>163</th>\n",
              "      <td>2023-02-28</td>\n",
              "    </tr>\n",
              "    <tr>\n",
              "      <th>164</th>\n",
              "      <td>2023-03-31</td>\n",
              "    </tr>\n",
              "    <tr>\n",
              "      <th>165</th>\n",
              "      <td>2023-04-30</td>\n",
              "    </tr>\n",
              "  </tbody>\n",
              "</table>\n",
              "</div>"
            ],
            "text/plain": [
              "            ds\n",
              "161 2022-12-31\n",
              "162 2023-01-31\n",
              "163 2023-02-28\n",
              "164 2023-03-31\n",
              "165 2023-04-30"
            ]
          },
          "metadata": {
            "tags": []
          },
          "execution_count": 59
        }
      ]
    },
    {
      "cell_type": "code",
      "metadata": {
        "id": "p1D65si26wU6"
      },
      "source": [
        "forecast = model.predict(future)"
      ],
      "execution_count": 60,
      "outputs": []
    },
    {
      "cell_type": "code",
      "metadata": {
        "colab": {
          "base_uri": "https://localhost:8080/",
          "height": 301
        },
        "id": "WmNp-S5N60Jh",
        "outputId": "7b07413f-8599-44b6-bbae-4bea717d79ac"
      },
      "source": [
        "forecast.tail()"
      ],
      "execution_count": 61,
      "outputs": [
        {
          "output_type": "execute_result",
          "data": {
            "text/html": [
              "<div>\n",
              "<style scoped>\n",
              "    .dataframe tbody tr th:only-of-type {\n",
              "        vertical-align: middle;\n",
              "    }\n",
              "\n",
              "    .dataframe tbody tr th {\n",
              "        vertical-align: top;\n",
              "    }\n",
              "\n",
              "    .dataframe thead th {\n",
              "        text-align: right;\n",
              "    }\n",
              "</style>\n",
              "<table border=\"1\" class=\"dataframe\">\n",
              "  <thead>\n",
              "    <tr style=\"text-align: right;\">\n",
              "      <th></th>\n",
              "      <th>ds</th>\n",
              "      <th>trend</th>\n",
              "      <th>yhat_lower</th>\n",
              "      <th>yhat_upper</th>\n",
              "      <th>trend_lower</th>\n",
              "      <th>trend_upper</th>\n",
              "      <th>additive_terms</th>\n",
              "      <th>additive_terms_lower</th>\n",
              "      <th>additive_terms_upper</th>\n",
              "      <th>weekly</th>\n",
              "      <th>weekly_lower</th>\n",
              "      <th>weekly_upper</th>\n",
              "      <th>multiplicative_terms</th>\n",
              "      <th>multiplicative_terms_lower</th>\n",
              "      <th>multiplicative_terms_upper</th>\n",
              "      <th>yhat</th>\n",
              "    </tr>\n",
              "  </thead>\n",
              "  <tbody>\n",
              "    <tr>\n",
              "      <th>161</th>\n",
              "      <td>2022-12-31</td>\n",
              "      <td>5.619191e+07</td>\n",
              "      <td>3.729270e+07</td>\n",
              "      <td>7.527634e+07</td>\n",
              "      <td>3.717564e+07</td>\n",
              "      <td>7.504579e+07</td>\n",
              "      <td>16823.928022</td>\n",
              "      <td>16823.928022</td>\n",
              "      <td>16823.928022</td>\n",
              "      <td>16823.928022</td>\n",
              "      <td>16823.928022</td>\n",
              "      <td>16823.928022</td>\n",
              "      <td>0.0</td>\n",
              "      <td>0.0</td>\n",
              "      <td>0.0</td>\n",
              "      <td>5.620873e+07</td>\n",
              "    </tr>\n",
              "    <tr>\n",
              "      <th>162</th>\n",
              "      <td>2023-01-31</td>\n",
              "      <td>5.875970e+07</td>\n",
              "      <td>3.826453e+07</td>\n",
              "      <td>7.917564e+07</td>\n",
              "      <td>3.831856e+07</td>\n",
              "      <td>7.899322e+07</td>\n",
              "      <td>-15021.580398</td>\n",
              "      <td>-15021.580398</td>\n",
              "      <td>-15021.580398</td>\n",
              "      <td>-15021.580398</td>\n",
              "      <td>-15021.580398</td>\n",
              "      <td>-15021.580398</td>\n",
              "      <td>0.0</td>\n",
              "      <td>0.0</td>\n",
              "      <td>0.0</td>\n",
              "      <td>5.874468e+07</td>\n",
              "    </tr>\n",
              "    <tr>\n",
              "      <th>163</th>\n",
              "      <td>2023-02-28</td>\n",
              "      <td>6.107900e+07</td>\n",
              "      <td>3.928512e+07</td>\n",
              "      <td>8.279924e+07</td>\n",
              "      <td>3.950226e+07</td>\n",
              "      <td>8.248209e+07</td>\n",
              "      <td>-15021.580398</td>\n",
              "      <td>-15021.580398</td>\n",
              "      <td>-15021.580398</td>\n",
              "      <td>-15021.580398</td>\n",
              "      <td>-15021.580398</td>\n",
              "      <td>-15021.580398</td>\n",
              "      <td>0.0</td>\n",
              "      <td>0.0</td>\n",
              "      <td>0.0</td>\n",
              "      <td>6.106398e+07</td>\n",
              "    </tr>\n",
              "    <tr>\n",
              "      <th>164</th>\n",
              "      <td>2023-03-31</td>\n",
              "      <td>6.364679e+07</td>\n",
              "      <td>4.060813e+07</td>\n",
              "      <td>8.689690e+07</td>\n",
              "      <td>4.037451e+07</td>\n",
              "      <td>8.692921e+07</td>\n",
              "      <td>22257.830367</td>\n",
              "      <td>22257.830367</td>\n",
              "      <td>22257.830367</td>\n",
              "      <td>22257.830367</td>\n",
              "      <td>22257.830367</td>\n",
              "      <td>22257.830367</td>\n",
              "      <td>0.0</td>\n",
              "      <td>0.0</td>\n",
              "      <td>0.0</td>\n",
              "      <td>6.366905e+07</td>\n",
              "    </tr>\n",
              "    <tr>\n",
              "      <th>165</th>\n",
              "      <td>2023-04-30</td>\n",
              "      <td>6.613175e+07</td>\n",
              "      <td>4.108104e+07</td>\n",
              "      <td>9.122434e+07</td>\n",
              "      <td>4.100736e+07</td>\n",
              "      <td>9.110668e+07</td>\n",
              "      <td>8169.212207</td>\n",
              "      <td>8169.212207</td>\n",
              "      <td>8169.212207</td>\n",
              "      <td>8169.212207</td>\n",
              "      <td>8169.212207</td>\n",
              "      <td>8169.212207</td>\n",
              "      <td>0.0</td>\n",
              "      <td>0.0</td>\n",
              "      <td>0.0</td>\n",
              "      <td>6.613992e+07</td>\n",
              "    </tr>\n",
              "  </tbody>\n",
              "</table>\n",
              "</div>"
            ],
            "text/plain": [
              "            ds         trend  ...  multiplicative_terms_upper          yhat\n",
              "161 2022-12-31  5.619191e+07  ...                         0.0  5.620873e+07\n",
              "162 2023-01-31  5.875970e+07  ...                         0.0  5.874468e+07\n",
              "163 2023-02-28  6.107900e+07  ...                         0.0  6.106398e+07\n",
              "164 2023-03-31  6.364679e+07  ...                         0.0  6.366905e+07\n",
              "165 2023-04-30  6.613175e+07  ...                         0.0  6.613992e+07\n",
              "\n",
              "[5 rows x 16 columns]"
            ]
          },
          "metadata": {
            "tags": []
          },
          "execution_count": 61
        }
      ]
    },
    {
      "cell_type": "code",
      "metadata": {
        "colab": {
          "base_uri": "https://localhost:8080/",
          "height": 197
        },
        "id": "wvgR58Gh623x",
        "outputId": "cc525b6c-7f90-4b32-ecc9-cc0e863edcb4"
      },
      "source": [
        "forecast[['ds', 'yhat', 'yhat_lower', 'yhat_upper']].tail()"
      ],
      "execution_count": 62,
      "outputs": [
        {
          "output_type": "execute_result",
          "data": {
            "text/html": [
              "<div>\n",
              "<style scoped>\n",
              "    .dataframe tbody tr th:only-of-type {\n",
              "        vertical-align: middle;\n",
              "    }\n",
              "\n",
              "    .dataframe tbody tr th {\n",
              "        vertical-align: top;\n",
              "    }\n",
              "\n",
              "    .dataframe thead th {\n",
              "        text-align: right;\n",
              "    }\n",
              "</style>\n",
              "<table border=\"1\" class=\"dataframe\">\n",
              "  <thead>\n",
              "    <tr style=\"text-align: right;\">\n",
              "      <th></th>\n",
              "      <th>ds</th>\n",
              "      <th>yhat</th>\n",
              "      <th>yhat_lower</th>\n",
              "      <th>yhat_upper</th>\n",
              "    </tr>\n",
              "  </thead>\n",
              "  <tbody>\n",
              "    <tr>\n",
              "      <th>161</th>\n",
              "      <td>2022-12-31</td>\n",
              "      <td>5.620873e+07</td>\n",
              "      <td>3.729270e+07</td>\n",
              "      <td>7.527634e+07</td>\n",
              "    </tr>\n",
              "    <tr>\n",
              "      <th>162</th>\n",
              "      <td>2023-01-31</td>\n",
              "      <td>5.874468e+07</td>\n",
              "      <td>3.826453e+07</td>\n",
              "      <td>7.917564e+07</td>\n",
              "    </tr>\n",
              "    <tr>\n",
              "      <th>163</th>\n",
              "      <td>2023-02-28</td>\n",
              "      <td>6.106398e+07</td>\n",
              "      <td>3.928512e+07</td>\n",
              "      <td>8.279924e+07</td>\n",
              "    </tr>\n",
              "    <tr>\n",
              "      <th>164</th>\n",
              "      <td>2023-03-31</td>\n",
              "      <td>6.366905e+07</td>\n",
              "      <td>4.060813e+07</td>\n",
              "      <td>8.689690e+07</td>\n",
              "    </tr>\n",
              "    <tr>\n",
              "      <th>165</th>\n",
              "      <td>2023-04-30</td>\n",
              "      <td>6.613992e+07</td>\n",
              "      <td>4.108104e+07</td>\n",
              "      <td>9.122434e+07</td>\n",
              "    </tr>\n",
              "  </tbody>\n",
              "</table>\n",
              "</div>"
            ],
            "text/plain": [
              "            ds          yhat    yhat_lower    yhat_upper\n",
              "161 2022-12-31  5.620873e+07  3.729270e+07  7.527634e+07\n",
              "162 2023-01-31  5.874468e+07  3.826453e+07  7.917564e+07\n",
              "163 2023-02-28  6.106398e+07  3.928512e+07  8.279924e+07\n",
              "164 2023-03-31  6.366905e+07  4.060813e+07  8.689690e+07\n",
              "165 2023-04-30  6.613992e+07  4.108104e+07  9.122434e+07"
            ]
          },
          "metadata": {
            "tags": []
          },
          "execution_count": 62
        }
      ]
    },
    {
      "cell_type": "code",
      "metadata": {
        "colab": {
          "base_uri": "https://localhost:8080/",
          "height": 441
        },
        "id": "lHKJ_cWl66n5",
        "outputId": "a27c77aa-cef4-4e74-e7fe-e8ab70145d20"
      },
      "source": [
        "model.plot(forecast);"
      ],
      "execution_count": 63,
      "outputs": [
        {
          "output_type": "display_data",
          "data": {
            "image/png": "[encoded data removed]",
            "text/plain": [
              "<Figure size 720x432 with 1 Axes>"
            ]
          },
          "metadata": {
            "tags": []
          }
        }
      ]
    },
    {
      "cell_type": "code",
      "metadata": {
        "colab": {
          "base_uri": "https://localhost:8080/",
          "height": 441
        },
        "id": "BRTc50BO6-zh",
        "outputId": "aa40097c-0712-4382-ee79-0665d405c46e"
      },
      "source": [
        "model.plot_components(forecast);"
      ],
      "execution_count": 64,
      "outputs": [
        {
          "output_type": "display_data",
          "data": {
            "image/png": "[encoded data removed]",
            "text/plain": [
              "<Figure size 648x432 with 2 Axes>"
            ]
          },
          "metadata": {
            "tags": []
          }
        }
      ]
    },
    {
      "cell_type": "code",
      "metadata": {
        "id": "ItPLD7dw7CM5"
      },
      "source": [
        "metric_df = forecast.set_index('ds')[['yhat']].join(df.set_index('ds').y).reset_index()"
      ],
      "execution_count": 65,
      "outputs": []
    },
    {
      "cell_type": "code",
      "metadata": {
        "colab": {
          "base_uri": "https://localhost:8080/",
          "height": 197
        },
        "id": "cFvaBNSY7EfQ",
        "outputId": "a3e26bf9-fd0e-46af-b408-da7ef676525e"
      },
      "source": [
        "metric_df.dropna(inplace=True)\n",
        "metric_df.tail()"
      ],
      "execution_count": 67,
      "outputs": [
        {
          "output_type": "execute_result",
          "data": {
            "text/html": [
              "<div>\n",
              "<style scoped>\n",
              "    .dataframe tbody tr th:only-of-type {\n",
              "        vertical-align: middle;\n",
              "    }\n",
              "\n",
              "    .dataframe tbody tr th {\n",
              "        vertical-align: top;\n",
              "    }\n",
              "\n",
              "    .dataframe thead th {\n",
              "        text-align: right;\n",
              "    }\n",
              "</style>\n",
              "<table border=\"1\" class=\"dataframe\">\n",
              "  <thead>\n",
              "    <tr style=\"text-align: right;\">\n",
              "      <th></th>\n",
              "      <th>ds</th>\n",
              "      <th>yhat</th>\n",
              "      <th>y</th>\n",
              "    </tr>\n",
              "  </thead>\n",
              "  <tbody>\n",
              "    <tr>\n",
              "      <th>137</th>\n",
              "      <td>2021-05-02</td>\n",
              "      <td>5.838200e+06</td>\n",
              "      <td>7205286.0</td>\n",
              "    </tr>\n",
              "    <tr>\n",
              "      <th>138</th>\n",
              "      <td>2021-05-03</td>\n",
              "      <td>5.908999e+06</td>\n",
              "      <td>7202286.0</td>\n",
              "    </tr>\n",
              "    <tr>\n",
              "      <th>139</th>\n",
              "      <td>2021-05-04</td>\n",
              "      <td>5.980673e+06</td>\n",
              "      <td>6945571.0</td>\n",
              "    </tr>\n",
              "    <tr>\n",
              "      <th>140</th>\n",
              "      <td>2021-05-05</td>\n",
              "      <td>6.059152e+06</td>\n",
              "      <td>6531714.0</td>\n",
              "    </tr>\n",
              "    <tr>\n",
              "      <th>141</th>\n",
              "      <td>2021-05-06</td>\n",
              "      <td>6.152368e+06</td>\n",
              "      <td>6324429.0</td>\n",
              "    </tr>\n",
              "  </tbody>\n",
              "</table>\n",
              "</div>"
            ],
            "text/plain": [
              "            ds          yhat          y\n",
              "137 2021-05-02  5.838200e+06  7205286.0\n",
              "138 2021-05-03  5.908999e+06  7202286.0\n",
              "139 2021-05-04  5.980673e+06  6945571.0\n",
              "140 2021-05-05  6.059152e+06  6531714.0\n",
              "141 2021-05-06  6.152368e+06  6324429.0"
            ]
          },
          "metadata": {
            "tags": []
          },
          "execution_count": 67
        }
      ]
    },
    {
      "cell_type": "code",
      "metadata": {
        "colab": {
          "base_uri": "https://localhost:8080/"
        },
        "id": "SSHR1API7MP4",
        "outputId": "d9c1114d-740d-47b5-a952-8cb3c4066e5f"
      },
      "source": [
        "r2_score(metric_df.y, metric_df.yhat)"
      ],
      "execution_count": 68,
      "outputs": [
        {
          "output_type": "execute_result",
          "data": {
            "text/plain": [
              "0.8854391177303298"
            ]
          },
          "metadata": {
            "tags": []
          },
          "execution_count": 68
        }
      ]
    },
    {
      "cell_type": "code",
      "metadata": {
        "colab": {
          "base_uri": "https://localhost:8080/"
        },
        "id": "fdyYk8Ur7O9I",
        "outputId": "6f9ce52f-6560-4119-8d0f-45c2620e1266"
      },
      "source": [
        "mean_squared_error(metric_df.y, metric_df.yhat)"
      ],
      "execution_count": 69,
      "outputs": [
        {
          "output_type": "execute_result",
          "data": {
            "text/plain": [
              "437748525540.529"
            ]
          },
          "metadata": {
            "tags": []
          },
          "execution_count": 69
        }
      ]
    },
    {
      "cell_type": "code",
      "metadata": {
        "colab": {
          "base_uri": "https://localhost:8080/"
        },
        "id": "_Q0AVvFj9qj5",
        "outputId": "f8375672-d9f4-4f11-8020-b78b81268692"
      },
      "source": [
        "metric_df.y.mean()"
      ],
      "execution_count": 70,
      "outputs": [
        {
          "output_type": "execute_result",
          "data": {
            "text/plain": [
              "1967914.0"
            ]
          },
          "metadata": {
            "tags": []
          },
          "execution_count": 70
        }
      ]
    },
    {
      "cell_type": "code",
      "metadata": {
        "colab": {
          "base_uri": "https://localhost:8080/"
        },
        "id": "1-kLjEIi-J2h",
        "outputId": "7cf4136d-11fb-4962-81e9-856090a71a94"
      },
      "source": [
        "from sklearn.metrics import mean_absolute_error\n",
        "print(mean_absolute_error(metric_df.y, metric_df.yhat))"
      ],
      "execution_count": 74,
      "outputs": [
        {
          "output_type": "stream",
          "text": [
            "486656.2152592966\n"
          ],
          "name": "stdout"
        }
      ]
    },
    {
      "cell_type": "code",
      "metadata": {
        "colab": {
          "base_uri": "https://localhost:8080/"
        },
        "id": "Ruk1mWnh-RCP",
        "outputId": "5023f363-bcf1-46d0-94be-36cc98d09dfd"
      },
      "source": [
        "from sklearn.metrics import median_absolute_error\n",
        "print(median_absolute_error(metric_df.y, metric_df.yhat))"
      ],
      "execution_count": 78,
      "outputs": [
        {
          "output_type": "stream",
          "text": [
            "411114.53060619807\n"
          ],
          "name": "stdout"
        }
      ]
    },
    {
      "cell_type": "code",
      "metadata": {
        "colab": {
          "base_uri": "https://localhost:8080/"
        },
        "id": "EOhBHFDB-iig",
        "outputId": "eb500246-4cc8-4796-98cc-972ff847fe9c"
      },
      "source": [
        "from math import sqrt\n",
        "rmse = sqrt(mean_squared_error(metric_df.y, metric_df.yhat))\n",
        "print(rmse)"
      ],
      "execution_count": 79,
      "outputs": [
        {
          "output_type": "stream",
          "text": [
            "661625.6687436855\n"
          ],
          "name": "stdout"
        }
      ]
    }
  ]
}