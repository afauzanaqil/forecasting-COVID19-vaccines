{
  "nbformat": 4,
  "nbformat_minor": 0,
  "metadata": {
    "kernelspec": {
      "display_name": "Python 3",
      "language": "python",
      "name": "python3"
    },
    "language_info": {
      "codemirror_mode": {
        "name": "ipython",
        "version": 3
      },
      "file_extension": ".py",
      "mimetype": "text/x-python",
      "name": "python",
      "nbconvert_exporter": "python",
      "pygments_lexer": "ipython3",
      "version": "3.7.9"
    },
    "papermill": {
      "default_parameters": {},
      "duration": 1100.026267,
      "end_time": "2021-03-12T22:08:40.861761",
      "environment_variables": {},
      "exception": null,
      "input_path": "__notebook__.ipynb",
      "output_path": "__notebook__.ipynb",
      "parameters": {},
      "start_time": "2021-03-12T21:50:20.835494",
      "version": "2.2.2"
    },
    "colab": {
      "name": "forecast-COVID-19-Vaccines-ARIMA-FIX.ipynb",
      "provenance": [],
      "collapsed_sections": []
    }
  },
  "cells": [
    {
      "cell_type": "code",
      "metadata": {
        "colab": {
          "base_uri": "https://localhost:8080/"
        },
        "id": "cO0dWQWbJIGP",
        "outputId": "7b83884d-bfc4-4599-cb07-55c112e9ca8b"
      },
      "source": [
        "!pip install pmdarima\n",
        "!pip install shap\n",
        "!pip install --upgrade mxnet~=1.7 gluonts\n",
        "!pip install python-utils\n",
        "!pip install plotly==4.1.0\n",
        "!pip install -U scikit-learn"
      ],
      "execution_count": 1,
      "outputs": [
        {
          "output_type": "stream",
          "text": [
            "Requirement already satisfied: pmdarima in /usr/local/lib/python3.7/dist-packages (1.8.2)\n",
            "Requirement already satisfied: Cython!=0.29.18,>=0.29 in /usr/local/lib/python3.7/dist-packages (from pmdarima) (0.29.23)\n",
            "Requirement already satisfied: statsmodels!=0.12.0,>=0.11 in /usr/local/lib/python3.7/dist-packages (from pmdarima) (0.12.2)\n",
            "Requirement already satisfied: scikit-learn>=0.22 in /usr/local/lib/python3.7/dist-packages (from pmdarima) (0.24.2)\n",
            "Requirement already satisfied: pandas>=0.19 in /usr/local/lib/python3.7/dist-packages (from pmdarima) (1.1.5)\n",
            "Requirement already satisfied: setuptools!=50.0.0,>=38.6.0 in /usr/local/lib/python3.7/dist-packages (from pmdarima) (57.0.0)\n",
            "Requirement already satisfied: joblib>=0.11 in /usr/local/lib/python3.7/dist-packages (from pmdarima) (1.0.1)\n",
            "Requirement already satisfied: urllib3 in /usr/local/lib/python3.7/dist-packages (from pmdarima) (1.24.3)\n",
            "Requirement already satisfied: numpy~=1.19.0 in /usr/local/lib/python3.7/dist-packages (from pmdarima) (1.19.5)\n",
            "Requirement already satisfied: scipy>=1.3.2 in /usr/local/lib/python3.7/dist-packages (from pmdarima) (1.4.1)\n",
            "Requirement already satisfied: patsy>=0.5 in /usr/local/lib/python3.7/dist-packages (from statsmodels!=0.12.0,>=0.11->pmdarima) (0.5.1)\n",
            "Requirement already satisfied: threadpoolctl>=2.0.0 in /usr/local/lib/python3.7/dist-packages (from scikit-learn>=0.22->pmdarima) (2.2.0)\n",
            "Requirement already satisfied: pytz>=2017.2 in /usr/local/lib/python3.7/dist-packages (from pandas>=0.19->pmdarima) (2018.9)\n",
            "Requirement already satisfied: python-dateutil>=2.7.3 in /usr/local/lib/python3.7/dist-packages (from pandas>=0.19->pmdarima) (2.8.1)\n",
            "Requirement already satisfied: six in /usr/local/lib/python3.7/dist-packages (from patsy>=0.5->statsmodels!=0.12.0,>=0.11->pmdarima) (1.15.0)\n",
            "Requirement already satisfied: shap in /usr/local/lib/python3.7/dist-packages (0.39.0)\n",
            "Requirement already satisfied: numpy in /usr/local/lib/python3.7/dist-packages (from shap) (1.19.5)\n",
            "Requirement already satisfied: tqdm>4.25.0 in /usr/local/lib/python3.7/dist-packages (from shap) (4.41.1)\n",
            "Requirement already satisfied: slicer==0.0.7 in /usr/local/lib/python3.7/dist-packages (from shap) (0.0.7)\n",
            "Requirement already satisfied: numba in /usr/local/lib/python3.7/dist-packages (from shap) (0.51.2)\n",
            "Requirement already satisfied: scipy in /usr/local/lib/python3.7/dist-packages (from shap) (1.4.1)\n",
            "Requirement already satisfied: pandas in /usr/local/lib/python3.7/dist-packages (from shap) (1.1.5)\n",
            "Requirement already satisfied: scikit-learn in /usr/local/lib/python3.7/dist-packages (from shap) (0.24.2)\n",
            "Requirement already satisfied: cloudpickle in /usr/local/lib/python3.7/dist-packages (from shap) (1.3.0)\n",
            "Requirement already satisfied: setuptools in /usr/local/lib/python3.7/dist-packages (from numba->shap) (57.0.0)\n",
            "Requirement already satisfied: llvmlite<0.35,>=0.34.0.dev0 in /usr/local/lib/python3.7/dist-packages (from numba->shap) (0.34.0)\n",
            "Requirement already satisfied: pytz>=2017.2 in /usr/local/lib/python3.7/dist-packages (from pandas->shap) (2018.9)\n",
            "Requirement already satisfied: python-dateutil>=2.7.3 in /usr/local/lib/python3.7/dist-packages (from pandas->shap) (2.8.1)\n",
            "Requirement already satisfied: threadpoolctl>=2.0.0 in /usr/local/lib/python3.7/dist-packages (from scikit-learn->shap) (2.2.0)\n",
            "Requirement already satisfied: joblib>=0.11 in /usr/local/lib/python3.7/dist-packages (from scikit-learn->shap) (1.0.1)\n",
            "Requirement already satisfied: six>=1.5 in /usr/local/lib/python3.7/dist-packages (from python-dateutil>=2.7.3->pandas->shap) (1.15.0)\n",
            "Requirement already up-to-date: mxnet~=1.7 in /usr/local/lib/python3.7/dist-packages (1.8.0.post0)\n",
            "Requirement already up-to-date: gluonts in /usr/local/lib/python3.7/dist-packages (0.8.0)\n",
            "Requirement already satisfied, skipping upgrade: graphviz<0.9.0,>=0.8.1 in /usr/local/lib/python3.7/dist-packages (from mxnet~=1.7) (0.8.4)\n",
            "Requirement already satisfied, skipping upgrade: numpy<2.0.0,>1.16.0 in /usr/local/lib/python3.7/dist-packages (from mxnet~=1.7) (1.19.5)\n",
            "Requirement already satisfied, skipping upgrade: requests<3,>=2.20.0 in /usr/local/lib/python3.7/dist-packages (from mxnet~=1.7) (2.23.0)\n",
            "Requirement already satisfied, skipping upgrade: tqdm~=4.23 in /usr/local/lib/python3.7/dist-packages (from gluonts) (4.41.1)\n",
            "Requirement already satisfied, skipping upgrade: pydantic~=1.1 in /usr/local/lib/python3.7/dist-packages (from gluonts) (1.8.2)\n",
            "Requirement already satisfied, skipping upgrade: matplotlib~=3.0 in /usr/local/lib/python3.7/dist-packages (from gluonts) (3.2.2)\n",
            "Requirement already satisfied, skipping upgrade: toolz~=0.10 in /usr/local/lib/python3.7/dist-packages (from gluonts) (0.11.1)\n",
            "Requirement already satisfied, skipping upgrade: pandas~=1.0 in /usr/local/lib/python3.7/dist-packages (from gluonts) (1.1.5)\n",
            "Requirement already satisfied, skipping upgrade: typing-extensions~=3.10.0.0 in /usr/local/lib/python3.7/dist-packages (from gluonts) (3.10.0.0)\n",
            "Requirement already satisfied, skipping upgrade: holidays>=0.9 in /usr/local/lib/python3.7/dist-packages (from gluonts) (0.10.5.2)\n",
            "Requirement already satisfied, skipping upgrade: certifi>=2017.4.17 in /usr/local/lib/python3.7/dist-packages (from requests<3,>=2.20.0->mxnet~=1.7) (2021.5.30)\n",
            "Requirement already satisfied, skipping upgrade: idna<3,>=2.5 in /usr/local/lib/python3.7/dist-packages (from requests<3,>=2.20.0->mxnet~=1.7) (2.10)\n",
            "Requirement already satisfied, skipping upgrade: urllib3!=1.25.0,!=1.25.1,<1.26,>=1.21.1 in /usr/local/lib/python3.7/dist-packages (from requests<3,>=2.20.0->mxnet~=1.7) (1.24.3)\n",
            "Requirement already satisfied, skipping upgrade: chardet<4,>=3.0.2 in /usr/local/lib/python3.7/dist-packages (from requests<3,>=2.20.0->mxnet~=1.7) (3.0.4)\n",
            "Requirement already satisfied, skipping upgrade: python-dateutil>=2.1 in /usr/local/lib/python3.7/dist-packages (from matplotlib~=3.0->gluonts) (2.8.1)\n",
            "Requirement already satisfied, skipping upgrade: pyparsing!=2.0.4,!=2.1.2,!=2.1.6,>=2.0.1 in /usr/local/lib/python3.7/dist-packages (from matplotlib~=3.0->gluonts) (2.4.7)\n",
            "Requirement already satisfied, skipping upgrade: cycler>=0.10 in /usr/local/lib/python3.7/dist-packages (from matplotlib~=3.0->gluonts) (0.10.0)\n",
            "Requirement already satisfied, skipping upgrade: kiwisolver>=1.0.1 in /usr/local/lib/python3.7/dist-packages (from matplotlib~=3.0->gluonts) (1.3.1)\n",
            "Requirement already satisfied, skipping upgrade: pytz>=2017.2 in /usr/local/lib/python3.7/dist-packages (from pandas~=1.0->gluonts) (2018.9)\n",
            "Requirement already satisfied, skipping upgrade: korean-lunar-calendar in /usr/local/lib/python3.7/dist-packages (from holidays>=0.9->gluonts) (0.2.1)\n",
            "Requirement already satisfied, skipping upgrade: hijri-converter in /usr/local/lib/python3.7/dist-packages (from holidays>=0.9->gluonts) (2.1.3)\n",
            "Requirement already satisfied, skipping upgrade: convertdate>=2.3.0 in /usr/local/lib/python3.7/dist-packages (from holidays>=0.9->gluonts) (2.3.2)\n",
            "Requirement already satisfied, skipping upgrade: six in /usr/local/lib/python3.7/dist-packages (from holidays>=0.9->gluonts) (1.15.0)\n",
            "Requirement already satisfied, skipping upgrade: pymeeus<=1,>=0.3.13 in /usr/local/lib/python3.7/dist-packages (from convertdate>=2.3.0->holidays>=0.9->gluonts) (0.5.11)\n",
            "Requirement already satisfied: python-utils in /usr/local/lib/python3.7/dist-packages (2.5.6)\n",
            "Requirement already satisfied: six in /usr/local/lib/python3.7/dist-packages (from python-utils) (1.15.0)\n",
            "Requirement already satisfied: plotly==4.1.0 in /usr/local/lib/python3.7/dist-packages (4.1.0)\n",
            "Requirement already satisfied: retrying>=1.3.3 in /usr/local/lib/python3.7/dist-packages (from plotly==4.1.0) (1.3.3)\n",
            "Requirement already satisfied: six in /usr/local/lib/python3.7/dist-packages (from plotly==4.1.0) (1.15.0)\n",
            "Requirement already up-to-date: scikit-learn in /usr/local/lib/python3.7/dist-packages (0.24.2)\n",
            "Requirement already satisfied, skipping upgrade: numpy>=1.13.3 in /usr/local/lib/python3.7/dist-packages (from scikit-learn) (1.19.5)\n",
            "Requirement already satisfied, skipping upgrade: threadpoolctl>=2.0.0 in /usr/local/lib/python3.7/dist-packages (from scikit-learn) (2.2.0)\n",
            "Requirement already satisfied, skipping upgrade: joblib>=0.11 in /usr/local/lib/python3.7/dist-packages (from scikit-learn) (1.0.1)\n",
            "Requirement already satisfied, skipping upgrade: scipy>=0.19.1 in /usr/local/lib/python3.7/dist-packages (from scikit-learn) (1.4.1)\n"
          ],
          "name": "stdout"
        }
      ]
    },
    {
      "cell_type": "code",
      "metadata": {
        "colab": {
          "base_uri": "https://localhost:8080/"
        },
        "id": "R66IV-4sC1T5",
        "outputId": "b24988e8-0ba3-46d6-fd1f-4d089f56136b"
      },
      "source": [
        "from google.colab import drive\n",
        "drive.mount('/content/drive')"
      ],
      "execution_count": 2,
      "outputs": [
        {
          "output_type": "stream",
          "text": [
            "Drive already mounted at /content/drive; to attempt to forcibly remount, call drive.mount(\"/content/drive\", force_remount=True).\n"
          ],
          "name": "stdout"
        }
      ]
    },
    {
      "cell_type": "code",
      "metadata": {
        "_cell_guid": "b1076dfc-b9ad-4769-8c92-a6c4dae69d19",
        "_kg_hide-input": true,
        "_kg_hide-output": true,
        "_uuid": "8f2839f25d086af736a60e9eeb907d3b93b6e0e5",
        "execution": {
          "iopub.execute_input": "2021-03-12T21:50:27.214010Z",
          "iopub.status.busy": "2021-03-12T21:50:27.213272Z",
          "iopub.status.idle": "2021-03-12T21:50:34.338132Z",
          "shell.execute_reply": "2021-03-12T21:50:34.339129Z"
        },
        "papermill": {
          "duration": 7.189289,
          "end_time": "2021-03-12T21:50:34.339471",
          "exception": false,
          "start_time": "2021-03-12T21:50:27.150182",
          "status": "completed"
        },
        "tags": [],
        "id": "deW4WpiuCg6f"
      },
      "source": [
        "import pandas as pd\n",
        "import numpy as np\n",
        "\n",
        "# Data visualization\n",
        "import plotly.express as px\n",
        "import matplotlib.pyplot as plt\n",
        "import seaborn as sns \n",
        "import folium\n",
        "\n",
        "# Statistics \n",
        "import scipy\n",
        "import statsmodels as sms\n",
        "from statsmodels.graphics.tsaplots import plot_acf, plot_pacf\n",
        "from statsmodels.tsa.stattools import adfuller\n",
        "from statsmodels.tsa.arima.model import ARIMA\n",
        "from sklearn.metrics import mean_squared_error\n",
        "from sklearn.metrics import mean_absolute_percentage_error"
      ],
      "execution_count": 3,
      "outputs": []
    },
    {
      "cell_type": "code",
      "metadata": {
        "_kg_hide-input": true,
        "execution": {
          "iopub.execute_input": "2021-03-12T21:50:35.192673Z",
          "iopub.status.busy": "2021-03-12T21:50:35.187206Z",
          "iopub.status.idle": "2021-03-12T21:50:35.201112Z",
          "shell.execute_reply": "2021-03-12T21:50:35.200399Z"
        },
        "papermill": {
          "duration": 0.075169,
          "end_time": "2021-03-12T21:50:35.201259",
          "exception": false,
          "start_time": "2021-03-12T21:50:35.126090",
          "status": "completed"
        },
        "tags": [],
        "id": "2Cknc00bCg6o",
        "colab": {
          "base_uri": "https://localhost:8080/",
          "height": 542
        },
        "outputId": "f17d18e0-86cd-4a54-9eca-6cba72815551"
      },
      "source": [
        "data = pd.read_csv('/content/drive/MyDrive/dataset/country_vaccinations.csv')\n",
        "data.tail(10)"
      ],
      "execution_count": 4,
      "outputs": [
        {
          "output_type": "execute_result",
          "data": {
            "text/html": [
              "<div>\n",
              "<style scoped>\n",
              "    .dataframe tbody tr th:only-of-type {\n",
              "        vertical-align: middle;\n",
              "    }\n",
              "\n",
              "    .dataframe tbody tr th {\n",
              "        vertical-align: top;\n",
              "    }\n",
              "\n",
              "    .dataframe thead th {\n",
              "        text-align: right;\n",
              "    }\n",
              "</style>\n",
              "<table border=\"1\" class=\"dataframe\">\n",
              "  <thead>\n",
              "    <tr style=\"text-align: right;\">\n",
              "      <th></th>\n",
              "      <th>country</th>\n",
              "      <th>iso_code</th>\n",
              "      <th>date</th>\n",
              "      <th>total_vaccinations</th>\n",
              "      <th>people_vaccinated</th>\n",
              "      <th>people_fully_vaccinated</th>\n",
              "      <th>daily_vaccinations_raw</th>\n",
              "      <th>daily_vaccinations</th>\n",
              "      <th>total_vaccinations_per_hundred</th>\n",
              "      <th>people_vaccinated_per_hundred</th>\n",
              "      <th>people_fully_vaccinated_per_hundred</th>\n",
              "      <th>daily_vaccinations_per_million</th>\n",
              "      <th>vaccines</th>\n",
              "      <th>source_name</th>\n",
              "      <th>source_website</th>\n",
              "    </tr>\n",
              "  </thead>\n",
              "  <tbody>\n",
              "    <tr>\n",
              "      <th>15656</th>\n",
              "      <td>Zimbabwe</td>\n",
              "      <td>ZWE</td>\n",
              "      <td>2021-04-27</td>\n",
              "      <td>433939.0</td>\n",
              "      <td>370676.0</td>\n",
              "      <td>63263.0</td>\n",
              "      <td>22329.0</td>\n",
              "      <td>15562.0</td>\n",
              "      <td>2.92</td>\n",
              "      <td>2.49</td>\n",
              "      <td>0.43</td>\n",
              "      <td>1047.0</td>\n",
              "      <td>Sinopharm/Beijing</td>\n",
              "      <td>Ministry of Health</td>\n",
              "      <td>https://twitter.com/MoHCCZim/status/1390390738...</td>\n",
              "    </tr>\n",
              "    <tr>\n",
              "      <th>15657</th>\n",
              "      <td>Zimbabwe</td>\n",
              "      <td>ZWE</td>\n",
              "      <td>2021-04-28</td>\n",
              "      <td>458013.0</td>\n",
              "      <td>388021.0</td>\n",
              "      <td>69992.0</td>\n",
              "      <td>24074.0</td>\n",
              "      <td>17860.0</td>\n",
              "      <td>3.08</td>\n",
              "      <td>2.61</td>\n",
              "      <td>0.47</td>\n",
              "      <td>1202.0</td>\n",
              "      <td>Sinopharm/Beijing</td>\n",
              "      <td>Ministry of Health</td>\n",
              "      <td>https://twitter.com/MoHCCZim/status/1390390738...</td>\n",
              "    </tr>\n",
              "    <tr>\n",
              "      <th>15658</th>\n",
              "      <td>Zimbabwe</td>\n",
              "      <td>ZWE</td>\n",
              "      <td>2021-04-29</td>\n",
              "      <td>477597.0</td>\n",
              "      <td>400771.0</td>\n",
              "      <td>76826.0</td>\n",
              "      <td>19584.0</td>\n",
              "      <td>17971.0</td>\n",
              "      <td>3.21</td>\n",
              "      <td>2.70</td>\n",
              "      <td>0.52</td>\n",
              "      <td>1209.0</td>\n",
              "      <td>Sinopharm/Beijing</td>\n",
              "      <td>Ministry of Health</td>\n",
              "      <td>https://twitter.com/MoHCCZim/status/1390390738...</td>\n",
              "    </tr>\n",
              "    <tr>\n",
              "      <th>15659</th>\n",
              "      <td>Zimbabwe</td>\n",
              "      <td>ZWE</td>\n",
              "      <td>2021-04-30</td>\n",
              "      <td>500342.0</td>\n",
              "      <td>414735.0</td>\n",
              "      <td>85607.0</td>\n",
              "      <td>22745.0</td>\n",
              "      <td>19194.0</td>\n",
              "      <td>3.37</td>\n",
              "      <td>2.79</td>\n",
              "      <td>0.58</td>\n",
              "      <td>1291.0</td>\n",
              "      <td>Sinopharm/Beijing</td>\n",
              "      <td>Ministry of Health</td>\n",
              "      <td>https://twitter.com/MoHCCZim/status/1390390738...</td>\n",
              "    </tr>\n",
              "    <tr>\n",
              "      <th>15660</th>\n",
              "      <td>Zimbabwe</td>\n",
              "      <td>ZWE</td>\n",
              "      <td>2021-05-01</td>\n",
              "      <td>520299.0</td>\n",
              "      <td>428135.0</td>\n",
              "      <td>92164.0</td>\n",
              "      <td>19957.0</td>\n",
              "      <td>21171.0</td>\n",
              "      <td>3.50</td>\n",
              "      <td>2.88</td>\n",
              "      <td>0.62</td>\n",
              "      <td>1424.0</td>\n",
              "      <td>Sinopharm/Beijing</td>\n",
              "      <td>Ministry of Health</td>\n",
              "      <td>https://twitter.com/MoHCCZim/status/1390390738...</td>\n",
              "    </tr>\n",
              "    <tr>\n",
              "      <th>15661</th>\n",
              "      <td>Zimbabwe</td>\n",
              "      <td>ZWE</td>\n",
              "      <td>2021-05-02</td>\n",
              "      <td>524199.0</td>\n",
              "      <td>430068.0</td>\n",
              "      <td>94131.0</td>\n",
              "      <td>3900.0</td>\n",
              "      <td>19169.0</td>\n",
              "      <td>3.53</td>\n",
              "      <td>2.89</td>\n",
              "      <td>0.63</td>\n",
              "      <td>1290.0</td>\n",
              "      <td>Sinopharm/Beijing</td>\n",
              "      <td>Ministry of Health</td>\n",
              "      <td>https://twitter.com/MoHCCZim/status/1390390738...</td>\n",
              "    </tr>\n",
              "    <tr>\n",
              "      <th>15662</th>\n",
              "      <td>Zimbabwe</td>\n",
              "      <td>ZWE</td>\n",
              "      <td>2021-05-03</td>\n",
              "      <td>537516.0</td>\n",
              "      <td>437751.0</td>\n",
              "      <td>99765.0</td>\n",
              "      <td>13317.0</td>\n",
              "      <td>17987.0</td>\n",
              "      <td>3.62</td>\n",
              "      <td>2.95</td>\n",
              "      <td>0.67</td>\n",
              "      <td>1210.0</td>\n",
              "      <td>Sinopharm/Beijing</td>\n",
              "      <td>Ministry of Health</td>\n",
              "      <td>https://twitter.com/MoHCCZim/status/1390390738...</td>\n",
              "    </tr>\n",
              "    <tr>\n",
              "      <th>15663</th>\n",
              "      <td>Zimbabwe</td>\n",
              "      <td>ZWE</td>\n",
              "      <td>2021-05-04</td>\n",
              "      <td>559777.0</td>\n",
              "      <td>452191.0</td>\n",
              "      <td>107586.0</td>\n",
              "      <td>22261.0</td>\n",
              "      <td>17977.0</td>\n",
              "      <td>3.77</td>\n",
              "      <td>3.04</td>\n",
              "      <td>0.72</td>\n",
              "      <td>1210.0</td>\n",
              "      <td>Sinopharm/Beijing</td>\n",
              "      <td>Ministry of Health</td>\n",
              "      <td>https://twitter.com/MoHCCZim/status/1390390738...</td>\n",
              "    </tr>\n",
              "    <tr>\n",
              "      <th>15664</th>\n",
              "      <td>Zimbabwe</td>\n",
              "      <td>ZWE</td>\n",
              "      <td>2021-05-05</td>\n",
              "      <td>576233.0</td>\n",
              "      <td>461023.0</td>\n",
              "      <td>115210.0</td>\n",
              "      <td>16456.0</td>\n",
              "      <td>16889.0</td>\n",
              "      <td>3.88</td>\n",
              "      <td>3.10</td>\n",
              "      <td>0.78</td>\n",
              "      <td>1136.0</td>\n",
              "      <td>Sinopharm/Beijing</td>\n",
              "      <td>Ministry of Health</td>\n",
              "      <td>https://twitter.com/MoHCCZim/status/1390390738...</td>\n",
              "    </tr>\n",
              "    <tr>\n",
              "      <th>15665</th>\n",
              "      <td>Zimbabwe</td>\n",
              "      <td>ZWE</td>\n",
              "      <td>2021-05-06</td>\n",
              "      <td>607355.0</td>\n",
              "      <td>478174.0</td>\n",
              "      <td>129181.0</td>\n",
              "      <td>31122.0</td>\n",
              "      <td>18537.0</td>\n",
              "      <td>4.09</td>\n",
              "      <td>3.22</td>\n",
              "      <td>0.87</td>\n",
              "      <td>1247.0</td>\n",
              "      <td>Sinopharm/Beijing</td>\n",
              "      <td>Ministry of Health</td>\n",
              "      <td>https://twitter.com/MoHCCZim/status/1390390738...</td>\n",
              "    </tr>\n",
              "  </tbody>\n",
              "</table>\n",
              "</div>"
            ],
            "text/plain": [
              "        country  ...                                     source_website\n",
              "15656  Zimbabwe  ...  https://twitter.com/MoHCCZim/status/1390390738...\n",
              "15657  Zimbabwe  ...  https://twitter.com/MoHCCZim/status/1390390738...\n",
              "15658  Zimbabwe  ...  https://twitter.com/MoHCCZim/status/1390390738...\n",
              "15659  Zimbabwe  ...  https://twitter.com/MoHCCZim/status/1390390738...\n",
              "15660  Zimbabwe  ...  https://twitter.com/MoHCCZim/status/1390390738...\n",
              "15661  Zimbabwe  ...  https://twitter.com/MoHCCZim/status/1390390738...\n",
              "15662  Zimbabwe  ...  https://twitter.com/MoHCCZim/status/1390390738...\n",
              "15663  Zimbabwe  ...  https://twitter.com/MoHCCZim/status/1390390738...\n",
              "15664  Zimbabwe  ...  https://twitter.com/MoHCCZim/status/1390390738...\n",
              "15665  Zimbabwe  ...  https://twitter.com/MoHCCZim/status/1390390738...\n",
              "\n",
              "[10 rows x 15 columns]"
            ]
          },
          "metadata": {
            "tags": []
          },
          "execution_count": 4
        }
      ]
    },
    {
      "cell_type": "code",
      "metadata": {
        "id": "7lIL3gS2SP8G"
      },
      "source": [
        "data[\"date\"] = pd.to_datetime(data[\"date\"], format = '%Y-%m-%d')\n",
        "data = data.replace([np.inf, -np.inf], np.nan)\n",
        "data = data.fillna(0)"
      ],
      "execution_count": 5,
      "outputs": []
    },
    {
      "cell_type": "code",
      "metadata": {
        "colab": {
          "base_uri": "https://localhost:8080/",
          "height": 226
        },
        "id": "FvU3p9UuL-s1",
        "outputId": "874eb6b4-4ca8-4a69-f049-d4f26113ccc9"
      },
      "source": [
        "plt.figure(figsize = (8,3))\n",
        "plt.subplot(121); plot_acf(data[data['country']=='Indonesia']['total_vaccinations'], lags = 40, ax = plt.gca(), color = 'green')\n",
        "plt.subplot(122); plot_pacf(data[data['country']=='Indonesia']['total_vaccinations'], lags = 40,ax = plt.gca(), color = 'green')\n",
        "plt.show()"
      ],
      "execution_count": 6,
      "outputs": [
        {
          "output_type": "display_data",
          "data": {
            "image/png": "[encoded data removed]",
            "text/plain": [
              "<Figure size 576x216 with 2 Axes>"
            ]
          },
          "metadata": {
            "tags": [],
            "needs_background": "light"
          }
        }
      ]
    },
    {
      "cell_type": "code",
      "metadata": {
        "colab": {
          "base_uri": "https://localhost:8080/"
        },
        "id": "22khDc4IMCea",
        "outputId": "47a17939-fbd6-48c8-fd92-8e6b779ec61a"
      },
      "source": [
        "result = adfuller(data[data['country']=='Indonesia']['total_vaccinations'].dropna())\n",
        "print(\"ADF Statistics \",result[0])\n",
        "print(\"p-value\",result[1])\n",
        "print(\"critical values\",result[5])\n",
        "if result[1]<=0.05:\n",
        "    print(\"fail to reject null hypothese h1 , it mean data is stationary\")\n",
        "else:\n",
        "    print(\"Reject the null hypotheise , it mean data is not stationary\")"
      ],
      "execution_count": 7,
      "outputs": [
        {
          "output_type": "stream",
          "text": [
            "ADF Statistics  -0.8441476676906523\n",
            "p-value 0.805808945324489\n",
            "critical values 3390.476517740401\n",
            "Reject the null hypotheise , it mean data is not stationary\n"
          ],
          "name": "stdout"
        }
      ]
    },
    {
      "cell_type": "code",
      "metadata": {
        "colab": {
          "base_uri": "https://localhost:8080/",
          "height": 361
        },
        "id": "M5TACYJYMIp6",
        "outputId": "6ea86ef7-0c09-47ef-cd32-f617b2137671"
      },
      "source": [
        "data['diff1'] = data[data['country']=='Indonesia']['total_vaccinations'].diff()\n",
        "data['diff1'] = data['diff1'].fillna(data['diff1'].mean())\n",
        "ax = sns.lineplot(x = data['date'], y = data['diff1'], color='blue')\n",
        "sns.lineplot(x = data['date'], y = data['diff1'].mean(), color='salmon')\n",
        "plt.xlabel('Date')\n",
        "plt.ylabel('Nonseasonal diff. series of 1nd order')\n",
        "plt.show()\n",
        "result = adfuller(data.diff1)\n",
        "print(\"ADF Statistics \",result[0])\n",
        "print(\"p-value\",result[1])\n",
        "print(\"critical values\",result[5])\n",
        "if result[1]<=0.05:\n",
        "    print(\"fail to reject null hypothese h1 , it mean data is stationary\")\n",
        "else:\n",
        "    print(\"Reject the null hypotheise , it mean data is not stationary\")"
      ],
      "execution_count": 8,
      "outputs": [
        {
          "output_type": "display_data",
          "data": {
            "image/png": "[encoded data removed]",
            "text/plain": [
              "<Figure size 432x288 with 1 Axes>"
            ]
          },
          "metadata": {
            "tags": [],
            "needs_background": "light"
          }
        },
        {
          "output_type": "stream",
          "text": [
            "ADF Statistics  -13.296906230973331\n",
            "p-value 7.175475681507147e-25\n",
            "critical values 443556.1825304491\n",
            "fail to reject null hypothese h1 , it mean data is stationary\n"
          ],
          "name": "stdout"
        }
      ]
    },
    {
      "cell_type": "code",
      "metadata": {
        "colab": {
          "base_uri": "https://localhost:8080/",
          "height": 226
        },
        "id": "U12cXMEIMKc-",
        "outputId": "0217dcf1-a40a-4b7d-c84e-50e713a6635f"
      },
      "source": [
        "plt.figure(figsize = (8,3))\n",
        "plt.subplot(121); plot_acf(data['diff1'], lags = 40, ax = plt.gca(), color = 'green')\n",
        "plt.subplot(122); plot_pacf(data['diff1'], lags = 40,ax = plt.gca(), color = 'green')\n",
        "plt.show()"
      ],
      "execution_count": 9,
      "outputs": [
        {
          "output_type": "display_data",
          "data": {
            "image/png": "[encoded data removed]",
            "text/plain": [
              "<Figure size 576x216 with 2 Axes>"
            ]
          },
          "metadata": {
            "tags": [],
            "needs_background": "light"
          }
        }
      ]
    },
    {
      "cell_type": "code",
      "metadata": {
        "colab": {
          "base_uri": "https://localhost:8080/",
          "height": 305
        },
        "id": "rIdJCUXFEZca",
        "outputId": "d833601c-4e89-4107-d299-3f7c94a0a074"
      },
      "source": [
        "data.tail()"
      ],
      "execution_count": 10,
      "outputs": [
        {
          "output_type": "execute_result",
          "data": {
            "text/html": [
              "<div>\n",
              "<style scoped>\n",
              "    .dataframe tbody tr th:only-of-type {\n",
              "        vertical-align: middle;\n",
              "    }\n",
              "\n",
              "    .dataframe tbody tr th {\n",
              "        vertical-align: top;\n",
              "    }\n",
              "\n",
              "    .dataframe thead th {\n",
              "        text-align: right;\n",
              "    }\n",
              "</style>\n",
              "<table border=\"1\" class=\"dataframe\">\n",
              "  <thead>\n",
              "    <tr style=\"text-align: right;\">\n",
              "      <th></th>\n",
              "      <th>country</th>\n",
              "      <th>iso_code</th>\n",
              "      <th>date</th>\n",
              "      <th>total_vaccinations</th>\n",
              "      <th>people_vaccinated</th>\n",
              "      <th>people_fully_vaccinated</th>\n",
              "      <th>daily_vaccinations_raw</th>\n",
              "      <th>daily_vaccinations</th>\n",
              "      <th>total_vaccinations_per_hundred</th>\n",
              "      <th>people_vaccinated_per_hundred</th>\n",
              "      <th>people_fully_vaccinated_per_hundred</th>\n",
              "      <th>daily_vaccinations_per_million</th>\n",
              "      <th>vaccines</th>\n",
              "      <th>source_name</th>\n",
              "      <th>source_website</th>\n",
              "      <th>diff1</th>\n",
              "    </tr>\n",
              "  </thead>\n",
              "  <tbody>\n",
              "    <tr>\n",
              "      <th>15661</th>\n",
              "      <td>Zimbabwe</td>\n",
              "      <td>ZWE</td>\n",
              "      <td>2021-05-02</td>\n",
              "      <td>524199.0</td>\n",
              "      <td>430068.0</td>\n",
              "      <td>94131.0</td>\n",
              "      <td>3900.0</td>\n",
              "      <td>19169.0</td>\n",
              "      <td>3.53</td>\n",
              "      <td>2.89</td>\n",
              "      <td>0.63</td>\n",
              "      <td>1290.0</td>\n",
              "      <td>Sinopharm/Beijing</td>\n",
              "      <td>Ministry of Health</td>\n",
              "      <td>https://twitter.com/MoHCCZim/status/1390390738...</td>\n",
              "      <td>187436.438596</td>\n",
              "    </tr>\n",
              "    <tr>\n",
              "      <th>15662</th>\n",
              "      <td>Zimbabwe</td>\n",
              "      <td>ZWE</td>\n",
              "      <td>2021-05-03</td>\n",
              "      <td>537516.0</td>\n",
              "      <td>437751.0</td>\n",
              "      <td>99765.0</td>\n",
              "      <td>13317.0</td>\n",
              "      <td>17987.0</td>\n",
              "      <td>3.62</td>\n",
              "      <td>2.95</td>\n",
              "      <td>0.67</td>\n",
              "      <td>1210.0</td>\n",
              "      <td>Sinopharm/Beijing</td>\n",
              "      <td>Ministry of Health</td>\n",
              "      <td>https://twitter.com/MoHCCZim/status/1390390738...</td>\n",
              "      <td>187436.438596</td>\n",
              "    </tr>\n",
              "    <tr>\n",
              "      <th>15663</th>\n",
              "      <td>Zimbabwe</td>\n",
              "      <td>ZWE</td>\n",
              "      <td>2021-05-04</td>\n",
              "      <td>559777.0</td>\n",
              "      <td>452191.0</td>\n",
              "      <td>107586.0</td>\n",
              "      <td>22261.0</td>\n",
              "      <td>17977.0</td>\n",
              "      <td>3.77</td>\n",
              "      <td>3.04</td>\n",
              "      <td>0.72</td>\n",
              "      <td>1210.0</td>\n",
              "      <td>Sinopharm/Beijing</td>\n",
              "      <td>Ministry of Health</td>\n",
              "      <td>https://twitter.com/MoHCCZim/status/1390390738...</td>\n",
              "      <td>187436.438596</td>\n",
              "    </tr>\n",
              "    <tr>\n",
              "      <th>15664</th>\n",
              "      <td>Zimbabwe</td>\n",
              "      <td>ZWE</td>\n",
              "      <td>2021-05-05</td>\n",
              "      <td>576233.0</td>\n",
              "      <td>461023.0</td>\n",
              "      <td>115210.0</td>\n",
              "      <td>16456.0</td>\n",
              "      <td>16889.0</td>\n",
              "      <td>3.88</td>\n",
              "      <td>3.10</td>\n",
              "      <td>0.78</td>\n",
              "      <td>1136.0</td>\n",
              "      <td>Sinopharm/Beijing</td>\n",
              "      <td>Ministry of Health</td>\n",
              "      <td>https://twitter.com/MoHCCZim/status/1390390738...</td>\n",
              "      <td>187436.438596</td>\n",
              "    </tr>\n",
              "    <tr>\n",
              "      <th>15665</th>\n",
              "      <td>Zimbabwe</td>\n",
              "      <td>ZWE</td>\n",
              "      <td>2021-05-06</td>\n",
              "      <td>607355.0</td>\n",
              "      <td>478174.0</td>\n",
              "      <td>129181.0</td>\n",
              "      <td>31122.0</td>\n",
              "      <td>18537.0</td>\n",
              "      <td>4.09</td>\n",
              "      <td>3.22</td>\n",
              "      <td>0.87</td>\n",
              "      <td>1247.0</td>\n",
              "      <td>Sinopharm/Beijing</td>\n",
              "      <td>Ministry of Health</td>\n",
              "      <td>https://twitter.com/MoHCCZim/status/1390390738...</td>\n",
              "      <td>187436.438596</td>\n",
              "    </tr>\n",
              "  </tbody>\n",
              "</table>\n",
              "</div>"
            ],
            "text/plain": [
              "        country  ...          diff1\n",
              "15661  Zimbabwe  ...  187436.438596\n",
              "15662  Zimbabwe  ...  187436.438596\n",
              "15663  Zimbabwe  ...  187436.438596\n",
              "15664  Zimbabwe  ...  187436.438596\n",
              "15665  Zimbabwe  ...  187436.438596\n",
              "\n",
              "[5 rows x 16 columns]"
            ]
          },
          "metadata": {
            "tags": []
          },
          "execution_count": 10
        }
      ]
    },
    {
      "cell_type": "markdown",
      "metadata": {
        "id": "oSUi7BbtUfEO"
      },
      "source": [
        "# ARIMA"
      ]
    },
    {
      "cell_type": "code",
      "metadata": {
        "colab": {
          "base_uri": "https://localhost:8080/",
          "height": 675
        },
        "id": "mZMyWNZG2mmL",
        "outputId": "b5faa873-8afd-438a-a038-870a9dba5db2"
      },
      "source": [
        "train = data['total_vaccinations'][:100]\n",
        "test = data['total_vaccinations'][100:]\n",
        "model = ARIMA(data['total_vaccinations'], order = (0,1,1))\n",
        "model = model.fit()\n",
        "start = len(train)\n",
        "end = len(train)+len(test)-1\n",
        "pred = model.predict(start=start, end=end, typ = 'levels')\n",
        "print(pred.tail(10))\n",
        "plt.figure(figsize=(12,5), dpi=100)\n",
        "ax = sns.lineplot(x=data['date'], y = pred, label='forecast')\n",
        "sns.lineplot(x=data['date'], y = data['total_vaccinations'], label='actual', ax=ax)\n",
        "plt.title('Forecast vs Actuals')\n",
        "plt.legend(loc='upper left', fontsize=8)\n",
        "plt.show()"
      ],
      "execution_count": 11,
      "outputs": [
        {
          "output_type": "stream",
          "text": [
            "15656    406555.739860\n",
            "15657    428516.222326\n",
            "15658    452171.676995\n",
            "15659    472561.957670\n",
            "15660    494840.646525\n",
            "15661    515257.416561\n",
            "15662    522428.275156\n",
            "15663    534528.138912\n",
            "15664    554776.902879\n",
            "15665    571983.993715\n",
            "Name: predicted_mean, dtype: float64\n"
          ],
          "name": "stdout"
        },
        {
          "output_type": "display_data",
          "data": {
            "image/png": "[encoded data removed]",
            "text/plain": [
              "<Figure size 1200x500 with 1 Axes>"
            ]
          },
          "metadata": {
            "tags": [],
            "needs_background": "light"
          }
        }
      ]
    },
    {
      "cell_type": "code",
      "metadata": {
        "colab": {
          "base_uri": "https://localhost:8080/"
        },
        "id": "iqNNs8ms9Gzj",
        "outputId": "cd61d77a-9494-402d-d7cf-47e11e2ba0de"
      },
      "source": [
        "mean_squared_error(test, pred, squared = False)"
      ],
      "execution_count": 12,
      "outputs": [
        {
          "output_type": "execute_result",
          "data": {
            "text/plain": [
              "4533622.574622663"
            ]
          },
          "metadata": {
            "tags": []
          },
          "execution_count": 12
        }
      ]
    },
    {
      "cell_type": "code",
      "metadata": {
        "colab": {
          "base_uri": "https://localhost:8080/"
        },
        "id": "4twx-BWs9Npi",
        "outputId": "15b9e89e-78c8-4d18-eb57-a342ee34bd36"
      },
      "source": [
        "pred.mean()"
      ],
      "execution_count": 13,
      "outputs": [
        {
          "output_type": "execute_result",
          "data": {
            "text/plain": [
              "3182782.711671191"
            ]
          },
          "metadata": {
            "tags": []
          },
          "execution_count": 13
        }
      ]
    },
    {
      "cell_type": "code",
      "metadata": {
        "colab": {
          "base_uri": "https://localhost:8080/"
        },
        "id": "AWBC5wKR9Q2a",
        "outputId": "429104c2-9335-4857-f5e2-78d96ceee29b"
      },
      "source": [
        "mean_absolute_percentage_error(test,pred)"
      ],
      "execution_count": 14,
      "outputs": [
        {
          "output_type": "execute_result",
          "data": {
            "text/plain": [
              "7.173199716185583e+20"
            ]
          },
          "metadata": {
            "tags": []
          },
          "execution_count": 14
        }
      ]
    },
    {
      "cell_type": "code",
      "metadata": {
        "colab": {
          "base_uri": "https://localhost:8080/"
        },
        "id": "tH9uzjQV9WKi",
        "outputId": "559afeb4-9237-45c2-d523-2682c96558e9"
      },
      "source": [
        "from sklearn.metrics import r2_score\n",
        "r2_score(test, pred)"
      ],
      "execution_count": 15,
      "outputs": [
        {
          "output_type": "execute_result",
          "data": {
            "text/plain": [
              "0.9291889675312034"
            ]
          },
          "metadata": {
            "tags": []
          },
          "execution_count": 15
        }
      ]
    },
    {
      "cell_type": "code",
      "metadata": {
        "colab": {
          "base_uri": "https://localhost:8080/"
        },
        "id": "LjNZ8QmK9aMV",
        "outputId": "801dc855-7211-4019-930d-ef22e0a620ed"
      },
      "source": [
        "from sklearn.metrics import mean_absolute_error\n",
        "print(mean_absolute_error(test, pred))"
      ],
      "execution_count": 16,
      "outputs": [
        {
          "output_type": "stream",
          "text": [
            "445328.60153364454\n"
          ],
          "name": "stdout"
        }
      ]
    },
    {
      "cell_type": "code",
      "metadata": {
        "colab": {
          "base_uri": "https://localhost:8080/"
        },
        "id": "IZywVA3l9dDS",
        "outputId": "8c4670f8-d94e-4ba0-8adb-216dd0b79bfa"
      },
      "source": [
        "from sklearn.metrics import median_absolute_error\n",
        "print(median_absolute_error(test, pred))"
      ],
      "execution_count": 17,
      "outputs": [
        {
          "output_type": "stream",
          "text": [
            "12824.36844128089\n"
          ],
          "name": "stdout"
        }
      ]
    },
    {
      "cell_type": "code",
      "metadata": {
        "colab": {
          "base_uri": "https://localhost:8080/"
        },
        "id": "xjA-JiFI9f9p",
        "outputId": "aef6f5f5-9a0b-4ab4-d1bf-1eab52cb310e"
      },
      "source": [
        "from math import sqrt\n",
        "rmse = sqrt(mean_squared_error(test, pred))\n",
        "print(rmse)"
      ],
      "execution_count": 18,
      "outputs": [
        {
          "output_type": "stream",
          "text": [
            "4533622.574622663\n"
          ],
          "name": "stdout"
        }
      ]
    },
    {
      "cell_type": "code",
      "metadata": {
        "colab": {
          "base_uri": "https://localhost:8080/",
          "height": 675
        },
        "id": "J5jVvY6v5ZHU",
        "outputId": "6a12b425-15d3-4c1e-a57b-8a091e3b62c7"
      },
      "source": [
        "index_fut_dat = pd.date_range(start='2021-05-06', end='2021-06-17')\n",
        "model = ARIMA(data['total_vaccinations'], order = (0,1,1))\n",
        "model = model.fit()\n",
        "pred2 = model.predict(start=len(data), end=len(data)+len(index_fut_dat)-1, typ = 'levels')\n",
        "print(pred2.tail(10))\n",
        "pred2.index = index_fut_dat\n",
        "plt.figure(figsize=(12,5), dpi=100)\n",
        "ax = sns.lineplot(x=pred2.index, y = pred2, label='forecast')\n",
        "sns.lineplot(x=data['date'], y = data['total_vaccinations'], label='actual', ax=ax)\n",
        "plt.title('Forecast vs Actuals')\n",
        "plt.legend(loc='upper left', fontsize=8)\n",
        "plt.show()"
      ],
      "execution_count": 36,
      "outputs": [
        {
          "output_type": "stream",
          "text": [
            "15699    600350.388343\n",
            "15700    600350.388343\n",
            "15701    600350.388343\n",
            "15702    600350.388343\n",
            "15703    600350.388343\n",
            "15704    600350.388343\n",
            "15705    600350.388343\n",
            "15706    600350.388343\n",
            "15707    600350.388343\n",
            "15708    600350.388343\n",
            "Name: predicted_mean, dtype: float64\n"
          ],
          "name": "stdout"
        },
        {
          "output_type": "display_data",
          "data": {
            "image/png": "[encoded data removed]",
            "text/plain": [
              "<Figure size 1200x500 with 1 Axes>"
            ]
          },
          "metadata": {
            "tags": [],
            "needs_background": "light"
          }
        }
      ]
    }
  ]
}