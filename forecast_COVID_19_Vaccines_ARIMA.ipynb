{
  "nbformat": 4,
  "nbformat_minor": 0,
  "metadata": {
    "kernelspec": {
      "display_name": "Python 3",
      "language": "python",
      "name": "python3"
    },
    "language_info": {
      "codemirror_mode": {
        "name": "ipython",
        "version": 3
      },
      "file_extension": ".py",
      "mimetype": "text/x-python",
      "name": "python",
      "nbconvert_exporter": "python",
      "pygments_lexer": "ipython3",
      "version": "3.7.9"
    },
    "papermill": {
      "default_parameters": {},
      "duration": 1100.026267,
      "end_time": "2021-03-12T22:08:40.861761",
      "environment_variables": {},
      "exception": null,
      "input_path": "__notebook__.ipynb",
      "output_path": "__notebook__.ipynb",
      "parameters": {},
      "start_time": "2021-03-12T21:50:20.835494",
      "version": "2.2.2"
    },
    "colab": {
      "name": "forecast-COVID-19-Vaccines-ARIMA.ipynb",
      "provenance": [],
      "collapsed_sections": []
    }
  },
  "cells": [
    {
      "cell_type": "code",
      "metadata": {
        "colab": {
          "base_uri": "https://localhost:8080/"
        },
        "id": "cO0dWQWbJIGP",
        "outputId": "1c592e19-32f3-4f80-9421-401265b5d04b"
      },
      "source": [
        "!pip install pmdarima\n",
        "!pip install shap\n",
        "!pip install --upgrade mxnet~=1.7 gluonts\n",
        "!pip install python-utils\n",
        "!pip install plotly==4.1.0\n",
        "!pip install -U scikit-learn"
      ],
      "execution_count": null,
      "outputs": [
        {
          "output_type": "stream",
          "text": [
            "Collecting pmdarima\n",
            "\u001b[?25l  Downloading https://files.pythonhosted.org/packages/f4/c2/2a94bce6bba1deac3c0b16dbb14f28de0b9035e3211919cae8448455aa65/pmdarima-1.8.2-cp37-cp37m-manylinux1_x86_64.whl (1.5MB)\n",
            "\u001b[K     |████████████████████████████████| 1.5MB 3.9MB/s \n",
            "\u001b[?25hRequirement already satisfied: Cython!=0.29.18,>=0.29 in /usr/local/lib/python3.7/dist-packages (from pmdarima) (0.29.23)\n",
            "Requirement already satisfied: setuptools!=50.0.0,>=38.6.0 in /usr/local/lib/python3.7/dist-packages (from pmdarima) (57.0.0)\n",
            "Requirement already satisfied: joblib>=0.11 in /usr/local/lib/python3.7/dist-packages (from pmdarima) (1.0.1)\n",
            "Requirement already satisfied: numpy~=1.19.0 in /usr/local/lib/python3.7/dist-packages (from pmdarima) (1.19.5)\n",
            "Requirement already satisfied: urllib3 in /usr/local/lib/python3.7/dist-packages (from pmdarima) (1.24.3)\n",
            "Requirement already satisfied: pandas>=0.19 in /usr/local/lib/python3.7/dist-packages (from pmdarima) (1.1.5)\n",
            "Requirement already satisfied: scipy>=1.3.2 in /usr/local/lib/python3.7/dist-packages (from pmdarima) (1.4.1)\n",
            "Requirement already satisfied: scikit-learn>=0.22 in /usr/local/lib/python3.7/dist-packages (from pmdarima) (0.22.2.post1)\n",
            "Collecting statsmodels!=0.12.0,>=0.11\n",
            "\u001b[?25l  Downloading https://files.pythonhosted.org/packages/da/69/8eef30a6237c54f3c0b524140e2975f4b1eea3489b45eb3339574fc8acee/statsmodels-0.12.2-cp37-cp37m-manylinux1_x86_64.whl (9.5MB)\n",
            "\u001b[K     |████████████████████████████████| 9.5MB 24.1MB/s \n",
            "\u001b[?25hRequirement already satisfied: python-dateutil>=2.7.3 in /usr/local/lib/python3.7/dist-packages (from pandas>=0.19->pmdarima) (2.8.1)\n",
            "Requirement already satisfied: pytz>=2017.2 in /usr/local/lib/python3.7/dist-packages (from pandas>=0.19->pmdarima) (2018.9)\n",
            "Requirement already satisfied: patsy>=0.5 in /usr/local/lib/python3.7/dist-packages (from statsmodels!=0.12.0,>=0.11->pmdarima) (0.5.1)\n",
            "Requirement already satisfied: six>=1.5 in /usr/local/lib/python3.7/dist-packages (from python-dateutil>=2.7.3->pandas>=0.19->pmdarima) (1.15.0)\n",
            "Installing collected packages: statsmodels, pmdarima\n",
            "  Found existing installation: statsmodels 0.10.2\n",
            "    Uninstalling statsmodels-0.10.2:\n",
            "      Successfully uninstalled statsmodels-0.10.2\n",
            "Successfully installed pmdarima-1.8.2 statsmodels-0.12.2\n",
            "Collecting shap\n",
            "\u001b[?25l  Downloading https://files.pythonhosted.org/packages/b9/f4/c5b95cddae15be80f8e58b25edceca105aa83c0b8c86a1edad24a6af80d3/shap-0.39.0.tar.gz (356kB)\n",
            "\u001b[K     |████████████████████████████████| 358kB 3.9MB/s \n",
            "\u001b[?25hRequirement already satisfied: numpy in /usr/local/lib/python3.7/dist-packages (from shap) (1.19.5)\n",
            "Requirement already satisfied: scipy in /usr/local/lib/python3.7/dist-packages (from shap) (1.4.1)\n",
            "Requirement already satisfied: scikit-learn in /usr/local/lib/python3.7/dist-packages (from shap) (0.22.2.post1)\n",
            "Requirement already satisfied: pandas in /usr/local/lib/python3.7/dist-packages (from shap) (1.1.5)\n",
            "Requirement already satisfied: tqdm>4.25.0 in /usr/local/lib/python3.7/dist-packages (from shap) (4.41.1)\n",
            "Collecting slicer==0.0.7\n",
            "  Downloading https://files.pythonhosted.org/packages/78/c2/b3f55dfdb8af9812fdb9baf70cacf3b9e82e505b2bd4324d588888b81202/slicer-0.0.7-py3-none-any.whl\n",
            "Requirement already satisfied: numba in /usr/local/lib/python3.7/dist-packages (from shap) (0.51.2)\n",
            "Requirement already satisfied: cloudpickle in /usr/local/lib/python3.7/dist-packages (from shap) (1.3.0)\n",
            "Requirement already satisfied: joblib>=0.11 in /usr/local/lib/python3.7/dist-packages (from scikit-learn->shap) (1.0.1)\n",
            "Requirement already satisfied: pytz>=2017.2 in /usr/local/lib/python3.7/dist-packages (from pandas->shap) (2018.9)\n",
            "Requirement already satisfied: python-dateutil>=2.7.3 in /usr/local/lib/python3.7/dist-packages (from pandas->shap) (2.8.1)\n",
            "Requirement already satisfied: llvmlite<0.35,>=0.34.0.dev0 in /usr/local/lib/python3.7/dist-packages (from numba->shap) (0.34.0)\n",
            "Requirement already satisfied: setuptools in /usr/local/lib/python3.7/dist-packages (from numba->shap) (57.0.0)\n",
            "Requirement already satisfied: six>=1.5 in /usr/local/lib/python3.7/dist-packages (from python-dateutil>=2.7.3->pandas->shap) (1.15.0)\n",
            "Building wheels for collected packages: shap\n",
            "  Building wheel for shap (setup.py) ... \u001b[?25l\u001b[?25hdone\n",
            "  Created wheel for shap: filename=shap-0.39.0-cp37-cp37m-linux_x86_64.whl size=491626 sha256=4051f18119fd9fe389b3205e23134b23d45c88f7634523ae08a729e160247de1\n",
            "  Stored in directory: /root/.cache/pip/wheels/15/27/f5/a8ab9da52fd159aae6477b5ede6eaaec69fd130fa0fa59f283\n",
            "Successfully built shap\n",
            "Installing collected packages: slicer, shap\n",
            "Successfully installed shap-0.39.0 slicer-0.0.7\n",
            "Collecting mxnet~=1.7\n",
            "\u001b[?25l  Downloading https://files.pythonhosted.org/packages/30/07/66174e78c12a3048db9039aaa09553e35035ef3a008ba3e0ed8d2aa3c47b/mxnet-1.8.0.post0-py2.py3-none-manylinux2014_x86_64.whl (46.9MB)\n",
            "\u001b[K     |████████████████████████████████| 46.9MB 82kB/s \n",
            "\u001b[?25hCollecting gluonts\n",
            "\u001b[?25l  Downloading https://files.pythonhosted.org/packages/1f/f8/1f8bfadd26263b05d3b262c1acef9afc3ea8b56f0a093078f0b198001425/gluonts-0.7.5-py3-none-any.whl (897kB)\n",
            "\u001b[K     |████████████████████████████████| 901kB 35.1MB/s \n",
            "\u001b[?25hRequirement already satisfied, skipping upgrade: requests<3,>=2.20.0 in /usr/local/lib/python3.7/dist-packages (from mxnet~=1.7) (2.23.0)\n",
            "Requirement already satisfied, skipping upgrade: numpy<2.0.0,>1.16.0 in /usr/local/lib/python3.7/dist-packages (from mxnet~=1.7) (1.19.5)\n",
            "Collecting graphviz<0.9.0,>=0.8.1\n",
            "  Downloading https://files.pythonhosted.org/packages/53/39/4ab213673844e0c004bed8a0781a0721a3f6bb23eb8854ee75c236428892/graphviz-0.8.4-py2.py3-none-any.whl\n",
            "Requirement already satisfied, skipping upgrade: tqdm~=4.23 in /usr/local/lib/python3.7/dist-packages (from gluonts) (4.41.1)\n",
            "Requirement already satisfied, skipping upgrade: matplotlib~=3.0 in /usr/local/lib/python3.7/dist-packages (from gluonts) (3.2.2)\n",
            "Requirement already satisfied, skipping upgrade: pandas~=1.0 in /usr/local/lib/python3.7/dist-packages (from gluonts) (1.1.5)\n",
            "Collecting pydantic~=1.1\n",
            "\u001b[?25l  Downloading https://files.pythonhosted.org/packages/9f/f2/2d5425efe57f6c4e06cbe5e587c1fd16929dcf0eb90bd4d3d1e1c97d1151/pydantic-1.8.2-cp37-cp37m-manylinux2014_x86_64.whl (10.1MB)\n",
            "\u001b[K     |████████████████████████████████| 10.1MB 23.8MB/s \n",
            "\u001b[?25hRequirement already satisfied, skipping upgrade: holidays>=0.9 in /usr/local/lib/python3.7/dist-packages (from gluonts) (0.10.5.2)\n",
            "Requirement already satisfied, skipping upgrade: toolz~=0.10 in /usr/local/lib/python3.7/dist-packages (from gluonts) (0.11.1)\n",
            "Requirement already satisfied, skipping upgrade: urllib3!=1.25.0,!=1.25.1,<1.26,>=1.21.1 in /usr/local/lib/python3.7/dist-packages (from requests<3,>=2.20.0->mxnet~=1.7) (1.24.3)\n",
            "Requirement already satisfied, skipping upgrade: idna<3,>=2.5 in /usr/local/lib/python3.7/dist-packages (from requests<3,>=2.20.0->mxnet~=1.7) (2.10)\n",
            "Requirement already satisfied, skipping upgrade: chardet<4,>=3.0.2 in /usr/local/lib/python3.7/dist-packages (from requests<3,>=2.20.0->mxnet~=1.7) (3.0.4)\n",
            "Requirement already satisfied, skipping upgrade: certifi>=2017.4.17 in /usr/local/lib/python3.7/dist-packages (from requests<3,>=2.20.0->mxnet~=1.7) (2020.12.5)\n",
            "Requirement already satisfied, skipping upgrade: python-dateutil>=2.1 in /usr/local/lib/python3.7/dist-packages (from matplotlib~=3.0->gluonts) (2.8.1)\n",
            "Requirement already satisfied, skipping upgrade: kiwisolver>=1.0.1 in /usr/local/lib/python3.7/dist-packages (from matplotlib~=3.0->gluonts) (1.3.1)\n",
            "Requirement already satisfied, skipping upgrade: pyparsing!=2.0.4,!=2.1.2,!=2.1.6,>=2.0.1 in /usr/local/lib/python3.7/dist-packages (from matplotlib~=3.0->gluonts) (2.4.7)\n",
            "Requirement already satisfied, skipping upgrade: cycler>=0.10 in /usr/local/lib/python3.7/dist-packages (from matplotlib~=3.0->gluonts) (0.10.0)\n",
            "Requirement already satisfied, skipping upgrade: pytz>=2017.2 in /usr/local/lib/python3.7/dist-packages (from pandas~=1.0->gluonts) (2018.9)\n",
            "Requirement already satisfied, skipping upgrade: typing-extensions>=3.7.4.3 in /usr/local/lib/python3.7/dist-packages (from pydantic~=1.1->gluonts) (3.7.4.3)\n",
            "Requirement already satisfied, skipping upgrade: six in /usr/local/lib/python3.7/dist-packages (from holidays>=0.9->gluonts) (1.15.0)\n",
            "Requirement already satisfied, skipping upgrade: convertdate>=2.3.0 in /usr/local/lib/python3.7/dist-packages (from holidays>=0.9->gluonts) (2.3.2)\n",
            "Requirement already satisfied, skipping upgrade: korean-lunar-calendar in /usr/local/lib/python3.7/dist-packages (from holidays>=0.9->gluonts) (0.2.1)\n",
            "Requirement already satisfied, skipping upgrade: hijri-converter in /usr/local/lib/python3.7/dist-packages (from holidays>=0.9->gluonts) (2.1.1)\n",
            "Requirement already satisfied, skipping upgrade: pymeeus<=1,>=0.3.13 in /usr/local/lib/python3.7/dist-packages (from convertdate>=2.3.0->holidays>=0.9->gluonts) (0.5.11)\n",
            "Installing collected packages: graphviz, mxnet, pydantic, gluonts\n",
            "  Found existing installation: graphviz 0.10.1\n",
            "    Uninstalling graphviz-0.10.1:\n",
            "      Successfully uninstalled graphviz-0.10.1\n",
            "Successfully installed gluonts-0.7.5 graphviz-0.8.4 mxnet-1.8.0.post0 pydantic-1.8.2\n",
            "Requirement already satisfied: python-utils in /usr/local/lib/python3.7/dist-packages (2.5.6)\n",
            "Requirement already satisfied: six in /usr/local/lib/python3.7/dist-packages (from python-utils) (1.15.0)\n",
            "Collecting plotly==4.1.0\n",
            "\u001b[?25l  Downloading https://files.pythonhosted.org/packages/63/2b/4ca10995bfbdefd65c4238f9a2d3fde33705d18dd50914dd13302ec1daf1/plotly-4.1.0-py2.py3-none-any.whl (7.1MB)\n",
            "\u001b[K     |████████████████████████████████| 7.1MB 2.9MB/s \n",
            "\u001b[?25hRequirement already satisfied: retrying>=1.3.3 in /usr/local/lib/python3.7/dist-packages (from plotly==4.1.0) (1.3.3)\n",
            "Requirement already satisfied: six in /usr/local/lib/python3.7/dist-packages (from plotly==4.1.0) (1.15.0)\n",
            "\u001b[31mERROR: cufflinks 0.17.3 has requirement plotly>=4.1.1, but you'll have plotly 4.1.0 which is incompatible.\u001b[0m\n",
            "Installing collected packages: plotly\n",
            "  Found existing installation: plotly 4.4.1\n",
            "    Uninstalling plotly-4.4.1:\n",
            "      Successfully uninstalled plotly-4.4.1\n",
            "Successfully installed plotly-4.1.0\n",
            "Collecting scikit-learn\n",
            "\u001b[?25l  Downloading https://files.pythonhosted.org/packages/a8/eb/a48f25c967526b66d5f1fa7a984594f0bf0a5afafa94a8c4dbc317744620/scikit_learn-0.24.2-cp37-cp37m-manylinux2010_x86_64.whl (22.3MB)\n",
            "\u001b[K     |████████████████████████████████| 22.3MB 1.4MB/s \n",
            "\u001b[?25hRequirement already satisfied, skipping upgrade: scipy>=0.19.1 in /usr/local/lib/python3.7/dist-packages (from scikit-learn) (1.4.1)\n",
            "Collecting threadpoolctl>=2.0.0\n",
            "  Downloading https://files.pythonhosted.org/packages/f7/12/ec3f2e203afa394a149911729357aa48affc59c20e2c1c8297a60f33f133/threadpoolctl-2.1.0-py3-none-any.whl\n",
            "Requirement already satisfied, skipping upgrade: numpy>=1.13.3 in /usr/local/lib/python3.7/dist-packages (from scikit-learn) (1.19.5)\n",
            "Requirement already satisfied, skipping upgrade: joblib>=0.11 in /usr/local/lib/python3.7/dist-packages (from scikit-learn) (1.0.1)\n",
            "Installing collected packages: threadpoolctl, scikit-learn\n",
            "  Found existing installation: scikit-learn 0.22.2.post1\n",
            "    Uninstalling scikit-learn-0.22.2.post1:\n",
            "      Successfully uninstalled scikit-learn-0.22.2.post1\n",
            "Successfully installed scikit-learn-0.24.2 threadpoolctl-2.1.0\n"
          ],
          "name": "stdout"
        }
      ]
    },
    {
      "cell_type": "code",
      "metadata": {
        "colab": {
          "base_uri": "https://localhost:8080/"
        },
        "id": "R66IV-4sC1T5",
        "outputId": "5674996b-2aef-4a12-ef39-205a600aca8b"
      },
      "source": [
        "from google.colab import drive\n",
        "drive.mount('/content/drive')"
      ],
      "execution_count": null,
      "outputs": [
        {
          "output_type": "stream",
          "text": [
            "Mounted at /content/drive\n"
          ],
          "name": "stdout"
        }
      ]
    },
    {
      "cell_type": "code",
      "metadata": {
        "_cell_guid": "b1076dfc-b9ad-4769-8c92-a6c4dae69d19",
        "_kg_hide-input": true,
        "_kg_hide-output": true,
        "_uuid": "8f2839f25d086af736a60e9eeb907d3b93b6e0e5",
        "execution": {
          "iopub.execute_input": "2021-03-12T21:50:27.214010Z",
          "iopub.status.busy": "2021-03-12T21:50:27.213272Z",
          "iopub.status.idle": "2021-03-12T21:50:34.338132Z",
          "shell.execute_reply": "2021-03-12T21:50:34.339129Z"
        },
        "papermill": {
          "duration": 7.189289,
          "end_time": "2021-03-12T21:50:34.339471",
          "exception": false,
          "start_time": "2021-03-12T21:50:27.150182",
          "status": "completed"
        },
        "tags": [],
        "id": "deW4WpiuCg6f"
      },
      "source": [
        "import pandas as pd \n",
        "import numpy as np\n",
        "import plotly.express as px\n",
        "import plotly.graph_objects as go\n",
        "import seaborn as sns \n",
        "import folium\n",
        "import matplotlib.pyplot as plt\n",
        "import math\n",
        "import scipy\n",
        "import statsmodels as sms\n",
        "from plotly.subplots import make_subplots\n",
        "from sklearn.preprocessing import MinMaxScaler \n",
        "from keras.models import Sequential\n",
        "from keras.layers import Dense\n",
        "from keras.layers import LSTM\n",
        "from statsmodels.graphics.tsaplots import plot_acf, plot_pacf\n",
        "from statsmodels.tsa.stattools import adfuller\n",
        "from statsmodels.tsa.arima.model import ARIMA\n",
        "from sklearn.metrics import mean_squared_error, r2_score, median_absolute_error\n",
        "from sklearn.metrics import mean_absolute_percentage_error\n",
        "\n",
        "import warnings\n",
        "from sklearn.model_selection import train_test_split\n",
        "import datetime\n",
        "warnings.filterwarnings(\"ignore\")\n",
        "np.random.seed(32)"
      ],
      "execution_count": null,
      "outputs": []
    },
    {
      "cell_type": "code",
      "metadata": {
        "_kg_hide-input": true,
        "execution": {
          "iopub.execute_input": "2021-03-12T21:50:35.192673Z",
          "iopub.status.busy": "2021-03-12T21:50:35.187206Z",
          "iopub.status.idle": "2021-03-12T21:50:35.201112Z",
          "shell.execute_reply": "2021-03-12T21:50:35.200399Z"
        },
        "papermill": {
          "duration": 0.075169,
          "end_time": "2021-03-12T21:50:35.201259",
          "exception": false,
          "start_time": "2021-03-12T21:50:35.126090",
          "status": "completed"
        },
        "tags": [],
        "id": "2Cknc00bCg6o",
        "colab": {
          "base_uri": "https://localhost:8080/",
          "height": 542
        },
        "outputId": "5ba7f0f1-c58f-4f63-af5a-fc274a1f6e32"
      },
      "source": [
        "data = pd.read_csv('/content/drive/MyDrive/dataset/country_vaccinations.csv')\n",
        "data.tail(10)"
      ],
      "execution_count": null,
      "outputs": [
        {
          "output_type": "execute_result",
          "data": {
            "text/html": [
              "<div>\n",
              "<style scoped>\n",
              "    .dataframe tbody tr th:only-of-type {\n",
              "        vertical-align: middle;\n",
              "    }\n",
              "\n",
              "    .dataframe tbody tr th {\n",
              "        vertical-align: top;\n",
              "    }\n",
              "\n",
              "    .dataframe thead th {\n",
              "        text-align: right;\n",
              "    }\n",
              "</style>\n",
              "<table border=\"1\" class=\"dataframe\">\n",
              "  <thead>\n",
              "    <tr style=\"text-align: right;\">\n",
              "      <th></th>\n",
              "      <th>country</th>\n",
              "      <th>iso_code</th>\n",
              "      <th>date</th>\n",
              "      <th>total_vaccinations</th>\n",
              "      <th>people_vaccinated</th>\n",
              "      <th>people_fully_vaccinated</th>\n",
              "      <th>daily_vaccinations_raw</th>\n",
              "      <th>daily_vaccinations</th>\n",
              "      <th>total_vaccinations_per_hundred</th>\n",
              "      <th>people_vaccinated_per_hundred</th>\n",
              "      <th>people_fully_vaccinated_per_hundred</th>\n",
              "      <th>daily_vaccinations_per_million</th>\n",
              "      <th>vaccines</th>\n",
              "      <th>source_name</th>\n",
              "      <th>source_website</th>\n",
              "    </tr>\n",
              "  </thead>\n",
              "  <tbody>\n",
              "    <tr>\n",
              "      <th>15656</th>\n",
              "      <td>Zimbabwe</td>\n",
              "      <td>ZWE</td>\n",
              "      <td>2021-04-27</td>\n",
              "      <td>433939.0</td>\n",
              "      <td>370676.0</td>\n",
              "      <td>63263.0</td>\n",
              "      <td>22329.0</td>\n",
              "      <td>15562.0</td>\n",
              "      <td>2.92</td>\n",
              "      <td>2.49</td>\n",
              "      <td>0.43</td>\n",
              "      <td>1047.0</td>\n",
              "      <td>Sinopharm/Beijing</td>\n",
              "      <td>Ministry of Health</td>\n",
              "      <td>https://twitter.com/MoHCCZim/status/1390390738...</td>\n",
              "    </tr>\n",
              "    <tr>\n",
              "      <th>15657</th>\n",
              "      <td>Zimbabwe</td>\n",
              "      <td>ZWE</td>\n",
              "      <td>2021-04-28</td>\n",
              "      <td>458013.0</td>\n",
              "      <td>388021.0</td>\n",
              "      <td>69992.0</td>\n",
              "      <td>24074.0</td>\n",
              "      <td>17860.0</td>\n",
              "      <td>3.08</td>\n",
              "      <td>2.61</td>\n",
              "      <td>0.47</td>\n",
              "      <td>1202.0</td>\n",
              "      <td>Sinopharm/Beijing</td>\n",
              "      <td>Ministry of Health</td>\n",
              "      <td>https://twitter.com/MoHCCZim/status/1390390738...</td>\n",
              "    </tr>\n",
              "    <tr>\n",
              "      <th>15658</th>\n",
              "      <td>Zimbabwe</td>\n",
              "      <td>ZWE</td>\n",
              "      <td>2021-04-29</td>\n",
              "      <td>477597.0</td>\n",
              "      <td>400771.0</td>\n",
              "      <td>76826.0</td>\n",
              "      <td>19584.0</td>\n",
              "      <td>17971.0</td>\n",
              "      <td>3.21</td>\n",
              "      <td>2.70</td>\n",
              "      <td>0.52</td>\n",
              "      <td>1209.0</td>\n",
              "      <td>Sinopharm/Beijing</td>\n",
              "      <td>Ministry of Health</td>\n",
              "      <td>https://twitter.com/MoHCCZim/status/1390390738...</td>\n",
              "    </tr>\n",
              "    <tr>\n",
              "      <th>15659</th>\n",
              "      <td>Zimbabwe</td>\n",
              "      <td>ZWE</td>\n",
              "      <td>2021-04-30</td>\n",
              "      <td>500342.0</td>\n",
              "      <td>414735.0</td>\n",
              "      <td>85607.0</td>\n",
              "      <td>22745.0</td>\n",
              "      <td>19194.0</td>\n",
              "      <td>3.37</td>\n",
              "      <td>2.79</td>\n",
              "      <td>0.58</td>\n",
              "      <td>1291.0</td>\n",
              "      <td>Sinopharm/Beijing</td>\n",
              "      <td>Ministry of Health</td>\n",
              "      <td>https://twitter.com/MoHCCZim/status/1390390738...</td>\n",
              "    </tr>\n",
              "    <tr>\n",
              "      <th>15660</th>\n",
              "      <td>Zimbabwe</td>\n",
              "      <td>ZWE</td>\n",
              "      <td>2021-05-01</td>\n",
              "      <td>520299.0</td>\n",
              "      <td>428135.0</td>\n",
              "      <td>92164.0</td>\n",
              "      <td>19957.0</td>\n",
              "      <td>21171.0</td>\n",
              "      <td>3.50</td>\n",
              "      <td>2.88</td>\n",
              "      <td>0.62</td>\n",
              "      <td>1424.0</td>\n",
              "      <td>Sinopharm/Beijing</td>\n",
              "      <td>Ministry of Health</td>\n",
              "      <td>https://twitter.com/MoHCCZim/status/1390390738...</td>\n",
              "    </tr>\n",
              "    <tr>\n",
              "      <th>15661</th>\n",
              "      <td>Zimbabwe</td>\n",
              "      <td>ZWE</td>\n",
              "      <td>2021-05-02</td>\n",
              "      <td>524199.0</td>\n",
              "      <td>430068.0</td>\n",
              "      <td>94131.0</td>\n",
              "      <td>3900.0</td>\n",
              "      <td>19169.0</td>\n",
              "      <td>3.53</td>\n",
              "      <td>2.89</td>\n",
              "      <td>0.63</td>\n",
              "      <td>1290.0</td>\n",
              "      <td>Sinopharm/Beijing</td>\n",
              "      <td>Ministry of Health</td>\n",
              "      <td>https://twitter.com/MoHCCZim/status/1390390738...</td>\n",
              "    </tr>\n",
              "    <tr>\n",
              "      <th>15662</th>\n",
              "      <td>Zimbabwe</td>\n",
              "      <td>ZWE</td>\n",
              "      <td>2021-05-03</td>\n",
              "      <td>537516.0</td>\n",
              "      <td>437751.0</td>\n",
              "      <td>99765.0</td>\n",
              "      <td>13317.0</td>\n",
              "      <td>17987.0</td>\n",
              "      <td>3.62</td>\n",
              "      <td>2.95</td>\n",
              "      <td>0.67</td>\n",
              "      <td>1210.0</td>\n",
              "      <td>Sinopharm/Beijing</td>\n",
              "      <td>Ministry of Health</td>\n",
              "      <td>https://twitter.com/MoHCCZim/status/1390390738...</td>\n",
              "    </tr>\n",
              "    <tr>\n",
              "      <th>15663</th>\n",
              "      <td>Zimbabwe</td>\n",
              "      <td>ZWE</td>\n",
              "      <td>2021-05-04</td>\n",
              "      <td>559777.0</td>\n",
              "      <td>452191.0</td>\n",
              "      <td>107586.0</td>\n",
              "      <td>22261.0</td>\n",
              "      <td>17977.0</td>\n",
              "      <td>3.77</td>\n",
              "      <td>3.04</td>\n",
              "      <td>0.72</td>\n",
              "      <td>1210.0</td>\n",
              "      <td>Sinopharm/Beijing</td>\n",
              "      <td>Ministry of Health</td>\n",
              "      <td>https://twitter.com/MoHCCZim/status/1390390738...</td>\n",
              "    </tr>\n",
              "    <tr>\n",
              "      <th>15664</th>\n",
              "      <td>Zimbabwe</td>\n",
              "      <td>ZWE</td>\n",
              "      <td>2021-05-05</td>\n",
              "      <td>576233.0</td>\n",
              "      <td>461023.0</td>\n",
              "      <td>115210.0</td>\n",
              "      <td>16456.0</td>\n",
              "      <td>16889.0</td>\n",
              "      <td>3.88</td>\n",
              "      <td>3.10</td>\n",
              "      <td>0.78</td>\n",
              "      <td>1136.0</td>\n",
              "      <td>Sinopharm/Beijing</td>\n",
              "      <td>Ministry of Health</td>\n",
              "      <td>https://twitter.com/MoHCCZim/status/1390390738...</td>\n",
              "    </tr>\n",
              "    <tr>\n",
              "      <th>15665</th>\n",
              "      <td>Zimbabwe</td>\n",
              "      <td>ZWE</td>\n",
              "      <td>2021-05-06</td>\n",
              "      <td>607355.0</td>\n",
              "      <td>478174.0</td>\n",
              "      <td>129181.0</td>\n",
              "      <td>31122.0</td>\n",
              "      <td>18537.0</td>\n",
              "      <td>4.09</td>\n",
              "      <td>3.22</td>\n",
              "      <td>0.87</td>\n",
              "      <td>1247.0</td>\n",
              "      <td>Sinopharm/Beijing</td>\n",
              "      <td>Ministry of Health</td>\n",
              "      <td>https://twitter.com/MoHCCZim/status/1390390738...</td>\n",
              "    </tr>\n",
              "  </tbody>\n",
              "</table>\n",
              "</div>"
            ],
            "text/plain": [
              "        country  ...                                     source_website\n",
              "15656  Zimbabwe  ...  https://twitter.com/MoHCCZim/status/1390390738...\n",
              "15657  Zimbabwe  ...  https://twitter.com/MoHCCZim/status/1390390738...\n",
              "15658  Zimbabwe  ...  https://twitter.com/MoHCCZim/status/1390390738...\n",
              "15659  Zimbabwe  ...  https://twitter.com/MoHCCZim/status/1390390738...\n",
              "15660  Zimbabwe  ...  https://twitter.com/MoHCCZim/status/1390390738...\n",
              "15661  Zimbabwe  ...  https://twitter.com/MoHCCZim/status/1390390738...\n",
              "15662  Zimbabwe  ...  https://twitter.com/MoHCCZim/status/1390390738...\n",
              "15663  Zimbabwe  ...  https://twitter.com/MoHCCZim/status/1390390738...\n",
              "15664  Zimbabwe  ...  https://twitter.com/MoHCCZim/status/1390390738...\n",
              "15665  Zimbabwe  ...  https://twitter.com/MoHCCZim/status/1390390738...\n",
              "\n",
              "[10 rows x 15 columns]"
            ]
          },
          "metadata": {
            "tags": []
          },
          "execution_count": 4
        }
      ]
    },
    {
      "cell_type": "code",
      "metadata": {
        "colab": {
          "base_uri": "https://localhost:8080/"
        },
        "id": "kxjEvaX3TevI",
        "outputId": "62e246e3-69af-4176-c5e2-b45ea4e8d2ed"
      },
      "source": [
        "data.info()"
      ],
      "execution_count": null,
      "outputs": [
        {
          "output_type": "stream",
          "text": [
            "<class 'pandas.core.frame.DataFrame'>\n",
            "RangeIndex: 15666 entries, 0 to 15665\n",
            "Data columns (total 15 columns):\n",
            " #   Column                               Non-Null Count  Dtype  \n",
            "---  ------                               --------------  -----  \n",
            " 0   country                              15666 non-null  object \n",
            " 1   iso_code                             15666 non-null  object \n",
            " 2   date                                 15666 non-null  object \n",
            " 3   total_vaccinations                   9437 non-null   float64\n",
            " 4   people_vaccinated                    8754 non-null   float64\n",
            " 5   people_fully_vaccinated              6502 non-null   float64\n",
            " 6   daily_vaccinations_raw               7928 non-null   float64\n",
            " 7   daily_vaccinations                   15465 non-null  float64\n",
            " 8   total_vaccinations_per_hundred       9437 non-null   float64\n",
            " 9   people_vaccinated_per_hundred        8754 non-null   float64\n",
            " 10  people_fully_vaccinated_per_hundred  6502 non-null   float64\n",
            " 11  daily_vaccinations_per_million       15465 non-null  float64\n",
            " 12  vaccines                             15666 non-null  object \n",
            " 13  source_name                          15666 non-null  object \n",
            " 14  source_website                       15666 non-null  object \n",
            "dtypes: float64(9), object(6)\n",
            "memory usage: 1.8+ MB\n"
          ],
          "name": "stdout"
        }
      ]
    },
    {
      "cell_type": "code",
      "metadata": {
        "id": "DRcffBmcDvBT"
      },
      "source": [
        "data[\"date\"] = pd.to_datetime(data[\"date\"], format = '%Y-%m-%d')\n",
        "data = data.replace([np.inf, -np.inf], np.nan)\n",
        "data = data.fillna(0)"
      ],
      "execution_count": null,
      "outputs": []
    },
    {
      "cell_type": "code",
      "metadata": {
        "colab": {
          "base_uri": "https://localhost:8080/"
        },
        "id": "VWkT0DOxG55z",
        "outputId": "3b55bac6-9f61-4221-d118-24618c8fd555"
      },
      "source": [
        "data.country.unique()"
      ],
      "execution_count": null,
      "outputs": [
        {
          "output_type": "execute_result",
          "data": {
            "text/plain": [
              "array(['Afghanistan', 'Albania', 'Algeria', 'Andorra', 'Angola',\n",
              "       'Anguilla', 'Antigua and Barbuda', 'Argentina', 'Armenia', 'Aruba',\n",
              "       'Australia', 'Austria', 'Azerbaijan', 'Bahamas', 'Bahrain',\n",
              "       'Bangladesh', 'Barbados', 'Belarus', 'Belgium', 'Belize',\n",
              "       'Bermuda', 'Bhutan', 'Bolivia', 'Bosnia and Herzegovina',\n",
              "       'Botswana', 'Brazil', 'Brunei', 'Bulgaria', 'Cambodia', 'Cameroon',\n",
              "       'Canada', 'Cape Verde', 'Cayman Islands', 'Chile', 'China',\n",
              "       'Colombia', 'Comoros', 'Congo', 'Costa Rica', \"Cote d'Ivoire\",\n",
              "       'Croatia', 'Curacao', 'Cyprus', 'Czechia',\n",
              "       'Democratic Republic of Congo', 'Denmark', 'Djibouti', 'Dominica',\n",
              "       'Dominican Republic', 'Ecuador', 'Egypt', 'El Salvador', 'England',\n",
              "       'Equatorial Guinea', 'Estonia', 'Eswatini', 'Ethiopia',\n",
              "       'Faeroe Islands', 'Falkland Islands', 'Fiji', 'Finland', 'France',\n",
              "       'Gabon', 'Gambia', 'Georgia', 'Germany', 'Ghana', 'Gibraltar',\n",
              "       'Greece', 'Greenland', 'Grenada', 'Guatemala', 'Guernsey',\n",
              "       'Guinea', 'Guyana', 'Honduras', 'Hong Kong', 'Hungary', 'Iceland',\n",
              "       'India', 'Indonesia', 'Iran', 'Iraq', 'Ireland', 'Isle of Man',\n",
              "       'Israel', 'Italy', 'Jamaica', 'Japan', 'Jersey', 'Jordan',\n",
              "       'Kazakhstan', 'Kenya', 'Kosovo', 'Kuwait', 'Kyrgyzstan', 'Laos',\n",
              "       'Latvia', 'Lebanon', 'Lesotho', 'Libya', 'Liechtenstein',\n",
              "       'Lithuania', 'Luxembourg', 'Macao', 'Malawi', 'Malaysia',\n",
              "       'Maldives', 'Mali', 'Malta', 'Mauritania', 'Mauritius', 'Mexico',\n",
              "       'Moldova', 'Monaco', 'Mongolia', 'Montenegro', 'Montserrat',\n",
              "       'Morocco', 'Mozambique', 'Myanmar', 'Namibia', 'Nauru', 'Nepal',\n",
              "       'Netherlands', 'New Zealand', 'Nicaragua', 'Niger', 'Nigeria',\n",
              "       'North Macedonia', 'Northern Cyprus', 'Northern Ireland', 'Norway',\n",
              "       'Oman', 'Pakistan', 'Palestine', 'Panama', 'Papua New Guinea',\n",
              "       'Paraguay', 'Peru', 'Philippines', 'Poland', 'Portugal', 'Qatar',\n",
              "       'Romania', 'Russia', 'Rwanda', 'Saint Helena',\n",
              "       'Saint Kitts and Nevis', 'Saint Lucia',\n",
              "       'Saint Vincent and the Grenadines', 'Samoa', 'San Marino',\n",
              "       'Sao Tome and Principe', 'Saudi Arabia', 'Scotland', 'Senegal',\n",
              "       'Serbia', 'Seychelles', 'Sierra Leone', 'Singapore', 'Slovakia',\n",
              "       'Slovenia', 'Solomon Islands', 'Somalia', 'South Africa',\n",
              "       'South Korea', 'South Sudan', 'Spain', 'Sri Lanka', 'Sudan',\n",
              "       'Suriname', 'Sweden', 'Switzerland', 'Syria', 'Taiwan', 'Thailand',\n",
              "       'Timor', 'Togo', 'Tonga', 'Trinidad and Tobago', 'Tunisia',\n",
              "       'Turkey', 'Turks and Caicos Islands', 'Uganda', 'Ukraine',\n",
              "       'United Arab Emirates', 'United Kingdom', 'United States',\n",
              "       'Uruguay', 'Uzbekistan', 'Venezuela', 'Vietnam', 'Wales', 'Zambia',\n",
              "       'Zimbabwe'], dtype=object)"
            ]
          },
          "metadata": {
            "tags": []
          },
          "execution_count": 7
        }
      ]
    },
    {
      "cell_type": "code",
      "metadata": {
        "colab": {
          "base_uri": "https://localhost:8080/"
        },
        "id": "N9KKG6NNG_Dy",
        "outputId": "bd999c15-d591-42be-8561-97e92ad20a79"
      },
      "source": [
        "data.vaccines.unique()"
      ],
      "execution_count": null,
      "outputs": [
        {
          "output_type": "execute_result",
          "data": {
            "text/plain": [
              "array(['Oxford/AstraZeneca',\n",
              "       'Oxford/AstraZeneca, Pfizer/BioNTech, Sinovac, Sputnik V',\n",
              "       'Sputnik V', 'Oxford/AstraZeneca, Pfizer/BioNTech',\n",
              "       'Oxford/AstraZeneca, Sinopharm/Beijing, Sputnik V',\n",
              "       'Pfizer/BioNTech',\n",
              "       'Johnson&Johnson, Moderna, Oxford/AstraZeneca, Pfizer/BioNTech',\n",
              "       'Oxford/AstraZeneca, Sinovac',\n",
              "       'Oxford/AstraZeneca, Pfizer/BioNTech, Sinopharm/Beijing, Sputnik V',\n",
              "       'Moderna, Oxford/AstraZeneca, Pfizer/BioNTech',\n",
              "       'Oxford/AstraZeneca, Sinopharm/Beijing, Sinovac',\n",
              "       'Sinopharm/Beijing', 'Pfizer/BioNTech, Sinovac',\n",
              "       'Sinopharm/Beijing, Sinopharm/Wuhan, Sinovac',\n",
              "       'Oxford/AstraZeneca, Pfizer/BioNTech, Sinovac',\n",
              "       'Sinopharm/Beijing, Sputnik V', 'Moderna, Pfizer/BioNTech',\n",
              "       'Oxford/AstraZeneca, Sinopharm/Beijing',\n",
              "       'Moderna, Oxford/AstraZeneca',\n",
              "       'Moderna, Oxford/AstraZeneca, Pfizer/BioNTech, Sinopharm/Beijing, Sputnik V',\n",
              "       'Covaxin, Oxford/AstraZeneca',\n",
              "       'Pfizer/BioNTech, Sinopharm/Beijing',\n",
              "       'Oxford/AstraZeneca, Sputnik V',\n",
              "       'Oxford/AstraZeneca, Sinovac, Sputnik V',\n",
              "       'Oxford/AstraZeneca, Pfizer/BioNTech, Sinopharm/Beijing',\n",
              "       'CanSino, Oxford/AstraZeneca, Pfizer/BioNTech, Sinovac, Sputnik V',\n",
              "       'Oxford/AstraZeneca, Pfizer/BioNTech, Sputnik V',\n",
              "       'CanSino, Sinopharm/Beijing, Sinovac, Sputnik V',\n",
              "       'EpiVacCorona, Sputnik V', 'Pfizer/BioNTech, Sputnik V',\n",
              "       'Johnson&Johnson', 'Pfizer/BioNTech, Sinovac, Sputnik V',\n",
              "       'Oxford/AstraZeneca, Pfizer/BioNTech, Sinopharm/Beijing, Sinopharm/Wuhan, Sputnik V',\n",
              "       'Johnson&Johnson, Moderna, Pfizer/BioNTech'], dtype=object)"
            ]
          },
          "metadata": {
            "tags": []
          },
          "execution_count": 8
        }
      ]
    },
    {
      "cell_type": "code",
      "metadata": {
        "colab": {
          "base_uri": "https://localhost:8080/",
          "height": 738
        },
        "id": "e-hpS0jFHDTr",
        "outputId": "d68567df-2d43-4686-8abb-b8018b122554"
      },
      "source": [
        "columns = ['country', 'date', 'total_vaccinations', 'people_vaccinated', 'people_fully_vaccinated','people_fully_vaccinated_per_hundred','vaccines','iso_code']\n",
        "latest_data = data[columns].groupby('country', as_index = True).max().sort_values(by='total_vaccinations', ascending = False)\n",
        "latest_data.head(10)"
      ],
      "execution_count": null,
      "outputs": [
        {
          "output_type": "execute_result",
          "data": {
            "text/html": [
              "<div>\n",
              "<style scoped>\n",
              "    .dataframe tbody tr th:only-of-type {\n",
              "        vertical-align: middle;\n",
              "    }\n",
              "\n",
              "    .dataframe tbody tr th {\n",
              "        vertical-align: top;\n",
              "    }\n",
              "\n",
              "    .dataframe thead th {\n",
              "        text-align: right;\n",
              "    }\n",
              "</style>\n",
              "<table border=\"1\" class=\"dataframe\">\n",
              "  <thead>\n",
              "    <tr style=\"text-align: right;\">\n",
              "      <th></th>\n",
              "      <th>date</th>\n",
              "      <th>total_vaccinations</th>\n",
              "      <th>people_vaccinated</th>\n",
              "      <th>people_fully_vaccinated</th>\n",
              "      <th>people_fully_vaccinated_per_hundred</th>\n",
              "      <th>vaccines</th>\n",
              "      <th>iso_code</th>\n",
              "    </tr>\n",
              "    <tr>\n",
              "      <th>country</th>\n",
              "      <th></th>\n",
              "      <th></th>\n",
              "      <th></th>\n",
              "      <th></th>\n",
              "      <th></th>\n",
              "      <th></th>\n",
              "      <th></th>\n",
              "    </tr>\n",
              "  </thead>\n",
              "  <tbody>\n",
              "    <tr>\n",
              "      <th>China</th>\n",
              "      <td>2021-05-06</td>\n",
              "      <td>297734000.0</td>\n",
              "      <td>0.0</td>\n",
              "      <td>0.0</td>\n",
              "      <td>0.00</td>\n",
              "      <td>Sinopharm/Beijing, Sinopharm/Wuhan, Sinovac</td>\n",
              "      <td>CHN</td>\n",
              "    </tr>\n",
              "    <tr>\n",
              "      <th>United States</th>\n",
              "      <td>2021-05-06</td>\n",
              "      <td>251973752.0</td>\n",
              "      <td>149462265.0</td>\n",
              "      <td>108926627.0</td>\n",
              "      <td>32.57</td>\n",
              "      <td>Johnson&amp;Johnson, Moderna, Pfizer/BioNTech</td>\n",
              "      <td>USA</td>\n",
              "    </tr>\n",
              "    <tr>\n",
              "      <th>India</th>\n",
              "      <td>2021-05-06</td>\n",
              "      <td>162603603.0</td>\n",
              "      <td>131058890.0</td>\n",
              "      <td>31544713.0</td>\n",
              "      <td>2.29</td>\n",
              "      <td>Covaxin, Oxford/AstraZeneca</td>\n",
              "      <td>IND</td>\n",
              "    </tr>\n",
              "    <tr>\n",
              "      <th>United Kingdom</th>\n",
              "      <td>2021-05-05</td>\n",
              "      <td>51225890.0</td>\n",
              "      <td>34934171.0</td>\n",
              "      <td>16291719.0</td>\n",
              "      <td>24.00</td>\n",
              "      <td>Moderna, Oxford/AstraZeneca, Pfizer/BioNTech</td>\n",
              "      <td>GBR</td>\n",
              "    </tr>\n",
              "    <tr>\n",
              "      <th>Brazil</th>\n",
              "      <td>2021-05-06</td>\n",
              "      <td>46542392.0</td>\n",
              "      <td>31504414.0</td>\n",
              "      <td>15037978.0</td>\n",
              "      <td>7.07</td>\n",
              "      <td>Oxford/AstraZeneca, Sinovac</td>\n",
              "      <td>BRA</td>\n",
              "    </tr>\n",
              "    <tr>\n",
              "      <th>England</th>\n",
              "      <td>2021-05-05</td>\n",
              "      <td>42864836.0</td>\n",
              "      <td>29232101.0</td>\n",
              "      <td>13632735.0</td>\n",
              "      <td>24.22</td>\n",
              "      <td>Moderna, Oxford/AstraZeneca, Pfizer/BioNTech</td>\n",
              "      <td>OWID_ENG</td>\n",
              "    </tr>\n",
              "    <tr>\n",
              "      <th>Germany</th>\n",
              "      <td>2021-05-06</td>\n",
              "      <td>33565445.0</td>\n",
              "      <td>26220901.0</td>\n",
              "      <td>7360108.0</td>\n",
              "      <td>8.78</td>\n",
              "      <td>Johnson&amp;Johnson, Moderna, Oxford/AstraZeneca, ...</td>\n",
              "      <td>DEU</td>\n",
              "    </tr>\n",
              "    <tr>\n",
              "      <th>Turkey</th>\n",
              "      <td>2021-05-06</td>\n",
              "      <td>24467719.0</td>\n",
              "      <td>14391595.0</td>\n",
              "      <td>10076124.0</td>\n",
              "      <td>11.95</td>\n",
              "      <td>Pfizer/BioNTech, Sinovac</td>\n",
              "      <td>TUR</td>\n",
              "    </tr>\n",
              "    <tr>\n",
              "      <th>France</th>\n",
              "      <td>2021-05-05</td>\n",
              "      <td>23949989.0</td>\n",
              "      <td>16791193.0</td>\n",
              "      <td>7238601.0</td>\n",
              "      <td>10.62</td>\n",
              "      <td>Johnson&amp;Johnson, Moderna, Oxford/AstraZeneca, ...</td>\n",
              "      <td>FRA</td>\n",
              "    </tr>\n",
              "    <tr>\n",
              "      <th>Italy</th>\n",
              "      <td>2021-05-06</td>\n",
              "      <td>22644364.0</td>\n",
              "      <td>15898833.0</td>\n",
              "      <td>6877239.0</td>\n",
              "      <td>11.37</td>\n",
              "      <td>Johnson&amp;Johnson, Moderna, Oxford/AstraZeneca, ...</td>\n",
              "      <td>ITA</td>\n",
              "    </tr>\n",
              "  </tbody>\n",
              "</table>\n",
              "</div>"
            ],
            "text/plain": [
              "                     date  ...  iso_code\n",
              "country                    ...          \n",
              "China          2021-05-06  ...       CHN\n",
              "United States  2021-05-06  ...       USA\n",
              "India          2021-05-06  ...       IND\n",
              "United Kingdom 2021-05-05  ...       GBR\n",
              "Brazil         2021-05-06  ...       BRA\n",
              "England        2021-05-05  ...  OWID_ENG\n",
              "Germany        2021-05-06  ...       DEU\n",
              "Turkey         2021-05-06  ...       TUR\n",
              "France         2021-05-05  ...       FRA\n",
              "Italy          2021-05-06  ...       ITA\n",
              "\n",
              "[10 rows x 7 columns]"
            ]
          },
          "metadata": {
            "tags": []
          },
          "execution_count": 9
        }
      ]
    },
    {
      "cell_type": "code",
      "metadata": {
        "id": "59gUot9sHWTi"
      },
      "source": [
        "total_vaccines = pd.DataFrame()\n",
        "vaccines = data.groupby('vaccines')\n",
        "for col, group in vaccines:\n",
        "    total_vaccines.loc[col,\"total_vaccinations\"] = group[\"daily_vaccinations\"].sum()\n",
        "total_vaccines = total_vaccines.sort_values(by='total_vaccinations', ascending = False)"
      ],
      "execution_count": null,
      "outputs": []
    },
    {
      "cell_type": "code",
      "metadata": {
        "id": "MxJjhm75HdbD"
      },
      "source": [
        "def show_values_on_bars(axs, h_v=\"v\", space=0.7):\n",
        "    def _show_on_single_plot(ax):\n",
        "        if h_v == \"v\":\n",
        "            for p in ax.patches:\n",
        "                _x = p.get_x() + p.get_width() / 2\n",
        "                _y = p.get_y() + p.get_height()\n",
        "                value = '{:.0f}%'.format(int(p.get_height()))\n",
        "                ax.text(_x, _y, value, ha=\"center\") \n",
        "        elif h_v == \"h\":\n",
        "            for p in ax.patches:\n",
        "                _x = p.get_x() + p.get_width() + float(space)\n",
        "                _y = p.get_y() + p.get_height() / 2\n",
        "                value = '{:.1f}m'.format(int(p.get_width()) / 1000000)\n",
        "                ax.text(_x, _y, value, ha=\"left\")\n",
        "\n",
        "    if isinstance(axs, np.ndarray):\n",
        "        for idx, ax in np.ndenumerate(axs):\n",
        "            _show_on_single_plot(ax)\n",
        "    else:\n",
        "        _show_on_single_plot(axs)"
      ],
      "execution_count": null,
      "outputs": []
    },
    {
      "cell_type": "code",
      "metadata": {
        "colab": {
          "base_uri": "https://localhost:8080/",
          "height": 294
        },
        "id": "6DfjEW3kHgjj",
        "outputId": "59c40c5c-df15-42ef-c80a-440937861605"
      },
      "source": [
        "sns.set_style('darkgrid')\n",
        "ax = sns.barplot(x = total_vaccines.iloc[:7,:]['total_vaccinations'] , y =total_vaccines.iloc[:7,:].index, palette=\"rocket\")\n",
        "ax.set_xlabel('Millions of vaccinations')\n",
        "ax.set_ylabel('Vaccine type')\n",
        "ax.set_title('Most popular vaccines')\n",
        "plt.xticks(ticks = [0,10000000,20000000,30000000,40000000,50000000,60000000,70000000,80000000,90000000,100000000],labels= [0,10,20,30,40,50,60,70,80,90,100])\n",
        "show_values_on_bars(ax,h_v = 'h', space = 0.7)"
      ],
      "execution_count": null,
      "outputs": [
        {
          "output_type": "display_data",
          "data": {
            "image/png": "[encoded data removed]",
            "text/plain": [
              "<Figure size 432x288 with 1 Axes>"
            ]
          },
          "metadata": {
            "tags": []
          }
        }
      ]
    },
    {
      "cell_type": "code",
      "metadata": {
        "colab": {
          "base_uri": "https://localhost:8080/",
          "height": 294
        },
        "id": "I0KOJa53HmOT",
        "outputId": "4ea6b9db-56f4-458c-e68b-1ff508bd0434"
      },
      "source": [
        "latest_data[latest_data['vaccines'] == 'Pfizer/BioNTech'][['vaccines','total_vaccinations', 'people_vaccinated', 'people_fully_vaccinated','date']].sort_values(by='total_vaccinations', ascending = False).head(15).style.background_gradient(cmap='Blues')"
      ],
      "execution_count": null,
      "outputs": [
        {
          "output_type": "execute_result",
          "data": {
            "text/html": [
              "<style  type=\"text/css\" >\n",
              "#T_ccc93308_c9c7_11eb_b217_0242ac1c0002row0_col1,#T_ccc93308_c9c7_11eb_b217_0242ac1c0002row0_col2,#T_ccc93308_c9c7_11eb_b217_0242ac1c0002row0_col3{\n",
              "            background-color:  #08306b;\n",
              "            color:  #f1f1f1;\n",
              "        }#T_ccc93308_c9c7_11eb_b217_0242ac1c0002row1_col1,#T_ccc93308_c9c7_11eb_b217_0242ac1c0002row2_col1{\n",
              "            background-color:  #8fc2de;\n",
              "            color:  #000000;\n",
              "        }#T_ccc93308_c9c7_11eb_b217_0242ac1c0002row1_col2{\n",
              "            background-color:  #9dcae1;\n",
              "            color:  #000000;\n",
              "        }#T_ccc93308_c9c7_11eb_b217_0242ac1c0002row1_col3{\n",
              "            background-color:  #68acd5;\n",
              "            color:  #000000;\n",
              "        }#T_ccc93308_c9c7_11eb_b217_0242ac1c0002row2_col2{\n",
              "            background-color:  #a8cee4;\n",
              "            color:  #000000;\n",
              "        }#T_ccc93308_c9c7_11eb_b217_0242ac1c0002row2_col3{\n",
              "            background-color:  #4e9acb;\n",
              "            color:  #000000;\n",
              "        }#T_ccc93308_c9c7_11eb_b217_0242ac1c0002row3_col1{\n",
              "            background-color:  #a9cfe5;\n",
              "            color:  #000000;\n",
              "        }#T_ccc93308_c9c7_11eb_b217_0242ac1c0002row3_col2{\n",
              "            background-color:  #c2d9ee;\n",
              "            color:  #000000;\n",
              "        }#T_ccc93308_c9c7_11eb_b217_0242ac1c0002row3_col3{\n",
              "            background-color:  #f2f7fd;\n",
              "            color:  #000000;\n",
              "        }#T_ccc93308_c9c7_11eb_b217_0242ac1c0002row4_col1,#T_ccc93308_c9c7_11eb_b217_0242ac1c0002row4_col2,#T_ccc93308_c9c7_11eb_b217_0242ac1c0002row5_col2{\n",
              "            background-color:  #eaf2fb;\n",
              "            color:  #000000;\n",
              "        }#T_ccc93308_c9c7_11eb_b217_0242ac1c0002row4_col3{\n",
              "            background-color:  #e8f1fa;\n",
              "            color:  #000000;\n",
              "        }#T_ccc93308_c9c7_11eb_b217_0242ac1c0002row5_col1{\n",
              "            background-color:  #eaf3fb;\n",
              "            color:  #000000;\n",
              "        }#T_ccc93308_c9c7_11eb_b217_0242ac1c0002row5_col3{\n",
              "            background-color:  #ecf4fb;\n",
              "            color:  #000000;\n",
              "        }#T_ccc93308_c9c7_11eb_b217_0242ac1c0002row6_col1,#T_ccc93308_c9c7_11eb_b217_0242ac1c0002row6_col3,#T_ccc93308_c9c7_11eb_b217_0242ac1c0002row8_col3{\n",
              "            background-color:  #f4f9fe;\n",
              "            color:  #000000;\n",
              "        }#T_ccc93308_c9c7_11eb_b217_0242ac1c0002row6_col2,#T_ccc93308_c9c7_11eb_b217_0242ac1c0002row7_col1{\n",
              "            background-color:  #f5f9fe;\n",
              "            color:  #000000;\n",
              "        }#T_ccc93308_c9c7_11eb_b217_0242ac1c0002row7_col2,#T_ccc93308_c9c7_11eb_b217_0242ac1c0002row8_col1{\n",
              "            background-color:  #f5fafe;\n",
              "            color:  #000000;\n",
              "        }#T_ccc93308_c9c7_11eb_b217_0242ac1c0002row7_col3{\n",
              "            background-color:  #f2f8fd;\n",
              "            color:  #000000;\n",
              "        }#T_ccc93308_c9c7_11eb_b217_0242ac1c0002row8_col2,#T_ccc93308_c9c7_11eb_b217_0242ac1c0002row9_col3,#T_ccc93308_c9c7_11eb_b217_0242ac1c0002row10_col3{\n",
              "            background-color:  #f6faff;\n",
              "            color:  #000000;\n",
              "        }#T_ccc93308_c9c7_11eb_b217_0242ac1c0002row9_col1,#T_ccc93308_c9c7_11eb_b217_0242ac1c0002row9_col2,#T_ccc93308_c9c7_11eb_b217_0242ac1c0002row10_col1,#T_ccc93308_c9c7_11eb_b217_0242ac1c0002row10_col2,#T_ccc93308_c9c7_11eb_b217_0242ac1c0002row11_col1,#T_ccc93308_c9c7_11eb_b217_0242ac1c0002row11_col2,#T_ccc93308_c9c7_11eb_b217_0242ac1c0002row11_col3{\n",
              "            background-color:  #f7fbff;\n",
              "            color:  #000000;\n",
              "        }</style><table id=\"T_ccc93308_c9c7_11eb_b217_0242ac1c0002\" ><thead>    <tr>        <th class=\"blank level0\" ></th>        <th class=\"col_heading level0 col0\" >vaccines</th>        <th class=\"col_heading level0 col1\" >total_vaccinations</th>        <th class=\"col_heading level0 col2\" >people_vaccinated</th>        <th class=\"col_heading level0 col3\" >people_fully_vaccinated</th>        <th class=\"col_heading level0 col4\" >date</th>    </tr>    <tr>        <th class=\"index_name level0\" >country</th>        <th class=\"blank\" ></th>        <th class=\"blank\" ></th>        <th class=\"blank\" ></th>        <th class=\"blank\" ></th>        <th class=\"blank\" ></th>    </tr></thead><tbody>\n",
              "                <tr>\n",
              "                        <th id=\"T_ccc93308_c9c7_11eb_b217_0242ac1c0002level0_row0\" class=\"row_heading level0 row0\" >Japan</th>\n",
              "                        <td id=\"T_ccc93308_c9c7_11eb_b217_0242ac1c0002row0_col0\" class=\"data row0 col0\" >Pfizer/BioNTech</td>\n",
              "                        <td id=\"T_ccc93308_c9c7_11eb_b217_0242ac1c0002row0_col1\" class=\"data row0 col1\" >4197463.000000</td>\n",
              "                        <td id=\"T_ccc93308_c9c7_11eb_b217_0242ac1c0002row0_col2\" class=\"data row0 col2\" >3091529.000000</td>\n",
              "                        <td id=\"T_ccc93308_c9c7_11eb_b217_0242ac1c0002row0_col3\" class=\"data row0 col3\" >1105934.000000</td>\n",
              "                        <td id=\"T_ccc93308_c9c7_11eb_b217_0242ac1c0002row0_col4\" class=\"data row0 col4\" >2021-05-06 00:00:00</td>\n",
              "            </tr>\n",
              "            <tr>\n",
              "                        <th id=\"T_ccc93308_c9c7_11eb_b217_0242ac1c0002level0_row1\" class=\"row_heading level0 row1\" >Slovakia</th>\n",
              "                        <td id=\"T_ccc93308_c9c7_11eb_b217_0242ac1c0002row1_col0\" class=\"data row1 col0\" >Pfizer/BioNTech</td>\n",
              "                        <td id=\"T_ccc93308_c9c7_11eb_b217_0242ac1c0002row1_col1\" class=\"data row1 col1\" >1740460.000000</td>\n",
              "                        <td id=\"T_ccc93308_c9c7_11eb_b217_0242ac1c0002row1_col2\" class=\"data row1 col2\" >1176143.000000</td>\n",
              "                        <td id=\"T_ccc93308_c9c7_11eb_b217_0242ac1c0002row1_col3\" class=\"data row1 col3\" >564317.000000</td>\n",
              "                        <td id=\"T_ccc93308_c9c7_11eb_b217_0242ac1c0002row1_col4\" class=\"data row1 col4\" >2021-05-06 00:00:00</td>\n",
              "            </tr>\n",
              "            <tr>\n",
              "                        <th id=\"T_ccc93308_c9c7_11eb_b217_0242ac1c0002level0_row2\" class=\"row_heading level0 row2\" >Qatar</th>\n",
              "                        <td id=\"T_ccc93308_c9c7_11eb_b217_0242ac1c0002row2_col0\" class=\"data row2 col0\" >Pfizer/BioNTech</td>\n",
              "                        <td id=\"T_ccc93308_c9c7_11eb_b217_0242ac1c0002row2_col1\" class=\"data row2 col1\" >1732471.000000</td>\n",
              "                        <td id=\"T_ccc93308_c9c7_11eb_b217_0242ac1c0002row2_col2\" class=\"data row2 col2\" >1080415.000000</td>\n",
              "                        <td id=\"T_ccc93308_c9c7_11eb_b217_0242ac1c0002row2_col3\" class=\"data row2 col3\" >652056.000000</td>\n",
              "                        <td id=\"T_ccc93308_c9c7_11eb_b217_0242ac1c0002row2_col4\" class=\"data row2 col4\" >2021-05-06 00:00:00</td>\n",
              "            </tr>\n",
              "            <tr>\n",
              "                        <th id=\"T_ccc93308_c9c7_11eb_b217_0242ac1c0002level0_row3\" class=\"row_heading level0 row3\" >Kuwait</th>\n",
              "                        <td id=\"T_ccc93308_c9c7_11eb_b217_0242ac1c0002row3_col0\" class=\"data row3 col0\" >Pfizer/BioNTech</td>\n",
              "                        <td id=\"T_ccc93308_c9c7_11eb_b217_0242ac1c0002row3_col1\" class=\"data row3 col1\" >1440000.000000</td>\n",
              "                        <td id=\"T_ccc93308_c9c7_11eb_b217_0242ac1c0002row3_col2\" class=\"data row3 col2\" >822000.000000</td>\n",
              "                        <td id=\"T_ccc93308_c9c7_11eb_b217_0242ac1c0002row3_col3\" class=\"data row3 col3\" >38000.000000</td>\n",
              "                        <td id=\"T_ccc93308_c9c7_11eb_b217_0242ac1c0002row3_col4\" class=\"data row3 col4\" >2021-05-06 00:00:00</td>\n",
              "            </tr>\n",
              "            <tr>\n",
              "                        <th id=\"T_ccc93308_c9c7_11eb_b217_0242ac1c0002level0_row4\" class=\"row_heading level0 row4\" >New Zealand</th>\n",
              "                        <td id=\"T_ccc93308_c9c7_11eb_b217_0242ac1c0002row4_col0\" class=\"data row4 col0\" >Pfizer/BioNTech</td>\n",
              "                        <td id=\"T_ccc93308_c9c7_11eb_b217_0242ac1c0002row4_col1\" class=\"data row4 col1\" >304900.000000</td>\n",
              "                        <td id=\"T_ccc93308_c9c7_11eb_b217_0242ac1c0002row4_col2\" class=\"data row4 col2\" >217603.000000</td>\n",
              "                        <td id=\"T_ccc93308_c9c7_11eb_b217_0242ac1c0002row4_col3\" class=\"data row4 col3\" >87297.000000</td>\n",
              "                        <td id=\"T_ccc93308_c9c7_11eb_b217_0242ac1c0002row4_col4\" class=\"data row4 col4\" >2021-05-04 00:00:00</td>\n",
              "            </tr>\n",
              "            <tr>\n",
              "                        <th id=\"T_ccc93308_c9c7_11eb_b217_0242ac1c0002level0_row5\" class=\"row_heading level0 row5\" >Cyprus</th>\n",
              "                        <td id=\"T_ccc93308_c9c7_11eb_b217_0242ac1c0002row5_col0\" class=\"data row5 col0\" >Pfizer/BioNTech</td>\n",
              "                        <td id=\"T_ccc93308_c9c7_11eb_b217_0242ac1c0002row5_col1\" class=\"data row5 col1\" >287816.000000</td>\n",
              "                        <td id=\"T_ccc93308_c9c7_11eb_b217_0242ac1c0002row5_col2\" class=\"data row5 col2\" >218323.000000</td>\n",
              "                        <td id=\"T_ccc93308_c9c7_11eb_b217_0242ac1c0002row5_col3\" class=\"data row5 col3\" >69463.000000</td>\n",
              "                        <td id=\"T_ccc93308_c9c7_11eb_b217_0242ac1c0002row5_col4\" class=\"data row5 col4\" >2021-05-01 00:00:00</td>\n",
              "            </tr>\n",
              "            <tr>\n",
              "                        <th id=\"T_ccc93308_c9c7_11eb_b217_0242ac1c0002level0_row6\" class=\"row_heading level0 row6\" >Aruba</th>\n",
              "                        <td id=\"T_ccc93308_c9c7_11eb_b217_0242ac1c0002row6_col0\" class=\"data row6 col0\" >Pfizer/BioNTech</td>\n",
              "                        <td id=\"T_ccc93308_c9c7_11eb_b217_0242ac1c0002row6_col1\" class=\"data row6 col1\" >79553.000000</td>\n",
              "                        <td id=\"T_ccc93308_c9c7_11eb_b217_0242ac1c0002row6_col2\" class=\"data row6 col2\" >55371.000000</td>\n",
              "                        <td id=\"T_ccc93308_c9c7_11eb_b217_0242ac1c0002row6_col3\" class=\"data row6 col3\" >24182.000000</td>\n",
              "                        <td id=\"T_ccc93308_c9c7_11eb_b217_0242ac1c0002row6_col4\" class=\"data row6 col4\" >2021-05-06 00:00:00</td>\n",
              "            </tr>\n",
              "            <tr>\n",
              "                        <th id=\"T_ccc93308_c9c7_11eb_b217_0242ac1c0002level0_row7\" class=\"row_heading level0 row7\" >Gibraltar</th>\n",
              "                        <td id=\"T_ccc93308_c9c7_11eb_b217_0242ac1c0002row7_col0\" class=\"data row7 col0\" >Pfizer/BioNTech</td>\n",
              "                        <td id=\"T_ccc93308_c9c7_11eb_b217_0242ac1c0002row7_col1\" class=\"data row7 col1\" >72674.000000</td>\n",
              "                        <td id=\"T_ccc93308_c9c7_11eb_b217_0242ac1c0002row7_col2\" class=\"data row7 col2\" >37988.000000</td>\n",
              "                        <td id=\"T_ccc93308_c9c7_11eb_b217_0242ac1c0002row7_col3\" class=\"data row7 col3\" >34686.000000</td>\n",
              "                        <td id=\"T_ccc93308_c9c7_11eb_b217_0242ac1c0002row7_col4\" class=\"data row7 col4\" >2021-05-06 00:00:00</td>\n",
              "            </tr>\n",
              "            <tr>\n",
              "                        <th id=\"T_ccc93308_c9c7_11eb_b217_0242ac1c0002level0_row8\" class=\"row_heading level0 row8\" >Bermuda</th>\n",
              "                        <td id=\"T_ccc93308_c9c7_11eb_b217_0242ac1c0002row8_col0\" class=\"data row8 col0\" >Pfizer/BioNTech</td>\n",
              "                        <td id=\"T_ccc93308_c9c7_11eb_b217_0242ac1c0002row8_col1\" class=\"data row8 col1\" >55904.000000</td>\n",
              "                        <td id=\"T_ccc93308_c9c7_11eb_b217_0242ac1c0002row8_col2\" class=\"data row8 col2\" >32129.000000</td>\n",
              "                        <td id=\"T_ccc93308_c9c7_11eb_b217_0242ac1c0002row8_col3\" class=\"data row8 col3\" >23775.000000</td>\n",
              "                        <td id=\"T_ccc93308_c9c7_11eb_b217_0242ac1c0002row8_col4\" class=\"data row8 col4\" >2021-04-26 00:00:00</td>\n",
              "            </tr>\n",
              "            <tr>\n",
              "                        <th id=\"T_ccc93308_c9c7_11eb_b217_0242ac1c0002level0_row9\" class=\"row_heading level0 row9\" >Turks and Caicos Islands</th>\n",
              "                        <td id=\"T_ccc93308_c9c7_11eb_b217_0242ac1c0002row9_col0\" class=\"data row9 col0\" >Pfizer/BioNTech</td>\n",
              "                        <td id=\"T_ccc93308_c9c7_11eb_b217_0242ac1c0002row9_col1\" class=\"data row9 col1\" >25039.000000</td>\n",
              "                        <td id=\"T_ccc93308_c9c7_11eb_b217_0242ac1c0002row9_col2\" class=\"data row9 col2\" >15039.000000</td>\n",
              "                        <td id=\"T_ccc93308_c9c7_11eb_b217_0242ac1c0002row9_col3\" class=\"data row9 col3\" >10000.000000</td>\n",
              "                        <td id=\"T_ccc93308_c9c7_11eb_b217_0242ac1c0002row9_col4\" class=\"data row9 col4\" >2021-04-11 00:00:00</td>\n",
              "            </tr>\n",
              "            <tr>\n",
              "                        <th id=\"T_ccc93308_c9c7_11eb_b217_0242ac1c0002level0_row10\" class=\"row_heading level0 row10\" >Monaco</th>\n",
              "                        <td id=\"T_ccc93308_c9c7_11eb_b217_0242ac1c0002row10_col0\" class=\"data row10 col0\" >Pfizer/BioNTech</td>\n",
              "                        <td id=\"T_ccc93308_c9c7_11eb_b217_0242ac1c0002row10_col1\" class=\"data row10 col1\" >24390.000000</td>\n",
              "                        <td id=\"T_ccc93308_c9c7_11eb_b217_0242ac1c0002row10_col2\" class=\"data row10 col2\" >12758.000000</td>\n",
              "                        <td id=\"T_ccc93308_c9c7_11eb_b217_0242ac1c0002row10_col3\" class=\"data row10 col3\" >11632.000000</td>\n",
              "                        <td id=\"T_ccc93308_c9c7_11eb_b217_0242ac1c0002row10_col4\" class=\"data row10 col4\" >2021-04-22 00:00:00</td>\n",
              "            </tr>\n",
              "            <tr>\n",
              "                        <th id=\"T_ccc93308_c9c7_11eb_b217_0242ac1c0002level0_row11\" class=\"row_heading level0 row11\" >Greenland</th>\n",
              "                        <td id=\"T_ccc93308_c9c7_11eb_b217_0242ac1c0002row11_col0\" class=\"data row11 col0\" >Pfizer/BioNTech</td>\n",
              "                        <td id=\"T_ccc93308_c9c7_11eb_b217_0242ac1c0002row11_col1\" class=\"data row11 col1\" >14177.000000</td>\n",
              "                        <td id=\"T_ccc93308_c9c7_11eb_b217_0242ac1c0002row11_col2\" class=\"data row11 col2\" >8900.000000</td>\n",
              "                        <td id=\"T_ccc93308_c9c7_11eb_b217_0242ac1c0002row11_col3\" class=\"data row11 col3\" >5277.000000</td>\n",
              "                        <td id=\"T_ccc93308_c9c7_11eb_b217_0242ac1c0002row11_col4\" class=\"data row11 col4\" >2021-05-04 00:00:00</td>\n",
              "            </tr>\n",
              "    </tbody></table>"
            ],
            "text/plain": [
              "<pandas.io.formats.style.Styler at 0x7f5c1acaa1d0>"
            ]
          },
          "metadata": {
            "tags": []
          },
          "execution_count": 13
        }
      ]
    },
    {
      "cell_type": "code",
      "metadata": {
        "colab": {
          "base_uri": "https://localhost:8080/",
          "height": 215
        },
        "id": "BJ71WfC7H0Q6",
        "outputId": "3629813d-c1eb-4660-dcb6-ad93dd63f951"
      },
      "source": [
        "latest_data[latest_data['vaccines'] == 'Sputnik V'][['vaccines','total_vaccinations', 'people_vaccinated', 'people_fully_vaccinated','date']].sort_values(by='total_vaccinations', ascending = False).head(15).style.background_gradient(cmap='Blues')"
      ],
      "execution_count": null,
      "outputs": [
        {
          "output_type": "execute_result",
          "data": {
            "text/html": [
              "<style  type=\"text/css\" >\n",
              "#T_ccd16c44_c9c7_11eb_b217_0242ac1c0002row0_col1,#T_ccd16c44_c9c7_11eb_b217_0242ac1c0002row0_col2,#T_ccd16c44_c9c7_11eb_b217_0242ac1c0002row0_col3{\n",
              "            background-color:  #08306b;\n",
              "            color:  #f1f1f1;\n",
              "        }#T_ccd16c44_c9c7_11eb_b217_0242ac1c0002row1_col1{\n",
              "            background-color:  #d7e6f5;\n",
              "            color:  #000000;\n",
              "        }#T_ccd16c44_c9c7_11eb_b217_0242ac1c0002row1_col2{\n",
              "            background-color:  #d9e7f5;\n",
              "            color:  #000000;\n",
              "        }#T_ccd16c44_c9c7_11eb_b217_0242ac1c0002row1_col3{\n",
              "            background-color:  #d3e3f3;\n",
              "            color:  #000000;\n",
              "        }#T_ccd16c44_c9c7_11eb_b217_0242ac1c0002row2_col1{\n",
              "            background-color:  #dfebf7;\n",
              "            color:  #000000;\n",
              "        }#T_ccd16c44_c9c7_11eb_b217_0242ac1c0002row2_col2{\n",
              "            background-color:  #d8e7f5;\n",
              "            color:  #000000;\n",
              "        }#T_ccd16c44_c9c7_11eb_b217_0242ac1c0002row2_col3,#T_ccd16c44_c9c7_11eb_b217_0242ac1c0002row5_col2,#T_ccd16c44_c9c7_11eb_b217_0242ac1c0002row5_col3,#T_ccd16c44_c9c7_11eb_b217_0242ac1c0002row6_col1,#T_ccd16c44_c9c7_11eb_b217_0242ac1c0002row6_col2,#T_ccd16c44_c9c7_11eb_b217_0242ac1c0002row6_col3,#T_ccd16c44_c9c7_11eb_b217_0242ac1c0002row7_col1,#T_ccd16c44_c9c7_11eb_b217_0242ac1c0002row7_col2,#T_ccd16c44_c9c7_11eb_b217_0242ac1c0002row7_col3{\n",
              "            background-color:  #f7fbff;\n",
              "            color:  #000000;\n",
              "        }#T_ccd16c44_c9c7_11eb_b217_0242ac1c0002row3_col1,#T_ccd16c44_c9c7_11eb_b217_0242ac1c0002row4_col1{\n",
              "            background-color:  #e9f2fa;\n",
              "            color:  #000000;\n",
              "        }#T_ccd16c44_c9c7_11eb_b217_0242ac1c0002row3_col2{\n",
              "            background-color:  #ebf3fb;\n",
              "            color:  #000000;\n",
              "        }#T_ccd16c44_c9c7_11eb_b217_0242ac1c0002row3_col3{\n",
              "            background-color:  #e0ecf8;\n",
              "            color:  #000000;\n",
              "        }#T_ccd16c44_c9c7_11eb_b217_0242ac1c0002row4_col2{\n",
              "            background-color:  #e7f0fa;\n",
              "            color:  #000000;\n",
              "        }#T_ccd16c44_c9c7_11eb_b217_0242ac1c0002row4_col3{\n",
              "            background-color:  #f2f8fd;\n",
              "            color:  #000000;\n",
              "        }#T_ccd16c44_c9c7_11eb_b217_0242ac1c0002row5_col1{\n",
              "            background-color:  #f0f6fd;\n",
              "            color:  #000000;\n",
              "        }</style><table id=\"T_ccd16c44_c9c7_11eb_b217_0242ac1c0002\" ><thead>    <tr>        <th class=\"blank level0\" ></th>        <th class=\"col_heading level0 col0\" >vaccines</th>        <th class=\"col_heading level0 col1\" >total_vaccinations</th>        <th class=\"col_heading level0 col2\" >people_vaccinated</th>        <th class=\"col_heading level0 col3\" >people_fully_vaccinated</th>        <th class=\"col_heading level0 col4\" >date</th>    </tr>    <tr>        <th class=\"index_name level0\" >country</th>        <th class=\"blank\" ></th>        <th class=\"blank\" ></th>        <th class=\"blank\" ></th>        <th class=\"blank\" ></th>        <th class=\"blank\" ></th>    </tr></thead><tbody>\n",
              "                <tr>\n",
              "                        <th id=\"T_ccd16c44_c9c7_11eb_b217_0242ac1c0002level0_row0\" class=\"row_heading level0 row0\" >Kazakhstan</th>\n",
              "                        <td id=\"T_ccd16c44_c9c7_11eb_b217_0242ac1c0002row0_col0\" class=\"data row0 col0\" >Sputnik V</td>\n",
              "                        <td id=\"T_ccd16c44_c9c7_11eb_b217_0242ac1c0002row0_col1\" class=\"data row0 col1\" >2025911.000000</td>\n",
              "                        <td id=\"T_ccd16c44_c9c7_11eb_b217_0242ac1c0002row0_col2\" class=\"data row0 col2\" >1565681.000000</td>\n",
              "                        <td id=\"T_ccd16c44_c9c7_11eb_b217_0242ac1c0002row0_col3\" class=\"data row0 col3\" >460230.000000</td>\n",
              "                        <td id=\"T_ccd16c44_c9c7_11eb_b217_0242ac1c0002row0_col4\" class=\"data row0 col4\" >2021-05-05 00:00:00</td>\n",
              "            </tr>\n",
              "            <tr>\n",
              "                        <th id=\"T_ccd16c44_c9c7_11eb_b217_0242ac1c0002level0_row1\" class=\"row_heading level0 row1\" >Belarus</th>\n",
              "                        <td id=\"T_ccd16c44_c9c7_11eb_b217_0242ac1c0002row1_col0\" class=\"data row1 col0\" >Sputnik V</td>\n",
              "                        <td id=\"T_ccd16c44_c9c7_11eb_b217_0242ac1c0002row1_col1\" class=\"data row1 col1\" >328500.000000</td>\n",
              "                        <td id=\"T_ccd16c44_c9c7_11eb_b217_0242ac1c0002row1_col2\" class=\"data row1 col2\" >244000.000000</td>\n",
              "                        <td id=\"T_ccd16c44_c9c7_11eb_b217_0242ac1c0002row1_col3\" class=\"data row1 col3\" >84500.000000</td>\n",
              "                        <td id=\"T_ccd16c44_c9c7_11eb_b217_0242ac1c0002row1_col4\" class=\"data row1 col4\" >2021-04-23 00:00:00</td>\n",
              "            </tr>\n",
              "            <tr>\n",
              "                        <th id=\"T_ccd16c44_c9c7_11eb_b217_0242ac1c0002level0_row2\" class=\"row_heading level0 row2\" >Venezuela</th>\n",
              "                        <td id=\"T_ccd16c44_c9c7_11eb_b217_0242ac1c0002row2_col0\" class=\"data row2 col0\" >Sputnik V</td>\n",
              "                        <td id=\"T_ccd16c44_c9c7_11eb_b217_0242ac1c0002row2_col1\" class=\"data row2 col1\" >250000.000000</td>\n",
              "                        <td id=\"T_ccd16c44_c9c7_11eb_b217_0242ac1c0002row2_col2\" class=\"data row2 col2\" >250000.000000</td>\n",
              "                        <td id=\"T_ccd16c44_c9c7_11eb_b217_0242ac1c0002row2_col3\" class=\"data row2 col3\" >0.000000</td>\n",
              "                        <td id=\"T_ccd16c44_c9c7_11eb_b217_0242ac1c0002row2_col4\" class=\"data row2 col4\" >2021-04-12 00:00:00</td>\n",
              "            </tr>\n",
              "            <tr>\n",
              "                        <th id=\"T_ccd16c44_c9c7_11eb_b217_0242ac1c0002level0_row3\" class=\"row_heading level0 row3\" >Guinea</th>\n",
              "                        <td id=\"T_ccd16c44_c9c7_11eb_b217_0242ac1c0002row3_col0\" class=\"data row3 col0\" >Sputnik V</td>\n",
              "                        <td id=\"T_ccd16c44_c9c7_11eb_b217_0242ac1c0002row3_col1\" class=\"data row3 col1\" >150799.000000</td>\n",
              "                        <td id=\"T_ccd16c44_c9c7_11eb_b217_0242ac1c0002row3_col2\" class=\"data row3 col2\" >97511.000000</td>\n",
              "                        <td id=\"T_ccd16c44_c9c7_11eb_b217_0242ac1c0002row3_col3\" class=\"data row3 col3\" >53288.000000</td>\n",
              "                        <td id=\"T_ccd16c44_c9c7_11eb_b217_0242ac1c0002row3_col4\" class=\"data row3 col4\" >2021-05-05 00:00:00</td>\n",
              "            </tr>\n",
              "            <tr>\n",
              "                        <th id=\"T_ccd16c44_c9c7_11eb_b217_0242ac1c0002level0_row4\" class=\"row_heading level0 row4\" >Paraguay</th>\n",
              "                        <td id=\"T_ccd16c44_c9c7_11eb_b217_0242ac1c0002row4_col0\" class=\"data row4 col0\" >Sputnik V</td>\n",
              "                        <td id=\"T_ccd16c44_c9c7_11eb_b217_0242ac1c0002row4_col1\" class=\"data row4 col1\" >143441.000000</td>\n",
              "                        <td id=\"T_ccd16c44_c9c7_11eb_b217_0242ac1c0002row4_col2\" class=\"data row4 col2\" >131013.000000</td>\n",
              "                        <td id=\"T_ccd16c44_c9c7_11eb_b217_0242ac1c0002row4_col3\" class=\"data row4 col3\" >12428.000000</td>\n",
              "                        <td id=\"T_ccd16c44_c9c7_11eb_b217_0242ac1c0002row4_col4\" class=\"data row4 col4\" >2021-05-02 00:00:00</td>\n",
              "            </tr>\n",
              "            <tr>\n",
              "                        <th id=\"T_ccd16c44_c9c7_11eb_b217_0242ac1c0002level0_row5\" class=\"row_heading level0 row5\" >Algeria</th>\n",
              "                        <td id=\"T_ccd16c44_c9c7_11eb_b217_0242ac1c0002row5_col0\" class=\"data row5 col0\" >Sputnik V</td>\n",
              "                        <td id=\"T_ccd16c44_c9c7_11eb_b217_0242ac1c0002row5_col1\" class=\"data row5 col1\" >75000.000000</td>\n",
              "                        <td id=\"T_ccd16c44_c9c7_11eb_b217_0242ac1c0002row5_col2\" class=\"data row5 col2\" >0.000000</td>\n",
              "                        <td id=\"T_ccd16c44_c9c7_11eb_b217_0242ac1c0002row5_col3\" class=\"data row5 col3\" >0.000000</td>\n",
              "                        <td id=\"T_ccd16c44_c9c7_11eb_b217_0242ac1c0002row5_col4\" class=\"data row5 col4\" >2021-02-19 00:00:00</td>\n",
              "            </tr>\n",
              "            <tr>\n",
              "                        <th id=\"T_ccd16c44_c9c7_11eb_b217_0242ac1c0002level0_row6\" class=\"row_heading level0 row6\" >Syria</th>\n",
              "                        <td id=\"T_ccd16c44_c9c7_11eb_b217_0242ac1c0002row6_col0\" class=\"data row6 col0\" >Sputnik V</td>\n",
              "                        <td id=\"T_ccd16c44_c9c7_11eb_b217_0242ac1c0002row6_col1\" class=\"data row6 col1\" >2500.000000</td>\n",
              "                        <td id=\"T_ccd16c44_c9c7_11eb_b217_0242ac1c0002row6_col2\" class=\"data row6 col2\" >2500.000000</td>\n",
              "                        <td id=\"T_ccd16c44_c9c7_11eb_b217_0242ac1c0002row6_col3\" class=\"data row6 col3\" >0.000000</td>\n",
              "                        <td id=\"T_ccd16c44_c9c7_11eb_b217_0242ac1c0002row6_col4\" class=\"data row6 col4\" >2021-04-08 00:00:00</td>\n",
              "            </tr>\n",
              "            <tr>\n",
              "                        <th id=\"T_ccd16c44_c9c7_11eb_b217_0242ac1c0002level0_row7\" class=\"row_heading level0 row7\" >Armenia</th>\n",
              "                        <td id=\"T_ccd16c44_c9c7_11eb_b217_0242ac1c0002row7_col0\" class=\"data row7 col0\" >Sputnik V</td>\n",
              "                        <td id=\"T_ccd16c44_c9c7_11eb_b217_0242ac1c0002row7_col1\" class=\"data row7 col1\" >565.000000</td>\n",
              "                        <td id=\"T_ccd16c44_c9c7_11eb_b217_0242ac1c0002row7_col2\" class=\"data row7 col2\" >565.000000</td>\n",
              "                        <td id=\"T_ccd16c44_c9c7_11eb_b217_0242ac1c0002row7_col3\" class=\"data row7 col3\" >0.000000</td>\n",
              "                        <td id=\"T_ccd16c44_c9c7_11eb_b217_0242ac1c0002row7_col4\" class=\"data row7 col4\" >2021-03-31 00:00:00</td>\n",
              "            </tr>\n",
              "    </tbody></table>"
            ],
            "text/plain": [
              "<pandas.io.formats.style.Styler at 0x7f5c1ac9cd50>"
            ]
          },
          "metadata": {
            "tags": []
          },
          "execution_count": 14
        }
      ]
    },
    {
      "cell_type": "code",
      "metadata": {
        "colab": {
          "base_uri": "https://localhost:8080/",
          "height": 354
        },
        "id": "AC_PEV-HH89K",
        "outputId": "2cf81b88-e456-4541-8067-917bb7a4fb8f"
      },
      "source": [
        "latest_data[latest_data['vaccines'] == 'Oxford/AstraZeneca'][['vaccines','total_vaccinations', 'people_vaccinated', 'people_fully_vaccinated','date']].sort_values(by='total_vaccinations', ascending = False).head(15).style.background_gradient(cmap='Blues')"
      ],
      "execution_count": null,
      "outputs": [
        {
          "output_type": "execute_result",
          "data": {
            "text/html": [
              "<style  type=\"text/css\" >\n",
              "#T_ccd72486_c9c7_11eb_b217_0242ac1c0002row0_col1,#T_ccd72486_c9c7_11eb_b217_0242ac1c0002row0_col2,#T_ccd72486_c9c7_11eb_b217_0242ac1c0002row0_col3{\n",
              "            background-color:  #08306b;\n",
              "            color:  #f1f1f1;\n",
              "        }#T_ccd72486_c9c7_11eb_b217_0242ac1c0002row1_col1{\n",
              "            background-color:  #deebf7;\n",
              "            color:  #000000;\n",
              "        }#T_ccd72486_c9c7_11eb_b217_0242ac1c0002row1_col2{\n",
              "            background-color:  #cddff1;\n",
              "            color:  #000000;\n",
              "        }#T_ccd72486_c9c7_11eb_b217_0242ac1c0002row1_col3,#T_ccd72486_c9c7_11eb_b217_0242ac1c0002row2_col2,#T_ccd72486_c9c7_11eb_b217_0242ac1c0002row2_col3,#T_ccd72486_c9c7_11eb_b217_0242ac1c0002row4_col3,#T_ccd72486_c9c7_11eb_b217_0242ac1c0002row5_col3,#T_ccd72486_c9c7_11eb_b217_0242ac1c0002row6_col3,#T_ccd72486_c9c7_11eb_b217_0242ac1c0002row7_col3,#T_ccd72486_c9c7_11eb_b217_0242ac1c0002row8_col3,#T_ccd72486_c9c7_11eb_b217_0242ac1c0002row9_col3,#T_ccd72486_c9c7_11eb_b217_0242ac1c0002row10_col3,#T_ccd72486_c9c7_11eb_b217_0242ac1c0002row11_col3,#T_ccd72486_c9c7_11eb_b217_0242ac1c0002row12_col3,#T_ccd72486_c9c7_11eb_b217_0242ac1c0002row13_col1,#T_ccd72486_c9c7_11eb_b217_0242ac1c0002row13_col3,#T_ccd72486_c9c7_11eb_b217_0242ac1c0002row14_col1,#T_ccd72486_c9c7_11eb_b217_0242ac1c0002row14_col3{\n",
              "            background-color:  #f7fbff;\n",
              "            color:  #000000;\n",
              "        }#T_ccd72486_c9c7_11eb_b217_0242ac1c0002row2_col1{\n",
              "            background-color:  #dfecf7;\n",
              "            color:  #000000;\n",
              "        }#T_ccd72486_c9c7_11eb_b217_0242ac1c0002row3_col1{\n",
              "            background-color:  #e3eef9;\n",
              "            color:  #000000;\n",
              "        }#T_ccd72486_c9c7_11eb_b217_0242ac1c0002row3_col2{\n",
              "            background-color:  #d6e5f4;\n",
              "            color:  #000000;\n",
              "        }#T_ccd72486_c9c7_11eb_b217_0242ac1c0002row3_col3{\n",
              "            background-color:  #f5f9fe;\n",
              "            color:  #000000;\n",
              "        }#T_ccd72486_c9c7_11eb_b217_0242ac1c0002row4_col1,#T_ccd72486_c9c7_11eb_b217_0242ac1c0002row8_col2{\n",
              "            background-color:  #e7f1fa;\n",
              "            color:  #000000;\n",
              "        }#T_ccd72486_c9c7_11eb_b217_0242ac1c0002row4_col2{\n",
              "            background-color:  #dae8f6;\n",
              "            color:  #000000;\n",
              "        }#T_ccd72486_c9c7_11eb_b217_0242ac1c0002row5_col1{\n",
              "            background-color:  #ebf3fb;\n",
              "            color:  #000000;\n",
              "        }#T_ccd72486_c9c7_11eb_b217_0242ac1c0002row5_col2{\n",
              "            background-color:  #e0ecf8;\n",
              "            color:  #000000;\n",
              "        }#T_ccd72486_c9c7_11eb_b217_0242ac1c0002row6_col1,#T_ccd72486_c9c7_11eb_b217_0242ac1c0002row10_col2{\n",
              "            background-color:  #edf4fc;\n",
              "            color:  #000000;\n",
              "        }#T_ccd72486_c9c7_11eb_b217_0242ac1c0002row6_col2{\n",
              "            background-color:  #e3eef8;\n",
              "            color:  #000000;\n",
              "        }#T_ccd72486_c9c7_11eb_b217_0242ac1c0002row7_col1,#T_ccd72486_c9c7_11eb_b217_0242ac1c0002row12_col2{\n",
              "            background-color:  #f0f6fd;\n",
              "            color:  #000000;\n",
              "        }#T_ccd72486_c9c7_11eb_b217_0242ac1c0002row7_col2{\n",
              "            background-color:  #e7f0fa;\n",
              "            color:  #000000;\n",
              "        }#T_ccd72486_c9c7_11eb_b217_0242ac1c0002row8_col1{\n",
              "            background-color:  #f1f7fd;\n",
              "            color:  #000000;\n",
              "        }#T_ccd72486_c9c7_11eb_b217_0242ac1c0002row9_col1,#T_ccd72486_c9c7_11eb_b217_0242ac1c0002row14_col2{\n",
              "            background-color:  #f2f8fd;\n",
              "            color:  #000000;\n",
              "        }#T_ccd72486_c9c7_11eb_b217_0242ac1c0002row9_col2{\n",
              "            background-color:  #eaf3fb;\n",
              "            color:  #000000;\n",
              "        }#T_ccd72486_c9c7_11eb_b217_0242ac1c0002row10_col1{\n",
              "            background-color:  #f4f9fe;\n",
              "            color:  #000000;\n",
              "        }#T_ccd72486_c9c7_11eb_b217_0242ac1c0002row11_col1,#T_ccd72486_c9c7_11eb_b217_0242ac1c0002row12_col1{\n",
              "            background-color:  #f5fafe;\n",
              "            color:  #000000;\n",
              "        }#T_ccd72486_c9c7_11eb_b217_0242ac1c0002row11_col2{\n",
              "            background-color:  #eff6fc;\n",
              "            color:  #000000;\n",
              "        }#T_ccd72486_c9c7_11eb_b217_0242ac1c0002row13_col2{\n",
              "            background-color:  #f2f7fd;\n",
              "            color:  #000000;\n",
              "        }</style><table id=\"T_ccd72486_c9c7_11eb_b217_0242ac1c0002\" ><thead>    <tr>        <th class=\"blank level0\" ></th>        <th class=\"col_heading level0 col0\" >vaccines</th>        <th class=\"col_heading level0 col1\" >total_vaccinations</th>        <th class=\"col_heading level0 col2\" >people_vaccinated</th>        <th class=\"col_heading level0 col3\" >people_fully_vaccinated</th>        <th class=\"col_heading level0 col4\" >date</th>    </tr>    <tr>        <th class=\"index_name level0\" >country</th>        <th class=\"blank\" ></th>        <th class=\"blank\" ></th>        <th class=\"blank\" ></th>        <th class=\"blank\" ></th>        <th class=\"blank\" ></th>    </tr></thead><tbody>\n",
              "                <tr>\n",
              "                        <th id=\"T_ccd72486_c9c7_11eb_b217_0242ac1c0002level0_row0\" class=\"row_heading level0 row0\" >Bangladesh</th>\n",
              "                        <td id=\"T_ccd72486_c9c7_11eb_b217_0242ac1c0002row0_col0\" class=\"data row0 col0\" >Oxford/AstraZeneca</td>\n",
              "                        <td id=\"T_ccd72486_c9c7_11eb_b217_0242ac1c0002row0_col1\" class=\"data row0 col1\" >9133278.000000</td>\n",
              "                        <td id=\"T_ccd72486_c9c7_11eb_b217_0242ac1c0002row0_col2\" class=\"data row0 col2\" >5819854.000000</td>\n",
              "                        <td id=\"T_ccd72486_c9c7_11eb_b217_0242ac1c0002row0_col3\" class=\"data row0 col3\" >3313424.000000</td>\n",
              "                        <td id=\"T_ccd72486_c9c7_11eb_b217_0242ac1c0002row0_col4\" class=\"data row0 col4\" >2021-05-06 00:00:00</td>\n",
              "            </tr>\n",
              "            <tr>\n",
              "                        <th id=\"T_ccd72486_c9c7_11eb_b217_0242ac1c0002level0_row1\" class=\"row_heading level0 row1\" >Nigeria</th>\n",
              "                        <td id=\"T_ccd72486_c9c7_11eb_b217_0242ac1c0002row1_col0\" class=\"data row1 col0\" >Oxford/AstraZeneca</td>\n",
              "                        <td id=\"T_ccd72486_c9c7_11eb_b217_0242ac1c0002row1_col1\" class=\"data row1 col1\" >1266742.000000</td>\n",
              "                        <td id=\"T_ccd72486_c9c7_11eb_b217_0242ac1c0002row1_col2\" class=\"data row1 col2\" >1266742.000000</td>\n",
              "                        <td id=\"T_ccd72486_c9c7_11eb_b217_0242ac1c0002row1_col3\" class=\"data row1 col3\" >0.000000</td>\n",
              "                        <td id=\"T_ccd72486_c9c7_11eb_b217_0242ac1c0002row1_col4\" class=\"data row1 col4\" >2021-05-05 00:00:00</td>\n",
              "            </tr>\n",
              "            <tr>\n",
              "                        <th id=\"T_ccd72486_c9c7_11eb_b217_0242ac1c0002level0_row2\" class=\"row_heading level0 row2\" >Ethiopia</th>\n",
              "                        <td id=\"T_ccd72486_c9c7_11eb_b217_0242ac1c0002row2_col0\" class=\"data row2 col0\" >Oxford/AstraZeneca</td>\n",
              "                        <td id=\"T_ccd72486_c9c7_11eb_b217_0242ac1c0002row2_col1\" class=\"data row2 col1\" >1215934.000000</td>\n",
              "                        <td id=\"T_ccd72486_c9c7_11eb_b217_0242ac1c0002row2_col2\" class=\"data row2 col2\" >0.000000</td>\n",
              "                        <td id=\"T_ccd72486_c9c7_11eb_b217_0242ac1c0002row2_col3\" class=\"data row2 col3\" >0.000000</td>\n",
              "                        <td id=\"T_ccd72486_c9c7_11eb_b217_0242ac1c0002row2_col4\" class=\"data row2 col4\" >2021-05-05 00:00:00</td>\n",
              "            </tr>\n",
              "            <tr>\n",
              "                        <th id=\"T_ccd72486_c9c7_11eb_b217_0242ac1c0002level0_row3\" class=\"row_heading level0 row3\" >Myanmar</th>\n",
              "                        <td id=\"T_ccd72486_c9c7_11eb_b217_0242ac1c0002row3_col0\" class=\"data row3 col0\" >Oxford/AstraZeneca</td>\n",
              "                        <td id=\"T_ccd72486_c9c7_11eb_b217_0242ac1c0002row3_col1\" class=\"data row3 col1\" >1040000.000000</td>\n",
              "                        <td id=\"T_ccd72486_c9c7_11eb_b217_0242ac1c0002row3_col2\" class=\"data row3 col2\" >1000000.000000</td>\n",
              "                        <td id=\"T_ccd72486_c9c7_11eb_b217_0242ac1c0002row3_col3\" class=\"data row3 col3\" >40000.000000</td>\n",
              "                        <td id=\"T_ccd72486_c9c7_11eb_b217_0242ac1c0002row3_col4\" class=\"data row3 col4\" >2021-03-31 00:00:00</td>\n",
              "            </tr>\n",
              "            <tr>\n",
              "                        <th id=\"T_ccd72486_c9c7_11eb_b217_0242ac1c0002level0_row4\" class=\"row_heading level0 row4\" >Ghana</th>\n",
              "                        <td id=\"T_ccd72486_c9c7_11eb_b217_0242ac1c0002row4_col0\" class=\"data row4 col0\" >Oxford/AstraZeneca</td>\n",
              "                        <td id=\"T_ccd72486_c9c7_11eb_b217_0242ac1c0002row4_col1\" class=\"data row4 col1\" >849527.000000</td>\n",
              "                        <td id=\"T_ccd72486_c9c7_11eb_b217_0242ac1c0002row4_col2\" class=\"data row4 col2\" >849527.000000</td>\n",
              "                        <td id=\"T_ccd72486_c9c7_11eb_b217_0242ac1c0002row4_col3\" class=\"data row4 col3\" >0.000000</td>\n",
              "                        <td id=\"T_ccd72486_c9c7_11eb_b217_0242ac1c0002row4_col4\" class=\"data row4 col4\" >2021-04-30 00:00:00</td>\n",
              "            </tr>\n",
              "            <tr>\n",
              "                        <th id=\"T_ccd72486_c9c7_11eb_b217_0242ac1c0002level0_row5\" class=\"row_heading level0 row5\" >Vietnam</th>\n",
              "                        <td id=\"T_ccd72486_c9c7_11eb_b217_0242ac1c0002row5_col0\" class=\"data row5 col0\" >Oxford/AstraZeneca</td>\n",
              "                        <td id=\"T_ccd72486_c9c7_11eb_b217_0242ac1c0002row5_col1\" class=\"data row5 col1\" >675956.000000</td>\n",
              "                        <td id=\"T_ccd72486_c9c7_11eb_b217_0242ac1c0002row5_col2\" class=\"data row5 col2\" >675956.000000</td>\n",
              "                        <td id=\"T_ccd72486_c9c7_11eb_b217_0242ac1c0002row5_col3\" class=\"data row5 col3\" >0.000000</td>\n",
              "                        <td id=\"T_ccd72486_c9c7_11eb_b217_0242ac1c0002row5_col4\" class=\"data row5 col4\" >2021-05-05 00:00:00</td>\n",
              "            </tr>\n",
              "            <tr>\n",
              "                        <th id=\"T_ccd72486_c9c7_11eb_b217_0242ac1c0002level0_row6\" class=\"row_heading level0 row6\" >Uzbekistan</th>\n",
              "                        <td id=\"T_ccd72486_c9c7_11eb_b217_0242ac1c0002row6_col0\" class=\"data row6 col0\" >Oxford/AstraZeneca</td>\n",
              "                        <td id=\"T_ccd72486_c9c7_11eb_b217_0242ac1c0002row6_col1\" class=\"data row6 col1\" >600369.000000</td>\n",
              "                        <td id=\"T_ccd72486_c9c7_11eb_b217_0242ac1c0002row6_col2\" class=\"data row6 col2\" >600369.000000</td>\n",
              "                        <td id=\"T_ccd72486_c9c7_11eb_b217_0242ac1c0002row6_col3\" class=\"data row6 col3\" >0.000000</td>\n",
              "                        <td id=\"T_ccd72486_c9c7_11eb_b217_0242ac1c0002row6_col4\" class=\"data row6 col4\" >2021-04-27 00:00:00</td>\n",
              "            </tr>\n",
              "            <tr>\n",
              "                        <th id=\"T_ccd72486_c9c7_11eb_b217_0242ac1c0002level0_row7\" class=\"row_heading level0 row7\" >Bhutan</th>\n",
              "                        <td id=\"T_ccd72486_c9c7_11eb_b217_0242ac1c0002row7_col0\" class=\"data row7 col0\" >Oxford/AstraZeneca</td>\n",
              "                        <td id=\"T_ccd72486_c9c7_11eb_b217_0242ac1c0002row7_col1\" class=\"data row7 col1\" >481107.000000</td>\n",
              "                        <td id=\"T_ccd72486_c9c7_11eb_b217_0242ac1c0002row7_col2\" class=\"data row7 col2\" >481107.000000</td>\n",
              "                        <td id=\"T_ccd72486_c9c7_11eb_b217_0242ac1c0002row7_col3\" class=\"data row7 col3\" >0.000000</td>\n",
              "                        <td id=\"T_ccd72486_c9c7_11eb_b217_0242ac1c0002row7_col4\" class=\"data row7 col4\" >2021-05-06 00:00:00</td>\n",
              "            </tr>\n",
              "            <tr>\n",
              "                        <th id=\"T_ccd72486_c9c7_11eb_b217_0242ac1c0002level0_row8\" class=\"row_heading level0 row8\" >Angola</th>\n",
              "                        <td id=\"T_ccd72486_c9c7_11eb_b217_0242ac1c0002row8_col0\" class=\"data row8 col0\" >Oxford/AstraZeneca</td>\n",
              "                        <td id=\"T_ccd72486_c9c7_11eb_b217_0242ac1c0002row8_col1\" class=\"data row8 col1\" >456349.000000</td>\n",
              "                        <td id=\"T_ccd72486_c9c7_11eb_b217_0242ac1c0002row8_col2\" class=\"data row8 col2\" >456349.000000</td>\n",
              "                        <td id=\"T_ccd72486_c9c7_11eb_b217_0242ac1c0002row8_col3\" class=\"data row8 col3\" >0.000000</td>\n",
              "                        <td id=\"T_ccd72486_c9c7_11eb_b217_0242ac1c0002row8_col4\" class=\"data row8 col4\" >2021-04-23 00:00:00</td>\n",
              "            </tr>\n",
              "            <tr>\n",
              "                        <th id=\"T_ccd72486_c9c7_11eb_b217_0242ac1c0002level0_row9\" class=\"row_heading level0 row9\" >Uganda</th>\n",
              "                        <td id=\"T_ccd72486_c9c7_11eb_b217_0242ac1c0002row9_col0\" class=\"data row9 col0\" >Oxford/AstraZeneca</td>\n",
              "                        <td id=\"T_ccd72486_c9c7_11eb_b217_0242ac1c0002row9_col1\" class=\"data row9 col1\" >375283.000000</td>\n",
              "                        <td id=\"T_ccd72486_c9c7_11eb_b217_0242ac1c0002row9_col2\" class=\"data row9 col2\" >375283.000000</td>\n",
              "                        <td id=\"T_ccd72486_c9c7_11eb_b217_0242ac1c0002row9_col3\" class=\"data row9 col3\" >0.000000</td>\n",
              "                        <td id=\"T_ccd72486_c9c7_11eb_b217_0242ac1c0002row9_col4\" class=\"data row9 col4\" >2021-05-04 00:00:00</td>\n",
              "            </tr>\n",
              "            <tr>\n",
              "                        <th id=\"T_ccd72486_c9c7_11eb_b217_0242ac1c0002level0_row10\" class=\"row_heading level0 row10\" >Malawi</th>\n",
              "                        <td id=\"T_ccd72486_c9c7_11eb_b217_0242ac1c0002row10_col0\" class=\"data row10 col0\" >Oxford/AstraZeneca</td>\n",
              "                        <td id=\"T_ccd72486_c9c7_11eb_b217_0242ac1c0002row10_col1\" class=\"data row10 col1\" >311751.000000</td>\n",
              "                        <td id=\"T_ccd72486_c9c7_11eb_b217_0242ac1c0002row10_col2\" class=\"data row10 col2\" >311751.000000</td>\n",
              "                        <td id=\"T_ccd72486_c9c7_11eb_b217_0242ac1c0002row10_col3\" class=\"data row10 col3\" >0.000000</td>\n",
              "                        <td id=\"T_ccd72486_c9c7_11eb_b217_0242ac1c0002row10_col4\" class=\"data row10 col4\" >2021-05-06 00:00:00</td>\n",
              "            </tr>\n",
              "            <tr>\n",
              "                        <th id=\"T_ccd72486_c9c7_11eb_b217_0242ac1c0002level0_row11\" class=\"row_heading level0 row11\" >Afghanistan</th>\n",
              "                        <td id=\"T_ccd72486_c9c7_11eb_b217_0242ac1c0002row11_col0\" class=\"data row11 col0\" >Oxford/AstraZeneca</td>\n",
              "                        <td id=\"T_ccd72486_c9c7_11eb_b217_0242ac1c0002row11_col1\" class=\"data row11 col1\" >240000.000000</td>\n",
              "                        <td id=\"T_ccd72486_c9c7_11eb_b217_0242ac1c0002row11_col2\" class=\"data row11 col2\" >240000.000000</td>\n",
              "                        <td id=\"T_ccd72486_c9c7_11eb_b217_0242ac1c0002row11_col3\" class=\"data row11 col3\" >0.000000</td>\n",
              "                        <td id=\"T_ccd72486_c9c7_11eb_b217_0242ac1c0002row11_col4\" class=\"data row11 col4\" >2021-04-22 00:00:00</td>\n",
              "            </tr>\n",
              "            <tr>\n",
              "                        <th id=\"T_ccd72486_c9c7_11eb_b217_0242ac1c0002level0_row12\" class=\"row_heading level0 row12\" >Cote d'Ivoire</th>\n",
              "                        <td id=\"T_ccd72486_c9c7_11eb_b217_0242ac1c0002row12_col0\" class=\"data row12 col0\" >Oxford/AstraZeneca</td>\n",
              "                        <td id=\"T_ccd72486_c9c7_11eb_b217_0242ac1c0002row12_col1\" class=\"data row12 col1\" >215010.000000</td>\n",
              "                        <td id=\"T_ccd72486_c9c7_11eb_b217_0242ac1c0002row12_col2\" class=\"data row12 col2\" >215010.000000</td>\n",
              "                        <td id=\"T_ccd72486_c9c7_11eb_b217_0242ac1c0002row12_col3\" class=\"data row12 col3\" >0.000000</td>\n",
              "                        <td id=\"T_ccd72486_c9c7_11eb_b217_0242ac1c0002row12_col4\" class=\"data row12 col4\" >2021-05-06 00:00:00</td>\n",
              "            </tr>\n",
              "            <tr>\n",
              "                        <th id=\"T_ccd72486_c9c7_11eb_b217_0242ac1c0002level0_row13\" class=\"row_heading level0 row13\" >Togo</th>\n",
              "                        <td id=\"T_ccd72486_c9c7_11eb_b217_0242ac1c0002row13_col0\" class=\"data row13 col0\" >Oxford/AstraZeneca</td>\n",
              "                        <td id=\"T_ccd72486_c9c7_11eb_b217_0242ac1c0002row13_col1\" class=\"data row13 col1\" >160000.000000</td>\n",
              "                        <td id=\"T_ccd72486_c9c7_11eb_b217_0242ac1c0002row13_col2\" class=\"data row13 col2\" >160000.000000</td>\n",
              "                        <td id=\"T_ccd72486_c9c7_11eb_b217_0242ac1c0002row13_col3\" class=\"data row13 col3\" >0.000000</td>\n",
              "                        <td id=\"T_ccd72486_c9c7_11eb_b217_0242ac1c0002row13_col4\" class=\"data row13 col4\" >2021-04-17 00:00:00</td>\n",
              "            </tr>\n",
              "            <tr>\n",
              "                        <th id=\"T_ccd72486_c9c7_11eb_b217_0242ac1c0002level0_row14\" class=\"row_heading level0 row14\" >Sudan</th>\n",
              "                        <td id=\"T_ccd72486_c9c7_11eb_b217_0242ac1c0002row14_col0\" class=\"data row14 col0\" >Oxford/AstraZeneca</td>\n",
              "                        <td id=\"T_ccd72486_c9c7_11eb_b217_0242ac1c0002row14_col1\" class=\"data row14 col1\" >140227.000000</td>\n",
              "                        <td id=\"T_ccd72486_c9c7_11eb_b217_0242ac1c0002row14_col2\" class=\"data row14 col2\" >140227.000000</td>\n",
              "                        <td id=\"T_ccd72486_c9c7_11eb_b217_0242ac1c0002row14_col3\" class=\"data row14 col3\" >0.000000</td>\n",
              "                        <td id=\"T_ccd72486_c9c7_11eb_b217_0242ac1c0002row14_col4\" class=\"data row14 col4\" >2021-04-23 00:00:00</td>\n",
              "            </tr>\n",
              "    </tbody></table>"
            ],
            "text/plain": [
              "<pandas.io.formats.style.Styler at 0x7f5c1a78b9d0>"
            ]
          },
          "metadata": {
            "tags": []
          },
          "execution_count": 15
        }
      ]
    },
    {
      "cell_type": "code",
      "metadata": {
        "colab": {
          "base_uri": "https://localhost:8080/",
          "height": 604
        },
        "id": "FHtc6pGOIBgq",
        "outputId": "08f2ed81-8b06-413a-8f03-bda2a1f79a9a"
      },
      "source": [
        "latest_data[latest_data['vaccines'] == 'Moderna, Oxford/AstraZeneca, Pfizer/BioNTech'][['vaccines','total_vaccinations', 'people_vaccinated', 'people_fully_vaccinated','date']].sort_values(by='total_vaccinations', ascending = False).head(15).style.background_gradient(cmap='Blues')"
      ],
      "execution_count": null,
      "outputs": [
        {
          "output_type": "execute_result",
          "data": {
            "text/html": [
              "<style  type=\"text/css\" >\n",
              "#T_ccdeff8a_c9c7_11eb_b217_0242ac1c0002row0_col1,#T_ccdeff8a_c9c7_11eb_b217_0242ac1c0002row0_col2,#T_ccdeff8a_c9c7_11eb_b217_0242ac1c0002row0_col3{\n",
              "            background-color:  #08306b;\n",
              "            color:  #f1f1f1;\n",
              "        }#T_ccdeff8a_c9c7_11eb_b217_0242ac1c0002row1_col1,#T_ccdeff8a_c9c7_11eb_b217_0242ac1c0002row1_col2,#T_ccdeff8a_c9c7_11eb_b217_0242ac1c0002row1_col3{\n",
              "            background-color:  #105ba4;\n",
              "            color:  #f1f1f1;\n",
              "        }#T_ccdeff8a_c9c7_11eb_b217_0242ac1c0002row2_col1{\n",
              "            background-color:  #bcd7eb;\n",
              "            color:  #000000;\n",
              "        }#T_ccdeff8a_c9c7_11eb_b217_0242ac1c0002row2_col2{\n",
              "            background-color:  #9ac8e0;\n",
              "            color:  #000000;\n",
              "        }#T_ccdeff8a_c9c7_11eb_b217_0242ac1c0002row2_col3{\n",
              "            background-color:  #eaf3fb;\n",
              "            color:  #000000;\n",
              "        }#T_ccdeff8a_c9c7_11eb_b217_0242ac1c0002row3_col1,#T_ccdeff8a_c9c7_11eb_b217_0242ac1c0002row3_col2{\n",
              "            background-color:  #e9f2fa;\n",
              "            color:  #000000;\n",
              "        }#T_ccdeff8a_c9c7_11eb_b217_0242ac1c0002row3_col3{\n",
              "            background-color:  #e8f1fa;\n",
              "            color:  #000000;\n",
              "        }#T_ccdeff8a_c9c7_11eb_b217_0242ac1c0002row4_col1{\n",
              "            background-color:  #ebf3fb;\n",
              "            color:  #000000;\n",
              "        }#T_ccdeff8a_c9c7_11eb_b217_0242ac1c0002row4_col2{\n",
              "            background-color:  #eaf2fb;\n",
              "            color:  #000000;\n",
              "        }#T_ccdeff8a_c9c7_11eb_b217_0242ac1c0002row4_col3{\n",
              "            background-color:  #edf4fc;\n",
              "            color:  #000000;\n",
              "        }#T_ccdeff8a_c9c7_11eb_b217_0242ac1c0002row5_col1,#T_ccdeff8a_c9c7_11eb_b217_0242ac1c0002row5_col2,#T_ccdeff8a_c9c7_11eb_b217_0242ac1c0002row5_col3{\n",
              "            background-color:  #ecf4fb;\n",
              "            color:  #000000;\n",
              "        }#T_ccdeff8a_c9c7_11eb_b217_0242ac1c0002row6_col1,#T_ccdeff8a_c9c7_11eb_b217_0242ac1c0002row6_col3,#T_ccdeff8a_c9c7_11eb_b217_0242ac1c0002row8_col2{\n",
              "            background-color:  #eff6fc;\n",
              "            color:  #000000;\n",
              "        }#T_ccdeff8a_c9c7_11eb_b217_0242ac1c0002row6_col2{\n",
              "            background-color:  #eef5fc;\n",
              "            color:  #000000;\n",
              "        }#T_ccdeff8a_c9c7_11eb_b217_0242ac1c0002row7_col1{\n",
              "            background-color:  #f1f7fd;\n",
              "            color:  #000000;\n",
              "        }#T_ccdeff8a_c9c7_11eb_b217_0242ac1c0002row7_col2,#T_ccdeff8a_c9c7_11eb_b217_0242ac1c0002row8_col1,#T_ccdeff8a_c9c7_11eb_b217_0242ac1c0002row9_col2{\n",
              "            background-color:  #f2f7fd;\n",
              "            color:  #000000;\n",
              "        }#T_ccdeff8a_c9c7_11eb_b217_0242ac1c0002row7_col3{\n",
              "            background-color:  #f0f6fd;\n",
              "            color:  #000000;\n",
              "        }#T_ccdeff8a_c9c7_11eb_b217_0242ac1c0002row8_col3,#T_ccdeff8a_c9c7_11eb_b217_0242ac1c0002row14_col1,#T_ccdeff8a_c9c7_11eb_b217_0242ac1c0002row14_col2,#T_ccdeff8a_c9c7_11eb_b217_0242ac1c0002row14_col3{\n",
              "            background-color:  #f7fbff;\n",
              "            color:  #000000;\n",
              "        }#T_ccdeff8a_c9c7_11eb_b217_0242ac1c0002row9_col1,#T_ccdeff8a_c9c7_11eb_b217_0242ac1c0002row10_col2{\n",
              "            background-color:  #f2f8fd;\n",
              "            color:  #000000;\n",
              "        }#T_ccdeff8a_c9c7_11eb_b217_0242ac1c0002row9_col3,#T_ccdeff8a_c9c7_11eb_b217_0242ac1c0002row10_col3,#T_ccdeff8a_c9c7_11eb_b217_0242ac1c0002row11_col1,#T_ccdeff8a_c9c7_11eb_b217_0242ac1c0002row11_col2,#T_ccdeff8a_c9c7_11eb_b217_0242ac1c0002row11_col3{\n",
              "            background-color:  #f4f9fe;\n",
              "            color:  #000000;\n",
              "        }#T_ccdeff8a_c9c7_11eb_b217_0242ac1c0002row10_col1{\n",
              "            background-color:  #f3f8fe;\n",
              "            color:  #000000;\n",
              "        }#T_ccdeff8a_c9c7_11eb_b217_0242ac1c0002row12_col1,#T_ccdeff8a_c9c7_11eb_b217_0242ac1c0002row12_col2{\n",
              "            background-color:  #f5fafe;\n",
              "            color:  #000000;\n",
              "        }#T_ccdeff8a_c9c7_11eb_b217_0242ac1c0002row12_col3,#T_ccdeff8a_c9c7_11eb_b217_0242ac1c0002row13_col1,#T_ccdeff8a_c9c7_11eb_b217_0242ac1c0002row13_col2,#T_ccdeff8a_c9c7_11eb_b217_0242ac1c0002row13_col3{\n",
              "            background-color:  #f6faff;\n",
              "            color:  #000000;\n",
              "        }</style><table id=\"T_ccdeff8a_c9c7_11eb_b217_0242ac1c0002\" ><thead>    <tr>        <th class=\"blank level0\" ></th>        <th class=\"col_heading level0 col0\" >vaccines</th>        <th class=\"col_heading level0 col1\" >total_vaccinations</th>        <th class=\"col_heading level0 col2\" >people_vaccinated</th>        <th class=\"col_heading level0 col3\" >people_fully_vaccinated</th>        <th class=\"col_heading level0 col4\" >date</th>    </tr>    <tr>        <th class=\"index_name level0\" >country</th>        <th class=\"blank\" ></th>        <th class=\"blank\" ></th>        <th class=\"blank\" ></th>        <th class=\"blank\" ></th>        <th class=\"blank\" ></th>    </tr></thead><tbody>\n",
              "                <tr>\n",
              "                        <th id=\"T_ccdeff8a_c9c7_11eb_b217_0242ac1c0002level0_row0\" class=\"row_heading level0 row0\" >United Kingdom</th>\n",
              "                        <td id=\"T_ccdeff8a_c9c7_11eb_b217_0242ac1c0002row0_col0\" class=\"data row0 col0\" >Moderna, Oxford/AstraZeneca, Pfizer/BioNTech</td>\n",
              "                        <td id=\"T_ccdeff8a_c9c7_11eb_b217_0242ac1c0002row0_col1\" class=\"data row0 col1\" >51225890.000000</td>\n",
              "                        <td id=\"T_ccdeff8a_c9c7_11eb_b217_0242ac1c0002row0_col2\" class=\"data row0 col2\" >34934171.000000</td>\n",
              "                        <td id=\"T_ccdeff8a_c9c7_11eb_b217_0242ac1c0002row0_col3\" class=\"data row0 col3\" >16291719.000000</td>\n",
              "                        <td id=\"T_ccdeff8a_c9c7_11eb_b217_0242ac1c0002row0_col4\" class=\"data row0 col4\" >2021-05-05 00:00:00</td>\n",
              "            </tr>\n",
              "            <tr>\n",
              "                        <th id=\"T_ccdeff8a_c9c7_11eb_b217_0242ac1c0002level0_row1\" class=\"row_heading level0 row1\" >England</th>\n",
              "                        <td id=\"T_ccdeff8a_c9c7_11eb_b217_0242ac1c0002row1_col0\" class=\"data row1 col0\" >Moderna, Oxford/AstraZeneca, Pfizer/BioNTech</td>\n",
              "                        <td id=\"T_ccdeff8a_c9c7_11eb_b217_0242ac1c0002row1_col1\" class=\"data row1 col1\" >42864836.000000</td>\n",
              "                        <td id=\"T_ccdeff8a_c9c7_11eb_b217_0242ac1c0002row1_col2\" class=\"data row1 col2\" >29232101.000000</td>\n",
              "                        <td id=\"T_ccdeff8a_c9c7_11eb_b217_0242ac1c0002row1_col3\" class=\"data row1 col3\" >13632735.000000</td>\n",
              "                        <td id=\"T_ccdeff8a_c9c7_11eb_b217_0242ac1c0002row1_col4\" class=\"data row1 col4\" >2021-05-05 00:00:00</td>\n",
              "            </tr>\n",
              "            <tr>\n",
              "                        <th id=\"T_ccdeff8a_c9c7_11eb_b217_0242ac1c0002level0_row2\" class=\"row_heading level0 row2\" >Canada</th>\n",
              "                        <td id=\"T_ccdeff8a_c9c7_11eb_b217_0242ac1c0002row2_col0\" class=\"data row2 col0\" >Moderna, Oxford/AstraZeneca, Pfizer/BioNTech</td>\n",
              "                        <td id=\"T_ccdeff8a_c9c7_11eb_b217_0242ac1c0002row2_col1\" class=\"data row2 col1\" >14924694.000000</td>\n",
              "                        <td id=\"T_ccdeff8a_c9c7_11eb_b217_0242ac1c0002row2_col2\" class=\"data row2 col2\" >13728528.000000</td>\n",
              "                        <td id=\"T_ccdeff8a_c9c7_11eb_b217_0242ac1c0002row2_col3\" class=\"data row2 col3\" >1196166.000000</td>\n",
              "                        <td id=\"T_ccdeff8a_c9c7_11eb_b217_0242ac1c0002row2_col4\" class=\"data row2 col4\" >2021-05-06 00:00:00</td>\n",
              "            </tr>\n",
              "            <tr>\n",
              "                        <th id=\"T_ccdeff8a_c9c7_11eb_b217_0242ac1c0002level0_row3\" class=\"row_heading level0 row3\" >Scotland</th>\n",
              "                        <td id=\"T_ccdeff8a_c9c7_11eb_b217_0242ac1c0002row3_col0\" class=\"data row3 col0\" >Moderna, Oxford/AstraZeneca, Pfizer/BioNTech</td>\n",
              "                        <td id=\"T_ccdeff8a_c9c7_11eb_b217_0242ac1c0002row3_col1\" class=\"data row3 col1\" >4260931.000000</td>\n",
              "                        <td id=\"T_ccdeff8a_c9c7_11eb_b217_0242ac1c0002row3_col2\" class=\"data row3 col2\" >2860635.000000</td>\n",
              "                        <td id=\"T_ccdeff8a_c9c7_11eb_b217_0242ac1c0002row3_col3\" class=\"data row3 col3\" >1400296.000000</td>\n",
              "                        <td id=\"T_ccdeff8a_c9c7_11eb_b217_0242ac1c0002row3_col4\" class=\"data row3 col4\" >2021-05-05 00:00:00</td>\n",
              "            </tr>\n",
              "            <tr>\n",
              "                        <th id=\"T_ccdeff8a_c9c7_11eb_b217_0242ac1c0002level0_row4\" class=\"row_heading level0 row4\" >Portugal</th>\n",
              "                        <td id=\"T_ccdeff8a_c9c7_11eb_b217_0242ac1c0002row4_col0\" class=\"data row4 col0\" >Moderna, Oxford/AstraZeneca, Pfizer/BioNTech</td>\n",
              "                        <td id=\"T_ccdeff8a_c9c7_11eb_b217_0242ac1c0002row4_col1\" class=\"data row4 col1\" >3675613.000000</td>\n",
              "                        <td id=\"T_ccdeff8a_c9c7_11eb_b217_0242ac1c0002row4_col2\" class=\"data row4 col2\" >2692633.000000</td>\n",
              "                        <td id=\"T_ccdeff8a_c9c7_11eb_b217_0242ac1c0002row4_col3\" class=\"data row4 col3\" >982958.000000</td>\n",
              "                        <td id=\"T_ccdeff8a_c9c7_11eb_b217_0242ac1c0002row4_col4\" class=\"data row4 col4\" >2021-05-06 00:00:00</td>\n",
              "            </tr>\n",
              "            <tr>\n",
              "                        <th id=\"T_ccdeff8a_c9c7_11eb_b217_0242ac1c0002level0_row5\" class=\"row_heading level0 row5\" >Greece</th>\n",
              "                        <td id=\"T_ccdeff8a_c9c7_11eb_b217_0242ac1c0002row5_col0\" class=\"data row5 col0\" >Moderna, Oxford/AstraZeneca, Pfizer/BioNTech</td>\n",
              "                        <td id=\"T_ccdeff8a_c9c7_11eb_b217_0242ac1c0002row5_col1\" class=\"data row5 col1\" >3424468.000000</td>\n",
              "                        <td id=\"T_ccdeff8a_c9c7_11eb_b217_0242ac1c0002row5_col2\" class=\"data row5 col2\" >2333921.000000</td>\n",
              "                        <td id=\"T_ccdeff8a_c9c7_11eb_b217_0242ac1c0002row5_col3\" class=\"data row5 col3\" >1090547.000000</td>\n",
              "                        <td id=\"T_ccdeff8a_c9c7_11eb_b217_0242ac1c0002row5_col4\" class=\"data row5 col4\" >2021-05-06 00:00:00</td>\n",
              "            </tr>\n",
              "            <tr>\n",
              "                        <th id=\"T_ccdeff8a_c9c7_11eb_b217_0242ac1c0002level0_row6\" class=\"row_heading level0 row6\" >Wales</th>\n",
              "                        <td id=\"T_ccdeff8a_c9c7_11eb_b217_0242ac1c0002row6_col0\" class=\"data row6 col0\" >Moderna, Oxford/AstraZeneca, Pfizer/BioNTech</td>\n",
              "                        <td id=\"T_ccdeff8a_c9c7_11eb_b217_0242ac1c0002row6_col1\" class=\"data row6 col1\" >2683297.000000</td>\n",
              "                        <td id=\"T_ccdeff8a_c9c7_11eb_b217_0242ac1c0002row6_col2\" class=\"data row6 col2\" >1884372.000000</td>\n",
              "                        <td id=\"T_ccdeff8a_c9c7_11eb_b217_0242ac1c0002row6_col3\" class=\"data row6 col3\" >798925.000000</td>\n",
              "                        <td id=\"T_ccdeff8a_c9c7_11eb_b217_0242ac1c0002row6_col4\" class=\"data row6 col4\" >2021-05-05 00:00:00</td>\n",
              "            </tr>\n",
              "            <tr>\n",
              "                        <th id=\"T_ccdeff8a_c9c7_11eb_b217_0242ac1c0002level0_row7\" class=\"row_heading level0 row7\" >Denmark</th>\n",
              "                        <td id=\"T_ccdeff8a_c9c7_11eb_b217_0242ac1c0002row7_col0\" class=\"data row7 col0\" >Moderna, Oxford/AstraZeneca, Pfizer/BioNTech</td>\n",
              "                        <td id=\"T_ccdeff8a_c9c7_11eb_b217_0242ac1c0002row7_col1\" class=\"data row7 col1\" >2155301.000000</td>\n",
              "                        <td id=\"T_ccdeff8a_c9c7_11eb_b217_0242ac1c0002row7_col2\" class=\"data row7 col2\" >1415117.000000</td>\n",
              "                        <td id=\"T_ccdeff8a_c9c7_11eb_b217_0242ac1c0002row7_col3\" class=\"data row7 col3\" >740184.000000</td>\n",
              "                        <td id=\"T_ccdeff8a_c9c7_11eb_b217_0242ac1c0002row7_col4\" class=\"data row7 col4\" >2021-05-04 00:00:00</td>\n",
              "            </tr>\n",
              "            <tr>\n",
              "                        <th id=\"T_ccdeff8a_c9c7_11eb_b217_0242ac1c0002level0_row8\" class=\"row_heading level0 row8\" >Finland</th>\n",
              "                        <td id=\"T_ccdeff8a_c9c7_11eb_b217_0242ac1c0002row8_col0\" class=\"data row8 col0\" >Moderna, Oxford/AstraZeneca, Pfizer/BioNTech</td>\n",
              "                        <td id=\"T_ccdeff8a_c9c7_11eb_b217_0242ac1c0002row8_col1\" class=\"data row8 col1\" >1990774.000000</td>\n",
              "                        <td id=\"T_ccdeff8a_c9c7_11eb_b217_0242ac1c0002row8_col2\" class=\"data row8 col2\" >1804953.000000</td>\n",
              "                        <td id=\"T_ccdeff8a_c9c7_11eb_b217_0242ac1c0002row8_col3\" class=\"data row8 col3\" >185821.000000</td>\n",
              "                        <td id=\"T_ccdeff8a_c9c7_11eb_b217_0242ac1c0002row8_col4\" class=\"data row8 col4\" >2021-05-05 00:00:00</td>\n",
              "            </tr>\n",
              "            <tr>\n",
              "                        <th id=\"T_ccdeff8a_c9c7_11eb_b217_0242ac1c0002level0_row9\" class=\"row_heading level0 row9\" >Norway</th>\n",
              "                        <td id=\"T_ccdeff8a_c9c7_11eb_b217_0242ac1c0002row9_col0\" class=\"data row9 col0\" >Moderna, Oxford/AstraZeneca, Pfizer/BioNTech</td>\n",
              "                        <td id=\"T_ccdeff8a_c9c7_11eb_b217_0242ac1c0002row9_col1\" class=\"data row9 col1\" >1847728.000000</td>\n",
              "                        <td id=\"T_ccdeff8a_c9c7_11eb_b217_0242ac1c0002row9_col2\" class=\"data row9 col2\" >1430384.000000</td>\n",
              "                        <td id=\"T_ccdeff8a_c9c7_11eb_b217_0242ac1c0002row9_col3\" class=\"data row9 col3\" >417344.000000</td>\n",
              "                        <td id=\"T_ccdeff8a_c9c7_11eb_b217_0242ac1c0002row9_col4\" class=\"data row9 col4\" >2021-05-05 00:00:00</td>\n",
              "            </tr>\n",
              "            <tr>\n",
              "                        <th id=\"T_ccdeff8a_c9c7_11eb_b217_0242ac1c0002level0_row10\" class=\"row_heading level0 row10\" >Ireland</th>\n",
              "                        <td id=\"T_ccdeff8a_c9c7_11eb_b217_0242ac1c0002row10_col0\" class=\"data row10 col0\" >Moderna, Oxford/AstraZeneca, Pfizer/BioNTech</td>\n",
              "                        <td id=\"T_ccdeff8a_c9c7_11eb_b217_0242ac1c0002row10_col1\" class=\"data row10 col1\" >1655866.000000</td>\n",
              "                        <td id=\"T_ccdeff8a_c9c7_11eb_b217_0242ac1c0002row10_col2\" class=\"data row10 col2\" >1201373.000000</td>\n",
              "                        <td id=\"T_ccdeff8a_c9c7_11eb_b217_0242ac1c0002row10_col3\" class=\"data row10 col3\" >454493.000000</td>\n",
              "                        <td id=\"T_ccdeff8a_c9c7_11eb_b217_0242ac1c0002row10_col4\" class=\"data row10 col4\" >2021-05-04 00:00:00</td>\n",
              "            </tr>\n",
              "            <tr>\n",
              "                        <th id=\"T_ccdeff8a_c9c7_11eb_b217_0242ac1c0002level0_row11\" class=\"row_heading level0 row11\" >Northern Ireland</th>\n",
              "                        <td id=\"T_ccdeff8a_c9c7_11eb_b217_0242ac1c0002row11_col0\" class=\"data row11 col0\" >Moderna, Oxford/AstraZeneca, Pfizer/BioNTech</td>\n",
              "                        <td id=\"T_ccdeff8a_c9c7_11eb_b217_0242ac1c0002row11_col1\" class=\"data row11 col1\" >1416826.000000</td>\n",
              "                        <td id=\"T_ccdeff8a_c9c7_11eb_b217_0242ac1c0002row11_col2\" class=\"data row11 col2\" >957063.000000</td>\n",
              "                        <td id=\"T_ccdeff8a_c9c7_11eb_b217_0242ac1c0002row11_col3\" class=\"data row11 col3\" >459763.000000</td>\n",
              "                        <td id=\"T_ccdeff8a_c9c7_11eb_b217_0242ac1c0002row11_col4\" class=\"data row11 col4\" >2021-05-05 00:00:00</td>\n",
              "            </tr>\n",
              "            <tr>\n",
              "                        <th id=\"T_ccdeff8a_c9c7_11eb_b217_0242ac1c0002level0_row12\" class=\"row_heading level0 row12\" >Croatia</th>\n",
              "                        <td id=\"T_ccdeff8a_c9c7_11eb_b217_0242ac1c0002row12_col0\" class=\"data row12 col0\" >Moderna, Oxford/AstraZeneca, Pfizer/BioNTech</td>\n",
              "                        <td id=\"T_ccdeff8a_c9c7_11eb_b217_0242ac1c0002row12_col1\" class=\"data row12 col1\" >979181.000000</td>\n",
              "                        <td id=\"T_ccdeff8a_c9c7_11eb_b217_0242ac1c0002row12_col2\" class=\"data row12 col2\" >760805.000000</td>\n",
              "                        <td id=\"T_ccdeff8a_c9c7_11eb_b217_0242ac1c0002row12_col3\" class=\"data row12 col3\" >218376.000000</td>\n",
              "                        <td id=\"T_ccdeff8a_c9c7_11eb_b217_0242ac1c0002row12_col4\" class=\"data row12 col4\" >2021-05-05 00:00:00</td>\n",
              "            </tr>\n",
              "            <tr>\n",
              "                        <th id=\"T_ccdeff8a_c9c7_11eb_b217_0242ac1c0002level0_row13\" class=\"row_heading level0 row13\" >Bulgaria</th>\n",
              "                        <td id=\"T_ccdeff8a_c9c7_11eb_b217_0242ac1c0002row13_col0\" class=\"data row13 col0\" >Moderna, Oxford/AstraZeneca, Pfizer/BioNTech</td>\n",
              "                        <td id=\"T_ccdeff8a_c9c7_11eb_b217_0242ac1c0002row13_col1\" class=\"data row13 col1\" >884254.000000</td>\n",
              "                        <td id=\"T_ccdeff8a_c9c7_11eb_b217_0242ac1c0002row13_col2\" class=\"data row13 col2\" >629749.000000</td>\n",
              "                        <td id=\"T_ccdeff8a_c9c7_11eb_b217_0242ac1c0002row13_col3\" class=\"data row13 col3\" >254505.000000</td>\n",
              "                        <td id=\"T_ccdeff8a_c9c7_11eb_b217_0242ac1c0002row13_col4\" class=\"data row13 col4\" >2021-05-06 00:00:00</td>\n",
              "            </tr>\n",
              "            <tr>\n",
              "                        <th id=\"T_ccdeff8a_c9c7_11eb_b217_0242ac1c0002level0_row14\" class=\"row_heading level0 row14\" >Estonia</th>\n",
              "                        <td id=\"T_ccdeff8a_c9c7_11eb_b217_0242ac1c0002row14_col0\" class=\"data row14 col0\" >Moderna, Oxford/AstraZeneca, Pfizer/BioNTech</td>\n",
              "                        <td id=\"T_ccdeff8a_c9c7_11eb_b217_0242ac1c0002row14_col1\" class=\"data row14 col1\" >510125.000000</td>\n",
              "                        <td id=\"T_ccdeff8a_c9c7_11eb_b217_0242ac1c0002row14_col2\" class=\"data row14 col2\" >362865.000000</td>\n",
              "                        <td id=\"T_ccdeff8a_c9c7_11eb_b217_0242ac1c0002row14_col3\" class=\"data row14 col3\" >147260.000000</td>\n",
              "                        <td id=\"T_ccdeff8a_c9c7_11eb_b217_0242ac1c0002row14_col4\" class=\"data row14 col4\" >2021-05-06 00:00:00</td>\n",
              "            </tr>\n",
              "    </tbody></table>"
            ],
            "text/plain": [
              "<pandas.io.formats.style.Styler at 0x7f5c1a78b5d0>"
            ]
          },
          "metadata": {
            "tags": []
          },
          "execution_count": 16
        }
      ]
    },
    {
      "cell_type": "code",
      "metadata": {
        "colab": {
          "base_uri": "https://localhost:8080/",
          "height": 96
        },
        "id": "Qsig97E3IJaJ",
        "outputId": "ba4ef079-b1fc-4b68-af58-374d50d30b70"
      },
      "source": [
        "latest_data[latest_data['vaccines'] == 'Oxford/AstraZeneca, Sputnik V'][['vaccines','total_vaccinations', 'people_vaccinated', 'people_fully_vaccinated','date']].sort_values(by='total_vaccinations', ascending = False).head(15).style.background_gradient(cmap='Blues')"
      ],
      "execution_count": null,
      "outputs": [
        {
          "output_type": "execute_result",
          "data": {
            "text/html": [
              "<style  type=\"text/css\" >\n",
              "#T_cce48bc6_c9c7_11eb_b217_0242ac1c0002row0_col1,#T_cce48bc6_c9c7_11eb_b217_0242ac1c0002row0_col2{\n",
              "            background-color:  #08306b;\n",
              "            color:  #f1f1f1;\n",
              "        }#T_cce48bc6_c9c7_11eb_b217_0242ac1c0002row0_col3,#T_cce48bc6_c9c7_11eb_b217_0242ac1c0002row1_col1,#T_cce48bc6_c9c7_11eb_b217_0242ac1c0002row1_col2,#T_cce48bc6_c9c7_11eb_b217_0242ac1c0002row1_col3{\n",
              "            background-color:  #f7fbff;\n",
              "            color:  #000000;\n",
              "        }</style><table id=\"T_cce48bc6_c9c7_11eb_b217_0242ac1c0002\" ><thead>    <tr>        <th class=\"blank level0\" ></th>        <th class=\"col_heading level0 col0\" >vaccines</th>        <th class=\"col_heading level0 col1\" >total_vaccinations</th>        <th class=\"col_heading level0 col2\" >people_vaccinated</th>        <th class=\"col_heading level0 col3\" >people_fully_vaccinated</th>        <th class=\"col_heading level0 col4\" >date</th>    </tr>    <tr>        <th class=\"index_name level0\" >country</th>        <th class=\"blank\" ></th>        <th class=\"blank\" ></th>        <th class=\"blank\" ></th>        <th class=\"blank\" ></th>        <th class=\"blank\" ></th>    </tr></thead><tbody>\n",
              "                <tr>\n",
              "                        <th id=\"T_cce48bc6_c9c7_11eb_b217_0242ac1c0002level0_row0\" class=\"row_heading level0 row0\" >Kenya</th>\n",
              "                        <td id=\"T_cce48bc6_c9c7_11eb_b217_0242ac1c0002row0_col0\" class=\"data row0 col0\" >Oxford/AstraZeneca, Sputnik V</td>\n",
              "                        <td id=\"T_cce48bc6_c9c7_11eb_b217_0242ac1c0002row0_col1\" class=\"data row0 col1\" >853081.000000</td>\n",
              "                        <td id=\"T_cce48bc6_c9c7_11eb_b217_0242ac1c0002row0_col2\" class=\"data row0 col2\" >853081.000000</td>\n",
              "                        <td id=\"T_cce48bc6_c9c7_11eb_b217_0242ac1c0002row0_col3\" class=\"data row0 col3\" >0.000000</td>\n",
              "                        <td id=\"T_cce48bc6_c9c7_11eb_b217_0242ac1c0002row0_col4\" class=\"data row0 col4\" >2021-04-28 00:00:00</td>\n",
              "            </tr>\n",
              "            <tr>\n",
              "                        <th id=\"T_cce48bc6_c9c7_11eb_b217_0242ac1c0002level0_row1\" class=\"row_heading level0 row1\" >Nicaragua</th>\n",
              "                        <td id=\"T_cce48bc6_c9c7_11eb_b217_0242ac1c0002row1_col0\" class=\"data row1 col0\" >Oxford/AstraZeneca, Sputnik V</td>\n",
              "                        <td id=\"T_cce48bc6_c9c7_11eb_b217_0242ac1c0002row1_col1\" class=\"data row1 col1\" >135130.000000</td>\n",
              "                        <td id=\"T_cce48bc6_c9c7_11eb_b217_0242ac1c0002row1_col2\" class=\"data row1 col2\" >135130.000000</td>\n",
              "                        <td id=\"T_cce48bc6_c9c7_11eb_b217_0242ac1c0002row1_col3\" class=\"data row1 col3\" >0.000000</td>\n",
              "                        <td id=\"T_cce48bc6_c9c7_11eb_b217_0242ac1c0002row1_col4\" class=\"data row1 col4\" >2021-04-24 00:00:00</td>\n",
              "            </tr>\n",
              "    </tbody></table>"
            ],
            "text/plain": [
              "<pandas.io.formats.style.Styler at 0x7f5c1a7adb10>"
            ]
          },
          "metadata": {
            "tags": []
          },
          "execution_count": 17
        }
      ]
    },
    {
      "cell_type": "code",
      "metadata": {
        "colab": {
          "base_uri": "https://localhost:8080/",
          "height": 240
        },
        "id": "doiTjbpSIMRL",
        "outputId": "f31c828e-4716-4f55-a186-79ff470be532"
      },
      "source": [
        "latest_data[latest_data['vaccines'] == 'Oxford/AstraZeneca, Pfizer/BioNTech, Sinopharm/Beijing, Sputnik V'][['vaccines','total_vaccinations', 'people_vaccinated', 'people_fully_vaccinated','date']].sort_values(by='total_vaccinations', ascending = False).head(15).style.background_gradient(cmap='Blues')"
      ],
      "execution_count": null,
      "outputs": [
        {
          "output_type": "execute_result",
          "data": {
            "text/html": [
              "<style  type=\"text/css\" >\n",
              "#T_ccea5646_c9c7_11eb_b217_0242ac1c0002row0_col1,#T_ccea5646_c9c7_11eb_b217_0242ac1c0002row0_col2,#T_ccea5646_c9c7_11eb_b217_0242ac1c0002row0_col3{\n",
              "            background-color:  #08306b;\n",
              "            color:  #f1f1f1;\n",
              "        }#T_ccea5646_c9c7_11eb_b217_0242ac1c0002row1_col1{\n",
              "            background-color:  #68acd5;\n",
              "            color:  #000000;\n",
              "        }#T_ccea5646_c9c7_11eb_b217_0242ac1c0002row1_col2{\n",
              "            background-color:  #3e8ec4;\n",
              "            color:  #000000;\n",
              "        }#T_ccea5646_c9c7_11eb_b217_0242ac1c0002row1_col3,#T_ccea5646_c9c7_11eb_b217_0242ac1c0002row2_col2{\n",
              "            background-color:  #a6cee4;\n",
              "            color:  #000000;\n",
              "        }#T_ccea5646_c9c7_11eb_b217_0242ac1c0002row2_col1{\n",
              "            background-color:  #a9cfe5;\n",
              "            color:  #000000;\n",
              "        }#T_ccea5646_c9c7_11eb_b217_0242ac1c0002row2_col3{\n",
              "            background-color:  #abd0e6;\n",
              "            color:  #000000;\n",
              "        }#T_ccea5646_c9c7_11eb_b217_0242ac1c0002row3_col1{\n",
              "            background-color:  #e0ecf8;\n",
              "            color:  #000000;\n",
              "        }#T_ccea5646_c9c7_11eb_b217_0242ac1c0002row3_col2{\n",
              "            background-color:  #deebf7;\n",
              "            color:  #000000;\n",
              "        }#T_ccea5646_c9c7_11eb_b217_0242ac1c0002row3_col3{\n",
              "            background-color:  #e4eff9;\n",
              "            color:  #000000;\n",
              "        }#T_ccea5646_c9c7_11eb_b217_0242ac1c0002row4_col1,#T_ccea5646_c9c7_11eb_b217_0242ac1c0002row4_col2,#T_ccea5646_c9c7_11eb_b217_0242ac1c0002row4_col3{\n",
              "            background-color:  #f7fbff;\n",
              "            color:  #000000;\n",
              "        }</style><table id=\"T_ccea5646_c9c7_11eb_b217_0242ac1c0002\" ><thead>    <tr>        <th class=\"blank level0\" ></th>        <th class=\"col_heading level0 col0\" >vaccines</th>        <th class=\"col_heading level0 col1\" >total_vaccinations</th>        <th class=\"col_heading level0 col2\" >people_vaccinated</th>        <th class=\"col_heading level0 col3\" >people_fully_vaccinated</th>        <th class=\"col_heading level0 col4\" >date</th>    </tr>    <tr>        <th class=\"index_name level0\" >country</th>        <th class=\"blank\" ></th>        <th class=\"blank\" ></th>        <th class=\"blank\" ></th>        <th class=\"blank\" ></th>        <th class=\"blank\" ></th>    </tr></thead><tbody>\n",
              "                <tr>\n",
              "                        <th id=\"T_ccea5646_c9c7_11eb_b217_0242ac1c0002level0_row0\" class=\"row_heading level0 row0\" >Serbia</th>\n",
              "                        <td id=\"T_ccea5646_c9c7_11eb_b217_0242ac1c0002row0_col0\" class=\"data row0 col0\" >Oxford/AstraZeneca, Pfizer/BioNTech, Sinopharm/Beijing, Sputnik V</td>\n",
              "                        <td id=\"T_ccea5646_c9c7_11eb_b217_0242ac1c0002row0_col1\" class=\"data row0 col1\" >3715103.000000</td>\n",
              "                        <td id=\"T_ccea5646_c9c7_11eb_b217_0242ac1c0002row0_col2\" class=\"data row0 col2\" >2088102.000000</td>\n",
              "                        <td id=\"T_ccea5646_c9c7_11eb_b217_0242ac1c0002row0_col3\" class=\"data row0 col3\" >1627001.000000</td>\n",
              "                        <td id=\"T_ccea5646_c9c7_11eb_b217_0242ac1c0002row0_col4\" class=\"data row0 col4\" >2021-05-06 00:00:00</td>\n",
              "            </tr>\n",
              "            <tr>\n",
              "                        <th id=\"T_ccea5646_c9c7_11eb_b217_0242ac1c0002level0_row1\" class=\"row_heading level0 row1\" >Mongolia</th>\n",
              "                        <td id=\"T_ccea5646_c9c7_11eb_b217_0242ac1c0002row1_col0\" class=\"data row1 col0\" >Oxford/AstraZeneca, Pfizer/BioNTech, Sinopharm/Beijing, Sputnik V</td>\n",
              "                        <td id=\"T_ccea5646_c9c7_11eb_b217_0242ac1c0002row1_col1\" class=\"data row1 col1\" >1946350.000000</td>\n",
              "                        <td id=\"T_ccea5646_c9c7_11eb_b217_0242ac1c0002row1_col2\" class=\"data row1 col2\" >1356678.000000</td>\n",
              "                        <td id=\"T_ccea5646_c9c7_11eb_b217_0242ac1c0002row1_col3\" class=\"data row1 col3\" >589672.000000</td>\n",
              "                        <td id=\"T_ccea5646_c9c7_11eb_b217_0242ac1c0002row1_col4\" class=\"data row1 col4\" >2021-05-06 00:00:00</td>\n",
              "            </tr>\n",
              "            <tr>\n",
              "                        <th id=\"T_ccea5646_c9c7_11eb_b217_0242ac1c0002level0_row2\" class=\"row_heading level0 row2\" >Bahrain</th>\n",
              "                        <td id=\"T_ccea5646_c9c7_11eb_b217_0242ac1c0002row2_col0\" class=\"data row2 col0\" >Oxford/AstraZeneca, Pfizer/BioNTech, Sinopharm/Beijing, Sputnik V</td>\n",
              "                        <td id=\"T_ccea5646_c9c7_11eb_b217_0242ac1c0002row2_col1\" class=\"data row2 col1\" >1334658.000000</td>\n",
              "                        <td id=\"T_ccea5646_c9c7_11eb_b217_0242ac1c0002row2_col2\" class=\"data row2 col2\" >772205.000000</td>\n",
              "                        <td id=\"T_ccea5646_c9c7_11eb_b217_0242ac1c0002row2_col3\" class=\"data row2 col3\" >562453.000000</td>\n",
              "                        <td id=\"T_ccea5646_c9c7_11eb_b217_0242ac1c0002row2_col4\" class=\"data row2 col4\" >2021-05-06 00:00:00</td>\n",
              "            </tr>\n",
              "            <tr>\n",
              "                        <th id=\"T_ccea5646_c9c7_11eb_b217_0242ac1c0002level0_row3\" class=\"row_heading level0 row3\" >Lebanon</th>\n",
              "                        <td id=\"T_ccea5646_c9c7_11eb_b217_0242ac1c0002row3_col0\" class=\"data row3 col0\" >Oxford/AstraZeneca, Pfizer/BioNTech, Sinopharm/Beijing, Sputnik V</td>\n",
              "                        <td id=\"T_ccea5646_c9c7_11eb_b217_0242ac1c0002row3_col1\" class=\"data row3 col1\" >509705.000000</td>\n",
              "                        <td id=\"T_ccea5646_c9c7_11eb_b217_0242ac1c0002row3_col2\" class=\"data row3 col2\" >325383.000000</td>\n",
              "                        <td id=\"T_ccea5646_c9c7_11eb_b217_0242ac1c0002row3_col3\" class=\"data row3 col3\" >184322.000000</td>\n",
              "                        <td id=\"T_ccea5646_c9c7_11eb_b217_0242ac1c0002row3_col4\" class=\"data row3 col4\" >2021-05-06 00:00:00</td>\n",
              "            </tr>\n",
              "            <tr>\n",
              "                        <th id=\"T_ccea5646_c9c7_11eb_b217_0242ac1c0002level0_row4\" class=\"row_heading level0 row4\" >Montenegro</th>\n",
              "                        <td id=\"T_ccea5646_c9c7_11eb_b217_0242ac1c0002row4_col0\" class=\"data row4 col0\" >Oxford/AstraZeneca, Pfizer/BioNTech, Sinopharm/Beijing, Sputnik V</td>\n",
              "                        <td id=\"T_ccea5646_c9c7_11eb_b217_0242ac1c0002row4_col1\" class=\"data row4 col1\" >94291.000000</td>\n",
              "                        <td id=\"T_ccea5646_c9c7_11eb_b217_0242ac1c0002row4_col2\" class=\"data row4 col2\" >65390.000000</td>\n",
              "                        <td id=\"T_ccea5646_c9c7_11eb_b217_0242ac1c0002row4_col3\" class=\"data row4 col3\" >28901.000000</td>\n",
              "                        <td id=\"T_ccea5646_c9c7_11eb_b217_0242ac1c0002row4_col4\" class=\"data row4 col4\" >2021-05-06 00:00:00</td>\n",
              "            </tr>\n",
              "    </tbody></table>"
            ],
            "text/plain": [
              "<pandas.io.formats.style.Styler at 0x7f5c1a7b9650>"
            ]
          },
          "metadata": {
            "tags": []
          },
          "execution_count": 18
        }
      ]
    },
    {
      "cell_type": "code",
      "metadata": {
        "colab": {
          "base_uri": "https://localhost:8080/",
          "height": 156
        },
        "id": "LN4UFzy7IQQC",
        "outputId": "4f9a0988-4b0d-4a5a-fd46-974b110c4e98"
      },
      "source": [
        "latest_data[latest_data['vaccines'] == 'Oxford/AstraZeneca, Sinovac'][['vaccines','total_vaccinations', 'people_vaccinated', 'people_fully_vaccinated','date']].sort_values(by='total_vaccinations', ascending = False).head(15).style.background_gradient(cmap='Blues')"
      ],
      "execution_count": null,
      "outputs": [
        {
          "output_type": "execute_result",
          "data": {
            "text/html": [
              "<style  type=\"text/css\" >\n",
              "#T_ccf0882c_c9c7_11eb_b217_0242ac1c0002row0_col1,#T_ccf0882c_c9c7_11eb_b217_0242ac1c0002row0_col2,#T_ccf0882c_c9c7_11eb_b217_0242ac1c0002row0_col3{\n",
              "            background-color:  #08306b;\n",
              "            color:  #f1f1f1;\n",
              "        }#T_ccf0882c_c9c7_11eb_b217_0242ac1c0002row1_col1{\n",
              "            background-color:  #84bcdb;\n",
              "            color:  #000000;\n",
              "        }#T_ccf0882c_c9c7_11eb_b217_0242ac1c0002row1_col2{\n",
              "            background-color:  #97c6df;\n",
              "            color:  #000000;\n",
              "        }#T_ccf0882c_c9c7_11eb_b217_0242ac1c0002row1_col3{\n",
              "            background-color:  #5ca4d0;\n",
              "            color:  #000000;\n",
              "        }#T_ccf0882c_c9c7_11eb_b217_0242ac1c0002row2_col1{\n",
              "            background-color:  #f5f9fe;\n",
              "            color:  #000000;\n",
              "        }#T_ccf0882c_c9c7_11eb_b217_0242ac1c0002row2_col2{\n",
              "            background-color:  #f2f8fd;\n",
              "            color:  #000000;\n",
              "        }#T_ccf0882c_c9c7_11eb_b217_0242ac1c0002row2_col3,#T_ccf0882c_c9c7_11eb_b217_0242ac1c0002row3_col1,#T_ccf0882c_c9c7_11eb_b217_0242ac1c0002row4_col1,#T_ccf0882c_c9c7_11eb_b217_0242ac1c0002row4_col2{\n",
              "            background-color:  #f7fbff;\n",
              "            color:  #000000;\n",
              "        }#T_ccf0882c_c9c7_11eb_b217_0242ac1c0002row3_col2,#T_ccf0882c_c9c7_11eb_b217_0242ac1c0002row3_col3{\n",
              "            background-color:  #f6faff;\n",
              "            color:  #000000;\n",
              "        }#T_ccf0882c_c9c7_11eb_b217_0242ac1c0002row4_col3{\n",
              "            background-color:  #f4f9fe;\n",
              "            color:  #000000;\n",
              "        }</style><table id=\"T_ccf0882c_c9c7_11eb_b217_0242ac1c0002\" ><thead>    <tr>        <th class=\"blank level0\" ></th>        <th class=\"col_heading level0 col0\" >vaccines</th>        <th class=\"col_heading level0 col1\" >total_vaccinations</th>        <th class=\"col_heading level0 col2\" >people_vaccinated</th>        <th class=\"col_heading level0 col3\" >people_fully_vaccinated</th>        <th class=\"col_heading level0 col4\" >date</th>    </tr>    <tr>        <th class=\"index_name level0\" >country</th>        <th class=\"blank\" ></th>        <th class=\"blank\" ></th>        <th class=\"blank\" ></th>        <th class=\"blank\" ></th>        <th class=\"blank\" ></th>    </tr></thead><tbody>\n",
              "                <tr>\n",
              "                        <th id=\"T_ccf0882c_c9c7_11eb_b217_0242ac1c0002level0_row0\" class=\"row_heading level0 row0\" >Brazil</th>\n",
              "                        <td id=\"T_ccf0882c_c9c7_11eb_b217_0242ac1c0002row0_col0\" class=\"data row0 col0\" >Oxford/AstraZeneca, Sinovac</td>\n",
              "                        <td id=\"T_ccf0882c_c9c7_11eb_b217_0242ac1c0002row0_col1\" class=\"data row0 col1\" >46542392.000000</td>\n",
              "                        <td id=\"T_ccf0882c_c9c7_11eb_b217_0242ac1c0002row0_col2\" class=\"data row0 col2\" >31504414.000000</td>\n",
              "                        <td id=\"T_ccf0882c_c9c7_11eb_b217_0242ac1c0002row0_col3\" class=\"data row0 col3\" >15037978.000000</td>\n",
              "                        <td id=\"T_ccf0882c_c9c7_11eb_b217_0242ac1c0002row0_col4\" class=\"data row0 col4\" >2021-05-06 00:00:00</td>\n",
              "            </tr>\n",
              "            <tr>\n",
              "                        <th id=\"T_ccf0882c_c9c7_11eb_b217_0242ac1c0002level0_row1\" class=\"row_heading level0 row1\" >Indonesia</th>\n",
              "                        <td id=\"T_ccf0882c_c9c7_11eb_b217_0242ac1c0002row1_col0\" class=\"data row1 col0\" >Oxford/AstraZeneca, Sinovac</td>\n",
              "                        <td id=\"T_ccf0882c_c9c7_11eb_b217_0242ac1c0002row1_col1\" class=\"data row1 col1\" >21367754.000000</td>\n",
              "                        <td id=\"T_ccf0882c_c9c7_11eb_b217_0242ac1c0002row1_col2\" class=\"data row1 col2\" >13028699.000000</td>\n",
              "                        <td id=\"T_ccf0882c_c9c7_11eb_b217_0242ac1c0002row1_col3\" class=\"data row1 col3\" >8339055.000000</td>\n",
              "                        <td id=\"T_ccf0882c_c9c7_11eb_b217_0242ac1c0002row1_col4\" class=\"data row1 col4\" >2021-05-06 00:00:00</td>\n",
              "            </tr>\n",
              "            <tr>\n",
              "                        <th id=\"T_ccf0882c_c9c7_11eb_b217_0242ac1c0002level0_row2\" class=\"row_heading level0 row2\" >Philippines</th>\n",
              "                        <td id=\"T_ccf0882c_c9c7_11eb_b217_0242ac1c0002row2_col0\" class=\"data row2 col0\" >Oxford/AstraZeneca, Sinovac</td>\n",
              "                        <td id=\"T_ccf0882c_c9c7_11eb_b217_0242ac1c0002row2_col1\" class=\"data row2 col1\" >2129185.000000</td>\n",
              "                        <td id=\"T_ccf0882c_c9c7_11eb_b217_0242ac1c0002row2_col2\" class=\"data row2 col2\" >1786480.000000</td>\n",
              "                        <td id=\"T_ccf0882c_c9c7_11eb_b217_0242ac1c0002row2_col3\" class=\"data row2 col3\" >342705.000000</td>\n",
              "                        <td id=\"T_ccf0882c_c9c7_11eb_b217_0242ac1c0002row2_col4\" class=\"data row2 col4\" >2021-05-05 00:00:00</td>\n",
              "            </tr>\n",
              "            <tr>\n",
              "                        <th id=\"T_ccf0882c_c9c7_11eb_b217_0242ac1c0002level0_row3\" class=\"row_heading level0 row3\" >Thailand</th>\n",
              "                        <td id=\"T_ccf0882c_c9c7_11eb_b217_0242ac1c0002row3_col0\" class=\"data row3 col0\" >Oxford/AstraZeneca, Sinovac</td>\n",
              "                        <td id=\"T_ccf0882c_c9c7_11eb_b217_0242ac1c0002row3_col1\" class=\"data row3 col1\" >1651782.000000</td>\n",
              "                        <td id=\"T_ccf0882c_c9c7_11eb_b217_0242ac1c0002row3_col2\" class=\"data row3 col2\" >1201258.000000</td>\n",
              "                        <td id=\"T_ccf0882c_c9c7_11eb_b217_0242ac1c0002row3_col3\" class=\"data row3 col3\" >450524.000000</td>\n",
              "                        <td id=\"T_ccf0882c_c9c7_11eb_b217_0242ac1c0002row3_col4\" class=\"data row3 col4\" >2021-05-06 00:00:00</td>\n",
              "            </tr>\n",
              "            <tr>\n",
              "                        <th id=\"T_ccf0882c_c9c7_11eb_b217_0242ac1c0002level0_row4\" class=\"row_heading level0 row4\" >Azerbaijan</th>\n",
              "                        <td id=\"T_ccf0882c_c9c7_11eb_b217_0242ac1c0002row4_col0\" class=\"data row4 col0\" >Oxford/AstraZeneca, Sinovac</td>\n",
              "                        <td id=\"T_ccf0882c_c9c7_11eb_b217_0242ac1c0002row4_col1\" class=\"data row4 col1\" >1593883.000000</td>\n",
              "                        <td id=\"T_ccf0882c_c9c7_11eb_b217_0242ac1c0002row4_col2\" class=\"data row4 col2\" >992252.000000</td>\n",
              "                        <td id=\"T_ccf0882c_c9c7_11eb_b217_0242ac1c0002row4_col3\" class=\"data row4 col3\" >601631.000000</td>\n",
              "                        <td id=\"T_ccf0882c_c9c7_11eb_b217_0242ac1c0002row4_col4\" class=\"data row4 col4\" >2021-05-06 00:00:00</td>\n",
              "            </tr>\n",
              "    </tbody></table>"
            ],
            "text/plain": [
              "<pandas.io.formats.style.Styler at 0x7f5c1a560dd0>"
            ]
          },
          "metadata": {
            "tags": []
          },
          "execution_count": 19
        }
      ]
    },
    {
      "cell_type": "code",
      "metadata": {
        "colab": {
          "base_uri": "https://localhost:8080/",
          "height": 215
        },
        "id": "7tEPMCpwIT9C",
        "outputId": "017bbbad-03c3-4a80-f696-bd2bb9754890"
      },
      "source": [
        "latest_data[latest_data['vaccines'] == 'Sinopharm/Beijing'][['vaccines','total_vaccinations', 'people_vaccinated', 'people_fully_vaccinated','date']].sort_values(by='total_vaccinations', ascending = False).head(15).style.background_gradient(cmap='Blues')"
      ],
      "execution_count": null,
      "outputs": [
        {
          "output_type": "execute_result",
          "data": {
            "text/html": [
              "<style  type=\"text/css\" >\n",
              "#T_ccf61846_c9c7_11eb_b217_0242ac1c0002row0_col1,#T_ccf61846_c9c7_11eb_b217_0242ac1c0002row0_col2,#T_ccf61846_c9c7_11eb_b217_0242ac1c0002row0_col3{\n",
              "            background-color:  #08306b;\n",
              "            color:  #f1f1f1;\n",
              "        }#T_ccf61846_c9c7_11eb_b217_0242ac1c0002row1_col1{\n",
              "            background-color:  #3080bd;\n",
              "            color:  #000000;\n",
              "        }#T_ccf61846_c9c7_11eb_b217_0242ac1c0002row1_col2{\n",
              "            background-color:  #084f99;\n",
              "            color:  #f1f1f1;\n",
              "        }#T_ccf61846_c9c7_11eb_b217_0242ac1c0002row1_col3,#T_ccf61846_c9c7_11eb_b217_0242ac1c0002row3_col3,#T_ccf61846_c9c7_11eb_b217_0242ac1c0002row4_col3,#T_ccf61846_c9c7_11eb_b217_0242ac1c0002row6_col3,#T_ccf61846_c9c7_11eb_b217_0242ac1c0002row7_col1,#T_ccf61846_c9c7_11eb_b217_0242ac1c0002row7_col2,#T_ccf61846_c9c7_11eb_b217_0242ac1c0002row7_col3{\n",
              "            background-color:  #f7fbff;\n",
              "            color:  #000000;\n",
              "        }#T_ccf61846_c9c7_11eb_b217_0242ac1c0002row2_col1{\n",
              "            background-color:  #dfebf7;\n",
              "            color:  #000000;\n",
              "        }#T_ccf61846_c9c7_11eb_b217_0242ac1c0002row2_col2{\n",
              "            background-color:  #ddeaf7;\n",
              "            color:  #000000;\n",
              "        }#T_ccf61846_c9c7_11eb_b217_0242ac1c0002row2_col3{\n",
              "            background-color:  #e7f0fa;\n",
              "            color:  #000000;\n",
              "        }#T_ccf61846_c9c7_11eb_b217_0242ac1c0002row3_col1{\n",
              "            background-color:  #e5eff9;\n",
              "            color:  #000000;\n",
              "        }#T_ccf61846_c9c7_11eb_b217_0242ac1c0002row3_col2{\n",
              "            background-color:  #dfecf7;\n",
              "            color:  #000000;\n",
              "        }#T_ccf61846_c9c7_11eb_b217_0242ac1c0002row4_col1{\n",
              "            background-color:  #f4f9fe;\n",
              "            color:  #000000;\n",
              "        }#T_ccf61846_c9c7_11eb_b217_0242ac1c0002row4_col2{\n",
              "            background-color:  #f3f8fe;\n",
              "            color:  #000000;\n",
              "        }#T_ccf61846_c9c7_11eb_b217_0242ac1c0002row5_col1,#T_ccf61846_c9c7_11eb_b217_0242ac1c0002row5_col3,#T_ccf61846_c9c7_11eb_b217_0242ac1c0002row6_col2{\n",
              "            background-color:  #f5f9fe;\n",
              "            color:  #000000;\n",
              "        }#T_ccf61846_c9c7_11eb_b217_0242ac1c0002row5_col2,#T_ccf61846_c9c7_11eb_b217_0242ac1c0002row6_col1{\n",
              "            background-color:  #f5fafe;\n",
              "            color:  #000000;\n",
              "        }</style><table id=\"T_ccf61846_c9c7_11eb_b217_0242ac1c0002\" ><thead>    <tr>        <th class=\"blank level0\" ></th>        <th class=\"col_heading level0 col0\" >vaccines</th>        <th class=\"col_heading level0 col1\" >total_vaccinations</th>        <th class=\"col_heading level0 col2\" >people_vaccinated</th>        <th class=\"col_heading level0 col3\" >people_fully_vaccinated</th>        <th class=\"col_heading level0 col4\" >date</th>    </tr>    <tr>        <th class=\"index_name level0\" >country</th>        <th class=\"blank\" ></th>        <th class=\"blank\" ></th>        <th class=\"blank\" ></th>        <th class=\"blank\" ></th>        <th class=\"blank\" ></th>    </tr></thead><tbody>\n",
              "                <tr>\n",
              "                        <th id=\"T_ccf61846_c9c7_11eb_b217_0242ac1c0002level0_row0\" class=\"row_heading level0 row0\" >Zimbabwe</th>\n",
              "                        <td id=\"T_ccf61846_c9c7_11eb_b217_0242ac1c0002row0_col0\" class=\"data row0 col0\" >Sinopharm/Beijing</td>\n",
              "                        <td id=\"T_ccf61846_c9c7_11eb_b217_0242ac1c0002row0_col1\" class=\"data row0 col1\" >607355.000000</td>\n",
              "                        <td id=\"T_ccf61846_c9c7_11eb_b217_0242ac1c0002row0_col2\" class=\"data row0 col2\" >478174.000000</td>\n",
              "                        <td id=\"T_ccf61846_c9c7_11eb_b217_0242ac1c0002row0_col3\" class=\"data row0 col3\" >129181.000000</td>\n",
              "                        <td id=\"T_ccf61846_c9c7_11eb_b217_0242ac1c0002row0_col4\" class=\"data row0 col4\" >2021-05-06 00:00:00</td>\n",
              "            </tr>\n",
              "            <tr>\n",
              "                        <th id=\"T_ccf61846_c9c7_11eb_b217_0242ac1c0002level0_row1\" class=\"row_heading level0 row1\" >Senegal</th>\n",
              "                        <td id=\"T_ccf61846_c9c7_11eb_b217_0242ac1c0002row1_col0\" class=\"data row1 col0\" >Sinopharm/Beijing</td>\n",
              "                        <td id=\"T_ccf61846_c9c7_11eb_b217_0242ac1c0002row1_col1\" class=\"data row1 col1\" >421993.000000</td>\n",
              "                        <td id=\"T_ccf61846_c9c7_11eb_b217_0242ac1c0002row1_col2\" class=\"data row1 col2\" >421993.000000</td>\n",
              "                        <td id=\"T_ccf61846_c9c7_11eb_b217_0242ac1c0002row1_col3\" class=\"data row1 col3\" >0.000000</td>\n",
              "                        <td id=\"T_ccf61846_c9c7_11eb_b217_0242ac1c0002row1_col4\" class=\"data row1 col4\" >2021-05-06 00:00:00</td>\n",
              "            </tr>\n",
              "            <tr>\n",
              "                        <th id=\"T_ccf61846_c9c7_11eb_b217_0242ac1c0002level0_row2\" class=\"row_heading level0 row2\" >Equatorial Guinea</th>\n",
              "                        <td id=\"T_ccf61846_c9c7_11eb_b217_0242ac1c0002row2_col0\" class=\"data row2 col0\" >Sinopharm/Beijing</td>\n",
              "                        <td id=\"T_ccf61846_c9c7_11eb_b217_0242ac1c0002row2_col1\" class=\"data row2 col1\" >75518.000000</td>\n",
              "                        <td id=\"T_ccf61846_c9c7_11eb_b217_0242ac1c0002row2_col2\" class=\"data row2 col2\" >64646.000000</td>\n",
              "                        <td id=\"T_ccf61846_c9c7_11eb_b217_0242ac1c0002row2_col3\" class=\"data row2 col3\" >10872.000000</td>\n",
              "                        <td id=\"T_ccf61846_c9c7_11eb_b217_0242ac1c0002row2_col4\" class=\"data row2 col4\" >2021-04-28 00:00:00</td>\n",
              "            </tr>\n",
              "            <tr>\n",
              "                        <th id=\"T_ccf61846_c9c7_11eb_b217_0242ac1c0002level0_row3\" class=\"row_heading level0 row3\" >Mozambique</th>\n",
              "                        <td id=\"T_ccf61846_c9c7_11eb_b217_0242ac1c0002row3_col0\" class=\"data row3 col0\" >Sinopharm/Beijing</td>\n",
              "                        <td id=\"T_ccf61846_c9c7_11eb_b217_0242ac1c0002row3_col1\" class=\"data row3 col1\" >57305.000000</td>\n",
              "                        <td id=\"T_ccf61846_c9c7_11eb_b217_0242ac1c0002row3_col2\" class=\"data row3 col2\" >57305.000000</td>\n",
              "                        <td id=\"T_ccf61846_c9c7_11eb_b217_0242ac1c0002row3_col3\" class=\"data row3 col3\" >0.000000</td>\n",
              "                        <td id=\"T_ccf61846_c9c7_11eb_b217_0242ac1c0002row3_col4\" class=\"data row3 col4\" >2021-03-23 00:00:00</td>\n",
              "            </tr>\n",
              "            <tr>\n",
              "                        <th id=\"T_ccf61846_c9c7_11eb_b217_0242ac1c0002level0_row4\" class=\"row_heading level0 row4\" >Cameroon</th>\n",
              "                        <td id=\"T_ccf61846_c9c7_11eb_b217_0242ac1c0002row4_col0\" class=\"data row4 col0\" >Sinopharm/Beijing</td>\n",
              "                        <td id=\"T_ccf61846_c9c7_11eb_b217_0242ac1c0002row4_col1\" class=\"data row4 col1\" >11000.000000</td>\n",
              "                        <td id=\"T_ccf61846_c9c7_11eb_b217_0242ac1c0002row4_col2\" class=\"data row4 col2\" >11000.000000</td>\n",
              "                        <td id=\"T_ccf61846_c9c7_11eb_b217_0242ac1c0002row4_col3\" class=\"data row4 col3\" >0.000000</td>\n",
              "                        <td id=\"T_ccf61846_c9c7_11eb_b217_0242ac1c0002row4_col4\" class=\"data row4 col4\" >2021-04-29 00:00:00</td>\n",
              "            </tr>\n",
              "            <tr>\n",
              "                        <th id=\"T_ccf61846_c9c7_11eb_b217_0242ac1c0002level0_row5\" class=\"row_heading level0 row5\" >Gabon</th>\n",
              "                        <td id=\"T_ccf61846_c9c7_11eb_b217_0242ac1c0002row5_col0\" class=\"data row5 col0\" >Sinopharm/Beijing</td>\n",
              "                        <td id=\"T_ccf61846_c9c7_11eb_b217_0242ac1c0002row5_col1\" class=\"data row5 col1\" >8897.000000</td>\n",
              "                        <td id=\"T_ccf61846_c9c7_11eb_b217_0242ac1c0002row5_col2\" class=\"data row5 col2\" >6895.000000</td>\n",
              "                        <td id=\"T_ccf61846_c9c7_11eb_b217_0242ac1c0002row5_col3\" class=\"data row5 col3\" >2002.000000</td>\n",
              "                        <td id=\"T_ccf61846_c9c7_11eb_b217_0242ac1c0002row5_col4\" class=\"data row5 col4\" >2021-04-23 00:00:00</td>\n",
              "            </tr>\n",
              "            <tr>\n",
              "                        <th id=\"T_ccf61846_c9c7_11eb_b217_0242ac1c0002level0_row6\" class=\"row_heading level0 row6\" >Mauritania</th>\n",
              "                        <td id=\"T_ccf61846_c9c7_11eb_b217_0242ac1c0002row6_col0\" class=\"data row6 col0\" >Sinopharm/Beijing</td>\n",
              "                        <td id=\"T_ccf61846_c9c7_11eb_b217_0242ac1c0002row6_col1\" class=\"data row6 col1\" >7038.000000</td>\n",
              "                        <td id=\"T_ccf61846_c9c7_11eb_b217_0242ac1c0002row6_col2\" class=\"data row6 col2\" >7038.000000</td>\n",
              "                        <td id=\"T_ccf61846_c9c7_11eb_b217_0242ac1c0002row6_col3\" class=\"data row6 col3\" >0.000000</td>\n",
              "                        <td id=\"T_ccf61846_c9c7_11eb_b217_0242ac1c0002row6_col4\" class=\"data row6 col4\" >2021-04-18 00:00:00</td>\n",
              "            </tr>\n",
              "            <tr>\n",
              "                        <th id=\"T_ccf61846_c9c7_11eb_b217_0242ac1c0002level0_row7\" class=\"row_heading level0 row7\" >Niger</th>\n",
              "                        <td id=\"T_ccf61846_c9c7_11eb_b217_0242ac1c0002row7_col0\" class=\"data row7 col0\" >Sinopharm/Beijing</td>\n",
              "                        <td id=\"T_ccf61846_c9c7_11eb_b217_0242ac1c0002row7_col1\" class=\"data row7 col1\" >1366.000000</td>\n",
              "                        <td id=\"T_ccf61846_c9c7_11eb_b217_0242ac1c0002row7_col2\" class=\"data row7 col2\" >1366.000000</td>\n",
              "                        <td id=\"T_ccf61846_c9c7_11eb_b217_0242ac1c0002row7_col3\" class=\"data row7 col3\" >0.000000</td>\n",
              "                        <td id=\"T_ccf61846_c9c7_11eb_b217_0242ac1c0002row7_col4\" class=\"data row7 col4\" >2021-04-17 00:00:00</td>\n",
              "            </tr>\n",
              "    </tbody></table>"
            ],
            "text/plain": [
              "<pandas.io.formats.style.Styler at 0x7f5c1a7ad4d0>"
            ]
          },
          "metadata": {
            "tags": []
          },
          "execution_count": 20
        }
      ]
    },
    {
      "cell_type": "code",
      "metadata": {
        "colab": {
          "base_uri": "https://localhost:8080/",
          "height": 176
        },
        "id": "-STOuoe9IXe6",
        "outputId": "a006260e-90ee-4c06-e405-475ef57e3b96"
      },
      "source": [
        "latest_data[latest_data['vaccines'] == 'Moderna, Pfizer/BioNTech'][['vaccines','total_vaccinations', 'people_vaccinated', 'people_fully_vaccinated','date']].sort_values(by='total_vaccinations', ascending = False).head(15).style.background_gradient(cmap='Blues')"
      ],
      "execution_count": null,
      "outputs": [
        {
          "output_type": "execute_result",
          "data": {
            "text/html": [
              "<style  type=\"text/css\" >\n",
              "#T_ccfd8090_c9c7_11eb_b217_0242ac1c0002row0_col1,#T_ccfd8090_c9c7_11eb_b217_0242ac1c0002row0_col2,#T_ccfd8090_c9c7_11eb_b217_0242ac1c0002row0_col3{\n",
              "            background-color:  #08306b;\n",
              "            color:  #f1f1f1;\n",
              "        }#T_ccfd8090_c9c7_11eb_b217_0242ac1c0002row1_col1{\n",
              "            background-color:  #c2d9ee;\n",
              "            color:  #000000;\n",
              "        }#T_ccfd8090_c9c7_11eb_b217_0242ac1c0002row1_col2{\n",
              "            background-color:  #aacfe5;\n",
              "            color:  #000000;\n",
              "        }#T_ccfd8090_c9c7_11eb_b217_0242ac1c0002row1_col3{\n",
              "            background-color:  #d3e3f3;\n",
              "            color:  #000000;\n",
              "        }#T_ccfd8090_c9c7_11eb_b217_0242ac1c0002row2_col1{\n",
              "            background-color:  #cee0f2;\n",
              "            color:  #000000;\n",
              "        }#T_ccfd8090_c9c7_11eb_b217_0242ac1c0002row2_col2{\n",
              "            background-color:  #c6dbef;\n",
              "            color:  #000000;\n",
              "        }#T_ccfd8090_c9c7_11eb_b217_0242ac1c0002row2_col3{\n",
              "            background-color:  #d6e6f4;\n",
              "            color:  #000000;\n",
              "        }#T_ccfd8090_c9c7_11eb_b217_0242ac1c0002row3_col1{\n",
              "            background-color:  #f5fafe;\n",
              "            color:  #000000;\n",
              "        }#T_ccfd8090_c9c7_11eb_b217_0242ac1c0002row3_col2{\n",
              "            background-color:  #f5f9fe;\n",
              "            color:  #000000;\n",
              "        }#T_ccfd8090_c9c7_11eb_b217_0242ac1c0002row3_col3{\n",
              "            background-color:  #f6faff;\n",
              "            color:  #000000;\n",
              "        }#T_ccfd8090_c9c7_11eb_b217_0242ac1c0002row4_col1,#T_ccfd8090_c9c7_11eb_b217_0242ac1c0002row4_col2,#T_ccfd8090_c9c7_11eb_b217_0242ac1c0002row4_col3,#T_ccfd8090_c9c7_11eb_b217_0242ac1c0002row5_col1,#T_ccfd8090_c9c7_11eb_b217_0242ac1c0002row5_col2,#T_ccfd8090_c9c7_11eb_b217_0242ac1c0002row5_col3{\n",
              "            background-color:  #f7fbff;\n",
              "            color:  #000000;\n",
              "        }</style><table id=\"T_ccfd8090_c9c7_11eb_b217_0242ac1c0002\" ><thead>    <tr>        <th class=\"blank level0\" ></th>        <th class=\"col_heading level0 col0\" >vaccines</th>        <th class=\"col_heading level0 col1\" >total_vaccinations</th>        <th class=\"col_heading level0 col2\" >people_vaccinated</th>        <th class=\"col_heading level0 col3\" >people_fully_vaccinated</th>        <th class=\"col_heading level0 col4\" >date</th>    </tr>    <tr>        <th class=\"index_name level0\" >country</th>        <th class=\"blank\" ></th>        <th class=\"blank\" ></th>        <th class=\"blank\" ></th>        <th class=\"blank\" ></th>        <th class=\"blank\" ></th>    </tr></thead><tbody>\n",
              "                <tr>\n",
              "                        <th id=\"T_ccfd8090_c9c7_11eb_b217_0242ac1c0002level0_row0\" class=\"row_heading level0 row0\" >Israel</th>\n",
              "                        <td id=\"T_ccfd8090_c9c7_11eb_b217_0242ac1c0002row0_col0\" class=\"data row0 col0\" >Moderna, Pfizer/BioNTech</td>\n",
              "                        <td id=\"T_ccfd8090_c9c7_11eb_b217_0242ac1c0002row0_col1\" class=\"data row0 col1\" >10489167.000000</td>\n",
              "                        <td id=\"T_ccfd8090_c9c7_11eb_b217_0242ac1c0002row0_col2\" class=\"data row0 col2\" >5417346.000000</td>\n",
              "                        <td id=\"T_ccfd8090_c9c7_11eb_b217_0242ac1c0002row0_col3\" class=\"data row0 col3\" >5071821.000000</td>\n",
              "                        <td id=\"T_ccfd8090_c9c7_11eb_b217_0242ac1c0002row0_col4\" class=\"data row0 col4\" >2021-05-06 00:00:00</td>\n",
              "            </tr>\n",
              "            <tr>\n",
              "                        <th id=\"T_ccfd8090_c9c7_11eb_b217_0242ac1c0002level0_row1\" class=\"row_heading level0 row1\" >Switzerland</th>\n",
              "                        <td id=\"T_ccfd8090_c9c7_11eb_b217_0242ac1c0002row1_col0\" class=\"data row1 col0\" >Moderna, Pfizer/BioNTech</td>\n",
              "                        <td id=\"T_ccfd8090_c9c7_11eb_b217_0242ac1c0002row1_col1\" class=\"data row1 col1\" >2791978.000000</td>\n",
              "                        <td id=\"T_ccfd8090_c9c7_11eb_b217_0242ac1c0002row1_col2\" class=\"data row1 col2\" >1841984.000000</td>\n",
              "                        <td id=\"T_ccfd8090_c9c7_11eb_b217_0242ac1c0002row1_col3\" class=\"data row1 col3\" >949994.000000</td>\n",
              "                        <td id=\"T_ccfd8090_c9c7_11eb_b217_0242ac1c0002row1_col4\" class=\"data row1 col4\" >2021-05-02 00:00:00</td>\n",
              "            </tr>\n",
              "            <tr>\n",
              "                        <th id=\"T_ccfd8090_c9c7_11eb_b217_0242ac1c0002level0_row2\" class=\"row_heading level0 row2\" >Singapore</th>\n",
              "                        <td id=\"T_ccfd8090_c9c7_11eb_b217_0242ac1c0002row2_col0\" class=\"data row2 col0\" >Moderna, Pfizer/BioNTech</td>\n",
              "                        <td id=\"T_ccfd8090_c9c7_11eb_b217_0242ac1c0002row2_col1\" class=\"data row2 col1\" >2213888.000000</td>\n",
              "                        <td id=\"T_ccfd8090_c9c7_11eb_b217_0242ac1c0002row2_col2\" class=\"data row2 col2\" >1364124.000000</td>\n",
              "                        <td id=\"T_ccfd8090_c9c7_11eb_b217_0242ac1c0002row2_col3\" class=\"data row2 col3\" >849764.000000</td>\n",
              "                        <td id=\"T_ccfd8090_c9c7_11eb_b217_0242ac1c0002row2_col4\" class=\"data row2 col4\" >2021-04-18 00:00:00</td>\n",
              "            </tr>\n",
              "            <tr>\n",
              "                        <th id=\"T_ccfd8090_c9c7_11eb_b217_0242ac1c0002level0_row3\" class=\"row_heading level0 row3\" >Curacao</th>\n",
              "                        <td id=\"T_ccfd8090_c9c7_11eb_b217_0242ac1c0002row3_col0\" class=\"data row3 col0\" >Moderna, Pfizer/BioNTech</td>\n",
              "                        <td id=\"T_ccfd8090_c9c7_11eb_b217_0242ac1c0002row3_col1\" class=\"data row3 col1\" >106971.000000</td>\n",
              "                        <td id=\"T_ccfd8090_c9c7_11eb_b217_0242ac1c0002row3_col2\" class=\"data row3 col2\" >76031.000000</td>\n",
              "                        <td id=\"T_ccfd8090_c9c7_11eb_b217_0242ac1c0002row3_col3\" class=\"data row3 col3\" >30940.000000</td>\n",
              "                        <td id=\"T_ccfd8090_c9c7_11eb_b217_0242ac1c0002row3_col4\" class=\"data row3 col4\" >2021-05-06 00:00:00</td>\n",
              "            </tr>\n",
              "            <tr>\n",
              "                        <th id=\"T_ccfd8090_c9c7_11eb_b217_0242ac1c0002level0_row4\" class=\"row_heading level0 row4\" >Faeroe Islands</th>\n",
              "                        <td id=\"T_ccfd8090_c9c7_11eb_b217_0242ac1c0002row4_col0\" class=\"data row4 col0\" >Moderna, Pfizer/BioNTech</td>\n",
              "                        <td id=\"T_ccfd8090_c9c7_11eb_b217_0242ac1c0002row4_col1\" class=\"data row4 col1\" >21128.000000</td>\n",
              "                        <td id=\"T_ccfd8090_c9c7_11eb_b217_0242ac1c0002row4_col2\" class=\"data row4 col2\" >14743.000000</td>\n",
              "                        <td id=\"T_ccfd8090_c9c7_11eb_b217_0242ac1c0002row4_col3\" class=\"data row4 col3\" >6385.000000</td>\n",
              "                        <td id=\"T_ccfd8090_c9c7_11eb_b217_0242ac1c0002row4_col4\" class=\"data row4 col4\" >2021-05-06 00:00:00</td>\n",
              "            </tr>\n",
              "            <tr>\n",
              "                        <th id=\"T_ccfd8090_c9c7_11eb_b217_0242ac1c0002level0_row5\" class=\"row_heading level0 row5\" >Liechtenstein</th>\n",
              "                        <td id=\"T_ccfd8090_c9c7_11eb_b217_0242ac1c0002row5_col0\" class=\"data row5 col0\" >Moderna, Pfizer/BioNTech</td>\n",
              "                        <td id=\"T_ccfd8090_c9c7_11eb_b217_0242ac1c0002row5_col1\" class=\"data row5 col1\" >12998.000000</td>\n",
              "                        <td id=\"T_ccfd8090_c9c7_11eb_b217_0242ac1c0002row5_col2\" class=\"data row5 col2\" >8815.000000</td>\n",
              "                        <td id=\"T_ccfd8090_c9c7_11eb_b217_0242ac1c0002row5_col3\" class=\"data row5 col3\" >4183.000000</td>\n",
              "                        <td id=\"T_ccfd8090_c9c7_11eb_b217_0242ac1c0002row5_col4\" class=\"data row5 col4\" >2021-05-02 00:00:00</td>\n",
              "            </tr>\n",
              "    </tbody></table>"
            ],
            "text/plain": [
              "<pandas.io.formats.style.Styler at 0x7f5c1a558a50>"
            ]
          },
          "metadata": {
            "tags": []
          },
          "execution_count": 21
        }
      ]
    },
    {
      "cell_type": "code",
      "metadata": {
        "colab": {
          "base_uri": "https://localhost:8080/",
          "height": 136
        },
        "id": "pluC0RGuIdbS",
        "outputId": "e75d51c5-3f31-41b1-d559-9ee234272856"
      },
      "source": [
        "latest_data[latest_data['vaccines'] == 'Pfizer/BioNTech, Sinovac'][['vaccines','total_vaccinations', 'people_vaccinated', 'people_fully_vaccinated','date']].sort_values(by='total_vaccinations', ascending = False).head(15).style.background_gradient(cmap='Blues')"
      ],
      "execution_count": null,
      "outputs": [
        {
          "output_type": "execute_result",
          "data": {
            "text/html": [
              "<style  type=\"text/css\" >\n",
              "#T_cd06cdee_c9c7_11eb_b217_0242ac1c0002row0_col1,#T_cd06cdee_c9c7_11eb_b217_0242ac1c0002row0_col2,#T_cd06cdee_c9c7_11eb_b217_0242ac1c0002row0_col3{\n",
              "            background-color:  #08306b;\n",
              "            color:  #f1f1f1;\n",
              "        }#T_cd06cdee_c9c7_11eb_b217_0242ac1c0002row1_col1{\n",
              "            background-color:  #4a98c9;\n",
              "            color:  #000000;\n",
              "        }#T_cd06cdee_c9c7_11eb_b217_0242ac1c0002row1_col2{\n",
              "            background-color:  #5ba3d0;\n",
              "            color:  #000000;\n",
              "        }#T_cd06cdee_c9c7_11eb_b217_0242ac1c0002row1_col3{\n",
              "            background-color:  #3585bf;\n",
              "            color:  #000000;\n",
              "        }#T_cd06cdee_c9c7_11eb_b217_0242ac1c0002row2_col1{\n",
              "            background-color:  #f6faff;\n",
              "            color:  #000000;\n",
              "        }#T_cd06cdee_c9c7_11eb_b217_0242ac1c0002row2_col2{\n",
              "            background-color:  #f5fafe;\n",
              "            color:  #000000;\n",
              "        }#T_cd06cdee_c9c7_11eb_b217_0242ac1c0002row2_col3,#T_cd06cdee_c9c7_11eb_b217_0242ac1c0002row3_col1,#T_cd06cdee_c9c7_11eb_b217_0242ac1c0002row3_col2,#T_cd06cdee_c9c7_11eb_b217_0242ac1c0002row3_col3{\n",
              "            background-color:  #f7fbff;\n",
              "            color:  #000000;\n",
              "        }</style><table id=\"T_cd06cdee_c9c7_11eb_b217_0242ac1c0002\" ><thead>    <tr>        <th class=\"blank level0\" ></th>        <th class=\"col_heading level0 col0\" >vaccines</th>        <th class=\"col_heading level0 col1\" >total_vaccinations</th>        <th class=\"col_heading level0 col2\" >people_vaccinated</th>        <th class=\"col_heading level0 col3\" >people_fully_vaccinated</th>        <th class=\"col_heading level0 col4\" >date</th>    </tr>    <tr>        <th class=\"index_name level0\" >country</th>        <th class=\"blank\" ></th>        <th class=\"blank\" ></th>        <th class=\"blank\" ></th>        <th class=\"blank\" ></th>        <th class=\"blank\" ></th>    </tr></thead><tbody>\n",
              "                <tr>\n",
              "                        <th id=\"T_cd06cdee_c9c7_11eb_b217_0242ac1c0002level0_row0\" class=\"row_heading level0 row0\" >Turkey</th>\n",
              "                        <td id=\"T_cd06cdee_c9c7_11eb_b217_0242ac1c0002row0_col0\" class=\"data row0 col0\" >Pfizer/BioNTech, Sinovac</td>\n",
              "                        <td id=\"T_cd06cdee_c9c7_11eb_b217_0242ac1c0002row0_col1\" class=\"data row0 col1\" >24467719.000000</td>\n",
              "                        <td id=\"T_cd06cdee_c9c7_11eb_b217_0242ac1c0002row0_col2\" class=\"data row0 col2\" >14391595.000000</td>\n",
              "                        <td id=\"T_cd06cdee_c9c7_11eb_b217_0242ac1c0002row0_col3\" class=\"data row0 col3\" >10076124.000000</td>\n",
              "                        <td id=\"T_cd06cdee_c9c7_11eb_b217_0242ac1c0002row0_col4\" class=\"data row0 col4\" >2021-05-06 00:00:00</td>\n",
              "            </tr>\n",
              "            <tr>\n",
              "                        <th id=\"T_cd06cdee_c9c7_11eb_b217_0242ac1c0002level0_row1\" class=\"row_heading level0 row1\" >Chile</th>\n",
              "                        <td id=\"T_cd06cdee_c9c7_11eb_b217_0242ac1c0002row1_col0\" class=\"data row1 col0\" >Pfizer/BioNTech, Sinovac</td>\n",
              "                        <td id=\"T_cd06cdee_c9c7_11eb_b217_0242ac1c0002row1_col1\" class=\"data row1 col1\" >15296805.000000</td>\n",
              "                        <td id=\"T_cd06cdee_c9c7_11eb_b217_0242ac1c0002row1_col2\" class=\"data row1 col2\" >8303682.000000</td>\n",
              "                        <td id=\"T_cd06cdee_c9c7_11eb_b217_0242ac1c0002row1_col3\" class=\"data row1 col3\" >6993123.000000</td>\n",
              "                        <td id=\"T_cd06cdee_c9c7_11eb_b217_0242ac1c0002row1_col4\" class=\"data row1 col4\" >2021-05-05 00:00:00</td>\n",
              "            </tr>\n",
              "            <tr>\n",
              "                        <th id=\"T_cd06cdee_c9c7_11eb_b217_0242ac1c0002level0_row2\" class=\"row_heading level0 row2\" >Hong Kong</th>\n",
              "                        <td id=\"T_cd06cdee_c9c7_11eb_b217_0242ac1c0002row2_col0\" class=\"data row2 col0\" >Pfizer/BioNTech, Sinovac</td>\n",
              "                        <td id=\"T_cd06cdee_c9c7_11eb_b217_0242ac1c0002row2_col1\" class=\"data row2 col1\" >1623981.000000</td>\n",
              "                        <td id=\"T_cd06cdee_c9c7_11eb_b217_0242ac1c0002row2_col2\" class=\"data row2 col2\" >1021217.000000</td>\n",
              "                        <td id=\"T_cd06cdee_c9c7_11eb_b217_0242ac1c0002row2_col3\" class=\"data row2 col3\" >602764.000000</td>\n",
              "                        <td id=\"T_cd06cdee_c9c7_11eb_b217_0242ac1c0002row2_col4\" class=\"data row2 col4\" >2021-05-06 00:00:00</td>\n",
              "            </tr>\n",
              "            <tr>\n",
              "                        <th id=\"T_cd06cdee_c9c7_11eb_b217_0242ac1c0002level0_row3\" class=\"row_heading level0 row3\" >Malaysia</th>\n",
              "                        <td id=\"T_cd06cdee_c9c7_11eb_b217_0242ac1c0002row3_col0\" class=\"data row3 col0\" >Pfizer/BioNTech, Sinovac</td>\n",
              "                        <td id=\"T_cd06cdee_c9c7_11eb_b217_0242ac1c0002row3_col1\" class=\"data row3 col1\" >1500202.000000</td>\n",
              "                        <td id=\"T_cd06cdee_c9c7_11eb_b217_0242ac1c0002row3_col2\" class=\"data row3 col2\" >914663.000000</td>\n",
              "                        <td id=\"T_cd06cdee_c9c7_11eb_b217_0242ac1c0002row3_col3\" class=\"data row3 col3\" >585539.000000</td>\n",
              "                        <td id=\"T_cd06cdee_c9c7_11eb_b217_0242ac1c0002row3_col4\" class=\"data row3 col4\" >2021-05-03 00:00:00</td>\n",
              "            </tr>\n",
              "    </tbody></table>"
            ],
            "text/plain": [
              "<pandas.io.formats.style.Styler at 0x7f5c1adaef50>"
            ]
          },
          "metadata": {
            "tags": []
          },
          "execution_count": 22
        }
      ]
    },
    {
      "cell_type": "code",
      "metadata": {
        "colab": {
          "base_uri": "https://localhost:8080/",
          "height": 77
        },
        "id": "wssUc7N6IfqS",
        "outputId": "e3223721-8d36-4e9d-d05f-86c5bb5febab"
      },
      "source": [
        "latest_data[latest_data['vaccines'] == 'Sinopharm/Beijing, Sinopharm/Wuhan, Sinovac'][['vaccines','total_vaccinations', 'people_vaccinated', 'people_fully_vaccinated','date']].sort_values(by='total_vaccinations', ascending = False).head(15).style.background_gradient(cmap='Blues')"
      ],
      "execution_count": null,
      "outputs": [
        {
          "output_type": "execute_result",
          "data": {
            "text/html": [
              "<style  type=\"text/css\" >\n",
              "#T_cd0d5c5e_c9c7_11eb_b217_0242ac1c0002row0_col1,#T_cd0d5c5e_c9c7_11eb_b217_0242ac1c0002row0_col2,#T_cd0d5c5e_c9c7_11eb_b217_0242ac1c0002row0_col3{\n",
              "            background-color:  #f7fbff;\n",
              "            color:  #000000;\n",
              "        }</style><table id=\"T_cd0d5c5e_c9c7_11eb_b217_0242ac1c0002\" ><thead>    <tr>        <th class=\"blank level0\" ></th>        <th class=\"col_heading level0 col0\" >vaccines</th>        <th class=\"col_heading level0 col1\" >total_vaccinations</th>        <th class=\"col_heading level0 col2\" >people_vaccinated</th>        <th class=\"col_heading level0 col3\" >people_fully_vaccinated</th>        <th class=\"col_heading level0 col4\" >date</th>    </tr>    <tr>        <th class=\"index_name level0\" >country</th>        <th class=\"blank\" ></th>        <th class=\"blank\" ></th>        <th class=\"blank\" ></th>        <th class=\"blank\" ></th>        <th class=\"blank\" ></th>    </tr></thead><tbody>\n",
              "                <tr>\n",
              "                        <th id=\"T_cd0d5c5e_c9c7_11eb_b217_0242ac1c0002level0_row0\" class=\"row_heading level0 row0\" >China</th>\n",
              "                        <td id=\"T_cd0d5c5e_c9c7_11eb_b217_0242ac1c0002row0_col0\" class=\"data row0 col0\" >Sinopharm/Beijing, Sinopharm/Wuhan, Sinovac</td>\n",
              "                        <td id=\"T_cd0d5c5e_c9c7_11eb_b217_0242ac1c0002row0_col1\" class=\"data row0 col1\" >297734000.000000</td>\n",
              "                        <td id=\"T_cd0d5c5e_c9c7_11eb_b217_0242ac1c0002row0_col2\" class=\"data row0 col2\" >0.000000</td>\n",
              "                        <td id=\"T_cd0d5c5e_c9c7_11eb_b217_0242ac1c0002row0_col3\" class=\"data row0 col3\" >0.000000</td>\n",
              "                        <td id=\"T_cd0d5c5e_c9c7_11eb_b217_0242ac1c0002row0_col4\" class=\"data row0 col4\" >2021-05-06 00:00:00</td>\n",
              "            </tr>\n",
              "    </tbody></table>"
            ],
            "text/plain": [
              "<pandas.io.formats.style.Styler at 0x7f5c1a7b98d0>"
            ]
          },
          "metadata": {
            "tags": []
          },
          "execution_count": 23
        }
      ]
    },
    {
      "cell_type": "code",
      "metadata": {
        "colab": {
          "base_uri": "https://localhost:8080/",
          "height": 314
        },
        "id": "N0kM8XlvIity",
        "outputId": "d8198f62-6a8f-467c-e521-1be5f1825f31"
      },
      "source": [
        "latest_data[latest_data['vaccines'] == 'Oxford/AstraZeneca, Pfizer/BioNTech'][['vaccines','total_vaccinations', 'people_vaccinated', 'people_fully_vaccinated','date']].sort_values(by='total_vaccinations', ascending = False).head(15).style.background_gradient(cmap='Blues')"
      ],
      "execution_count": null,
      "outputs": [
        {
          "output_type": "execute_result",
          "data": {
            "text/html": [
              "<style  type=\"text/css\" >\n",
              "#T_cd1417e2_c9c7_11eb_b217_0242ac1c0002row0_col1,#T_cd1417e2_c9c7_11eb_b217_0242ac1c0002row1_col2,#T_cd1417e2_c9c7_11eb_b217_0242ac1c0002row2_col3{\n",
              "            background-color:  #08306b;\n",
              "            color:  #f1f1f1;\n",
              "        }#T_cd1417e2_c9c7_11eb_b217_0242ac1c0002row0_col2,#T_cd1417e2_c9c7_11eb_b217_0242ac1c0002row0_col3,#T_cd1417e2_c9c7_11eb_b217_0242ac1c0002row3_col3,#T_cd1417e2_c9c7_11eb_b217_0242ac1c0002row11_col1,#T_cd1417e2_c9c7_11eb_b217_0242ac1c0002row12_col1{\n",
              "            background-color:  #f7fbff;\n",
              "            color:  #000000;\n",
              "        }#T_cd1417e2_c9c7_11eb_b217_0242ac1c0002row1_col1{\n",
              "            background-color:  #95c5df;\n",
              "            color:  #000000;\n",
              "        }#T_cd1417e2_c9c7_11eb_b217_0242ac1c0002row1_col3{\n",
              "            background-color:  #6aaed6;\n",
              "            color:  #000000;\n",
              "        }#T_cd1417e2_c9c7_11eb_b217_0242ac1c0002row2_col1{\n",
              "            background-color:  #a5cde3;\n",
              "            color:  #000000;\n",
              "        }#T_cd1417e2_c9c7_11eb_b217_0242ac1c0002row2_col2{\n",
              "            background-color:  #1d6cb1;\n",
              "            color:  #f1f1f1;\n",
              "        }#T_cd1417e2_c9c7_11eb_b217_0242ac1c0002row3_col1{\n",
              "            background-color:  #c7dcef;\n",
              "            color:  #000000;\n",
              "        }#T_cd1417e2_c9c7_11eb_b217_0242ac1c0002row3_col2,#T_cd1417e2_c9c7_11eb_b217_0242ac1c0002row8_col3{\n",
              "            background-color:  #eef5fc;\n",
              "            color:  #000000;\n",
              "        }#T_cd1417e2_c9c7_11eb_b217_0242ac1c0002row4_col1,#T_cd1417e2_c9c7_11eb_b217_0242ac1c0002row7_col3{\n",
              "            background-color:  #e5eff9;\n",
              "            color:  #000000;\n",
              "        }#T_cd1417e2_c9c7_11eb_b217_0242ac1c0002row4_col2{\n",
              "            background-color:  #d6e6f4;\n",
              "            color:  #000000;\n",
              "        }#T_cd1417e2_c9c7_11eb_b217_0242ac1c0002row4_col3{\n",
              "            background-color:  #85bcdc;\n",
              "            color:  #000000;\n",
              "        }#T_cd1417e2_c9c7_11eb_b217_0242ac1c0002row5_col1,#T_cd1417e2_c9c7_11eb_b217_0242ac1c0002row6_col1,#T_cd1417e2_c9c7_11eb_b217_0242ac1c0002row7_col2{\n",
              "            background-color:  #eaf2fb;\n",
              "            color:  #000000;\n",
              "        }#T_cd1417e2_c9c7_11eb_b217_0242ac1c0002row5_col2{\n",
              "            background-color:  #dce9f6;\n",
              "            color:  #000000;\n",
              "        }#T_cd1417e2_c9c7_11eb_b217_0242ac1c0002row5_col3{\n",
              "            background-color:  #b8d5ea;\n",
              "            color:  #000000;\n",
              "        }#T_cd1417e2_c9c7_11eb_b217_0242ac1c0002row6_col2{\n",
              "            background-color:  #deebf7;\n",
              "            color:  #000000;\n",
              "        }#T_cd1417e2_c9c7_11eb_b217_0242ac1c0002row6_col3{\n",
              "            background-color:  #b5d4e9;\n",
              "            color:  #000000;\n",
              "        }#T_cd1417e2_c9c7_11eb_b217_0242ac1c0002row7_col1{\n",
              "            background-color:  #f2f7fd;\n",
              "            color:  #000000;\n",
              "        }#T_cd1417e2_c9c7_11eb_b217_0242ac1c0002row8_col1,#T_cd1417e2_c9c7_11eb_b217_0242ac1c0002row9_col1,#T_cd1417e2_c9c7_11eb_b217_0242ac1c0002row10_col1,#T_cd1417e2_c9c7_11eb_b217_0242ac1c0002row12_col2,#T_cd1417e2_c9c7_11eb_b217_0242ac1c0002row12_col3{\n",
              "            background-color:  #f6faff;\n",
              "            color:  #000000;\n",
              "        }#T_cd1417e2_c9c7_11eb_b217_0242ac1c0002row8_col2{\n",
              "            background-color:  #f5f9fe;\n",
              "            color:  #000000;\n",
              "        }#T_cd1417e2_c9c7_11eb_b217_0242ac1c0002row9_col2,#T_cd1417e2_c9c7_11eb_b217_0242ac1c0002row11_col3{\n",
              "            background-color:  #f4f9fe;\n",
              "            color:  #000000;\n",
              "        }#T_cd1417e2_c9c7_11eb_b217_0242ac1c0002row9_col3{\n",
              "            background-color:  #f3f8fe;\n",
              "            color:  #000000;\n",
              "        }#T_cd1417e2_c9c7_11eb_b217_0242ac1c0002row10_col2,#T_cd1417e2_c9c7_11eb_b217_0242ac1c0002row11_col2{\n",
              "            background-color:  #f5fafe;\n",
              "            color:  #000000;\n",
              "        }#T_cd1417e2_c9c7_11eb_b217_0242ac1c0002row10_col3{\n",
              "            background-color:  #eff6fc;\n",
              "            color:  #000000;\n",
              "        }</style><table id=\"T_cd1417e2_c9c7_11eb_b217_0242ac1c0002\" ><thead>    <tr>        <th class=\"blank level0\" ></th>        <th class=\"col_heading level0 col0\" >vaccines</th>        <th class=\"col_heading level0 col1\" >total_vaccinations</th>        <th class=\"col_heading level0 col2\" >people_vaccinated</th>        <th class=\"col_heading level0 col3\" >people_fully_vaccinated</th>        <th class=\"col_heading level0 col4\" >date</th>    </tr>    <tr>        <th class=\"index_name level0\" >country</th>        <th class=\"blank\" ></th>        <th class=\"blank\" ></th>        <th class=\"blank\" ></th>        <th class=\"blank\" ></th>        <th class=\"blank\" ></th>    </tr></thead><tbody>\n",
              "                <tr>\n",
              "                        <th id=\"T_cd1417e2_c9c7_11eb_b217_0242ac1c0002level0_row0\" class=\"row_heading level0 row0\" >Saudi Arabia</th>\n",
              "                        <td id=\"T_cd1417e2_c9c7_11eb_b217_0242ac1c0002row0_col0\" class=\"data row0 col0\" >Oxford/AstraZeneca, Pfizer/BioNTech</td>\n",
              "                        <td id=\"T_cd1417e2_c9c7_11eb_b217_0242ac1c0002row0_col1\" class=\"data row0 col1\" >10065924.000000</td>\n",
              "                        <td id=\"T_cd1417e2_c9c7_11eb_b217_0242ac1c0002row0_col2\" class=\"data row0 col2\" >0.000000</td>\n",
              "                        <td id=\"T_cd1417e2_c9c7_11eb_b217_0242ac1c0002row0_col3\" class=\"data row0 col3\" >0.000000</td>\n",
              "                        <td id=\"T_cd1417e2_c9c7_11eb_b217_0242ac1c0002row0_col4\" class=\"data row0 col4\" >2021-05-06 00:00:00</td>\n",
              "            </tr>\n",
              "            <tr>\n",
              "                        <th id=\"T_cd1417e2_c9c7_11eb_b217_0242ac1c0002level0_row1\" class=\"row_heading level0 row1\" >South Korea</th>\n",
              "                        <td id=\"T_cd1417e2_c9c7_11eb_b217_0242ac1c0002row1_col0\" class=\"data row1 col0\" >Oxford/AstraZeneca, Pfizer/BioNTech</td>\n",
              "                        <td id=\"T_cd1417e2_c9c7_11eb_b217_0242ac1c0002row1_col1\" class=\"data row1 col1\" >4005806.000000</td>\n",
              "                        <td id=\"T_cd1417e2_c9c7_11eb_b217_0242ac1c0002row1_col2\" class=\"data row1 col2\" >3608616.000000</td>\n",
              "                        <td id=\"T_cd1417e2_c9c7_11eb_b217_0242ac1c0002row1_col3\" class=\"data row1 col3\" >397190.000000</td>\n",
              "                        <td id=\"T_cd1417e2_c9c7_11eb_b217_0242ac1c0002row1_col4\" class=\"data row1 col4\" >2021-05-06 00:00:00</td>\n",
              "            </tr>\n",
              "            <tr>\n",
              "                        <th id=\"T_cd1417e2_c9c7_11eb_b217_0242ac1c0002level0_row2\" class=\"row_heading level0 row2\" >Sweden</th>\n",
              "                        <td id=\"T_cd1417e2_c9c7_11eb_b217_0242ac1c0002row2_col0\" class=\"data row2 col0\" >Oxford/AstraZeneca, Pfizer/BioNTech</td>\n",
              "                        <td id=\"T_cd1417e2_c9c7_11eb_b217_0242ac1c0002row2_col1\" class=\"data row2 col1\" >3563609.000000</td>\n",
              "                        <td id=\"T_cd1417e2_c9c7_11eb_b217_0242ac1c0002row2_col2\" class=\"data row2 col2\" >2769411.000000</td>\n",
              "                        <td id=\"T_cd1417e2_c9c7_11eb_b217_0242ac1c0002row2_col3\" class=\"data row2 col3\" >794198.000000</td>\n",
              "                        <td id=\"T_cd1417e2_c9c7_11eb_b217_0242ac1c0002row2_col4\" class=\"data row2 col4\" >2021-05-06 00:00:00</td>\n",
              "            </tr>\n",
              "            <tr>\n",
              "                        <th id=\"T_cd1417e2_c9c7_11eb_b217_0242ac1c0002level0_row3\" class=\"row_heading level0 row3\" >Australia</th>\n",
              "                        <td id=\"T_cd1417e2_c9c7_11eb_b217_0242ac1c0002row3_col0\" class=\"data row3 col0\" >Oxford/AstraZeneca, Pfizer/BioNTech</td>\n",
              "                        <td id=\"T_cd1417e2_c9c7_11eb_b217_0242ac1c0002row3_col1\" class=\"data row3 col1\" >2473529.000000</td>\n",
              "                        <td id=\"T_cd1417e2_c9c7_11eb_b217_0242ac1c0002row3_col2\" class=\"data row3 col2\" >159294.000000</td>\n",
              "                        <td id=\"T_cd1417e2_c9c7_11eb_b217_0242ac1c0002row3_col3\" class=\"data row3 col3\" >0.000000</td>\n",
              "                        <td id=\"T_cd1417e2_c9c7_11eb_b217_0242ac1c0002row3_col4\" class=\"data row3 col4\" >2021-05-06 00:00:00</td>\n",
              "            </tr>\n",
              "            <tr>\n",
              "                        <th id=\"T_cd1417e2_c9c7_11eb_b217_0242ac1c0002level0_row4\" class=\"row_heading level0 row4\" >Costa Rica</th>\n",
              "                        <td id=\"T_cd1417e2_c9c7_11eb_b217_0242ac1c0002row4_col0\" class=\"data row4 col0\" >Oxford/AstraZeneca, Pfizer/BioNTech</td>\n",
              "                        <td id=\"T_cd1417e2_c9c7_11eb_b217_0242ac1c0002row4_col1\" class=\"data row4 col1\" >950252.000000</td>\n",
              "                        <td id=\"T_cd1417e2_c9c7_11eb_b217_0242ac1c0002row4_col2\" class=\"data row4 col2\" >605099.000000</td>\n",
              "                        <td id=\"T_cd1417e2_c9c7_11eb_b217_0242ac1c0002row4_col3\" class=\"data row4 col3\" >345153.000000</td>\n",
              "                        <td id=\"T_cd1417e2_c9c7_11eb_b217_0242ac1c0002row4_col4\" class=\"data row4 col4\" >2021-05-03 00:00:00</td>\n",
              "            </tr>\n",
              "            <tr>\n",
              "                        <th id=\"T_cd1417e2_c9c7_11eb_b217_0242ac1c0002level0_row5\" class=\"row_heading level0 row5\" >Panama</th>\n",
              "                        <td id=\"T_cd1417e2_c9c7_11eb_b217_0242ac1c0002row5_col0\" class=\"data row5 col0\" >Oxford/AstraZeneca, Pfizer/BioNTech</td>\n",
              "                        <td id=\"T_cd1417e2_c9c7_11eb_b217_0242ac1c0002row5_col1\" class=\"data row5 col1\" >731189.000000</td>\n",
              "                        <td id=\"T_cd1417e2_c9c7_11eb_b217_0242ac1c0002row5_col2\" class=\"data row5 col2\" >496131.000000</td>\n",
              "                        <td id=\"T_cd1417e2_c9c7_11eb_b217_0242ac1c0002row5_col3\" class=\"data row5 col3\" >235058.000000</td>\n",
              "                        <td id=\"T_cd1417e2_c9c7_11eb_b217_0242ac1c0002row5_col4\" class=\"data row5 col4\" >2021-05-06 00:00:00</td>\n",
              "            </tr>\n",
              "            <tr>\n",
              "                        <th id=\"T_cd1417e2_c9c7_11eb_b217_0242ac1c0002level0_row6\" class=\"row_heading level0 row6\" >Slovenia</th>\n",
              "                        <td id=\"T_cd1417e2_c9c7_11eb_b217_0242ac1c0002row6_col0\" class=\"data row6 col0\" >Oxford/AstraZeneca, Pfizer/BioNTech</td>\n",
              "                        <td id=\"T_cd1417e2_c9c7_11eb_b217_0242ac1c0002row6_col1\" class=\"data row6 col1\" >702666.000000</td>\n",
              "                        <td id=\"T_cd1417e2_c9c7_11eb_b217_0242ac1c0002row6_col2\" class=\"data row6 col2\" >463252.000000</td>\n",
              "                        <td id=\"T_cd1417e2_c9c7_11eb_b217_0242ac1c0002row6_col3\" class=\"data row6 col3\" >239414.000000</td>\n",
              "                        <td id=\"T_cd1417e2_c9c7_11eb_b217_0242ac1c0002row6_col4\" class=\"data row6 col4\" >2021-05-06 00:00:00</td>\n",
              "            </tr>\n",
              "            <tr>\n",
              "                        <th id=\"T_cd1417e2_c9c7_11eb_b217_0242ac1c0002level0_row7\" class=\"row_heading level0 row7\" >Oman</th>\n",
              "                        <td id=\"T_cd1417e2_c9c7_11eb_b217_0242ac1c0002row7_col0\" class=\"data row7 col0\" >Oxford/AstraZeneca, Pfizer/BioNTech</td>\n",
              "                        <td id=\"T_cd1417e2_c9c7_11eb_b217_0242ac1c0002row7_col1\" class=\"data row7 col1\" >315691.000000</td>\n",
              "                        <td id=\"T_cd1417e2_c9c7_11eb_b217_0242ac1c0002row7_col2\" class=\"data row7 col2\" >253000.000000</td>\n",
              "                        <td id=\"T_cd1417e2_c9c7_11eb_b217_0242ac1c0002row7_col3\" class=\"data row7 col3\" >73269.000000</td>\n",
              "                        <td id=\"T_cd1417e2_c9c7_11eb_b217_0242ac1c0002row7_col4\" class=\"data row7 col4\" >2021-05-05 00:00:00</td>\n",
              "            </tr>\n",
              "            <tr>\n",
              "                        <th id=\"T_cd1417e2_c9c7_11eb_b217_0242ac1c0002level0_row8\" class=\"row_heading level0 row8\" >Jersey</th>\n",
              "                        <td id=\"T_cd1417e2_c9c7_11eb_b217_0242ac1c0002row8_col0\" class=\"data row8 col0\" >Oxford/AstraZeneca, Pfizer/BioNTech</td>\n",
              "                        <td id=\"T_cd1417e2_c9c7_11eb_b217_0242ac1c0002row8_col1\" class=\"data row8 col1\" >88404.000000</td>\n",
              "                        <td id=\"T_cd1417e2_c9c7_11eb_b217_0242ac1c0002row8_col2\" class=\"data row8 col2\" >52891.000000</td>\n",
              "                        <td id=\"T_cd1417e2_c9c7_11eb_b217_0242ac1c0002row8_col3\" class=\"data row8 col3\" >35513.000000</td>\n",
              "                        <td id=\"T_cd1417e2_c9c7_11eb_b217_0242ac1c0002row8_col4\" class=\"data row8 col4\" >2021-05-02 00:00:00</td>\n",
              "            </tr>\n",
              "            <tr>\n",
              "                        <th id=\"T_cd1417e2_c9c7_11eb_b217_0242ac1c0002level0_row9\" class=\"row_heading level0 row9\" >Isle of Man</th>\n",
              "                        <td id=\"T_cd1417e2_c9c7_11eb_b217_0242ac1c0002row9_col0\" class=\"data row9 col0\" >Oxford/AstraZeneca, Pfizer/BioNTech</td>\n",
              "                        <td id=\"T_cd1417e2_c9c7_11eb_b217_0242ac1c0002row9_col1\" class=\"data row9 col1\" >75013.000000</td>\n",
              "                        <td id=\"T_cd1417e2_c9c7_11eb_b217_0242ac1c0002row9_col2\" class=\"data row9 col2\" >59217.000000</td>\n",
              "                        <td id=\"T_cd1417e2_c9c7_11eb_b217_0242ac1c0002row9_col3\" class=\"data row9 col3\" >15796.000000</td>\n",
              "                        <td id=\"T_cd1417e2_c9c7_11eb_b217_0242ac1c0002row9_col4\" class=\"data row9 col4\" >2021-05-06 00:00:00</td>\n",
              "            </tr>\n",
              "            <tr>\n",
              "                        <th id=\"T_cd1417e2_c9c7_11eb_b217_0242ac1c0002level0_row10\" class=\"row_heading level0 row10\" >Cayman Islands</th>\n",
              "                        <td id=\"T_cd1417e2_c9c7_11eb_b217_0242ac1c0002row10_col0\" class=\"data row10 col0\" >Oxford/AstraZeneca, Pfizer/BioNTech</td>\n",
              "                        <td id=\"T_cd1417e2_c9c7_11eb_b217_0242ac1c0002row10_col1\" class=\"data row10 col1\" >69573.000000</td>\n",
              "                        <td id=\"T_cd1417e2_c9c7_11eb_b217_0242ac1c0002row10_col2\" class=\"data row10 col2\" >37062.000000</td>\n",
              "                        <td id=\"T_cd1417e2_c9c7_11eb_b217_0242ac1c0002row10_col3\" class=\"data row10 col3\" >32511.000000</td>\n",
              "                        <td id=\"T_cd1417e2_c9c7_11eb_b217_0242ac1c0002row10_col4\" class=\"data row10 col4\" >2021-05-05 00:00:00</td>\n",
              "            </tr>\n",
              "            <tr>\n",
              "                        <th id=\"T_cd1417e2_c9c7_11eb_b217_0242ac1c0002level0_row11\" class=\"row_heading level0 row11\" >Guernsey</th>\n",
              "                        <td id=\"T_cd1417e2_c9c7_11eb_b217_0242ac1c0002row11_col0\" class=\"data row11 col0\" >Oxford/AstraZeneca, Pfizer/BioNTech</td>\n",
              "                        <td id=\"T_cd1417e2_c9c7_11eb_b217_0242ac1c0002row11_col1\" class=\"data row11 col1\" >46587.000000</td>\n",
              "                        <td id=\"T_cd1417e2_c9c7_11eb_b217_0242ac1c0002row11_col2\" class=\"data row11 col2\" >32969.000000</td>\n",
              "                        <td id=\"T_cd1417e2_c9c7_11eb_b217_0242ac1c0002row11_col3\" class=\"data row11 col3\" >13618.000000</td>\n",
              "                        <td id=\"T_cd1417e2_c9c7_11eb_b217_0242ac1c0002row11_col4\" class=\"data row11 col4\" >2021-04-20 00:00:00</td>\n",
              "            </tr>\n",
              "            <tr>\n",
              "                        <th id=\"T_cd1417e2_c9c7_11eb_b217_0242ac1c0002level0_row12\" class=\"row_heading level0 row12\" >Andorra</th>\n",
              "                        <td id=\"T_cd1417e2_c9c7_11eb_b217_0242ac1c0002row12_col0\" class=\"data row12 col0\" >Oxford/AstraZeneca, Pfizer/BioNTech</td>\n",
              "                        <td id=\"T_cd1417e2_c9c7_11eb_b217_0242ac1c0002row12_col1\" class=\"data row12 col1\" >28881.000000</td>\n",
              "                        <td id=\"T_cd1417e2_c9c7_11eb_b217_0242ac1c0002row12_col2\" class=\"data row12 col2\" >24182.000000</td>\n",
              "                        <td id=\"T_cd1417e2_c9c7_11eb_b217_0242ac1c0002row12_col3\" class=\"data row12 col3\" >4699.000000</td>\n",
              "                        <td id=\"T_cd1417e2_c9c7_11eb_b217_0242ac1c0002row12_col4\" class=\"data row12 col4\" >2021-05-03 00:00:00</td>\n",
              "            </tr>\n",
              "    </tbody></table>"
            ],
            "text/plain": [
              "<pandas.io.formats.style.Styler at 0x7f5c1a56ccd0>"
            ]
          },
          "metadata": {
            "tags": []
          },
          "execution_count": 24
        }
      ]
    },
    {
      "cell_type": "code",
      "metadata": {
        "colab": {
          "base_uri": "https://localhost:8080/",
          "height": 57
        },
        "id": "4hOaIfyOIlGa",
        "outputId": "f2bf4dd6-6f0d-4841-8488-45d8487e1dec"
      },
      "source": [
        "latest_data[latest_data['vaccines'] == 'Sinovac'][['vaccines','total_vaccinations', 'people_vaccinated', 'people_fully_vaccinated','date']].sort_values(by='total_vaccinations', ascending = False).head(15).style.background_gradient(cmap='Blues')"
      ],
      "execution_count": null,
      "outputs": [
        {
          "output_type": "execute_result",
          "data": {
            "text/html": [
              "<style  type=\"text/css\" >\n",
              "</style><table id=\"T_cd1937ae_c9c7_11eb_b217_0242ac1c0002\" ><thead>    <tr>        <th class=\"blank level0\" ></th>        <th class=\"col_heading level0 col0\" >vaccines</th>        <th class=\"col_heading level0 col1\" >total_vaccinations</th>        <th class=\"col_heading level0 col2\" >people_vaccinated</th>        <th class=\"col_heading level0 col3\" >people_fully_vaccinated</th>        <th class=\"col_heading level0 col4\" >date</th>    </tr>    <tr>        <th class=\"index_name level0\" >country</th>        <th class=\"blank\" ></th>        <th class=\"blank\" ></th>        <th class=\"blank\" ></th>        <th class=\"blank\" ></th>        <th class=\"blank\" ></th>    </tr></thead><tbody>\n",
              "        </tbody></table>"
            ],
            "text/plain": [
              "<pandas.io.formats.style.Styler at 0x7f5c1a7b9f50>"
            ]
          },
          "metadata": {
            "tags": []
          },
          "execution_count": 25
        }
      ]
    },
    {
      "cell_type": "code",
      "metadata": {
        "colab": {
          "base_uri": "https://localhost:8080/",
          "height": 57
        },
        "id": "75F3m0yRItEc",
        "outputId": "c44bc532-4368-4d8b-f772-bcc40f837546"
      },
      "source": [
        "latest_data[latest_data['vaccines'] == 'Moderna'][['vaccines','total_vaccinations', 'people_vaccinated', 'people_fully_vaccinated','date']].sort_values(by='total_vaccinations', ascending = False).head(15).style.background_gradient(cmap='Blues')"
      ],
      "execution_count": null,
      "outputs": [
        {
          "output_type": "execute_result",
          "data": {
            "text/html": [
              "<style  type=\"text/css\" >\n",
              "</style><table id=\"T_cd1d8e3a_c9c7_11eb_b217_0242ac1c0002\" ><thead>    <tr>        <th class=\"blank level0\" ></th>        <th class=\"col_heading level0 col0\" >vaccines</th>        <th class=\"col_heading level0 col1\" >total_vaccinations</th>        <th class=\"col_heading level0 col2\" >people_vaccinated</th>        <th class=\"col_heading level0 col3\" >people_fully_vaccinated</th>        <th class=\"col_heading level0 col4\" >date</th>    </tr>    <tr>        <th class=\"index_name level0\" >country</th>        <th class=\"blank\" ></th>        <th class=\"blank\" ></th>        <th class=\"blank\" ></th>        <th class=\"blank\" ></th>        <th class=\"blank\" ></th>    </tr></thead><tbody>\n",
              "        </tbody></table>"
            ],
            "text/plain": [
              "<pandas.io.formats.style.Styler at 0x7f5c1a4fcf90>"
            ]
          },
          "metadata": {
            "tags": []
          },
          "execution_count": 26
        }
      ]
    },
    {
      "cell_type": "code",
      "metadata": {
        "colab": {
          "base_uri": "https://localhost:8080/",
          "height": 94
        },
        "id": "qli1VNA6IvRJ",
        "outputId": "dd26f6b7-2f5e-4230-d029-21e9e8c944eb"
      },
      "source": [
        "latest_data[latest_data['vaccines'] == 'Moderna, Oxford/AstraZeneca, Pfizer/BioNTech, Sinopharm/Beijing, Sputnik V'][['vaccines','total_vaccinations', 'people_vaccinated', 'people_fully_vaccinated','date']].sort_values(by='total_vaccinations', ascending = False).head(15).style.background_gradient(cmap='Blues')"
      ],
      "execution_count": null,
      "outputs": [
        {
          "output_type": "execute_result",
          "data": {
            "text/html": [
              "<style  type=\"text/css\" >\n",
              "#T_cd22c30a_c9c7_11eb_b217_0242ac1c0002row0_col1,#T_cd22c30a_c9c7_11eb_b217_0242ac1c0002row0_col2,#T_cd22c30a_c9c7_11eb_b217_0242ac1c0002row0_col3{\n",
              "            background-color:  #f7fbff;\n",
              "            color:  #000000;\n",
              "        }</style><table id=\"T_cd22c30a_c9c7_11eb_b217_0242ac1c0002\" ><thead>    <tr>        <th class=\"blank level0\" ></th>        <th class=\"col_heading level0 col0\" >vaccines</th>        <th class=\"col_heading level0 col1\" >total_vaccinations</th>        <th class=\"col_heading level0 col2\" >people_vaccinated</th>        <th class=\"col_heading level0 col3\" >people_fully_vaccinated</th>        <th class=\"col_heading level0 col4\" >date</th>    </tr>    <tr>        <th class=\"index_name level0\" >country</th>        <th class=\"blank\" ></th>        <th class=\"blank\" ></th>        <th class=\"blank\" ></th>        <th class=\"blank\" ></th>        <th class=\"blank\" ></th>    </tr></thead><tbody>\n",
              "                <tr>\n",
              "                        <th id=\"T_cd22c30a_c9c7_11eb_b217_0242ac1c0002level0_row0\" class=\"row_heading level0 row0\" >Hungary</th>\n",
              "                        <td id=\"T_cd22c30a_c9c7_11eb_b217_0242ac1c0002row0_col0\" class=\"data row0 col0\" >Moderna, Oxford/AstraZeneca, Pfizer/BioNTech, Sinopharm/Beijing, Sputnik V</td>\n",
              "                        <td id=\"T_cd22c30a_c9c7_11eb_b217_0242ac1c0002row0_col1\" class=\"data row0 col1\" >6468466.000000</td>\n",
              "                        <td id=\"T_cd22c30a_c9c7_11eb_b217_0242ac1c0002row0_col2\" class=\"data row0 col2\" >4153038.000000</td>\n",
              "                        <td id=\"T_cd22c30a_c9c7_11eb_b217_0242ac1c0002row0_col3\" class=\"data row0 col3\" >2315428.000000</td>\n",
              "                        <td id=\"T_cd22c30a_c9c7_11eb_b217_0242ac1c0002row0_col4\" class=\"data row0 col4\" >2021-05-05 00:00:00</td>\n",
              "            </tr>\n",
              "    </tbody></table>"
            ],
            "text/plain": [
              "<pandas.io.formats.style.Styler at 0x7f5c1ae03610>"
            ]
          },
          "metadata": {
            "tags": []
          },
          "execution_count": 27
        }
      ]
    },
    {
      "cell_type": "code",
      "metadata": {
        "colab": {
          "base_uri": "https://localhost:8080/",
          "height": 77
        },
        "id": "e-JNh8-GIxyZ",
        "outputId": "6e06bf33-a223-42fe-dcb2-5c0918cea7ae"
      },
      "source": [
        "latest_data[latest_data['vaccines'] == 'Covaxin, Oxford/AstraZeneca'][['vaccines','total_vaccinations', 'people_vaccinated', 'people_fully_vaccinated','date']].sort_values(by='total_vaccinations', ascending = False).head(15).style.background_gradient(cmap='Blues')"
      ],
      "execution_count": null,
      "outputs": [
        {
          "output_type": "execute_result",
          "data": {
            "text/html": [
              "<style  type=\"text/css\" >\n",
              "#T_cd27c0da_c9c7_11eb_b217_0242ac1c0002row0_col1,#T_cd27c0da_c9c7_11eb_b217_0242ac1c0002row0_col2,#T_cd27c0da_c9c7_11eb_b217_0242ac1c0002row0_col3{\n",
              "            background-color:  #f7fbff;\n",
              "            color:  #000000;\n",
              "        }</style><table id=\"T_cd27c0da_c9c7_11eb_b217_0242ac1c0002\" ><thead>    <tr>        <th class=\"blank level0\" ></th>        <th class=\"col_heading level0 col0\" >vaccines</th>        <th class=\"col_heading level0 col1\" >total_vaccinations</th>        <th class=\"col_heading level0 col2\" >people_vaccinated</th>        <th class=\"col_heading level0 col3\" >people_fully_vaccinated</th>        <th class=\"col_heading level0 col4\" >date</th>    </tr>    <tr>        <th class=\"index_name level0\" >country</th>        <th class=\"blank\" ></th>        <th class=\"blank\" ></th>        <th class=\"blank\" ></th>        <th class=\"blank\" ></th>        <th class=\"blank\" ></th>    </tr></thead><tbody>\n",
              "                <tr>\n",
              "                        <th id=\"T_cd27c0da_c9c7_11eb_b217_0242ac1c0002level0_row0\" class=\"row_heading level0 row0\" >India</th>\n",
              "                        <td id=\"T_cd27c0da_c9c7_11eb_b217_0242ac1c0002row0_col0\" class=\"data row0 col0\" >Covaxin, Oxford/AstraZeneca</td>\n",
              "                        <td id=\"T_cd27c0da_c9c7_11eb_b217_0242ac1c0002row0_col1\" class=\"data row0 col1\" >162603603.000000</td>\n",
              "                        <td id=\"T_cd27c0da_c9c7_11eb_b217_0242ac1c0002row0_col2\" class=\"data row0 col2\" >131058890.000000</td>\n",
              "                        <td id=\"T_cd27c0da_c9c7_11eb_b217_0242ac1c0002row0_col3\" class=\"data row0 col3\" >31544713.000000</td>\n",
              "                        <td id=\"T_cd27c0da_c9c7_11eb_b217_0242ac1c0002row0_col4\" class=\"data row0 col4\" >2021-05-06 00:00:00</td>\n",
              "            </tr>\n",
              "    </tbody></table>"
            ],
            "text/plain": [
              "<pandas.io.formats.style.Styler at 0x7f5c1a509d90>"
            ]
          },
          "metadata": {
            "tags": []
          },
          "execution_count": 28
        }
      ]
    },
    {
      "cell_type": "code",
      "metadata": {
        "colab": {
          "base_uri": "https://localhost:8080/",
          "height": 96
        },
        "id": "SaAJNntDIzyy",
        "outputId": "571aec57-6471-4909-dda5-4e989e6bdb8e"
      },
      "source": [
        "latest_data[latest_data['vaccines'] == 'Pfizer/BioNTech, Sinopharm/Beijing'][['vaccines','total_vaccinations', 'people_vaccinated', 'people_fully_vaccinated','date']].sort_values(by='total_vaccinations', ascending = False).head(15).style.background_gradient(cmap='Blues')"
      ],
      "execution_count": null,
      "outputs": [
        {
          "output_type": "execute_result",
          "data": {
            "text/html": [
              "<style  type=\"text/css\" >\n",
              "#T_cd31074e_c9c7_11eb_b217_0242ac1c0002row0_col1,#T_cd31074e_c9c7_11eb_b217_0242ac1c0002row0_col2,#T_cd31074e_c9c7_11eb_b217_0242ac1c0002row0_col3{\n",
              "            background-color:  #08306b;\n",
              "            color:  #f1f1f1;\n",
              "        }#T_cd31074e_c9c7_11eb_b217_0242ac1c0002row1_col1,#T_cd31074e_c9c7_11eb_b217_0242ac1c0002row1_col2,#T_cd31074e_c9c7_11eb_b217_0242ac1c0002row1_col3{\n",
              "            background-color:  #f7fbff;\n",
              "            color:  #000000;\n",
              "        }</style><table id=\"T_cd31074e_c9c7_11eb_b217_0242ac1c0002\" ><thead>    <tr>        <th class=\"blank level0\" ></th>        <th class=\"col_heading level0 col0\" >vaccines</th>        <th class=\"col_heading level0 col1\" >total_vaccinations</th>        <th class=\"col_heading level0 col2\" >people_vaccinated</th>        <th class=\"col_heading level0 col3\" >people_fully_vaccinated</th>        <th class=\"col_heading level0 col4\" >date</th>    </tr>    <tr>        <th class=\"index_name level0\" >country</th>        <th class=\"blank\" ></th>        <th class=\"blank\" ></th>        <th class=\"blank\" ></th>        <th class=\"blank\" ></th>        <th class=\"blank\" ></th>    </tr></thead><tbody>\n",
              "                <tr>\n",
              "                        <th id=\"T_cd31074e_c9c7_11eb_b217_0242ac1c0002level0_row0\" class=\"row_heading level0 row0\" >Jordan</th>\n",
              "                        <td id=\"T_cd31074e_c9c7_11eb_b217_0242ac1c0002row0_col0\" class=\"data row0 col0\" >Pfizer/BioNTech, Sinopharm/Beijing</td>\n",
              "                        <td id=\"T_cd31074e_c9c7_11eb_b217_0242ac1c0002row0_col1\" class=\"data row0 col1\" >1091048.000000</td>\n",
              "                        <td id=\"T_cd31074e_c9c7_11eb_b217_0242ac1c0002row0_col2\" class=\"data row0 col2\" >805020.000000</td>\n",
              "                        <td id=\"T_cd31074e_c9c7_11eb_b217_0242ac1c0002row0_col3\" class=\"data row0 col3\" >286028.000000</td>\n",
              "                        <td id=\"T_cd31074e_c9c7_11eb_b217_0242ac1c0002row0_col4\" class=\"data row0 col4\" >2021-05-04 00:00:00</td>\n",
              "            </tr>\n",
              "            <tr>\n",
              "                        <th id=\"T_cd31074e_c9c7_11eb_b217_0242ac1c0002level0_row1\" class=\"row_heading level0 row1\" >Macao</th>\n",
              "                        <td id=\"T_cd31074e_c9c7_11eb_b217_0242ac1c0002row1_col0\" class=\"data row1 col0\" >Pfizer/BioNTech, Sinopharm/Beijing</td>\n",
              "                        <td id=\"T_cd31074e_c9c7_11eb_b217_0242ac1c0002row1_col1\" class=\"data row1 col1\" >112748.000000</td>\n",
              "                        <td id=\"T_cd31074e_c9c7_11eb_b217_0242ac1c0002row1_col2\" class=\"data row1 col2\" >74059.000000</td>\n",
              "                        <td id=\"T_cd31074e_c9c7_11eb_b217_0242ac1c0002row1_col3\" class=\"data row1 col3\" >38831.000000</td>\n",
              "                        <td id=\"T_cd31074e_c9c7_11eb_b217_0242ac1c0002row1_col4\" class=\"data row1 col4\" >2021-05-06 00:00:00</td>\n",
              "            </tr>\n",
              "    </tbody></table>"
            ],
            "text/plain": [
              "<pandas.io.formats.style.Styler at 0x7f5c1a560cd0>"
            ]
          },
          "metadata": {
            "tags": []
          },
          "execution_count": 29
        }
      ]
    },
    {
      "cell_type": "code",
      "metadata": {
        "colab": {
          "base_uri": "https://localhost:8080/",
          "height": 94
        },
        "id": "BSzjonsQI3FK",
        "outputId": "b8220392-ef10-42a9-b36c-f67f84a48179"
      },
      "source": [
        "latest_data[latest_data['vaccines'] == 'Oxford/AstraZeneca, Pfizer/BioNTech, Sputnik V'][['vaccines','total_vaccinations', 'people_vaccinated', 'people_fully_vaccinated','date']].sort_values(by='total_vaccinations', ascending = False).head(15).style.background_gradient(cmap='Blues')"
      ],
      "execution_count": null,
      "outputs": [
        {
          "output_type": "execute_result",
          "data": {
            "text/html": [
              "<style  type=\"text/css\" >\n",
              "#T_cd362cd8_c9c7_11eb_b217_0242ac1c0002row0_col1,#T_cd362cd8_c9c7_11eb_b217_0242ac1c0002row0_col2,#T_cd362cd8_c9c7_11eb_b217_0242ac1c0002row0_col3{\n",
              "            background-color:  #f7fbff;\n",
              "            color:  #000000;\n",
              "        }</style><table id=\"T_cd362cd8_c9c7_11eb_b217_0242ac1c0002\" ><thead>    <tr>        <th class=\"blank level0\" ></th>        <th class=\"col_heading level0 col0\" >vaccines</th>        <th class=\"col_heading level0 col1\" >total_vaccinations</th>        <th class=\"col_heading level0 col2\" >people_vaccinated</th>        <th class=\"col_heading level0 col3\" >people_fully_vaccinated</th>        <th class=\"col_heading level0 col4\" >date</th>    </tr>    <tr>        <th class=\"index_name level0\" >country</th>        <th class=\"blank\" ></th>        <th class=\"blank\" ></th>        <th class=\"blank\" ></th>        <th class=\"blank\" ></th>        <th class=\"blank\" ></th>    </tr></thead><tbody>\n",
              "                <tr>\n",
              "                        <th id=\"T_cd362cd8_c9c7_11eb_b217_0242ac1c0002level0_row0\" class=\"row_heading level0 row0\" >North Macedonia</th>\n",
              "                        <td id=\"T_cd362cd8_c9c7_11eb_b217_0242ac1c0002row0_col0\" class=\"data row0 col0\" >Oxford/AstraZeneca, Pfizer/BioNTech, Sputnik V</td>\n",
              "                        <td id=\"T_cd362cd8_c9c7_11eb_b217_0242ac1c0002row0_col1\" class=\"data row0 col1\" >74076.000000</td>\n",
              "                        <td id=\"T_cd362cd8_c9c7_11eb_b217_0242ac1c0002row0_col2\" class=\"data row0 col2\" >74076.000000</td>\n",
              "                        <td id=\"T_cd362cd8_c9c7_11eb_b217_0242ac1c0002row0_col3\" class=\"data row0 col3\" >0.000000</td>\n",
              "                        <td id=\"T_cd362cd8_c9c7_11eb_b217_0242ac1c0002row0_col4\" class=\"data row0 col4\" >2021-05-05 00:00:00</td>\n",
              "            </tr>\n",
              "    </tbody></table>"
            ],
            "text/plain": [
              "<pandas.io.formats.style.Styler at 0x7f5c1a50e490>"
            ]
          },
          "metadata": {
            "tags": []
          },
          "execution_count": 30
        }
      ]
    },
    {
      "cell_type": "code",
      "metadata": {
        "colab": {
          "base_uri": "https://localhost:8080/",
          "height": 116
        },
        "id": "z-clCd1QI856",
        "outputId": "e87ceca5-b2f1-4ebd-c57b-64b433cdbe49"
      },
      "source": [
        "latest_data[latest_data['vaccines'] == 'Sinopharm/Beijing, Sputnik V'][['vaccines','total_vaccinations', 'people_vaccinated', 'people_fully_vaccinated','date']].sort_values(by='total_vaccinations', ascending = False).head(15).style.background_gradient(cmap='Blues')"
      ],
      "execution_count": null,
      "outputs": [
        {
          "output_type": "execute_result",
          "data": {
            "text/html": [
              "<style  type=\"text/css\" >\n",
              "#T_cd3b364c_c9c7_11eb_b217_0242ac1c0002row0_col1,#T_cd3b364c_c9c7_11eb_b217_0242ac1c0002row0_col2,#T_cd3b364c_c9c7_11eb_b217_0242ac1c0002row0_col3{\n",
              "            background-color:  #08306b;\n",
              "            color:  #f1f1f1;\n",
              "        }#T_cd3b364c_c9c7_11eb_b217_0242ac1c0002row1_col1{\n",
              "            background-color:  #e7f1fa;\n",
              "            color:  #000000;\n",
              "        }#T_cd3b364c_c9c7_11eb_b217_0242ac1c0002row1_col2{\n",
              "            background-color:  #e0ecf8;\n",
              "            color:  #000000;\n",
              "        }#T_cd3b364c_c9c7_11eb_b217_0242ac1c0002row1_col3{\n",
              "            background-color:  #f5f9fe;\n",
              "            color:  #000000;\n",
              "        }#T_cd3b364c_c9c7_11eb_b217_0242ac1c0002row2_col1,#T_cd3b364c_c9c7_11eb_b217_0242ac1c0002row2_col2,#T_cd3b364c_c9c7_11eb_b217_0242ac1c0002row2_col3{\n",
              "            background-color:  #f7fbff;\n",
              "            color:  #000000;\n",
              "        }</style><table id=\"T_cd3b364c_c9c7_11eb_b217_0242ac1c0002\" ><thead>    <tr>        <th class=\"blank level0\" ></th>        <th class=\"col_heading level0 col0\" >vaccines</th>        <th class=\"col_heading level0 col1\" >total_vaccinations</th>        <th class=\"col_heading level0 col2\" >people_vaccinated</th>        <th class=\"col_heading level0 col3\" >people_fully_vaccinated</th>        <th class=\"col_heading level0 col4\" >date</th>    </tr>    <tr>        <th class=\"index_name level0\" >country</th>        <th class=\"blank\" ></th>        <th class=\"blank\" ></th>        <th class=\"blank\" ></th>        <th class=\"blank\" ></th>        <th class=\"blank\" ></th>    </tr></thead><tbody>\n",
              "                <tr>\n",
              "                        <th id=\"T_cd3b364c_c9c7_11eb_b217_0242ac1c0002level0_row0\" class=\"row_heading level0 row0\" >Laos</th>\n",
              "                        <td id=\"T_cd3b364c_c9c7_11eb_b217_0242ac1c0002row0_col0\" class=\"data row0 col0\" >Sinopharm/Beijing, Sputnik V</td>\n",
              "                        <td id=\"T_cd3b364c_c9c7_11eb_b217_0242ac1c0002row0_col1\" class=\"data row0 col1\" >184387.000000</td>\n",
              "                        <td id=\"T_cd3b364c_c9c7_11eb_b217_0242ac1c0002row0_col2\" class=\"data row0 col2\" >126072.000000</td>\n",
              "                        <td id=\"T_cd3b364c_c9c7_11eb_b217_0242ac1c0002row0_col3\" class=\"data row0 col3\" >58315.000000</td>\n",
              "                        <td id=\"T_cd3b364c_c9c7_11eb_b217_0242ac1c0002row0_col4\" class=\"data row0 col4\" >2021-04-26 00:00:00</td>\n",
              "            </tr>\n",
              "            <tr>\n",
              "                        <th id=\"T_cd3b364c_c9c7_11eb_b217_0242ac1c0002level0_row1\" class=\"row_heading level0 row1\" >Kyrgyzstan</th>\n",
              "                        <td id=\"T_cd3b364c_c9c7_11eb_b217_0242ac1c0002row1_col0\" class=\"data row1 col0\" >Sinopharm/Beijing, Sputnik V</td>\n",
              "                        <td id=\"T_cd3b364c_c9c7_11eb_b217_0242ac1c0002row1_col1\" class=\"data row1 col1\" >27858.000000</td>\n",
              "                        <td id=\"T_cd3b364c_c9c7_11eb_b217_0242ac1c0002row1_col2\" class=\"data row1 col2\" >27000.000000</td>\n",
              "                        <td id=\"T_cd3b364c_c9c7_11eb_b217_0242ac1c0002row1_col3\" class=\"data row1 col3\" >858.000000</td>\n",
              "                        <td id=\"T_cd3b364c_c9c7_11eb_b217_0242ac1c0002row1_col4\" class=\"data row1 col4\" >2021-04-28 00:00:00</td>\n",
              "            </tr>\n",
              "            <tr>\n",
              "                        <th id=\"T_cd3b364c_c9c7_11eb_b217_0242ac1c0002level0_row2\" class=\"row_heading level0 row2\" >Congo</th>\n",
              "                        <td id=\"T_cd3b364c_c9c7_11eb_b217_0242ac1c0002row2_col0\" class=\"data row2 col0\" >Sinopharm/Beijing, Sputnik V</td>\n",
              "                        <td id=\"T_cd3b364c_c9c7_11eb_b217_0242ac1c0002row2_col1\" class=\"data row2 col1\" >14297.000000</td>\n",
              "                        <td id=\"T_cd3b364c_c9c7_11eb_b217_0242ac1c0002row2_col2\" class=\"data row2 col2\" >14297.000000</td>\n",
              "                        <td id=\"T_cd3b364c_c9c7_11eb_b217_0242ac1c0002row2_col3\" class=\"data row2 col3\" >0.000000</td>\n",
              "                        <td id=\"T_cd3b364c_c9c7_11eb_b217_0242ac1c0002row2_col4\" class=\"data row2 col4\" >2021-04-14 00:00:00</td>\n",
              "            </tr>\n",
              "    </tbody></table>"
            ],
            "text/plain": [
              "<pandas.io.formats.style.Styler at 0x7f5c1acc0bd0>"
            ]
          },
          "metadata": {
            "tags": []
          },
          "execution_count": 31
        }
      ]
    },
    {
      "cell_type": "code",
      "metadata": {
        "colab": {
          "base_uri": "https://localhost:8080/",
          "height": 215
        },
        "id": "ZBw4WHqKJAS7",
        "outputId": "5d4509fa-d5ad-4279-d514-10db51201e7e"
      },
      "source": [
        "latest_data[latest_data['vaccines'] == 'Oxford/AstraZeneca, Sinopharm/Beijing'][['vaccines','total_vaccinations', 'people_vaccinated', 'people_fully_vaccinated','date']].sort_values(by='total_vaccinations', ascending = False).head(15).style.background_gradient(cmap='Blues')"
      ],
      "execution_count": null,
      "outputs": [
        {
          "output_type": "execute_result",
          "data": {
            "text/html": [
              "<style  type=\"text/css\" >\n",
              "#T_cd4119b8_c9c7_11eb_b217_0242ac1c0002row0_col1,#T_cd4119b8_c9c7_11eb_b217_0242ac1c0002row0_col2,#T_cd4119b8_c9c7_11eb_b217_0242ac1c0002row0_col3{\n",
              "            background-color:  #08306b;\n",
              "            color:  #f1f1f1;\n",
              "        }#T_cd4119b8_c9c7_11eb_b217_0242ac1c0002row1_col1{\n",
              "            background-color:  #cde0f1;\n",
              "            color:  #000000;\n",
              "        }#T_cd4119b8_c9c7_11eb_b217_0242ac1c0002row1_col2{\n",
              "            background-color:  #99c7e0;\n",
              "            color:  #000000;\n",
              "        }#T_cd4119b8_c9c7_11eb_b217_0242ac1c0002row1_col3,#T_cd4119b8_c9c7_11eb_b217_0242ac1c0002row3_col3,#T_cd4119b8_c9c7_11eb_b217_0242ac1c0002row4_col3,#T_cd4119b8_c9c7_11eb_b217_0242ac1c0002row6_col3,#T_cd4119b8_c9c7_11eb_b217_0242ac1c0002row7_col1,#T_cd4119b8_c9c7_11eb_b217_0242ac1c0002row7_col2,#T_cd4119b8_c9c7_11eb_b217_0242ac1c0002row7_col3{\n",
              "            background-color:  #f7fbff;\n",
              "            color:  #000000;\n",
              "        }#T_cd4119b8_c9c7_11eb_b217_0242ac1c0002row2_col1{\n",
              "            background-color:  #e1edf8;\n",
              "            color:  #000000;\n",
              "        }#T_cd4119b8_c9c7_11eb_b217_0242ac1c0002row2_col2{\n",
              "            background-color:  #d6e5f4;\n",
              "            color:  #000000;\n",
              "        }#T_cd4119b8_c9c7_11eb_b217_0242ac1c0002row2_col3{\n",
              "            background-color:  #f0f6fd;\n",
              "            color:  #000000;\n",
              "        }#T_cd4119b8_c9c7_11eb_b217_0242ac1c0002row3_col1{\n",
              "            background-color:  #eaf3fb;\n",
              "            color:  #000000;\n",
              "        }#T_cd4119b8_c9c7_11eb_b217_0242ac1c0002row3_col2{\n",
              "            background-color:  #dfecf7;\n",
              "            color:  #000000;\n",
              "        }#T_cd4119b8_c9c7_11eb_b217_0242ac1c0002row4_col1{\n",
              "            background-color:  #f2f7fd;\n",
              "            color:  #000000;\n",
              "        }#T_cd4119b8_c9c7_11eb_b217_0242ac1c0002row4_col2{\n",
              "            background-color:  #edf4fc;\n",
              "            color:  #000000;\n",
              "        }#T_cd4119b8_c9c7_11eb_b217_0242ac1c0002row5_col1,#T_cd4119b8_c9c7_11eb_b217_0242ac1c0002row5_col2,#T_cd4119b8_c9c7_11eb_b217_0242ac1c0002row6_col1{\n",
              "            background-color:  #f5fafe;\n",
              "            color:  #000000;\n",
              "        }#T_cd4119b8_c9c7_11eb_b217_0242ac1c0002row5_col3{\n",
              "            background-color:  #f5f9fe;\n",
              "            color:  #000000;\n",
              "        }#T_cd4119b8_c9c7_11eb_b217_0242ac1c0002row6_col2{\n",
              "            background-color:  #f4f9fe;\n",
              "            color:  #000000;\n",
              "        }</style><table id=\"T_cd4119b8_c9c7_11eb_b217_0242ac1c0002\" ><thead>    <tr>        <th class=\"blank level0\" ></th>        <th class=\"col_heading level0 col0\" >vaccines</th>        <th class=\"col_heading level0 col1\" >total_vaccinations</th>        <th class=\"col_heading level0 col2\" >people_vaccinated</th>        <th class=\"col_heading level0 col3\" >people_fully_vaccinated</th>        <th class=\"col_heading level0 col4\" >date</th>    </tr>    <tr>        <th class=\"index_name level0\" >country</th>        <th class=\"blank\" ></th>        <th class=\"blank\" ></th>        <th class=\"blank\" ></th>        <th class=\"blank\" ></th>        <th class=\"blank\" ></th>    </tr></thead><tbody>\n",
              "                <tr>\n",
              "                        <th id=\"T_cd4119b8_c9c7_11eb_b217_0242ac1c0002level0_row0\" class=\"row_heading level0 row0\" >Morocco</th>\n",
              "                        <td id=\"T_cd4119b8_c9c7_11eb_b217_0242ac1c0002row0_col0\" class=\"data row0 col0\" >Oxford/AstraZeneca, Sinopharm/Beijing</td>\n",
              "                        <td id=\"T_cd4119b8_c9c7_11eb_b217_0242ac1c0002row0_col1\" class=\"data row0 col1\" >9680954.000000</td>\n",
              "                        <td id=\"T_cd4119b8_c9c7_11eb_b217_0242ac1c0002row0_col2\" class=\"data row0 col2\" >5334087.000000</td>\n",
              "                        <td id=\"T_cd4119b8_c9c7_11eb_b217_0242ac1c0002row0_col3\" class=\"data row0 col3\" >4346867.000000</td>\n",
              "                        <td id=\"T_cd4119b8_c9c7_11eb_b217_0242ac1c0002row0_col4\" class=\"data row0 col4\" >2021-05-05 00:00:00</td>\n",
              "            </tr>\n",
              "            <tr>\n",
              "                        <th id=\"T_cd4119b8_c9c7_11eb_b217_0242ac1c0002level0_row1\" class=\"row_heading level0 row1\" >Nepal</th>\n",
              "                        <td id=\"T_cd4119b8_c9c7_11eb_b217_0242ac1c0002row1_col0\" class=\"data row1 col0\" >Oxford/AstraZeneca, Sinopharm/Beijing</td>\n",
              "                        <td id=\"T_cd4119b8_c9c7_11eb_b217_0242ac1c0002row1_col1\" class=\"data row1 col1\" >2091511.000000</td>\n",
              "                        <td id=\"T_cd4119b8_c9c7_11eb_b217_0242ac1c0002row1_col2\" class=\"data row1 col2\" >2091511.000000</td>\n",
              "                        <td id=\"T_cd4119b8_c9c7_11eb_b217_0242ac1c0002row1_col3\" class=\"data row1 col3\" >0.000000</td>\n",
              "                        <td id=\"T_cd4119b8_c9c7_11eb_b217_0242ac1c0002row1_col4\" class=\"data row1 col4\" >2021-04-28 00:00:00</td>\n",
              "            </tr>\n",
              "            <tr>\n",
              "                        <th id=\"T_cd4119b8_c9c7_11eb_b217_0242ac1c0002level0_row2\" class=\"row_heading level0 row2\" >Sri Lanka</th>\n",
              "                        <td id=\"T_cd4119b8_c9c7_11eb_b217_0242ac1c0002row2_col0\" class=\"data row2 col0\" >Oxford/AstraZeneca, Sinopharm/Beijing</td>\n",
              "                        <td id=\"T_cd4119b8_c9c7_11eb_b217_0242ac1c0002row2_col1\" class=\"data row2 col1\" >1088093.000000</td>\n",
              "                        <td id=\"T_cd4119b8_c9c7_11eb_b217_0242ac1c0002row2_col2\" class=\"data row2 col2\" >928107.000000</td>\n",
              "                        <td id=\"T_cd4119b8_c9c7_11eb_b217_0242ac1c0002row2_col3\" class=\"data row2 col3\" >159986.000000</td>\n",
              "                        <td id=\"T_cd4119b8_c9c7_11eb_b217_0242ac1c0002row2_col4\" class=\"data row2 col4\" >2021-05-06 00:00:00</td>\n",
              "            </tr>\n",
              "            <tr>\n",
              "                        <th id=\"T_cd4119b8_c9c7_11eb_b217_0242ac1c0002level0_row3\" class=\"row_heading level0 row3\" >Egypt</th>\n",
              "                        <td id=\"T_cd4119b8_c9c7_11eb_b217_0242ac1c0002row3_col0\" class=\"data row3 col0\" >Oxford/AstraZeneca, Sinopharm/Beijing</td>\n",
              "                        <td id=\"T_cd4119b8_c9c7_11eb_b217_0242ac1c0002row3_col1\" class=\"data row3 col1\" >660000.000000</td>\n",
              "                        <td id=\"T_cd4119b8_c9c7_11eb_b217_0242ac1c0002row3_col2\" class=\"data row3 col2\" >660000.000000</td>\n",
              "                        <td id=\"T_cd4119b8_c9c7_11eb_b217_0242ac1c0002row3_col3\" class=\"data row3 col3\" >0.000000</td>\n",
              "                        <td id=\"T_cd4119b8_c9c7_11eb_b217_0242ac1c0002row3_col4\" class=\"data row3 col4\" >2021-04-18 00:00:00</td>\n",
              "            </tr>\n",
              "            <tr>\n",
              "                        <th id=\"T_cd4119b8_c9c7_11eb_b217_0242ac1c0002level0_row4\" class=\"row_heading level0 row4\" >Iraq</th>\n",
              "                        <td id=\"T_cd4119b8_c9c7_11eb_b217_0242ac1c0002row4_col0\" class=\"data row4 col0\" >Oxford/AstraZeneca, Sinopharm/Beijing</td>\n",
              "                        <td id=\"T_cd4119b8_c9c7_11eb_b217_0242ac1c0002row4_col1\" class=\"data row4 col1\" >298377.000000</td>\n",
              "                        <td id=\"T_cd4119b8_c9c7_11eb_b217_0242ac1c0002row4_col2\" class=\"data row4 col2\" >298377.000000</td>\n",
              "                        <td id=\"T_cd4119b8_c9c7_11eb_b217_0242ac1c0002row4_col3\" class=\"data row4 col3\" >0.000000</td>\n",
              "                        <td id=\"T_cd4119b8_c9c7_11eb_b217_0242ac1c0002row4_col4\" class=\"data row4 col4\" >2021-04-23 00:00:00</td>\n",
              "            </tr>\n",
              "            <tr>\n",
              "                        <th id=\"T_cd4119b8_c9c7_11eb_b217_0242ac1c0002level0_row5\" class=\"row_heading level0 row5\" >Seychelles</th>\n",
              "                        <td id=\"T_cd4119b8_c9c7_11eb_b217_0242ac1c0002row5_col0\" class=\"data row5 col0\" >Oxford/AstraZeneca, Sinopharm/Beijing</td>\n",
              "                        <td id=\"T_cd4119b8_c9c7_11eb_b217_0242ac1c0002row5_col1\" class=\"data row5 col1\" >127721.000000</td>\n",
              "                        <td id=\"T_cd4119b8_c9c7_11eb_b217_0242ac1c0002row5_col2\" class=\"data row5 col2\" >68045.000000</td>\n",
              "                        <td id=\"T_cd4119b8_c9c7_11eb_b217_0242ac1c0002row5_col3\" class=\"data row5 col3\" >59676.000000</td>\n",
              "                        <td id=\"T_cd4119b8_c9c7_11eb_b217_0242ac1c0002row5_col4\" class=\"data row5 col4\" >2021-05-03 00:00:00</td>\n",
              "            </tr>\n",
              "            <tr>\n",
              "                        <th id=\"T_cd4119b8_c9c7_11eb_b217_0242ac1c0002level0_row6\" class=\"row_heading level0 row6\" >Somalia</th>\n",
              "                        <td id=\"T_cd4119b8_c9c7_11eb_b217_0242ac1c0002row6_col0\" class=\"data row6 col0\" >Oxford/AstraZeneca, Sinopharm/Beijing</td>\n",
              "                        <td id=\"T_cd4119b8_c9c7_11eb_b217_0242ac1c0002row6_col1\" class=\"data row6 col1\" >117567.000000</td>\n",
              "                        <td id=\"T_cd4119b8_c9c7_11eb_b217_0242ac1c0002row6_col2\" class=\"data row6 col2\" >117567.000000</td>\n",
              "                        <td id=\"T_cd4119b8_c9c7_11eb_b217_0242ac1c0002row6_col3\" class=\"data row6 col3\" >0.000000</td>\n",
              "                        <td id=\"T_cd4119b8_c9c7_11eb_b217_0242ac1c0002row6_col4\" class=\"data row6 col4\" >2021-04-17 00:00:00</td>\n",
              "            </tr>\n",
              "            <tr>\n",
              "                        <th id=\"T_cd4119b8_c9c7_11eb_b217_0242ac1c0002level0_row7\" class=\"row_heading level0 row7\" >Namibia</th>\n",
              "                        <td id=\"T_cd4119b8_c9c7_11eb_b217_0242ac1c0002row7_col0\" class=\"data row7 col0\" >Oxford/AstraZeneca, Sinopharm/Beijing</td>\n",
              "                        <td id=\"T_cd4119b8_c9c7_11eb_b217_0242ac1c0002row7_col1\" class=\"data row7 col1\" >20005.000000</td>\n",
              "                        <td id=\"T_cd4119b8_c9c7_11eb_b217_0242ac1c0002row7_col2\" class=\"data row7 col2\" >18837.000000</td>\n",
              "                        <td id=\"T_cd4119b8_c9c7_11eb_b217_0242ac1c0002row7_col3\" class=\"data row7 col3\" >1168.000000</td>\n",
              "                        <td id=\"T_cd4119b8_c9c7_11eb_b217_0242ac1c0002row7_col4\" class=\"data row7 col4\" >2021-04-28 00:00:00</td>\n",
              "            </tr>\n",
              "    </tbody></table>"
            ],
            "text/plain": [
              "<pandas.io.formats.style.Styler at 0x7f5c1a509190>"
            ]
          },
          "metadata": {
            "tags": []
          },
          "execution_count": 32
        }
      ]
    },
    {
      "cell_type": "code",
      "metadata": {
        "colab": {
          "base_uri": "https://localhost:8080/",
          "height": 116
        },
        "id": "enaYtlOcJDVy",
        "outputId": "e4ae2bf7-fecc-4528-c909-5c883fc580b1"
      },
      "source": [
        "latest_data[latest_data['vaccines'] == 'Oxford/AstraZeneca, Sinopharm/Beijing, Sputnik V'][['vaccines','total_vaccinations', 'people_vaccinated', 'people_fully_vaccinated','date']].sort_values(by='total_vaccinations', ascending = False).head(15).style.background_gradient(cmap='Blues')"
      ],
      "execution_count": null,
      "outputs": [
        {
          "output_type": "execute_result",
          "data": {
            "text/html": [
              "<style  type=\"text/css\" >\n",
              "#T_cd482cf8_c9c7_11eb_b217_0242ac1c0002row0_col1,#T_cd482cf8_c9c7_11eb_b217_0242ac1c0002row0_col2,#T_cd482cf8_c9c7_11eb_b217_0242ac1c0002row0_col3{\n",
              "            background-color:  #08306b;\n",
              "            color:  #f1f1f1;\n",
              "        }#T_cd482cf8_c9c7_11eb_b217_0242ac1c0002row1_col1{\n",
              "            background-color:  #ecf4fb;\n",
              "            color:  #000000;\n",
              "        }#T_cd482cf8_c9c7_11eb_b217_0242ac1c0002row1_col2{\n",
              "            background-color:  #eaf3fb;\n",
              "            color:  #000000;\n",
              "        }#T_cd482cf8_c9c7_11eb_b217_0242ac1c0002row1_col3,#T_cd482cf8_c9c7_11eb_b217_0242ac1c0002row2_col1,#T_cd482cf8_c9c7_11eb_b217_0242ac1c0002row2_col2{\n",
              "            background-color:  #f7fbff;\n",
              "            color:  #000000;\n",
              "        }#T_cd482cf8_c9c7_11eb_b217_0242ac1c0002row2_col3{\n",
              "            background-color:  #f5fafe;\n",
              "            color:  #000000;\n",
              "        }</style><table id=\"T_cd482cf8_c9c7_11eb_b217_0242ac1c0002\" ><thead>    <tr>        <th class=\"blank level0\" ></th>        <th class=\"col_heading level0 col0\" >vaccines</th>        <th class=\"col_heading level0 col1\" >total_vaccinations</th>        <th class=\"col_heading level0 col2\" >people_vaccinated</th>        <th class=\"col_heading level0 col3\" >people_fully_vaccinated</th>        <th class=\"col_heading level0 col4\" >date</th>    </tr>    <tr>        <th class=\"index_name level0\" >country</th>        <th class=\"blank\" ></th>        <th class=\"blank\" ></th>        <th class=\"blank\" ></th>        <th class=\"blank\" ></th>        <th class=\"blank\" ></th>    </tr></thead><tbody>\n",
              "                <tr>\n",
              "                        <th id=\"T_cd482cf8_c9c7_11eb_b217_0242ac1c0002level0_row0\" class=\"row_heading level0 row0\" >Argentina</th>\n",
              "                        <td id=\"T_cd482cf8_c9c7_11eb_b217_0242ac1c0002row0_col0\" class=\"data row0 col0\" >Oxford/AstraZeneca, Sinopharm/Beijing, Sputnik V</td>\n",
              "                        <td id=\"T_cd482cf8_c9c7_11eb_b217_0242ac1c0002row0_col1\" class=\"data row0 col1\" >8591061.000000</td>\n",
              "                        <td id=\"T_cd482cf8_c9c7_11eb_b217_0242ac1c0002row0_col2\" class=\"data row0 col2\" >7399515.000000</td>\n",
              "                        <td id=\"T_cd482cf8_c9c7_11eb_b217_0242ac1c0002row0_col3\" class=\"data row0 col3\" >1191546.000000</td>\n",
              "                        <td id=\"T_cd482cf8_c9c7_11eb_b217_0242ac1c0002row0_col4\" class=\"data row0 col4\" >2021-05-06 00:00:00</td>\n",
              "            </tr>\n",
              "            <tr>\n",
              "                        <th id=\"T_cd482cf8_c9c7_11eb_b217_0242ac1c0002level0_row1\" class=\"row_heading level0 row1\" >Iran</th>\n",
              "                        <td id=\"T_cd482cf8_c9c7_11eb_b217_0242ac1c0002row1_col0\" class=\"data row1 col0\" >Oxford/AstraZeneca, Sinopharm/Beijing, Sputnik V</td>\n",
              "                        <td id=\"T_cd482cf8_c9c7_11eb_b217_0242ac1c0002row1_col1\" class=\"data row1 col1\" >1314641.000000</td>\n",
              "                        <td id=\"T_cd482cf8_c9c7_11eb_b217_0242ac1c0002row1_col2\" class=\"data row1 col2\" >1083138.000000</td>\n",
              "                        <td id=\"T_cd482cf8_c9c7_11eb_b217_0242ac1c0002row1_col3\" class=\"data row1 col3\" >231503.000000</td>\n",
              "                        <td id=\"T_cd482cf8_c9c7_11eb_b217_0242ac1c0002row1_col4\" class=\"data row1 col4\" >2021-05-04 00:00:00</td>\n",
              "            </tr>\n",
              "            <tr>\n",
              "                        <th id=\"T_cd482cf8_c9c7_11eb_b217_0242ac1c0002level0_row2\" class=\"row_heading level0 row2\" >Bolivia</th>\n",
              "                        <td id=\"T_cd482cf8_c9c7_11eb_b217_0242ac1c0002row2_col0\" class=\"data row2 col0\" >Oxford/AstraZeneca, Sinopharm/Beijing, Sputnik V</td>\n",
              "                        <td id=\"T_cd482cf8_c9c7_11eb_b217_0242ac1c0002row2_col1\" class=\"data row2 col1\" >878563.000000</td>\n",
              "                        <td id=\"T_cd482cf8_c9c7_11eb_b217_0242ac1c0002row2_col2\" class=\"data row2 col2\" >637694.000000</td>\n",
              "                        <td id=\"T_cd482cf8_c9c7_11eb_b217_0242ac1c0002row2_col3\" class=\"data row2 col3\" >240869.000000</td>\n",
              "                        <td id=\"T_cd482cf8_c9c7_11eb_b217_0242ac1c0002row2_col4\" class=\"data row2 col4\" >2021-05-03 00:00:00</td>\n",
              "            </tr>\n",
              "    </tbody></table>"
            ],
            "text/plain": [
              "<pandas.io.formats.style.Styler at 0x7f5c1a7add50>"
            ]
          },
          "metadata": {
            "tags": []
          },
          "execution_count": 33
        }
      ]
    },
    {
      "cell_type": "code",
      "metadata": {
        "colab": {
          "base_uri": "https://localhost:8080/",
          "height": 77
        },
        "id": "cXlyGoUWJILy",
        "outputId": "98abd4a0-05e9-4ce4-9564-db716c1e4b19"
      },
      "source": [
        "latest_data[latest_data['vaccines'] == 'EpiVacCorona, Sputnik V'][['vaccines','total_vaccinations', 'people_vaccinated', 'people_fully_vaccinated','date']].sort_values(by='total_vaccinations', ascending = False).head(15).style.background_gradient(cmap='Blues')"
      ],
      "execution_count": null,
      "outputs": [
        {
          "output_type": "execute_result",
          "data": {
            "text/html": [
              "<style  type=\"text/css\" >\n",
              "#T_cd4e97aa_c9c7_11eb_b217_0242ac1c0002row0_col1,#T_cd4e97aa_c9c7_11eb_b217_0242ac1c0002row0_col2,#T_cd4e97aa_c9c7_11eb_b217_0242ac1c0002row0_col3{\n",
              "            background-color:  #f7fbff;\n",
              "            color:  #000000;\n",
              "        }</style><table id=\"T_cd4e97aa_c9c7_11eb_b217_0242ac1c0002\" ><thead>    <tr>        <th class=\"blank level0\" ></th>        <th class=\"col_heading level0 col0\" >vaccines</th>        <th class=\"col_heading level0 col1\" >total_vaccinations</th>        <th class=\"col_heading level0 col2\" >people_vaccinated</th>        <th class=\"col_heading level0 col3\" >people_fully_vaccinated</th>        <th class=\"col_heading level0 col4\" >date</th>    </tr>    <tr>        <th class=\"index_name level0\" >country</th>        <th class=\"blank\" ></th>        <th class=\"blank\" ></th>        <th class=\"blank\" ></th>        <th class=\"blank\" ></th>        <th class=\"blank\" ></th>    </tr></thead><tbody>\n",
              "                <tr>\n",
              "                        <th id=\"T_cd4e97aa_c9c7_11eb_b217_0242ac1c0002level0_row0\" class=\"row_heading level0 row0\" >Russia</th>\n",
              "                        <td id=\"T_cd4e97aa_c9c7_11eb_b217_0242ac1c0002row0_col0\" class=\"data row0 col0\" >EpiVacCorona, Sputnik V</td>\n",
              "                        <td id=\"T_cd4e97aa_c9c7_11eb_b217_0242ac1c0002row0_col1\" class=\"data row0 col1\" >21177713.000000</td>\n",
              "                        <td id=\"T_cd4e97aa_c9c7_11eb_b217_0242ac1c0002row0_col2\" class=\"data row0 col2\" >12893563.000000</td>\n",
              "                        <td id=\"T_cd4e97aa_c9c7_11eb_b217_0242ac1c0002row0_col3\" class=\"data row0 col3\" >8284150.000000</td>\n",
              "                        <td id=\"T_cd4e97aa_c9c7_11eb_b217_0242ac1c0002row0_col4\" class=\"data row0 col4\" >2021-05-06 00:00:00</td>\n",
              "            </tr>\n",
              "    </tbody></table>"
            ],
            "text/plain": [
              "<pandas.io.formats.style.Styler at 0x7f5c1a7b97d0>"
            ]
          },
          "metadata": {
            "tags": []
          },
          "execution_count": 34
        }
      ]
    },
    {
      "cell_type": "code",
      "metadata": {
        "colab": {
          "base_uri": "https://localhost:8080/",
          "height": 77
        },
        "id": "daA73lZlJKfi",
        "outputId": "b5c41a82-3742-4deb-a7fc-0b056f0d7d26"
      },
      "source": [
        "latest_data[latest_data['vaccines'] == 'Johnson&Johnson'][['vaccines','total_vaccinations', 'people_vaccinated', 'people_fully_vaccinated','date']].sort_values(by='total_vaccinations', ascending = False).head(15).style.background_gradient(cmap='Blues')"
      ],
      "execution_count": null,
      "outputs": [
        {
          "output_type": "execute_result",
          "data": {
            "text/html": [
              "<style  type=\"text/css\" >\n",
              "#T_cd53f420_c9c7_11eb_b217_0242ac1c0002row0_col1,#T_cd53f420_c9c7_11eb_b217_0242ac1c0002row0_col2,#T_cd53f420_c9c7_11eb_b217_0242ac1c0002row0_col3{\n",
              "            background-color:  #f7fbff;\n",
              "            color:  #000000;\n",
              "        }</style><table id=\"T_cd53f420_c9c7_11eb_b217_0242ac1c0002\" ><thead>    <tr>        <th class=\"blank level0\" ></th>        <th class=\"col_heading level0 col0\" >vaccines</th>        <th class=\"col_heading level0 col1\" >total_vaccinations</th>        <th class=\"col_heading level0 col2\" >people_vaccinated</th>        <th class=\"col_heading level0 col3\" >people_fully_vaccinated</th>        <th class=\"col_heading level0 col4\" >date</th>    </tr>    <tr>        <th class=\"index_name level0\" >country</th>        <th class=\"blank\" ></th>        <th class=\"blank\" ></th>        <th class=\"blank\" ></th>        <th class=\"blank\" ></th>        <th class=\"blank\" ></th>    </tr></thead><tbody>\n",
              "                <tr>\n",
              "                        <th id=\"T_cd53f420_c9c7_11eb_b217_0242ac1c0002level0_row0\" class=\"row_heading level0 row0\" >South Africa</th>\n",
              "                        <td id=\"T_cd53f420_c9c7_11eb_b217_0242ac1c0002row0_col0\" class=\"data row0 col0\" >Johnson&Johnson</td>\n",
              "                        <td id=\"T_cd53f420_c9c7_11eb_b217_0242ac1c0002row0_col1\" class=\"data row0 col1\" >366101.000000</td>\n",
              "                        <td id=\"T_cd53f420_c9c7_11eb_b217_0242ac1c0002row0_col2\" class=\"data row0 col2\" >366101.000000</td>\n",
              "                        <td id=\"T_cd53f420_c9c7_11eb_b217_0242ac1c0002row0_col3\" class=\"data row0 col3\" >366101.000000</td>\n",
              "                        <td id=\"T_cd53f420_c9c7_11eb_b217_0242ac1c0002row0_col4\" class=\"data row0 col4\" >2021-05-05 00:00:00</td>\n",
              "            </tr>\n",
              "    </tbody></table>"
            ],
            "text/plain": [
              "<pandas.io.formats.style.Styler at 0x7f5c1a51a490>"
            ]
          },
          "metadata": {
            "tags": []
          },
          "execution_count": 35
        }
      ]
    },
    {
      "cell_type": "code",
      "metadata": {
        "colab": {
          "base_uri": "https://localhost:8080/",
          "height": 94
        },
        "id": "tVpOQ5giJNP2",
        "outputId": "c06effa6-9a90-4266-b9e5-e300d82c6ca9"
      },
      "source": [
        "latest_data[latest_data['vaccines'] == 'Oxford/AstraZeneca, Pfizer/BioNTech, Sinopharm/Beijing, Sinopharm/Wuhan, Sputnik V'][['vaccines','total_vaccinations', 'people_vaccinated', 'people_fully_vaccinated','date']].sort_values(by='total_vaccinations', ascending = False).head(15).style.background_gradient(cmap='Blues')"
      ],
      "execution_count": null,
      "outputs": [
        {
          "output_type": "execute_result",
          "data": {
            "text/html": [
              "<style  type=\"text/css\" >\n",
              "#T_cd5903f2_c9c7_11eb_b217_0242ac1c0002row0_col1,#T_cd5903f2_c9c7_11eb_b217_0242ac1c0002row0_col2,#T_cd5903f2_c9c7_11eb_b217_0242ac1c0002row0_col3{\n",
              "            background-color:  #f7fbff;\n",
              "            color:  #000000;\n",
              "        }</style><table id=\"T_cd5903f2_c9c7_11eb_b217_0242ac1c0002\" ><thead>    <tr>        <th class=\"blank level0\" ></th>        <th class=\"col_heading level0 col0\" >vaccines</th>        <th class=\"col_heading level0 col1\" >total_vaccinations</th>        <th class=\"col_heading level0 col2\" >people_vaccinated</th>        <th class=\"col_heading level0 col3\" >people_fully_vaccinated</th>        <th class=\"col_heading level0 col4\" >date</th>    </tr>    <tr>        <th class=\"index_name level0\" >country</th>        <th class=\"blank\" ></th>        <th class=\"blank\" ></th>        <th class=\"blank\" ></th>        <th class=\"blank\" ></th>        <th class=\"blank\" ></th>    </tr></thead><tbody>\n",
              "                <tr>\n",
              "                        <th id=\"T_cd5903f2_c9c7_11eb_b217_0242ac1c0002level0_row0\" class=\"row_heading level0 row0\" >United Arab Emirates</th>\n",
              "                        <td id=\"T_cd5903f2_c9c7_11eb_b217_0242ac1c0002row0_col0\" class=\"data row0 col0\" >Oxford/AstraZeneca, Pfizer/BioNTech, Sinopharm/Beijing, Sinopharm/Wuhan, Sputnik V</td>\n",
              "                        <td id=\"T_cd5903f2_c9c7_11eb_b217_0242ac1c0002row0_col1\" class=\"data row0 col1\" >10907264.000000</td>\n",
              "                        <td id=\"T_cd5903f2_c9c7_11eb_b217_0242ac1c0002row0_col2\" class=\"data row0 col2\" >5081853.000000</td>\n",
              "                        <td id=\"T_cd5903f2_c9c7_11eb_b217_0242ac1c0002row0_col3\" class=\"data row0 col3\" >3836521.000000</td>\n",
              "                        <td id=\"T_cd5903f2_c9c7_11eb_b217_0242ac1c0002row0_col4\" class=\"data row0 col4\" >2021-05-06 00:00:00</td>\n",
              "            </tr>\n",
              "    </tbody></table>"
            ],
            "text/plain": [
              "<pandas.io.formats.style.Styler at 0x7f5c1a52c6d0>"
            ]
          },
          "metadata": {
            "tags": []
          },
          "execution_count": 36
        }
      ]
    },
    {
      "cell_type": "code",
      "metadata": {
        "id": "_MDOdznRJQYk"
      },
      "source": [
        "# Sns settings\n",
        "c = '#386B7F'\n",
        "sns.set_style('darkgrid')"
      ],
      "execution_count": null,
      "outputs": []
    },
    {
      "cell_type": "code",
      "metadata": {
        "colab": {
          "base_uri": "https://localhost:8080/",
          "height": 650
        },
        "id": "XKYHLqEQJ5GZ",
        "outputId": "6c566870-a299-43d1-9a91-3ab31d406011"
      },
      "source": [
        "latest_data[['people_fully_vaccinated_per_hundred','people_fully_vaccinated', 'date' ]].sort_values(by='people_fully_vaccinated_per_hundred', ascending = False).head(30).style.background_gradient(cmap = 'Blues')"
      ],
      "execution_count": null,
      "outputs": [
        {
          "output_type": "execute_result",
          "data": {
            "text/html": [
              "<style  type=\"text/css\" >\n",
              "#T_cd619bfc_c9c7_11eb_b217_0242ac1c0002row0_col0,#T_cd619bfc_c9c7_11eb_b217_0242ac1c0002row10_col1{\n",
              "            background-color:  #08306b;\n",
              "            color:  #f1f1f1;\n",
              "        }#T_cd619bfc_c9c7_11eb_b217_0242ac1c0002row0_col1,#T_cd619bfc_c9c7_11eb_b217_0242ac1c0002row1_col1,#T_cd619bfc_c9c7_11eb_b217_0242ac1c0002row3_col1,#T_cd619bfc_c9c7_11eb_b217_0242ac1c0002row4_col1,#T_cd619bfc_c9c7_11eb_b217_0242ac1c0002row6_col1,#T_cd619bfc_c9c7_11eb_b217_0242ac1c0002row8_col1,#T_cd619bfc_c9c7_11eb_b217_0242ac1c0002row11_col1,#T_cd619bfc_c9c7_11eb_b217_0242ac1c0002row12_col1,#T_cd619bfc_c9c7_11eb_b217_0242ac1c0002row13_col1,#T_cd619bfc_c9c7_11eb_b217_0242ac1c0002row15_col1,#T_cd619bfc_c9c7_11eb_b217_0242ac1c0002row22_col1,#T_cd619bfc_c9c7_11eb_b217_0242ac1c0002row23_col1,#T_cd619bfc_c9c7_11eb_b217_0242ac1c0002row26_col1,#T_cd619bfc_c9c7_11eb_b217_0242ac1c0002row27_col1,#T_cd619bfc_c9c7_11eb_b217_0242ac1c0002row28_col1,#T_cd619bfc_c9c7_11eb_b217_0242ac1c0002row29_col0{\n",
              "            background-color:  #f7fbff;\n",
              "            color:  #000000;\n",
              "        }#T_cd619bfc_c9c7_11eb_b217_0242ac1c0002row1_col0{\n",
              "            background-color:  #6aaed6;\n",
              "            color:  #000000;\n",
              "        }#T_cd619bfc_c9c7_11eb_b217_0242ac1c0002row2_col0{\n",
              "            background-color:  #74b3d8;\n",
              "            color:  #000000;\n",
              "        }#T_cd619bfc_c9c7_11eb_b217_0242ac1c0002row2_col1,#T_cd619bfc_c9c7_11eb_b217_0242ac1c0002row25_col0{\n",
              "            background-color:  #eef5fc;\n",
              "            color:  #000000;\n",
              "        }#T_cd619bfc_c9c7_11eb_b217_0242ac1c0002row3_col0{\n",
              "            background-color:  #99c7e0;\n",
              "            color:  #000000;\n",
              "        }#T_cd619bfc_c9c7_11eb_b217_0242ac1c0002row4_col0{\n",
              "            background-color:  #a0cbe2;\n",
              "            color:  #000000;\n",
              "        }#T_cd619bfc_c9c7_11eb_b217_0242ac1c0002row5_col0{\n",
              "            background-color:  #c7dcef;\n",
              "            color:  #000000;\n",
              "        }#T_cd619bfc_c9c7_11eb_b217_0242ac1c0002row5_col1{\n",
              "            background-color:  #f0f6fd;\n",
              "            color:  #000000;\n",
              "        }#T_cd619bfc_c9c7_11eb_b217_0242ac1c0002row6_col0{\n",
              "            background-color:  #c9ddf0;\n",
              "            color:  #000000;\n",
              "        }#T_cd619bfc_c9c7_11eb_b217_0242ac1c0002row7_col0{\n",
              "            background-color:  #ccdff1;\n",
              "            color:  #000000;\n",
              "        }#T_cd619bfc_c9c7_11eb_b217_0242ac1c0002row7_col1{\n",
              "            background-color:  #eaf3fb;\n",
              "            color:  #000000;\n",
              "        }#T_cd619bfc_c9c7_11eb_b217_0242ac1c0002row8_col0{\n",
              "            background-color:  #d0e1f2;\n",
              "            color:  #000000;\n",
              "        }#T_cd619bfc_c9c7_11eb_b217_0242ac1c0002row9_col0{\n",
              "            background-color:  #d4e4f4;\n",
              "            color:  #000000;\n",
              "        }#T_cd619bfc_c9c7_11eb_b217_0242ac1c0002row9_col1,#T_cd619bfc_c9c7_11eb_b217_0242ac1c0002row16_col1,#T_cd619bfc_c9c7_11eb_b217_0242ac1c0002row17_col1,#T_cd619bfc_c9c7_11eb_b217_0242ac1c0002row24_col1,#T_cd619bfc_c9c7_11eb_b217_0242ac1c0002row25_col1,#T_cd619bfc_c9c7_11eb_b217_0242ac1c0002row28_col0,#T_cd619bfc_c9c7_11eb_b217_0242ac1c0002row29_col1{\n",
              "            background-color:  #f6faff;\n",
              "            color:  #000000;\n",
              "        }#T_cd619bfc_c9c7_11eb_b217_0242ac1c0002row10_col0{\n",
              "            background-color:  #d6e5f4;\n",
              "            color:  #000000;\n",
              "        }#T_cd619bfc_c9c7_11eb_b217_0242ac1c0002row11_col0{\n",
              "            background-color:  #d8e7f5;\n",
              "            color:  #000000;\n",
              "        }#T_cd619bfc_c9c7_11eb_b217_0242ac1c0002row12_col0{\n",
              "            background-color:  #dce9f6;\n",
              "            color:  #000000;\n",
              "        }#T_cd619bfc_c9c7_11eb_b217_0242ac1c0002row13_col0,#T_cd619bfc_c9c7_11eb_b217_0242ac1c0002row14_col0{\n",
              "            background-color:  #e5eff9;\n",
              "            color:  #000000;\n",
              "        }#T_cd619bfc_c9c7_11eb_b217_0242ac1c0002row14_col1,#T_cd619bfc_c9c7_11eb_b217_0242ac1c0002row21_col1{\n",
              "            background-color:  #f5f9fe;\n",
              "            color:  #000000;\n",
              "        }#T_cd619bfc_c9c7_11eb_b217_0242ac1c0002row15_col0,#T_cd619bfc_c9c7_11eb_b217_0242ac1c0002row16_col0{\n",
              "            background-color:  #e6f0f9;\n",
              "            color:  #000000;\n",
              "        }#T_cd619bfc_c9c7_11eb_b217_0242ac1c0002row17_col0,#T_cd619bfc_c9c7_11eb_b217_0242ac1c0002row18_col0,#T_cd619bfc_c9c7_11eb_b217_0242ac1c0002row19_col0,#T_cd619bfc_c9c7_11eb_b217_0242ac1c0002row20_col0{\n",
              "            background-color:  #e9f2fa;\n",
              "            color:  #000000;\n",
              "        }#T_cd619bfc_c9c7_11eb_b217_0242ac1c0002row18_col1{\n",
              "            background-color:  #deebf7;\n",
              "            color:  #000000;\n",
              "        }#T_cd619bfc_c9c7_11eb_b217_0242ac1c0002row19_col1{\n",
              "            background-color:  #d9e8f5;\n",
              "            color:  #000000;\n",
              "        }#T_cd619bfc_c9c7_11eb_b217_0242ac1c0002row20_col1{\n",
              "            background-color:  #f3f8fe;\n",
              "            color:  #000000;\n",
              "        }#T_cd619bfc_c9c7_11eb_b217_0242ac1c0002row21_col0{\n",
              "            background-color:  #eaf2fb;\n",
              "            color:  #000000;\n",
              "        }#T_cd619bfc_c9c7_11eb_b217_0242ac1c0002row22_col0,#T_cd619bfc_c9c7_11eb_b217_0242ac1c0002row23_col0{\n",
              "            background-color:  #ecf4fb;\n",
              "            color:  #000000;\n",
              "        }#T_cd619bfc_c9c7_11eb_b217_0242ac1c0002row24_col0{\n",
              "            background-color:  #edf4fc;\n",
              "            color:  #000000;\n",
              "        }#T_cd619bfc_c9c7_11eb_b217_0242ac1c0002row26_col0{\n",
              "            background-color:  #f2f8fd;\n",
              "            color:  #000000;\n",
              "        }#T_cd619bfc_c9c7_11eb_b217_0242ac1c0002row27_col0{\n",
              "            background-color:  #f5fafe;\n",
              "            color:  #000000;\n",
              "        }</style><table id=\"T_cd619bfc_c9c7_11eb_b217_0242ac1c0002\" ><thead>    <tr>        <th class=\"blank level0\" ></th>        <th class=\"col_heading level0 col0\" >people_fully_vaccinated_per_hundred</th>        <th class=\"col_heading level0 col1\" >people_fully_vaccinated</th>        <th class=\"col_heading level0 col2\" >date</th>    </tr>    <tr>        <th class=\"index_name level0\" >country</th>        <th class=\"blank\" ></th>        <th class=\"blank\" ></th>        <th class=\"blank\" ></th>    </tr></thead><tbody>\n",
              "                <tr>\n",
              "                        <th id=\"T_cd619bfc_c9c7_11eb_b217_0242ac1c0002level0_row0\" class=\"row_heading level0 row0\" >Gibraltar</th>\n",
              "                        <td id=\"T_cd619bfc_c9c7_11eb_b217_0242ac1c0002row0_col0\" class=\"data row0 col0\" >102.950000</td>\n",
              "                        <td id=\"T_cd619bfc_c9c7_11eb_b217_0242ac1c0002row0_col1\" class=\"data row0 col1\" >34686.000000</td>\n",
              "                        <td id=\"T_cd619bfc_c9c7_11eb_b217_0242ac1c0002row0_col2\" class=\"data row0 col2\" >2021-05-06 00:00:00</td>\n",
              "            </tr>\n",
              "            <tr>\n",
              "                        <th id=\"T_cd619bfc_c9c7_11eb_b217_0242ac1c0002level0_row1\" class=\"row_heading level0 row1\" >Seychelles</th>\n",
              "                        <td id=\"T_cd619bfc_c9c7_11eb_b217_0242ac1c0002row1_col0\" class=\"data row1 col0\" >60.680000</td>\n",
              "                        <td id=\"T_cd619bfc_c9c7_11eb_b217_0242ac1c0002row1_col1\" class=\"data row1 col1\" >59676.000000</td>\n",
              "                        <td id=\"T_cd619bfc_c9c7_11eb_b217_0242ac1c0002row1_col2\" class=\"data row1 col2\" >2021-05-03 00:00:00</td>\n",
              "            </tr>\n",
              "            <tr>\n",
              "                        <th id=\"T_cd619bfc_c9c7_11eb_b217_0242ac1c0002level0_row2\" class=\"row_heading level0 row2\" >Israel</th>\n",
              "                        <td id=\"T_cd619bfc_c9c7_11eb_b217_0242ac1c0002row2_col0\" class=\"data row2 col0\" >58.600000</td>\n",
              "                        <td id=\"T_cd619bfc_c9c7_11eb_b217_0242ac1c0002row2_col1\" class=\"data row2 col1\" >5071821.000000</td>\n",
              "                        <td id=\"T_cd619bfc_c9c7_11eb_b217_0242ac1c0002row2_col2\" class=\"data row2 col2\" >2021-05-06 00:00:00</td>\n",
              "            </tr>\n",
              "            <tr>\n",
              "                        <th id=\"T_cd619bfc_c9c7_11eb_b217_0242ac1c0002level0_row3\" class=\"row_heading level0 row3\" >Falkland Islands</th>\n",
              "                        <td id=\"T_cd619bfc_c9c7_11eb_b217_0242ac1c0002row3_col0\" class=\"data row3 col0\" >50.960000</td>\n",
              "                        <td id=\"T_cd619bfc_c9c7_11eb_b217_0242ac1c0002row3_col1\" class=\"data row3 col1\" >1775.000000</td>\n",
              "                        <td id=\"T_cd619bfc_c9c7_11eb_b217_0242ac1c0002row3_col2\" class=\"data row3 col2\" >2021-04-14 00:00:00</td>\n",
              "            </tr>\n",
              "            <tr>\n",
              "                        <th id=\"T_cd619bfc_c9c7_11eb_b217_0242ac1c0002level0_row4\" class=\"row_heading level0 row4\" >Cayman Islands</th>\n",
              "                        <td id=\"T_cd619bfc_c9c7_11eb_b217_0242ac1c0002row4_col0\" class=\"data row4 col0\" >49.470000</td>\n",
              "                        <td id=\"T_cd619bfc_c9c7_11eb_b217_0242ac1c0002row4_col1\" class=\"data row4 col1\" >32511.000000</td>\n",
              "                        <td id=\"T_cd619bfc_c9c7_11eb_b217_0242ac1c0002row4_col2\" class=\"data row4 col2\" >2021-05-05 00:00:00</td>\n",
              "            </tr>\n",
              "            <tr>\n",
              "                        <th id=\"T_cd619bfc_c9c7_11eb_b217_0242ac1c0002level0_row5\" class=\"row_heading level0 row5\" >United Arab Emirates</th>\n",
              "                        <td id=\"T_cd619bfc_c9c7_11eb_b217_0242ac1c0002row5_col0\" class=\"data row5 col0\" >38.790000</td>\n",
              "                        <td id=\"T_cd619bfc_c9c7_11eb_b217_0242ac1c0002row5_col1\" class=\"data row5 col1\" >3836521.000000</td>\n",
              "                        <td id=\"T_cd619bfc_c9c7_11eb_b217_0242ac1c0002row5_col2\" class=\"data row5 col2\" >2021-05-06 00:00:00</td>\n",
              "            </tr>\n",
              "            <tr>\n",
              "                        <th id=\"T_cd619bfc_c9c7_11eb_b217_0242ac1c0002level0_row6\" class=\"row_heading level0 row6\" >Bermuda</th>\n",
              "                        <td id=\"T_cd619bfc_c9c7_11eb_b217_0242ac1c0002row6_col0\" class=\"data row6 col0\" >38.180000</td>\n",
              "                        <td id=\"T_cd619bfc_c9c7_11eb_b217_0242ac1c0002row6_col1\" class=\"data row6 col1\" >23775.000000</td>\n",
              "                        <td id=\"T_cd619bfc_c9c7_11eb_b217_0242ac1c0002row6_col2\" class=\"data row6 col2\" >2021-04-26 00:00:00</td>\n",
              "            </tr>\n",
              "            <tr>\n",
              "                        <th id=\"T_cd619bfc_c9c7_11eb_b217_0242ac1c0002level0_row7\" class=\"row_heading level0 row7\" >Chile</th>\n",
              "                        <td id=\"T_cd619bfc_c9c7_11eb_b217_0242ac1c0002row7_col0\" class=\"data row7 col0\" >36.580000</td>\n",
              "                        <td id=\"T_cd619bfc_c9c7_11eb_b217_0242ac1c0002row7_col1\" class=\"data row7 col1\" >6993123.000000</td>\n",
              "                        <td id=\"T_cd619bfc_c9c7_11eb_b217_0242ac1c0002row7_col2\" class=\"data row7 col2\" >2021-05-05 00:00:00</td>\n",
              "            </tr>\n",
              "            <tr>\n",
              "                        <th id=\"T_cd619bfc_c9c7_11eb_b217_0242ac1c0002level0_row8\" class=\"row_heading level0 row8\" >Jersey</th>\n",
              "                        <td id=\"T_cd619bfc_c9c7_11eb_b217_0242ac1c0002row8_col0\" class=\"data row8 col0\" >35.140000</td>\n",
              "                        <td id=\"T_cd619bfc_c9c7_11eb_b217_0242ac1c0002row8_col1\" class=\"data row8 col1\" >35513.000000</td>\n",
              "                        <td id=\"T_cd619bfc_c9c7_11eb_b217_0242ac1c0002row8_col2\" class=\"data row8 col2\" >2021-05-02 00:00:00</td>\n",
              "            </tr>\n",
              "            <tr>\n",
              "                        <th id=\"T_cd619bfc_c9c7_11eb_b217_0242ac1c0002level0_row9\" class=\"row_heading level0 row9\" >Bahrain</th>\n",
              "                        <td id=\"T_cd619bfc_c9c7_11eb_b217_0242ac1c0002row9_col0\" class=\"data row9 col0\" >33.050000</td>\n",
              "                        <td id=\"T_cd619bfc_c9c7_11eb_b217_0242ac1c0002row9_col1\" class=\"data row9 col1\" >562453.000000</td>\n",
              "                        <td id=\"T_cd619bfc_c9c7_11eb_b217_0242ac1c0002row9_col2\" class=\"data row9 col2\" >2021-05-06 00:00:00</td>\n",
              "            </tr>\n",
              "            <tr>\n",
              "                        <th id=\"T_cd619bfc_c9c7_11eb_b217_0242ac1c0002level0_row10\" class=\"row_heading level0 row10\" >United States</th>\n",
              "                        <td id=\"T_cd619bfc_c9c7_11eb_b217_0242ac1c0002row10_col0\" class=\"data row10 col0\" >32.570000</td>\n",
              "                        <td id=\"T_cd619bfc_c9c7_11eb_b217_0242ac1c0002row10_col1\" class=\"data row10 col1\" >108926627.000000</td>\n",
              "                        <td id=\"T_cd619bfc_c9c7_11eb_b217_0242ac1c0002row10_col2\" class=\"data row10 col2\" >2021-05-06 00:00:00</td>\n",
              "            </tr>\n",
              "            <tr>\n",
              "                        <th id=\"T_cd619bfc_c9c7_11eb_b217_0242ac1c0002level0_row11\" class=\"row_heading level0 row11\" >San Marino</th>\n",
              "                        <td id=\"T_cd619bfc_c9c7_11eb_b217_0242ac1c0002row11_col0\" class=\"data row11 col0\" >31.510000</td>\n",
              "                        <td id=\"T_cd619bfc_c9c7_11eb_b217_0242ac1c0002row11_col1\" class=\"data row11 col1\" >10694.000000</td>\n",
              "                        <td id=\"T_cd619bfc_c9c7_11eb_b217_0242ac1c0002row11_col2\" class=\"data row11 col2\" >2021-05-05 00:00:00</td>\n",
              "            </tr>\n",
              "            <tr>\n",
              "                        <th id=\"T_cd619bfc_c9c7_11eb_b217_0242ac1c0002level0_row12\" class=\"row_heading level0 row12\" >Monaco</th>\n",
              "                        <td id=\"T_cd619bfc_c9c7_11eb_b217_0242ac1c0002row12_col0\" class=\"data row12 col0\" >29.640000</td>\n",
              "                        <td id=\"T_cd619bfc_c9c7_11eb_b217_0242ac1c0002row12_col1\" class=\"data row12 col1\" >11632.000000</td>\n",
              "                        <td id=\"T_cd619bfc_c9c7_11eb_b217_0242ac1c0002row12_col2\" class=\"data row12 col2\" >2021-04-22 00:00:00</td>\n",
              "            </tr>\n",
              "            <tr>\n",
              "                        <th id=\"T_cd619bfc_c9c7_11eb_b217_0242ac1c0002level0_row13\" class=\"row_heading level0 row13\" >Turks and Caicos Islands</th>\n",
              "                        <td id=\"T_cd619bfc_c9c7_11eb_b217_0242ac1c0002row13_col0\" class=\"data row13 col0\" >25.830000</td>\n",
              "                        <td id=\"T_cd619bfc_c9c7_11eb_b217_0242ac1c0002row13_col1\" class=\"data row13 col1\" >10000.000000</td>\n",
              "                        <td id=\"T_cd619bfc_c9c7_11eb_b217_0242ac1c0002row13_col2\" class=\"data row13 col2\" >2021-04-11 00:00:00</td>\n",
              "            </tr>\n",
              "            <tr>\n",
              "                        <th id=\"T_cd619bfc_c9c7_11eb_b217_0242ac1c0002level0_row14\" class=\"row_heading level0 row14\" >Scotland</th>\n",
              "                        <td id=\"T_cd619bfc_c9c7_11eb_b217_0242ac1c0002row14_col0\" class=\"data row14 col0\" >25.630000</td>\n",
              "                        <td id=\"T_cd619bfc_c9c7_11eb_b217_0242ac1c0002row14_col1\" class=\"data row14 col1\" >1400296.000000</td>\n",
              "                        <td id=\"T_cd619bfc_c9c7_11eb_b217_0242ac1c0002row14_col2\" class=\"data row14 col2\" >2021-05-05 00:00:00</td>\n",
              "            </tr>\n",
              "            <tr>\n",
              "                        <th id=\"T_cd619bfc_c9c7_11eb_b217_0242ac1c0002level0_row15\" class=\"row_heading level0 row15\" >Malta</th>\n",
              "                        <td id=\"T_cd619bfc_c9c7_11eb_b217_0242ac1c0002row15_col0\" class=\"data row15 col0\" >25.530000</td>\n",
              "                        <td id=\"T_cd619bfc_c9c7_11eb_b217_0242ac1c0002row15_col1\" class=\"data row15 col1\" >112731.000000</td>\n",
              "                        <td id=\"T_cd619bfc_c9c7_11eb_b217_0242ac1c0002row15_col2\" class=\"data row15 col2\" >2021-05-05 00:00:00</td>\n",
              "            </tr>\n",
              "            <tr>\n",
              "                        <th id=\"T_cd619bfc_c9c7_11eb_b217_0242ac1c0002level0_row16\" class=\"row_heading level0 row16\" >Wales</th>\n",
              "                        <td id=\"T_cd619bfc_c9c7_11eb_b217_0242ac1c0002row16_col0\" class=\"data row16 col0\" >25.340000</td>\n",
              "                        <td id=\"T_cd619bfc_c9c7_11eb_b217_0242ac1c0002row16_col1\" class=\"data row16 col1\" >798925.000000</td>\n",
              "                        <td id=\"T_cd619bfc_c9c7_11eb_b217_0242ac1c0002row16_col2\" class=\"data row16 col2\" >2021-05-05 00:00:00</td>\n",
              "            </tr>\n",
              "            <tr>\n",
              "                        <th id=\"T_cd619bfc_c9c7_11eb_b217_0242ac1c0002level0_row17\" class=\"row_heading level0 row17\" >Northern Ireland</th>\n",
              "                        <td id=\"T_cd619bfc_c9c7_11eb_b217_0242ac1c0002row17_col0\" class=\"data row17 col0\" >24.280000</td>\n",
              "                        <td id=\"T_cd619bfc_c9c7_11eb_b217_0242ac1c0002row17_col1\" class=\"data row17 col1\" >459763.000000</td>\n",
              "                        <td id=\"T_cd619bfc_c9c7_11eb_b217_0242ac1c0002row17_col2\" class=\"data row17 col2\" >2021-05-05 00:00:00</td>\n",
              "            </tr>\n",
              "            <tr>\n",
              "                        <th id=\"T_cd619bfc_c9c7_11eb_b217_0242ac1c0002level0_row18\" class=\"row_heading level0 row18\" >England</th>\n",
              "                        <td id=\"T_cd619bfc_c9c7_11eb_b217_0242ac1c0002row18_col0\" class=\"data row18 col0\" >24.220000</td>\n",
              "                        <td id=\"T_cd619bfc_c9c7_11eb_b217_0242ac1c0002row18_col1\" class=\"data row18 col1\" >13632735.000000</td>\n",
              "                        <td id=\"T_cd619bfc_c9c7_11eb_b217_0242ac1c0002row18_col2\" class=\"data row18 col2\" >2021-05-05 00:00:00</td>\n",
              "            </tr>\n",
              "            <tr>\n",
              "                        <th id=\"T_cd619bfc_c9c7_11eb_b217_0242ac1c0002level0_row19\" class=\"row_heading level0 row19\" >United Kingdom</th>\n",
              "                        <td id=\"T_cd619bfc_c9c7_11eb_b217_0242ac1c0002row19_col0\" class=\"data row19 col0\" >24.000000</td>\n",
              "                        <td id=\"T_cd619bfc_c9c7_11eb_b217_0242ac1c0002row19_col1\" class=\"data row19 col1\" >16291719.000000</td>\n",
              "                        <td id=\"T_cd619bfc_c9c7_11eb_b217_0242ac1c0002row19_col2\" class=\"data row19 col2\" >2021-05-05 00:00:00</td>\n",
              "            </tr>\n",
              "            <tr>\n",
              "                        <th id=\"T_cd619bfc_c9c7_11eb_b217_0242ac1c0002level0_row20\" class=\"row_heading level0 row20\" >Hungary</th>\n",
              "                        <td id=\"T_cd619bfc_c9c7_11eb_b217_0242ac1c0002row20_col0\" class=\"data row20 col0\" >23.970000</td>\n",
              "                        <td id=\"T_cd619bfc_c9c7_11eb_b217_0242ac1c0002row20_col1\" class=\"data row20 col1\" >2315428.000000</td>\n",
              "                        <td id=\"T_cd619bfc_c9c7_11eb_b217_0242ac1c0002row20_col2\" class=\"data row20 col2\" >2021-05-05 00:00:00</td>\n",
              "            </tr>\n",
              "            <tr>\n",
              "                        <th id=\"T_cd619bfc_c9c7_11eb_b217_0242ac1c0002level0_row21\" class=\"row_heading level0 row21\" >Serbia</th>\n",
              "                        <td id=\"T_cd619bfc_c9c7_11eb_b217_0242ac1c0002row21_col0\" class=\"data row21 col0\" >23.910000</td>\n",
              "                        <td id=\"T_cd619bfc_c9c7_11eb_b217_0242ac1c0002row21_col1\" class=\"data row21 col1\" >1627001.000000</td>\n",
              "                        <td id=\"T_cd619bfc_c9c7_11eb_b217_0242ac1c0002row21_col2\" class=\"data row21 col2\" >2021-05-06 00:00:00</td>\n",
              "            </tr>\n",
              "            <tr>\n",
              "                        <th id=\"T_cd619bfc_c9c7_11eb_b217_0242ac1c0002level0_row22\" class=\"row_heading level0 row22\" >Maldives</th>\n",
              "                        <td id=\"T_cd619bfc_c9c7_11eb_b217_0242ac1c0002row22_col0\" class=\"data row22 col0\" >22.860000</td>\n",
              "                        <td id=\"T_cd619bfc_c9c7_11eb_b217_0242ac1c0002row22_col1\" class=\"data row22 col1\" >123581.000000</td>\n",
              "                        <td id=\"T_cd619bfc_c9c7_11eb_b217_0242ac1c0002row22_col2\" class=\"data row22 col2\" >2021-05-05 00:00:00</td>\n",
              "            </tr>\n",
              "            <tr>\n",
              "                        <th id=\"T_cd619bfc_c9c7_11eb_b217_0242ac1c0002level0_row23\" class=\"row_heading level0 row23\" >Aruba</th>\n",
              "                        <td id=\"T_cd619bfc_c9c7_11eb_b217_0242ac1c0002row23_col0\" class=\"data row23 col0\" >22.650000</td>\n",
              "                        <td id=\"T_cd619bfc_c9c7_11eb_b217_0242ac1c0002row23_col1\" class=\"data row23 col1\" >24182.000000</td>\n",
              "                        <td id=\"T_cd619bfc_c9c7_11eb_b217_0242ac1c0002row23_col2\" class=\"data row23 col2\" >2021-05-06 00:00:00</td>\n",
              "            </tr>\n",
              "            <tr>\n",
              "                        <th id=\"T_cd619bfc_c9c7_11eb_b217_0242ac1c0002level0_row24\" class=\"row_heading level0 row24\" >Qatar</th>\n",
              "                        <td id=\"T_cd619bfc_c9c7_11eb_b217_0242ac1c0002row24_col0\" class=\"data row24 col0\" >22.630000</td>\n",
              "                        <td id=\"T_cd619bfc_c9c7_11eb_b217_0242ac1c0002row24_col1\" class=\"data row24 col1\" >652056.000000</td>\n",
              "                        <td id=\"T_cd619bfc_c9c7_11eb_b217_0242ac1c0002row24_col2\" class=\"data row24 col2\" >2021-05-06 00:00:00</td>\n",
              "            </tr>\n",
              "            <tr>\n",
              "                        <th id=\"T_cd619bfc_c9c7_11eb_b217_0242ac1c0002level0_row25\" class=\"row_heading level0 row25\" >Uruguay</th>\n",
              "                        <td id=\"T_cd619bfc_c9c7_11eb_b217_0242ac1c0002row25_col0\" class=\"data row25 col0\" >21.890000</td>\n",
              "                        <td id=\"T_cd619bfc_c9c7_11eb_b217_0242ac1c0002row25_col1\" class=\"data row25 col1\" >760274.000000</td>\n",
              "                        <td id=\"T_cd619bfc_c9c7_11eb_b217_0242ac1c0002row25_col2\" class=\"data row25 col2\" >2021-05-06 00:00:00</td>\n",
              "            </tr>\n",
              "            <tr>\n",
              "                        <th id=\"T_cd619bfc_c9c7_11eb_b217_0242ac1c0002level0_row26\" class=\"row_heading level0 row26\" >Guernsey</th>\n",
              "                        <td id=\"T_cd619bfc_c9c7_11eb_b217_0242ac1c0002row26_col0\" class=\"data row26 col0\" >20.310000</td>\n",
              "                        <td id=\"T_cd619bfc_c9c7_11eb_b217_0242ac1c0002row26_col1\" class=\"data row26 col1\" >13618.000000</td>\n",
              "                        <td id=\"T_cd619bfc_c9c7_11eb_b217_0242ac1c0002row26_col2\" class=\"data row26 col2\" >2021-04-20 00:00:00</td>\n",
              "            </tr>\n",
              "            <tr>\n",
              "                        <th id=\"T_cd619bfc_c9c7_11eb_b217_0242ac1c0002level0_row27\" class=\"row_heading level0 row27\" >Curacao</th>\n",
              "                        <td id=\"T_cd619bfc_c9c7_11eb_b217_0242ac1c0002row27_col0\" class=\"data row27 col0\" >18.850000</td>\n",
              "                        <td id=\"T_cd619bfc_c9c7_11eb_b217_0242ac1c0002row27_col1\" class=\"data row27 col1\" >30940.000000</td>\n",
              "                        <td id=\"T_cd619bfc_c9c7_11eb_b217_0242ac1c0002row27_col2\" class=\"data row27 col2\" >2021-05-06 00:00:00</td>\n",
              "            </tr>\n",
              "            <tr>\n",
              "                        <th id=\"T_cd619bfc_c9c7_11eb_b217_0242ac1c0002level0_row28\" class=\"row_heading level0 row28\" >Isle of Man</th>\n",
              "                        <td id=\"T_cd619bfc_c9c7_11eb_b217_0242ac1c0002row28_col0\" class=\"data row28 col0\" >18.580000</td>\n",
              "                        <td id=\"T_cd619bfc_c9c7_11eb_b217_0242ac1c0002row28_col1\" class=\"data row28 col1\" >15796.000000</td>\n",
              "                        <td id=\"T_cd619bfc_c9c7_11eb_b217_0242ac1c0002row28_col2\" class=\"data row28 col2\" >2021-05-06 00:00:00</td>\n",
              "            </tr>\n",
              "            <tr>\n",
              "                        <th id=\"T_cd619bfc_c9c7_11eb_b217_0242ac1c0002level0_row29\" class=\"row_heading level0 row29\" >Mongolia</th>\n",
              "                        <td id=\"T_cd619bfc_c9c7_11eb_b217_0242ac1c0002row29_col0\" class=\"data row29 col0\" >17.990000</td>\n",
              "                        <td id=\"T_cd619bfc_c9c7_11eb_b217_0242ac1c0002row29_col1\" class=\"data row29 col1\" >589672.000000</td>\n",
              "                        <td id=\"T_cd619bfc_c9c7_11eb_b217_0242ac1c0002row29_col2\" class=\"data row29 col2\" >2021-05-06 00:00:00</td>\n",
              "            </tr>\n",
              "    </tbody></table>"
            ],
            "text/plain": [
              "<pandas.io.formats.style.Styler at 0x7f5c1a505dd0>"
            ]
          },
          "metadata": {
            "tags": []
          },
          "execution_count": 38
        }
      ]
    },
    {
      "cell_type": "code",
      "metadata": {
        "colab": {
          "base_uri": "https://localhost:8080/",
          "height": 255
        },
        "id": "OGu8NAnzKZWy",
        "outputId": "25330307-758d-4d3f-bd5b-4a1f3bdd1aea"
      },
      "source": [
        "latest_data[['people_fully_vaccinated_per_hundred', 'people_fully_vaccinated']].sort_values(by='people_fully_vaccinated', ascending = False).head(10).style.background_gradient(cmap = 'Blues')"
      ],
      "execution_count": null,
      "outputs": [
        {
          "output_type": "execute_result",
          "data": {
            "text/html": [
              "<style  type=\"text/css\" >\n",
              "#T_cd68c71a_c9c7_11eb_b217_0242ac1c0002row0_col0,#T_cd68c71a_c9c7_11eb_b217_0242ac1c0002row0_col1{\n",
              "            background-color:  #08306b;\n",
              "            color:  #f1f1f1;\n",
              "        }#T_cd68c71a_c9c7_11eb_b217_0242ac1c0002row1_col0,#T_cd68c71a_c9c7_11eb_b217_0242ac1c0002row9_col1{\n",
              "            background-color:  #f7fbff;\n",
              "            color:  #000000;\n",
              "        }#T_cd68c71a_c9c7_11eb_b217_0242ac1c0002row1_col1{\n",
              "            background-color:  #c9ddf0;\n",
              "            color:  #000000;\n",
              "        }#T_cd68c71a_c9c7_11eb_b217_0242ac1c0002row2_col0{\n",
              "            background-color:  #2a7ab9;\n",
              "            color:  #000000;\n",
              "        }#T_cd68c71a_c9c7_11eb_b217_0242ac1c0002row2_col1{\n",
              "            background-color:  #e6f0f9;\n",
              "            color:  #000000;\n",
              "        }#T_cd68c71a_c9c7_11eb_b217_0242ac1c0002row3_col0{\n",
              "            background-color:  #d8e7f5;\n",
              "            color:  #000000;\n",
              "        }#T_cd68c71a_c9c7_11eb_b217_0242ac1c0002row3_col1{\n",
              "            background-color:  #e8f1fa;\n",
              "            color:  #000000;\n",
              "        }#T_cd68c71a_c9c7_11eb_b217_0242ac1c0002row4_col0{\n",
              "            background-color:  #2777b8;\n",
              "            color:  #000000;\n",
              "        }#T_cd68c71a_c9c7_11eb_b217_0242ac1c0002row4_col1{\n",
              "            background-color:  #ebf3fb;\n",
              "            color:  #000000;\n",
              "        }#T_cd68c71a_c9c7_11eb_b217_0242ac1c0002row5_col0{\n",
              "            background-color:  #b0d2e7;\n",
              "            color:  #000000;\n",
              "        }#T_cd68c71a_c9c7_11eb_b217_0242ac1c0002row5_col1,#T_cd68c71a_c9c7_11eb_b217_0242ac1c0002row7_col0{\n",
              "            background-color:  #f2f8fd;\n",
              "            color:  #000000;\n",
              "        }#T_cd68c71a_c9c7_11eb_b217_0242ac1c0002row6_col0{\n",
              "            background-color:  #d9e8f5;\n",
              "            color:  #000000;\n",
              "        }#T_cd68c71a_c9c7_11eb_b217_0242ac1c0002row6_col1{\n",
              "            background-color:  #f5f9fe;\n",
              "            color:  #000000;\n",
              "        }#T_cd68c71a_c9c7_11eb_b217_0242ac1c0002row7_col1,#T_cd68c71a_c9c7_11eb_b217_0242ac1c0002row8_col1{\n",
              "            background-color:  #f5fafe;\n",
              "            color:  #000000;\n",
              "        }#T_cd68c71a_c9c7_11eb_b217_0242ac1c0002row8_col0{\n",
              "            background-color:  #e1edf8;\n",
              "            color:  #000000;\n",
              "        }#T_cd68c71a_c9c7_11eb_b217_0242ac1c0002row9_col0{\n",
              "            background-color:  #cde0f1;\n",
              "            color:  #000000;\n",
              "        }</style><table id=\"T_cd68c71a_c9c7_11eb_b217_0242ac1c0002\" ><thead>    <tr>        <th class=\"blank level0\" ></th>        <th class=\"col_heading level0 col0\" >people_fully_vaccinated_per_hundred</th>        <th class=\"col_heading level0 col1\" >people_fully_vaccinated</th>    </tr>    <tr>        <th class=\"index_name level0\" >country</th>        <th class=\"blank\" ></th>        <th class=\"blank\" ></th>    </tr></thead><tbody>\n",
              "                <tr>\n",
              "                        <th id=\"T_cd68c71a_c9c7_11eb_b217_0242ac1c0002level0_row0\" class=\"row_heading level0 row0\" >United States</th>\n",
              "                        <td id=\"T_cd68c71a_c9c7_11eb_b217_0242ac1c0002row0_col0\" class=\"data row0 col0\" >32.570000</td>\n",
              "                        <td id=\"T_cd68c71a_c9c7_11eb_b217_0242ac1c0002row0_col1\" class=\"data row0 col1\" >108926627.000000</td>\n",
              "            </tr>\n",
              "            <tr>\n",
              "                        <th id=\"T_cd68c71a_c9c7_11eb_b217_0242ac1c0002level0_row1\" class=\"row_heading level0 row1\" >India</th>\n",
              "                        <td id=\"T_cd68c71a_c9c7_11eb_b217_0242ac1c0002row1_col0\" class=\"data row1 col0\" >2.290000</td>\n",
              "                        <td id=\"T_cd68c71a_c9c7_11eb_b217_0242ac1c0002row1_col1\" class=\"data row1 col1\" >31544713.000000</td>\n",
              "            </tr>\n",
              "            <tr>\n",
              "                        <th id=\"T_cd68c71a_c9c7_11eb_b217_0242ac1c0002level0_row2\" class=\"row_heading level0 row2\" >United Kingdom</th>\n",
              "                        <td id=\"T_cd68c71a_c9c7_11eb_b217_0242ac1c0002row2_col0\" class=\"data row2 col0\" >24.000000</td>\n",
              "                        <td id=\"T_cd68c71a_c9c7_11eb_b217_0242ac1c0002row2_col1\" class=\"data row2 col1\" >16291719.000000</td>\n",
              "            </tr>\n",
              "            <tr>\n",
              "                        <th id=\"T_cd68c71a_c9c7_11eb_b217_0242ac1c0002level0_row3\" class=\"row_heading level0 row3\" >Brazil</th>\n",
              "                        <td id=\"T_cd68c71a_c9c7_11eb_b217_0242ac1c0002row3_col0\" class=\"data row3 col0\" >7.070000</td>\n",
              "                        <td id=\"T_cd68c71a_c9c7_11eb_b217_0242ac1c0002row3_col1\" class=\"data row3 col1\" >15037978.000000</td>\n",
              "            </tr>\n",
              "            <tr>\n",
              "                        <th id=\"T_cd68c71a_c9c7_11eb_b217_0242ac1c0002level0_row4\" class=\"row_heading level0 row4\" >England</th>\n",
              "                        <td id=\"T_cd68c71a_c9c7_11eb_b217_0242ac1c0002row4_col0\" class=\"data row4 col0\" >24.220000</td>\n",
              "                        <td id=\"T_cd68c71a_c9c7_11eb_b217_0242ac1c0002row4_col1\" class=\"data row4 col1\" >13632735.000000</td>\n",
              "            </tr>\n",
              "            <tr>\n",
              "                        <th id=\"T_cd68c71a_c9c7_11eb_b217_0242ac1c0002level0_row5\" class=\"row_heading level0 row5\" >Turkey</th>\n",
              "                        <td id=\"T_cd68c71a_c9c7_11eb_b217_0242ac1c0002row5_col0\" class=\"data row5 col0\" >11.950000</td>\n",
              "                        <td id=\"T_cd68c71a_c9c7_11eb_b217_0242ac1c0002row5_col1\" class=\"data row5 col1\" >10076124.000000</td>\n",
              "            </tr>\n",
              "            <tr>\n",
              "                        <th id=\"T_cd68c71a_c9c7_11eb_b217_0242ac1c0002level0_row6\" class=\"row_heading level0 row6\" >Mexico</th>\n",
              "                        <td id=\"T_cd68c71a_c9c7_11eb_b217_0242ac1c0002row6_col0\" class=\"data row6 col0\" >6.820000</td>\n",
              "                        <td id=\"T_cd68c71a_c9c7_11eb_b217_0242ac1c0002row6_col1\" class=\"data row6 col1\" >8790655.000000</td>\n",
              "            </tr>\n",
              "            <tr>\n",
              "                        <th id=\"T_cd68c71a_c9c7_11eb_b217_0242ac1c0002level0_row7\" class=\"row_heading level0 row7\" >Indonesia</th>\n",
              "                        <td id=\"T_cd68c71a_c9c7_11eb_b217_0242ac1c0002row7_col0\" class=\"data row7 col0\" >3.050000</td>\n",
              "                        <td id=\"T_cd68c71a_c9c7_11eb_b217_0242ac1c0002row7_col1\" class=\"data row7 col1\" >8339055.000000</td>\n",
              "            </tr>\n",
              "            <tr>\n",
              "                        <th id=\"T_cd68c71a_c9c7_11eb_b217_0242ac1c0002level0_row8\" class=\"row_heading level0 row8\" >Russia</th>\n",
              "                        <td id=\"T_cd68c71a_c9c7_11eb_b217_0242ac1c0002row8_col0\" class=\"data row8 col0\" >5.680000</td>\n",
              "                        <td id=\"T_cd68c71a_c9c7_11eb_b217_0242ac1c0002row8_col1\" class=\"data row8 col1\" >8284150.000000</td>\n",
              "            </tr>\n",
              "            <tr>\n",
              "                        <th id=\"T_cd68c71a_c9c7_11eb_b217_0242ac1c0002level0_row9\" class=\"row_heading level0 row9\" >Germany</th>\n",
              "                        <td id=\"T_cd68c71a_c9c7_11eb_b217_0242ac1c0002row9_col0\" class=\"data row9 col0\" >8.780000</td>\n",
              "                        <td id=\"T_cd68c71a_c9c7_11eb_b217_0242ac1c0002row9_col1\" class=\"data row9 col1\" >7360108.000000</td>\n",
              "            </tr>\n",
              "    </tbody></table>"
            ],
            "text/plain": [
              "<pandas.io.formats.style.Styler at 0x7f5c1a4c8ed0>"
            ]
          },
          "metadata": {
            "tags": []
          },
          "execution_count": 39
        }
      ]
    },
    {
      "cell_type": "code",
      "metadata": {
        "colab": {
          "base_uri": "https://localhost:8080/",
          "height": 628
        },
        "id": "2gfEtyu_KfNr",
        "outputId": "c79721c4-0c93-4c63-8bea-4f6d8181f37d"
      },
      "source": [
        "sns.set(rc={'figure.figsize':(11.7,8.27)}, style = 'darkgrid')\n",
        "ax3 = sns.barplot(x = latest_data['people_fully_vaccinated_per_hundred'].sort_values(ascending = False).head(15).index,\n",
        "                 y = latest_data['people_fully_vaccinated_per_hundred'].sort_values(ascending = False).head(15))\n",
        "ax3.set_xlabel('Country')\n",
        "ax3.set_ylabel('% of fully vaccinated people')\n",
        "plt.xticks(rotation = 60)\n",
        "show_values_on_bars(ax3, h_v = 'v')"
      ],
      "execution_count": null,
      "outputs": [
        {
          "output_type": "display_data",
          "data": {
            "image/png": "[encoded data removed]",
            "text/plain": [
              "<Figure size 842.4x595.44 with 1 Axes>"
            ]
          },
          "metadata": {
            "tags": []
          }
        }
      ]
    },
    {
      "cell_type": "code",
      "metadata": {
        "id": "Ok70TwVlKmCq"
      },
      "source": [
        "def show_values_on_bars(axs, h_v=\"v\", space=0.7):\n",
        "    def _show_on_single_plot(ax):\n",
        "        if h_v == \"v\":\n",
        "            for p in ax.patches:\n",
        "                _x = p.get_x() + p.get_width() / 2\n",
        "                _y = p.get_y() + p.get_height()\n",
        "                value = '{:.0f}m'.format(int(p.get_height()) / 1000000)\n",
        "                ax.text(_x, _y, value, ha=\"center\") \n",
        "        elif h_v == \"h\":\n",
        "            for p in ax.patches:\n",
        "                _x = p.get_x() + p.get_width() + float(space)\n",
        "                _y = p.get_y() + p.get_height() / 2\n",
        "                value = '{:.1f}m'.format(int(p.get_width()) / 1000000)\n",
        "                ax.text(_x, _y, value, ha=\"left\")\n",
        "\n",
        "    if isinstance(axs, np.ndarray):\n",
        "        for idx, ax in np.ndenumerate(axs):\n",
        "            _show_on_single_plot(ax)\n",
        "    else:\n",
        "        _show_on_single_plot(axs)"
      ],
      "execution_count": null,
      "outputs": []
    },
    {
      "cell_type": "code",
      "metadata": {
        "colab": {
          "base_uri": "https://localhost:8080/",
          "height": 588
        },
        "id": "1N97pz-gKq5G",
        "outputId": "8f42ebc4-a9c6-4d7f-e5a1-d4fcda1636b9"
      },
      "source": [
        "sns.set(rc={'figure.figsize':(11.7,8.27)}, style = 'darkgrid')\n",
        "ax2 = sns.barplot(x = latest_data['total_vaccinations'].sort_values(ascending = False).head(15).index,\n",
        "                 y = latest_data['total_vaccinations'].sort_values(ascending = False).head(15))\n",
        "ax2.set_xlabel('Country')\n",
        "ax2.set_ylabel('Number of total vaccinations in millions')\n",
        "plt.yticks(ticks = [0,20000000,40000000,60000000,80000000,100000000], labels = [0,20,40,60,80,100])\n",
        "plt.xticks(rotation = 60)\n",
        "show_values_on_bars(ax2, h_v = 'v')"
      ],
      "execution_count": null,
      "outputs": [
        {
          "output_type": "display_data",
          "data": {
            "image/png": "[encoded data removed]",
            "text/plain": [
              "<Figure size 842.4x595.44 with 1 Axes>"
            ]
          },
          "metadata": {
            "tags": []
          }
        }
      ]
    },
    {
      "cell_type": "code",
      "metadata": {
        "colab": {
          "base_uri": "https://localhost:8080/",
          "height": 738
        },
        "id": "cwg5RYJlKvt8",
        "outputId": "51486d96-a34d-431b-b693-b2bba89d5cfc"
      },
      "source": [
        "conditions = [(latest_data['people_fully_vaccinated_per_hundred'] <= 2.5), \n",
        "              (latest_data['people_fully_vaccinated_per_hundred'] > 2.5) & (latest_data['people_fully_vaccinated_per_hundred'] <= 5),\n",
        "              (latest_data['people_fully_vaccinated_per_hundred'] > 5) & (latest_data['people_fully_vaccinated_per_hundred'] <= 7.5),\n",
        "              (latest_data['people_fully_vaccinated_per_hundred'] > 7.5) & (latest_data['people_fully_vaccinated_per_hundred'] <= 10),\n",
        "             (latest_data['people_fully_vaccinated_per_hundred'] > 10)]\n",
        "values = ['very low','low', 'moderated', 'medium', 'high']\n",
        "new_data = latest_data\n",
        "new_data['vaccination_level'] = np.select(conditions, values)\n",
        "new_data.head(10)"
      ],
      "execution_count": null,
      "outputs": [
        {
          "output_type": "execute_result",
          "data": {
            "text/html": [
              "<div>\n",
              "<style scoped>\n",
              "    .dataframe tbody tr th:only-of-type {\n",
              "        vertical-align: middle;\n",
              "    }\n",
              "\n",
              "    .dataframe tbody tr th {\n",
              "        vertical-align: top;\n",
              "    }\n",
              "\n",
              "    .dataframe thead th {\n",
              "        text-align: right;\n",
              "    }\n",
              "</style>\n",
              "<table border=\"1\" class=\"dataframe\">\n",
              "  <thead>\n",
              "    <tr style=\"text-align: right;\">\n",
              "      <th></th>\n",
              "      <th>date</th>\n",
              "      <th>total_vaccinations</th>\n",
              "      <th>people_vaccinated</th>\n",
              "      <th>people_fully_vaccinated</th>\n",
              "      <th>people_fully_vaccinated_per_hundred</th>\n",
              "      <th>vaccines</th>\n",
              "      <th>iso_code</th>\n",
              "      <th>vaccination_level</th>\n",
              "    </tr>\n",
              "    <tr>\n",
              "      <th>country</th>\n",
              "      <th></th>\n",
              "      <th></th>\n",
              "      <th></th>\n",
              "      <th></th>\n",
              "      <th></th>\n",
              "      <th></th>\n",
              "      <th></th>\n",
              "      <th></th>\n",
              "    </tr>\n",
              "  </thead>\n",
              "  <tbody>\n",
              "    <tr>\n",
              "      <th>China</th>\n",
              "      <td>2021-05-06</td>\n",
              "      <td>297734000.0</td>\n",
              "      <td>0.0</td>\n",
              "      <td>0.0</td>\n",
              "      <td>0.00</td>\n",
              "      <td>Sinopharm/Beijing, Sinopharm/Wuhan, Sinovac</td>\n",
              "      <td>CHN</td>\n",
              "      <td>very low</td>\n",
              "    </tr>\n",
              "    <tr>\n",
              "      <th>United States</th>\n",
              "      <td>2021-05-06</td>\n",
              "      <td>251973752.0</td>\n",
              "      <td>149462265.0</td>\n",
              "      <td>108926627.0</td>\n",
              "      <td>32.57</td>\n",
              "      <td>Johnson&amp;Johnson, Moderna, Pfizer/BioNTech</td>\n",
              "      <td>USA</td>\n",
              "      <td>high</td>\n",
              "    </tr>\n",
              "    <tr>\n",
              "      <th>India</th>\n",
              "      <td>2021-05-06</td>\n",
              "      <td>162603603.0</td>\n",
              "      <td>131058890.0</td>\n",
              "      <td>31544713.0</td>\n",
              "      <td>2.29</td>\n",
              "      <td>Covaxin, Oxford/AstraZeneca</td>\n",
              "      <td>IND</td>\n",
              "      <td>very low</td>\n",
              "    </tr>\n",
              "    <tr>\n",
              "      <th>United Kingdom</th>\n",
              "      <td>2021-05-05</td>\n",
              "      <td>51225890.0</td>\n",
              "      <td>34934171.0</td>\n",
              "      <td>16291719.0</td>\n",
              "      <td>24.00</td>\n",
              "      <td>Moderna, Oxford/AstraZeneca, Pfizer/BioNTech</td>\n",
              "      <td>GBR</td>\n",
              "      <td>high</td>\n",
              "    </tr>\n",
              "    <tr>\n",
              "      <th>Brazil</th>\n",
              "      <td>2021-05-06</td>\n",
              "      <td>46542392.0</td>\n",
              "      <td>31504414.0</td>\n",
              "      <td>15037978.0</td>\n",
              "      <td>7.07</td>\n",
              "      <td>Oxford/AstraZeneca, Sinovac</td>\n",
              "      <td>BRA</td>\n",
              "      <td>moderated</td>\n",
              "    </tr>\n",
              "    <tr>\n",
              "      <th>England</th>\n",
              "      <td>2021-05-05</td>\n",
              "      <td>42864836.0</td>\n",
              "      <td>29232101.0</td>\n",
              "      <td>13632735.0</td>\n",
              "      <td>24.22</td>\n",
              "      <td>Moderna, Oxford/AstraZeneca, Pfizer/BioNTech</td>\n",
              "      <td>OWID_ENG</td>\n",
              "      <td>high</td>\n",
              "    </tr>\n",
              "    <tr>\n",
              "      <th>Germany</th>\n",
              "      <td>2021-05-06</td>\n",
              "      <td>33565445.0</td>\n",
              "      <td>26220901.0</td>\n",
              "      <td>7360108.0</td>\n",
              "      <td>8.78</td>\n",
              "      <td>Johnson&amp;Johnson, Moderna, Oxford/AstraZeneca, ...</td>\n",
              "      <td>DEU</td>\n",
              "      <td>medium</td>\n",
              "    </tr>\n",
              "    <tr>\n",
              "      <th>Turkey</th>\n",
              "      <td>2021-05-06</td>\n",
              "      <td>24467719.0</td>\n",
              "      <td>14391595.0</td>\n",
              "      <td>10076124.0</td>\n",
              "      <td>11.95</td>\n",
              "      <td>Pfizer/BioNTech, Sinovac</td>\n",
              "      <td>TUR</td>\n",
              "      <td>high</td>\n",
              "    </tr>\n",
              "    <tr>\n",
              "      <th>France</th>\n",
              "      <td>2021-05-05</td>\n",
              "      <td>23949989.0</td>\n",
              "      <td>16791193.0</td>\n",
              "      <td>7238601.0</td>\n",
              "      <td>10.62</td>\n",
              "      <td>Johnson&amp;Johnson, Moderna, Oxford/AstraZeneca, ...</td>\n",
              "      <td>FRA</td>\n",
              "      <td>high</td>\n",
              "    </tr>\n",
              "    <tr>\n",
              "      <th>Italy</th>\n",
              "      <td>2021-05-06</td>\n",
              "      <td>22644364.0</td>\n",
              "      <td>15898833.0</td>\n",
              "      <td>6877239.0</td>\n",
              "      <td>11.37</td>\n",
              "      <td>Johnson&amp;Johnson, Moderna, Oxford/AstraZeneca, ...</td>\n",
              "      <td>ITA</td>\n",
              "      <td>high</td>\n",
              "    </tr>\n",
              "  </tbody>\n",
              "</table>\n",
              "</div>"
            ],
            "text/plain": [
              "                     date  total_vaccinations  ...  iso_code  vaccination_level\n",
              "country                                        ...                             \n",
              "China          2021-05-06         297734000.0  ...       CHN           very low\n",
              "United States  2021-05-06         251973752.0  ...       USA               high\n",
              "India          2021-05-06         162603603.0  ...       IND           very low\n",
              "United Kingdom 2021-05-05          51225890.0  ...       GBR               high\n",
              "Brazil         2021-05-06          46542392.0  ...       BRA          moderated\n",
              "England        2021-05-05          42864836.0  ...  OWID_ENG               high\n",
              "Germany        2021-05-06          33565445.0  ...       DEU             medium\n",
              "Turkey         2021-05-06          24467719.0  ...       TUR               high\n",
              "France         2021-05-05          23949989.0  ...       FRA               high\n",
              "Italy          2021-05-06          22644364.0  ...       ITA               high\n",
              "\n",
              "[10 rows x 8 columns]"
            ]
          },
          "metadata": {
            "tags": []
          },
          "execution_count": 43
        }
      ]
    },
    {
      "cell_type": "code",
      "metadata": {
        "colab": {
          "base_uri": "https://localhost:8080/",
          "height": 356
        },
        "id": "rmlujPYyK7YB",
        "outputId": "ce3a73c8-8528-4408-d8eb-102f4410f563"
      },
      "source": [
        "fig, ax = plt.subplots(figsize=(8, 6))\n",
        "new_data.groupby('vaccination_level').size().plot(kind='pie', autopct='%1.0f%%', ax = ax)\n",
        "ax.set_ylabel('Worldwide vaccination level', fontsize = 16)\n",
        "plt.legend()\n",
        "plt.show()"
      ],
      "execution_count": null,
      "outputs": [
        {
          "output_type": "display_data",
          "data": {
            "image/png": "[encoded data removed]",
            "text/plain": [
              "<Figure size 576x432 with 1 Axes>"
            ]
          },
          "metadata": {
            "tags": []
          }
        }
      ]
    },
    {
      "cell_type": "code",
      "metadata": {
        "colab": {
          "base_uri": "https://localhost:8080/",
          "height": 355
        },
        "id": "grKHChpFLgdS",
        "outputId": "8491385e-4641-414e-ef7d-1d263ac7e414"
      },
      "source": [
        "daily_data = data[['daily_vaccinations','date']].groupby('date', as_index = False).sum()\n",
        "daily_data['vac_test'] = daily_data['daily_vaccinations']\n",
        "daily_data.head(10)"
      ],
      "execution_count": null,
      "outputs": [
        {
          "output_type": "execute_result",
          "data": {
            "text/html": [
              "<div>\n",
              "<style scoped>\n",
              "    .dataframe tbody tr th:only-of-type {\n",
              "        vertical-align: middle;\n",
              "    }\n",
              "\n",
              "    .dataframe tbody tr th {\n",
              "        vertical-align: top;\n",
              "    }\n",
              "\n",
              "    .dataframe thead th {\n",
              "        text-align: right;\n",
              "    }\n",
              "</style>\n",
              "<table border=\"1\" class=\"dataframe\">\n",
              "  <thead>\n",
              "    <tr style=\"text-align: right;\">\n",
              "      <th></th>\n",
              "      <th>date</th>\n",
              "      <th>daily_vaccinations</th>\n",
              "      <th>vac_test</th>\n",
              "    </tr>\n",
              "  </thead>\n",
              "  <tbody>\n",
              "    <tr>\n",
              "      <th>0</th>\n",
              "      <td>2020-12-14</td>\n",
              "      <td>0.0</td>\n",
              "      <td>0.0</td>\n",
              "    </tr>\n",
              "    <tr>\n",
              "      <th>1</th>\n",
              "      <td>2020-12-15</td>\n",
              "      <td>718.0</td>\n",
              "      <td>718.0</td>\n",
              "    </tr>\n",
              "    <tr>\n",
              "      <th>2</th>\n",
              "      <td>2020-12-16</td>\n",
              "      <td>192366.0</td>\n",
              "      <td>192366.0</td>\n",
              "    </tr>\n",
              "    <tr>\n",
              "      <th>3</th>\n",
              "      <td>2020-12-17</td>\n",
              "      <td>193256.0</td>\n",
              "      <td>193256.0</td>\n",
              "    </tr>\n",
              "    <tr>\n",
              "      <th>4</th>\n",
              "      <td>2020-12-18</td>\n",
              "      <td>193649.0</td>\n",
              "      <td>193649.0</td>\n",
              "    </tr>\n",
              "    <tr>\n",
              "      <th>5</th>\n",
              "      <td>2020-12-19</td>\n",
              "      <td>193235.0</td>\n",
              "      <td>193235.0</td>\n",
              "    </tr>\n",
              "    <tr>\n",
              "      <th>6</th>\n",
              "      <td>2020-12-20</td>\n",
              "      <td>200354.0</td>\n",
              "      <td>200354.0</td>\n",
              "    </tr>\n",
              "    <tr>\n",
              "      <th>7</th>\n",
              "      <td>2020-12-21</td>\n",
              "      <td>267874.0</td>\n",
              "      <td>267874.0</td>\n",
              "    </tr>\n",
              "    <tr>\n",
              "      <th>8</th>\n",
              "      <td>2020-12-22</td>\n",
              "      <td>347612.0</td>\n",
              "      <td>347612.0</td>\n",
              "    </tr>\n",
              "    <tr>\n",
              "      <th>9</th>\n",
              "      <td>2020-12-23</td>\n",
              "      <td>391560.0</td>\n",
              "      <td>391560.0</td>\n",
              "    </tr>\n",
              "  </tbody>\n",
              "</table>\n",
              "</div>"
            ],
            "text/plain": [
              "        date  daily_vaccinations  vac_test\n",
              "0 2020-12-14                 0.0       0.0\n",
              "1 2020-12-15               718.0     718.0\n",
              "2 2020-12-16            192366.0  192366.0\n",
              "3 2020-12-17            193256.0  193256.0\n",
              "4 2020-12-18            193649.0  193649.0\n",
              "5 2020-12-19            193235.0  193235.0\n",
              "6 2020-12-20            200354.0  200354.0\n",
              "7 2020-12-21            267874.0  267874.0\n",
              "8 2020-12-22            347612.0  347612.0\n",
              "9 2020-12-23            391560.0  391560.0"
            ]
          },
          "metadata": {
            "tags": []
          },
          "execution_count": 45
        }
      ]
    },
    {
      "cell_type": "code",
      "metadata": {
        "colab": {
          "base_uri": "https://localhost:8080/",
          "height": 355
        },
        "id": "0x9Jd4CcLpDN",
        "outputId": "f2e5cf22-0781-4db7-b164-a3a9cf593ade"
      },
      "source": [
        "daily_data['year'] = daily_data['date'].dt.year\n",
        "daily_data['month'] = daily_data['date'].dt.month\n",
        "daily_data['day'] = daily_data['date'].dt.day\n",
        "daily_data.tail(10)"
      ],
      "execution_count": null,
      "outputs": [
        {
          "output_type": "execute_result",
          "data": {
            "text/html": [
              "<div>\n",
              "<style scoped>\n",
              "    .dataframe tbody tr th:only-of-type {\n",
              "        vertical-align: middle;\n",
              "    }\n",
              "\n",
              "    .dataframe tbody tr th {\n",
              "        vertical-align: top;\n",
              "    }\n",
              "\n",
              "    .dataframe thead th {\n",
              "        text-align: right;\n",
              "    }\n",
              "</style>\n",
              "<table border=\"1\" class=\"dataframe\">\n",
              "  <thead>\n",
              "    <tr style=\"text-align: right;\">\n",
              "      <th></th>\n",
              "      <th>date</th>\n",
              "      <th>daily_vaccinations</th>\n",
              "      <th>vac_test</th>\n",
              "      <th>year</th>\n",
              "      <th>month</th>\n",
              "      <th>day</th>\n",
              "    </tr>\n",
              "  </thead>\n",
              "  <tbody>\n",
              "    <tr>\n",
              "      <th>134</th>\n",
              "      <td>2021-04-27</td>\n",
              "      <td>18414295.0</td>\n",
              "      <td>18414295.0</td>\n",
              "      <td>2021</td>\n",
              "      <td>4</td>\n",
              "      <td>27</td>\n",
              "    </tr>\n",
              "    <tr>\n",
              "      <th>135</th>\n",
              "      <td>2021-04-28</td>\n",
              "      <td>19215486.0</td>\n",
              "      <td>19215486.0</td>\n",
              "      <td>2021</td>\n",
              "      <td>4</td>\n",
              "      <td>28</td>\n",
              "    </tr>\n",
              "    <tr>\n",
              "      <th>136</th>\n",
              "      <td>2021-04-29</td>\n",
              "      <td>19573439.0</td>\n",
              "      <td>19573439.0</td>\n",
              "      <td>2021</td>\n",
              "      <td>4</td>\n",
              "      <td>29</td>\n",
              "    </tr>\n",
              "    <tr>\n",
              "      <th>137</th>\n",
              "      <td>2021-04-30</td>\n",
              "      <td>20398287.0</td>\n",
              "      <td>20398287.0</td>\n",
              "      <td>2021</td>\n",
              "      <td>4</td>\n",
              "      <td>30</td>\n",
              "    </tr>\n",
              "    <tr>\n",
              "      <th>138</th>\n",
              "      <td>2021-05-01</td>\n",
              "      <td>20334355.0</td>\n",
              "      <td>20334355.0</td>\n",
              "      <td>2021</td>\n",
              "      <td>5</td>\n",
              "      <td>1</td>\n",
              "    </tr>\n",
              "    <tr>\n",
              "      <th>139</th>\n",
              "      <td>2021-05-02</td>\n",
              "      <td>19995640.0</td>\n",
              "      <td>19995640.0</td>\n",
              "      <td>2021</td>\n",
              "      <td>5</td>\n",
              "      <td>2</td>\n",
              "    </tr>\n",
              "    <tr>\n",
              "      <th>140</th>\n",
              "      <td>2021-05-03</td>\n",
              "      <td>19292226.0</td>\n",
              "      <td>19292226.0</td>\n",
              "      <td>2021</td>\n",
              "      <td>5</td>\n",
              "      <td>3</td>\n",
              "    </tr>\n",
              "    <tr>\n",
              "      <th>141</th>\n",
              "      <td>2021-05-04</td>\n",
              "      <td>18816094.0</td>\n",
              "      <td>18816094.0</td>\n",
              "      <td>2021</td>\n",
              "      <td>5</td>\n",
              "      <td>4</td>\n",
              "    </tr>\n",
              "    <tr>\n",
              "      <th>142</th>\n",
              "      <td>2021-05-05</td>\n",
              "      <td>18135652.0</td>\n",
              "      <td>18135652.0</td>\n",
              "      <td>2021</td>\n",
              "      <td>5</td>\n",
              "      <td>5</td>\n",
              "    </tr>\n",
              "    <tr>\n",
              "      <th>143</th>\n",
              "      <td>2021-05-06</td>\n",
              "      <td>14911882.0</td>\n",
              "      <td>14911882.0</td>\n",
              "      <td>2021</td>\n",
              "      <td>5</td>\n",
              "      <td>6</td>\n",
              "    </tr>\n",
              "  </tbody>\n",
              "</table>\n",
              "</div>"
            ],
            "text/plain": [
              "          date  daily_vaccinations    vac_test  year  month  day\n",
              "134 2021-04-27          18414295.0  18414295.0  2021      4   27\n",
              "135 2021-04-28          19215486.0  19215486.0  2021      4   28\n",
              "136 2021-04-29          19573439.0  19573439.0  2021      4   29\n",
              "137 2021-04-30          20398287.0  20398287.0  2021      4   30\n",
              "138 2021-05-01          20334355.0  20334355.0  2021      5    1\n",
              "139 2021-05-02          19995640.0  19995640.0  2021      5    2\n",
              "140 2021-05-03          19292226.0  19292226.0  2021      5    3\n",
              "141 2021-05-04          18816094.0  18816094.0  2021      5    4\n",
              "142 2021-05-05          18135652.0  18135652.0  2021      5    5\n",
              "143 2021-05-06          14911882.0  14911882.0  2021      5    6"
            ]
          },
          "metadata": {
            "tags": []
          },
          "execution_count": 46
        }
      ]
    },
    {
      "cell_type": "code",
      "metadata": {
        "colab": {
          "base_uri": "https://localhost:8080/",
          "height": 516
        },
        "id": "rhZaWCsqLuub",
        "outputId": "998ddb6e-1a28-4fb7-c0d7-64472255f94c"
      },
      "source": [
        "ax = sns.lineplot(x = daily_data['date'], y = daily_data['daily_vaccinations'], color='salmon', marker='o')\n",
        "ax.set_xlabel('Date')\n",
        "plt.yticks(ticks = [0, 1000000, 2000000, 3000000, 4000000, 5000000, 6000000, 7000000], labels = [0, 1, 2, 3, 4, 5, 6, 7])\n",
        "ax.set_ylabel('Daily vaccinations, millions')\n",
        "plt.show()"
      ],
      "execution_count": null,
      "outputs": [
        {
          "output_type": "display_data",
          "data": {
            "image/png": "[encoded data removed]",
            "text/plain": [
              "<Figure size 842.4x595.44 with 1 Axes>"
            ]
          },
          "metadata": {
            "tags": []
          }
        }
      ]
    },
    {
      "cell_type": "code",
      "metadata": {
        "id": "NzdBuHCcL1g6"
      },
      "source": [
        "jan = daily_data[daily_data['month'] == 1]\n",
        "feb = daily_data[daily_data['month'] == 2]\n",
        "mar = daily_data[daily_data['month'] == 3]"
      ],
      "execution_count": null,
      "outputs": []
    },
    {
      "cell_type": "code",
      "metadata": {
        "colab": {
          "base_uri": "https://localhost:8080/",
          "height": 816
        },
        "id": "Mw_tRP0ZL4iS",
        "outputId": "13565411-964e-4998-ff0d-ec1d5ec129c0"
      },
      "source": [
        "# define figure and subplots\n",
        "fig, (ax1, ax2, ax3) = plt.subplots(3, figsize = (10,13))\n",
        "# creating subplot 1\n",
        "sns.lineplot(x = jan['day'], y = jan['daily_vaccinations'], color='blue', marker='o', ax=ax1)\n",
        "ax1.set(xlabel = 'January', ylabel = 'Daily vaccinations\\n(million)')\n",
        "ax1.set_title('Seasonal decomposition by month\\n', fontsize = 20)\n",
        "# creating subplot 2\n",
        "sns.lineplot(x = feb['day'], y = feb['daily_vaccinations'], color='salmon', marker='o', ax=ax2)\n",
        "ax2.set(xlabel = 'February', ylabel = 'Daily vaccinations\\n(million)')\n",
        "# creating subplot 3\n",
        "sns.lineplot(x = mar['day'], y = mar['daily_vaccinations'], color='green', marker='o', ax=ax3)\n",
        "ax3.set(xlabel = 'March', ylabel = 'Daily vaccinations\\n(million)')\n",
        "\n",
        "plt.show()"
      ],
      "execution_count": null,
      "outputs": [
        {
          "output_type": "display_data",
          "data": {
            "image/png": "[encoded data removed]",
            "text/plain": [
              "<Figure size 720x936 with 3 Axes>"
            ]
          },
          "metadata": {
            "tags": []
          }
        }
      ]
    },
    {
      "cell_type": "code",
      "metadata": {
        "colab": {
          "base_uri": "https://localhost:8080/",
          "height": 228
        },
        "id": "FvU3p9UuL-s1",
        "outputId": "1307847f-293e-4eed-a5c6-d2de3ded8b05"
      },
      "source": [
        "plt.figure(figsize = (8,3))\n",
        "plt.subplot(121); plot_acf(daily_data['daily_vaccinations'], lags = 40, ax = plt.gca(), color = c)\n",
        "plt.subplot(122); plot_pacf(daily_data['daily_vaccinations'], lags = 40,ax = plt.gca(), color = c)\n",
        "plt.show()"
      ],
      "execution_count": null,
      "outputs": [
        {
          "output_type": "display_data",
          "data": {
            "image/png": "[encoded data removed]",
            "text/plain": [
              "<Figure size 576x216 with 2 Axes>"
            ]
          },
          "metadata": {
            "tags": []
          }
        }
      ]
    },
    {
      "cell_type": "code",
      "metadata": {
        "colab": {
          "base_uri": "https://localhost:8080/"
        },
        "id": "22khDc4IMCea",
        "outputId": "6cc830f4-4241-4ec6-c282-fa07f7505cf0"
      },
      "source": [
        "adfuller(daily_data['daily_vaccinations'])"
      ],
      "execution_count": null,
      "outputs": [
        {
          "output_type": "execute_result",
          "data": {
            "text/plain": [
              "(-1.377918494323072,\n",
              " 0.5928153021134275,\n",
              " 6,\n",
              " 137,\n",
              " {'1%': -3.479007355368944,\n",
              "  '10%': -2.5781488587564603,\n",
              "  '5%': -2.8828782366015093},\n",
              " 3633.8311587738613)"
            ]
          },
          "metadata": {
            "tags": []
          },
          "execution_count": 51
        }
      ]
    },
    {
      "cell_type": "code",
      "metadata": {
        "colab": {
          "base_uri": "https://localhost:8080/",
          "height": 670
        },
        "id": "M5TACYJYMIp6",
        "outputId": "0348d8ee-2334-4c65-e6f1-9abbeeb28a5b"
      },
      "source": [
        "daily_data['diff1'] = daily_data['daily_vaccinations'].diff()\n",
        "daily_data['diff1'] = daily_data['diff1'].fillna(daily_data['diff1'].mean())\n",
        "ax = sns.lineplot(x = daily_data['date'], y = daily_data['diff1'], color='blue')\n",
        "sns.lineplot(x = daily_data['date'], y = daily_data['diff1'].mean(), color='salmon')\n",
        "plt.xlabel('Date')\n",
        "plt.ylabel('Nonseasonal diff. series of 1nd order')\n",
        "plt.show()\n",
        "adfuller(daily_data.diff1)"
      ],
      "execution_count": null,
      "outputs": [
        {
          "output_type": "display_data",
          "data": {
            "image/png": "[encoded data removed]",
            "text/plain": [
              "<Figure size 842.4x595.44 with 1 Axes>"
            ]
          },
          "metadata": {
            "tags": []
          }
        },
        {
          "output_type": "execute_result",
          "data": {
            "text/plain": [
              "(-1.1384087268506504,\n",
              " 0.6995145336638964,\n",
              " 14,\n",
              " 129,\n",
              " {'1%': -3.482087964046026,\n",
              "  '10%': -2.578864381347275,\n",
              "  '5%': -2.8842185101614626},\n",
              " 3632.8229192616664)"
            ]
          },
          "metadata": {
            "tags": []
          },
          "execution_count": 52
        }
      ]
    },
    {
      "cell_type": "code",
      "metadata": {
        "colab": {
          "base_uri": "https://localhost:8080/",
          "height": 228
        },
        "id": "U12cXMEIMKc-",
        "outputId": "a102bac2-857b-4521-9437-0b315e125c5e"
      },
      "source": [
        "plt.figure(figsize = (8,3))\n",
        "plt.subplot(121); plot_acf(daily_data['diff1'], lags = 40, ax = plt.gca(), color = c)\n",
        "plt.subplot(122); plot_pacf(daily_data['diff1'], lags = 40,ax = plt.gca(), color = c)\n",
        "plt.show()"
      ],
      "execution_count": null,
      "outputs": [
        {
          "output_type": "display_data",
          "data": {
            "image/png": "[encoded data removed]",
            "text/plain": [
              "<Figure size 576x216 with 2 Axes>"
            ]
          },
          "metadata": {
            "tags": []
          }
        }
      ]
    },
    {
      "cell_type": "code",
      "metadata": {
        "colab": {
          "base_uri": "https://localhost:8080/",
          "height": 670
        },
        "id": "ch0zmJOhMWkR",
        "outputId": "e56b3e7c-9710-48ba-cdaf-58b70833063d"
      },
      "source": [
        "daily_data['diff2'] = daily_data['diff1'].diff()\n",
        "daily_data['diff2'] = daily_data['diff2'].fillna(daily_data['diff2'].mean())\n",
        "ax = sns.lineplot(x = daily_data['date'], y = daily_data['diff2'], color='blue')\n",
        "sns.lineplot(x = daily_data['date'], y = daily_data['diff2'].mean(), color='salmon')\n",
        "plt.xlabel('Date')\n",
        "plt.ylabel('Nonseasonal diff. series of 2nd order')\n",
        "plt.show()\n",
        "adfuller(daily_data.diff2)"
      ],
      "execution_count": null,
      "outputs": [
        {
          "output_type": "display_data",
          "data": {
            "image/png": "[encoded data removed]",
            "text/plain": [
              "<Figure size 842.4x595.44 with 1 Axes>"
            ]
          },
          "metadata": {
            "tags": []
          }
        },
        {
          "output_type": "execute_result",
          "data": {
            "text/plain": [
              "(-4.824017747796392,\n",
              " 4.891518678781355e-05,\n",
              " 14,\n",
              " 129,\n",
              " {'1%': -3.482087964046026,\n",
              "  '10%': -2.578864381347275,\n",
              "  '5%': -2.8842185101614626},\n",
              " 3616.1608147093734)"
            ]
          },
          "metadata": {
            "tags": []
          },
          "execution_count": 54
        }
      ]
    },
    {
      "cell_type": "code",
      "metadata": {
        "colab": {
          "base_uri": "https://localhost:8080/",
          "height": 501
        },
        "id": "6RzfGzGxMZ7q",
        "outputId": "eef5d152-400d-4408-f755-b07ac0c46dee"
      },
      "source": [
        "plt.figure(figsize = (15,8))\n",
        "plt.subplot(121); plot_acf(daily_data['diff2'], lags = 10, ax = plt.gca(), color = c)\n",
        "plt.subplot(122); plot_pacf(daily_data['diff2'], lags = 10,ax = plt.gca(), color = c)\n",
        "plt.show()"
      ],
      "execution_count": null,
      "outputs": [
        {
          "output_type": "display_data",
          "data": {
            "image/png": "[encoded data removed]",
            "text/plain": [
              "<Figure size 1080x576 with 2 Axes>"
            ]
          },
          "metadata": {
            "tags": []
          }
        }
      ]
    },
    {
      "cell_type": "markdown",
      "metadata": {
        "id": "oSUi7BbtUfEO"
      },
      "source": [
        "# ARIMA"
      ]
    },
    {
      "cell_type": "code",
      "metadata": {
        "colab": {
          "base_uri": "https://localhost:8080/",
          "height": 1000
        },
        "id": "mZMyWNZG2mmL",
        "outputId": "13b8c9e5-0357-437f-9fbb-286931637f94"
      },
      "source": [
        "train = data[data['vaccines']=='Sinopharm/Beijing, Sinopharm/Wuhan, Sinovac']['daily_vaccinations'][:100]\n",
        "test = data[data['vaccines']=='Sinopharm/Beijing, Sinopharm/Wuhan, Sinovac']['daily_vaccinations'][100:]\n",
        "model = ARIMA(data[data['vaccines']=='Sinopharm/Beijing, Sinopharm/Wuhan, Sinovac']['daily_vaccinations'][:200], order = (0,1,1))\n",
        "model = model.fit()\n",
        "start = len(train)\n",
        "end = len(train)+len(test)-1\n",
        "pred = model.predict(start=start, end=end, typ = 'levels')\n",
        "print(pred)\n",
        "plt.figure(figsize=(12,5), dpi=100)\n",
        "ax = sns.lineplot(x=data[data['vaccines']=='Sinopharm/Beijing, Sinopharm/Wuhan, Sinovac']['date'], y = pred, label='forecast')\n",
        "sns.lineplot(x=data[data['vaccines']=='Sinopharm/Beijing, Sinopharm/Wuhan, Sinovac']['date'], y = data[data['vaccines']=='Sinopharm/Beijing, Sinopharm/Wuhan, Sinovac']['daily_vaccinations'][:200], label='actual', ax=ax)\n",
        "plt.title('Forecast vs Actuals')\n",
        "plt.legend(loc='upper left', fontsize=8)\n",
        "plt.show()"
      ],
      "execution_count": null,
      "outputs": [
        {
          "output_type": "stream",
          "text": [
            "2903    2.344639e+06\n",
            "2904    3.045746e+06\n",
            "2905    3.652092e+06\n",
            "2906    4.054637e+06\n",
            "2907    4.165559e+06\n",
            "2908    4.450660e+06\n",
            "2909    4.596997e+06\n",
            "2910    4.975335e+06\n",
            "2911    5.069298e+06\n",
            "2912    5.248863e+06\n",
            "2913    4.721994e+06\n",
            "2914    4.786322e+06\n",
            "2915    4.433046e+06\n",
            "2916    4.475221e+06\n",
            "2917    4.034426e+06\n",
            "2918    4.096626e+06\n",
            "2919    3.808703e+06\n",
            "2920    4.049224e+06\n",
            "2921    3.842987e+06\n",
            "2922    4.315313e+06\n",
            "2923    4.208288e+06\n",
            "2924    4.354117e+06\n",
            "2925    3.909869e+06\n",
            "2926    3.669984e+06\n",
            "2927    3.595287e+06\n",
            "2928    3.513984e+06\n",
            "2929    3.194750e+06\n",
            "2930    3.399328e+06\n",
            "2931    3.649746e+06\n",
            "2932    4.103750e+06\n",
            "2933    4.103273e+06\n",
            "2934    4.480501e+06\n",
            "2935    4.779910e+06\n",
            "2936    4.993802e+06\n",
            "2937    5.433077e+06\n",
            "2938    5.790218e+06\n",
            "2939    6.152881e+06\n",
            "2940    7.407377e+06\n",
            "2941    7.034914e+06\n",
            "2942    7.288071e+06\n",
            "2943    7.160602e+06\n",
            "2944    6.841085e+06\n",
            "2945    6.381388e+06\n",
            "Name: predicted_mean, dtype: float64\n"
          ],
          "name": "stdout"
        },
        {
          "output_type": "display_data",
          "data": {
            "image/png": "[encoded data removed]",
            "text/plain": [
              "<Figure size 1200x500 with 1 Axes>"
            ]
          },
          "metadata": {
            "tags": []
          }
        }
      ]
    },
    {
      "cell_type": "code",
      "metadata": {
        "colab": {
          "base_uri": "https://localhost:8080/"
        },
        "id": "iqNNs8ms9Gzj",
        "outputId": "4b7e0810-48f4-4ad7-b82a-d5a928f3d6df"
      },
      "source": [
        "mean_squared_error(test, pred, squared = False)"
      ],
      "execution_count": null,
      "outputs": [
        {
          "output_type": "execute_result",
          "data": {
            "text/plain": [
              "249051.47093751206"
            ]
          },
          "metadata": {
            "tags": []
          },
          "execution_count": 67
        }
      ]
    },
    {
      "cell_type": "code",
      "metadata": {
        "colab": {
          "base_uri": "https://localhost:8080/"
        },
        "id": "4twx-BWs9Npi",
        "outputId": "725cc9ce-d57d-43e0-efc4-86f956b83c97"
      },
      "source": [
        "test.mean()"
      ],
      "execution_count": null,
      "outputs": [
        {
          "output_type": "execute_result",
          "data": {
            "text/plain": [
              "4704037.627906977"
            ]
          },
          "metadata": {
            "tags": []
          },
          "execution_count": 68
        }
      ]
    },
    {
      "cell_type": "code",
      "metadata": {
        "colab": {
          "base_uri": "https://localhost:8080/"
        },
        "id": "AWBC5wKR9Q2a",
        "outputId": "a7c23e07-3405-4e09-a7bc-492658eb35ec"
      },
      "source": [
        "mean_absolute_percentage_error(test,pred)"
      ],
      "execution_count": null,
      "outputs": [
        {
          "output_type": "execute_result",
          "data": {
            "text/plain": [
              "0.044540527091151666"
            ]
          },
          "metadata": {
            "tags": []
          },
          "execution_count": 69
        }
      ]
    },
    {
      "cell_type": "code",
      "metadata": {
        "colab": {
          "base_uri": "https://localhost:8080/"
        },
        "id": "tH9uzjQV9WKi",
        "outputId": "dae0a1f7-500f-4d2e-f235-ca77742792ad"
      },
      "source": [
        "from sklearn.metrics import r2_score\n",
        "r2_score(test, pred)"
      ],
      "execution_count": null,
      "outputs": [
        {
          "output_type": "execute_result",
          "data": {
            "text/plain": [
              "0.9538258720430959"
            ]
          },
          "metadata": {
            "tags": []
          },
          "execution_count": 70
        }
      ]
    },
    {
      "cell_type": "code",
      "metadata": {
        "colab": {
          "base_uri": "https://localhost:8080/"
        },
        "id": "LjNZ8QmK9aMV",
        "outputId": "3d175404-55cf-4480-83bf-183542255ffb"
      },
      "source": [
        "from sklearn.metrics import mean_absolute_error\n",
        "print(mean_absolute_error(test, pred))"
      ],
      "execution_count": null,
      "outputs": [
        {
          "output_type": "stream",
          "text": [
            "201014.1450921627\n"
          ],
          "name": "stdout"
        }
      ]
    },
    {
      "cell_type": "code",
      "metadata": {
        "colab": {
          "base_uri": "https://localhost:8080/"
        },
        "id": "IZywVA3l9dDS",
        "outputId": "802cda4f-c60f-4fa5-c226-005727278d09"
      },
      "source": [
        "from sklearn.metrics import median_absolute_error\n",
        "print(median_absolute_error(test, pred))"
      ],
      "execution_count": null,
      "outputs": [
        {
          "output_type": "stream",
          "text": [
            "191870.19495582115\n"
          ],
          "name": "stdout"
        }
      ]
    },
    {
      "cell_type": "code",
      "metadata": {
        "colab": {
          "base_uri": "https://localhost:8080/"
        },
        "id": "xjA-JiFI9f9p",
        "outputId": "23af60cb-200e-4186-cc15-46d3d67b1d5f"
      },
      "source": [
        "from math import sqrt\n",
        "rmse = sqrt(mean_squared_error(test, pred))\n",
        "print(rmse)"
      ],
      "execution_count": null,
      "outputs": [
        {
          "output_type": "stream",
          "text": [
            "249051.47093751206\n"
          ],
          "name": "stdout"
        }
      ]
    },
    {
      "cell_type": "code",
      "metadata": {
        "colab": {
          "base_uri": "https://localhost:8080/",
          "height": 652
        },
        "id": "D41oEE1gJ85r",
        "outputId": "9445ea56-8cd1-49d7-8a74-1ca0330c9e85"
      },
      "source": [
        "index_fut_dat = pd.date_range(start='2021-05-06', end='2021-06-17')\n",
        "model_full = ARIMA(data[data['vaccines']=='Sinopharm/Beijing, Sinopharm/Wuhan, Sinovac']['total_vaccinations'], order = (0,1,1))\n",
        "model_full = model_full.fit()\n",
        "pred2 = model_full.predict(start=len(data), end=len(data)+len(test)-1, typ = 'levels')\n",
        "print(pred2.tail(10))\n",
        "pred2.index = index_fut_dat\n",
        "plt.figure(figsize=(12,5), dpi=100)\n",
        "ax = sns.lineplot(x=pred2.index, y = pred2, label='forecast')\n",
        "sns.lineplot(x=data[data['vaccines']=='Sinopharm/Beijing, Sinopharm/Wuhan, Sinovac']['date'], y = data[data['vaccines']=='Sinopharm/Beijing, Sinopharm/Wuhan, Sinovac']['total_vaccinations'], label='actual', ax=ax)\n",
        "plt.title('Forecast vs Actuals')\n",
        "plt.legend(loc='upper left', fontsize=8)\n",
        "plt.show()"
      ],
      "execution_count": null,
      "outputs": [
        {
          "output_type": "stream",
          "text": [
            "15699    2.923380e+08\n",
            "15700    2.923380e+08\n",
            "15701    2.923380e+08\n",
            "15702    2.923380e+08\n",
            "15703    2.923380e+08\n",
            "15704    2.923380e+08\n",
            "15705    2.923380e+08\n",
            "15706    2.923380e+08\n",
            "15707    2.923380e+08\n",
            "15708    2.923380e+08\n",
            "Name: predicted_mean, dtype: float64\n"
          ],
          "name": "stdout"
        },
        {
          "output_type": "display_data",
          "data": {
            "image/png": "[encoded data removed]",
            "text/plain": [
              "<Figure size 1200x500 with 1 Axes>"
            ]
          },
          "metadata": {
            "tags": []
          }
        }
      ]
    },
    {
      "cell_type": "code",
      "metadata": {
        "id": "rwPI26A2NxVp",
        "colab": {
          "base_uri": "https://localhost:8080/"
        },
        "outputId": "8f16c1a9-e81f-4a62-daa4-4ecf09efe0af"
      },
      "source": [
        "mean_squared_error(test, pred2, squared = False)"
      ],
      "execution_count": null,
      "outputs": [
        {
          "output_type": "execute_result",
          "data": {
            "text/plain": [
              "287636279.926935"
            ]
          },
          "metadata": {
            "tags": []
          },
          "execution_count": 89
        }
      ]
    },
    {
      "cell_type": "code",
      "metadata": {
        "colab": {
          "base_uri": "https://localhost:8080/"
        },
        "id": "qgUlfgdyLMtB",
        "outputId": "d8330f9d-55ab-4c49-ab30-ddee0e42ba7c"
      },
      "source": [
        "test.mean()"
      ],
      "execution_count": null,
      "outputs": [
        {
          "output_type": "execute_result",
          "data": {
            "text/plain": [
              "4704037.627906977"
            ]
          },
          "metadata": {
            "tags": []
          },
          "execution_count": 90
        }
      ]
    },
    {
      "cell_type": "code",
      "metadata": {
        "colab": {
          "base_uri": "https://localhost:8080/"
        },
        "id": "KJiQLXGtLP_Z",
        "outputId": "9ee5e373-80f6-4145-9736-bf0ad2d05f09"
      },
      "source": [
        "mean_absolute_percentage_error(test,pred2)"
      ],
      "execution_count": null,
      "outputs": [
        {
          "output_type": "execute_result",
          "data": {
            "text/plain": [
              "64.5913133480779"
            ]
          },
          "metadata": {
            "tags": []
          },
          "execution_count": 91
        }
      ]
    },
    {
      "cell_type": "code",
      "metadata": {
        "colab": {
          "base_uri": "https://localhost:8080/"
        },
        "id": "z9bQ6apsLUdJ",
        "outputId": "664049c3-6a67-4a52-956c-31653f780b76"
      },
      "source": [
        "from sklearn.metrics import r2_score\n",
        "r2_score(test, pred2)"
      ],
      "execution_count": null,
      "outputs": [
        {
          "output_type": "execute_result",
          "data": {
            "text/plain": [
              "-61588.65998311041"
            ]
          },
          "metadata": {
            "tags": []
          },
          "execution_count": 92
        }
      ]
    },
    {
      "cell_type": "code",
      "metadata": {
        "colab": {
          "base_uri": "https://localhost:8080/"
        },
        "id": "5PaGk2RWLW4C",
        "outputId": "8a85acbb-967c-4ab2-8dda-ab9bcfb23666"
      },
      "source": [
        "from sklearn.metrics import mean_absolute_error\n",
        "print(mean_absolute_error(test, pred))"
      ],
      "execution_count": null,
      "outputs": [
        {
          "output_type": "stream",
          "text": [
            "201014.1450921627\n"
          ],
          "name": "stdout"
        }
      ]
    },
    {
      "cell_type": "code",
      "metadata": {
        "colab": {
          "base_uri": "https://localhost:8080/"
        },
        "id": "2_gRgNqoLY-o",
        "outputId": "eea6a79c-9ac2-4c96-b7e1-336897b54695"
      },
      "source": [
        "from sklearn.metrics import median_absolute_error\n",
        "print(median_absolute_error(test, pred2))"
      ],
      "execution_count": null,
      "outputs": [
        {
          "output_type": "stream",
          "text": [
            "287980839.44333494\n"
          ],
          "name": "stdout"
        }
      ]
    },
    {
      "cell_type": "code",
      "metadata": {
        "colab": {
          "base_uri": "https://localhost:8080/"
        },
        "id": "tEamRG9TLcWA",
        "outputId": "c3aef987-9add-4132-d2ad-9b5470e3d338"
      },
      "source": [
        "from math import sqrt\n",
        "rmse = sqrt(mean_squared_error(test, pred2))\n",
        "print(rmse)"
      ],
      "execution_count": null,
      "outputs": [
        {
          "output_type": "stream",
          "text": [
            "287636279.926935\n"
          ],
          "name": "stdout"
        }
      ]
    }
  ]
}