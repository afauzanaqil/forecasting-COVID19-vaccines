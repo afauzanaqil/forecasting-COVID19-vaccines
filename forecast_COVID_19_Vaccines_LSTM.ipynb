{
  "nbformat": 4,
  "nbformat_minor": 0,
  "metadata": {
    "kernelspec": {
      "display_name": "Python 3",
      "language": "python",
      "name": "python3"
    },
    "language_info": {
      "codemirror_mode": {
        "name": "ipython",
        "version": 3
      },
      "file_extension": ".py",
      "mimetype": "text/x-python",
      "name": "python",
      "nbconvert_exporter": "python",
      "pygments_lexer": "ipython3",
      "version": "3.7.9"
    },
    "papermill": {
      "default_parameters": {},
      "duration": 1100.026267,
      "end_time": "2021-03-12T22:08:40.861761",
      "environment_variables": {},
      "exception": null,
      "input_path": "__notebook__.ipynb",
      "output_path": "__notebook__.ipynb",
      "parameters": {},
      "start_time": "2021-03-12T21:50:20.835494",
      "version": "2.2.2"
    },
    "colab": {
      "name": "forecast-COVID-19-Vaccines-LSTM.ipynb",
      "provenance": [],
      "collapsed_sections": []
    },
    "accelerator": "GPU"
  },
  "cells": [
    {
      "cell_type": "code",
      "metadata": {
        "id": "cO0dWQWbJIGP"
      },
      "source": [
        "!pip install pmdarima\n",
        "!pip install shap\n",
        "!pip install --upgrade mxnet~=1.7 gluonts\n",
        "!pip install python-utils\n",
        "!pip install plotly==4.1.0\n",
        "!pip install -U scikit-learn"
      ],
      "execution_count": null,
      "outputs": []
    },
    {
      "cell_type": "code",
      "metadata": {
        "id": "R66IV-4sC1T5"
      },
      "source": [
        "from google.colab import drive\n",
        "drive.mount('/content/drive')"
      ],
      "execution_count": null,
      "outputs": []
    },
    {
      "cell_type": "code",
      "metadata": {
        "id": "eZRK2_5Ga_xT"
      },
      "source": [
        "import pandas as pd \n",
        "import numpy as np\n",
        "import plotly.express as px\n",
        "import plotly.graph_objects as go\n",
        "from plotly.subplots import make_subplots\n",
        "from sklearn.preprocessing import MinMaxScaler \n",
        "import matplotlib.pyplot as plt\n",
        "import math\n",
        "from keras.models import Sequential\n",
        "from keras.layers import Dense\n",
        "from keras.layers import LSTM\n",
        "from sklearn.metrics import mean_squared_error\n",
        "import matplotlib.pyplot as plt\n",
        "import warnings\n",
        "from sklearn.model_selection import train_test_split\n",
        "import datetime\n",
        "warnings.filterwarnings(\"ignore\")\n",
        "np.random.seed(32)"
      ],
      "execution_count": null,
      "outputs": []
    },
    {
      "cell_type": "code",
      "metadata": {
        "id": "U7UQchnUbCkq"
      },
      "source": [
        "data=pd.read_csv('/content/drive/MyDrive/dataset/country_vaccinations.csv')\n",
        "data2=pd.read_csv('/content/drive/MyDrive/dataset/covid-19-main/data/countries-aggregated.csv')"
      ],
      "execution_count": null,
      "outputs": []
    },
    {
      "cell_type": "code",
      "metadata": {
        "id": "WucDjllkoT0e"
      },
      "source": [
        "data.head()"
      ],
      "execution_count": null,
      "outputs": []
    },
    {
      "cell_type": "code",
      "metadata": {
        "id": "eLGrlaJNodFm"
      },
      "source": [
        "data.dropna(subset=['daily_vaccinations'],inplace=True)\n",
        "s=data['date'].str.split('-',expand=True)\n",
        "data['Year']=s[0]\n",
        "data['Month']=s[1]\n",
        "data['Date']=s[2]\n",
        "fig1=px.scatter_geo(data,color='vaccines',locationmode=\"ISO-3\",locations=\"iso_code\",opacity=0.6,\n",
        "                     hover_name=\"iso_code\", size=\"daily_vaccinations\",projection='conic equal area',animation_group =\"iso_code\",color_continuous_scale='blackbody',\n",
        "                     animation_frame=\"Date\",scope='world',template=\"plotly_dark\",title='Vaccination Count Over The World Over Time' )\n",
        "fig1.layout.updatemenus[0].buttons[0].args[1][\"frame\"][\"duration\"] = 400\n",
        "\n",
        "fig1.update_geos(\n",
        "    landcolor=\"white\",\n",
        "    oceancolor=\"#006994\",\n",
        "    showocean=True,\n",
        "    lakecolor=\"LightBlue\"\n",
        ")\n",
        "\n",
        "fig1.update_traces(\n",
        "    marker_coloraxis=None\n",
        ")\n",
        "fig1.show()"
      ],
      "execution_count": null,
      "outputs": []
    },
    {
      "cell_type": "code",
      "metadata": {
        "id": "ueHMRED_o9S-"
      },
      "source": [
        "arr=[]\n",
        "index1=data.groupby(['country','date']).count().index\n",
        "index2=data2.groupby(['Country','Date']).count().index\n",
        "for i in index2:\n",
        "    if i in index1:\n",
        "        arr.append(1)\n",
        "    else:\n",
        "        arr.append(0)\n",
        "data2['Vaccine_is_there']=arr\n",
        "data2.head()"
      ],
      "execution_count": null,
      "outputs": []
    },
    {
      "cell_type": "code",
      "metadata": {
        "id": "diYLQTYAqzbl"
      },
      "source": [
        "t=data2.groupby(['Country']).sum()\n",
        "cons=t[t['Vaccine_is_there']==0].index\n",
        "dan=data2[~data2['Country'].isin(cons)]"
      ],
      "execution_count": null,
      "outputs": []
    },
    {
      "cell_type": "code",
      "metadata": {
        "id": "-cES4vWtrHv7"
      },
      "source": [
        "len(data2['Country'].unique())"
      ],
      "execution_count": null,
      "outputs": []
    },
    {
      "cell_type": "code",
      "metadata": {
        "id": "x6XB2HAHrKeT"
      },
      "source": [
        "data2['Date']=pd.to_datetime(data2['Date'])\n",
        "dfs=list(data2.groupby(\"Country\"))\n",
        "first_title = dfs[0][0]+' '*30 +'1 here represents :2399'\n",
        "traces = []\n",
        "buttons = []\n",
        "for i,d in enumerate(dfs):\n",
        "    visible=[False]*len(dfs)\n",
        "    visible[i]=True\n",
        "    name=d[0]\n",
        "    scale=MinMaxScaler()\n",
        "    yp=scale.fit_transform(d[1][['Deaths']])\n",
        "    fig = go.Figure()\n",
        "    fig.add_trace(go.Scatter(x=d[1]['Date'],y=[i[0] for i in yp]))\n",
        "    mm=max(d[1]['Deaths'])\n",
        "    traces.append(\n",
        "    fig.update_traces(visible=True if i==0 else False).data[0])\n",
        "    buttons.append(dict(label=name,\n",
        "                        method=\"update\",\n",
        "                        args=[{\"visible\":visible},\n",
        "                              {\"title\":str(name)+' '*30+'1 here represents :'+str(mm)}]))\n",
        "\n",
        "updatemenus = [{'active':0, \"buttons\":buttons}]\n",
        "shapes=[({'type': 'line',\n",
        "               'xref': 'x',\n",
        "               'yref': 'y',\n",
        "               'x0': '2020-12-20' ,\n",
        "               'y0': 0,\n",
        "               'x1': '2020-12-20',\n",
        "               'y1': 1})]\n",
        "fig = go.Figure(data=traces,\n",
        "                 layout=dict(updatemenus=updatemenus,shapes=shapes,template='plotly_dark'))\n",
        "fig.update_layout(title=first_title, title_x=0.5)\n",
        "fig.show()"
      ],
      "execution_count": null,
      "outputs": []
    },
    {
      "cell_type": "code",
      "metadata": {
        "id": "51lgeMKOrv-t"
      },
      "source": [
        "datan=data[['country','iso_code','date','total_vaccinations_per_hundred','daily_vaccinations']]\n",
        "datan.sort_values('date',inplace=True)\n",
        "datan.dropna(inplace=True)\n",
        "fig = px.scatter(datan, x=\"total_vaccinations_per_hundred\", y='daily_vaccinations', animation_frame=\"date\", animation_group=\"iso_code\",\n",
        "           hover_name=\"iso_code\", text='iso_code',range_x=[-10,100], range_y=[-100000,1500000])\n",
        "\n",
        "fig.update_traces(marker=dict(size=32,  color='DarkSlateGrey'))\n",
        "fig.update_layout(template='plotly_dark')\n",
        "fig.show()"
      ],
      "execution_count": null,
      "outputs": []
    },
    {
      "cell_type": "code",
      "metadata": {
        "id": "kP5Yq4UKr8rN"
      },
      "source": [
        "# We are gonna use keras model with LSTM here to do some predictions :)\n",
        "datacd = data[data['vaccines']=='Sinopharm/Beijing, Sinopharm/Wuhan, Sinovac']"
      ],
      "execution_count": null,
      "outputs": []
    },
    {
      "cell_type": "code",
      "metadata": {
        "id": "v0ON9OIZsTtE"
      },
      "source": [
        "# Using simple LSTM code to do some time series predictions :)\n",
        "\n",
        "datacd.sort_values('date',inplace=True)\n",
        "lp='daily_vaccinations'\n",
        "datacd.dropna(subset=[lp],inplace=True)\n",
        "datac = datacd[[lp]]\n",
        "dates=datacd['date'].values\n",
        "train,test=train_test_split(datac,test_size=0.2,shuffle=False)\n",
        "def create_test_train(dataset,look_back=1):\n",
        "    x=dataset.values[0:len(dataset)-look_back]\n",
        "    y=dataset.values[look_back:len(dataset)]\n",
        "    return x,y\n",
        "look_back = 2\n",
        "trainX, trainY = create_test_train(train, look_back)\n",
        "testX, testY = create_test_train(test, look_back)\n",
        "# reshape input to be [samples, time steps, features]\n",
        "trainX = np.reshape(trainX, (trainX.shape[0], 1, trainX.shape[1]))\n",
        "testX = np.reshape(testX, (testX.shape[0], 1, testX.shape[1]))\n",
        "\n",
        "# Making the model\n",
        "model = Sequential()\n",
        "model.add(LSTM(1000, input_shape=(1, 1), return_sequences=False))\n",
        "model.add(Dense(1000))\n",
        "model.add(Dense(100))\n",
        "model.add(Dense(1))\n",
        "model.compile(loss='mean_squared_error', optimizer='adam')\n",
        "fitted_model=model.fit(trainX, trainY, epochs=100, batch_size=8, verbose=2,validation_data=(testX,testY))"
      ],
      "execution_count": null,
      "outputs": []
    },
    {
      "cell_type": "code",
      "metadata": {
        "id": "NfTV9aWeshGe"
      },
      "source": [
        "# Plotting the loss of the model\n",
        "plt.plot(fitted_model.history['loss'])\n",
        "plt.plot(fitted_model.history['val_loss'])"
      ],
      "execution_count": null,
      "outputs": []
    },
    {
      "cell_type": "code",
      "metadata": {
        "id": "DM027ieIteLm"
      },
      "source": [
        "# make predictions\n",
        "trainPredict = fitted_model.model.predict(trainX)\n",
        "testPredict = fitted_model.model.predict(testX)\n",
        "import plotly.graph_objects as go\n",
        "from plotly.subplots import make_subplots\n",
        "\n",
        "# Create figure with secondary y-axis\n",
        "fig = make_subplots(specs=[[{\"secondary_y\": True}]])\n",
        "\n",
        "# Add traces\n",
        "fig.add_trace(\n",
        "    go.Scatter(x=datacd['date'][:len(trainPredict)],y=trainX.flatten(), name=\"Original data\"),\n",
        "    secondary_y=False,\n",
        ")\n",
        "\n",
        "fig.add_trace(\n",
        "    go.Scatter(x=datacd['date'][:len(trainPredict)],y=trainPredict.flatten(), name=\"Predicted data\"),\n",
        "    secondary_y=True,\n",
        ")\n",
        "fig.update_layout(template='plotly_dark')\n",
        "fig.show()"
      ],
      "execution_count": null,
      "outputs": []
    },
    {
      "cell_type": "code",
      "metadata": {
        "id": "5PMCLx43tnOV"
      },
      "source": [
        "# Let's predict for 10 days more :)\n",
        "n=int(input())\n",
        "date_n=datacd[len(trainPredict)-1:len(trainPredict)+n+1]['date']\n",
        "l=[]\n",
        "t=trainX[-1]\n",
        "for i in range(n):  \n",
        "    pred=fitted_model.model.predict(t.reshape(1,1,1))\n",
        "    l.append(pred)\n",
        "    t=pred\n",
        "l=[i[0][0] for i in l]\n",
        "\n",
        "# Create figure with secondary y-axis\n",
        "fig = make_subplots(specs=[[{\"secondary_y\": True}]])\n",
        "\n",
        "# Add traces\n",
        "fig.add_trace(\n",
        "    go.Scatter(x=datacd['date'][:len(trainPredict)],y=trainX.flatten(), name=\"Original data\"),\n",
        "    secondary_y=False,\n",
        ")\n",
        "\n",
        "fig.add_trace(go.Scatter(x=date_n,y=l,name='Forecast'),secondary_y=False)\n",
        "\n",
        "fig.update_layout(template='plotly_dark')\n",
        "fig.show()"
      ],
      "execution_count": null,
      "outputs": []
    },
    {
      "cell_type": "code",
      "metadata": {
        "id": "5IZBchhg5L4B"
      },
      "source": [
        "# invert predictions\n",
        "trainPredict = scale.inverse_transform(trainPredict)\n",
        "trainY = scale.inverse_transform(trainY)\n",
        "testPredict = scale.inverse_transform(testPredict)\n",
        "testY = scale.inverse_transform(testY)"
      ],
      "execution_count": null,
      "outputs": []
    },
    {
      "cell_type": "code",
      "metadata": {
        "id": "JUkWMzB48r-Q"
      },
      "source": [
        "# calculate root mean squared error\n",
        "trainScore = math.sqrt(mean_squared_error(trainY[:,0], trainPredict[:,0]))\n",
        "print(trainY[0])\n",
        "print(trainPredict[:,0])\n",
        "print('Train Score: %.0f RMSE' % (trainScore))\n",
        "testScore = math.sqrt(mean_squared_error(testY[:,0], testPredict[:,0]))\n",
        "print(testY[0])\n",
        "print(testPredict[:,0])\n",
        "print('Test Score: %.0f RMSE' % (testScore))"
      ],
      "execution_count": null,
      "outputs": []
    },
    {
      "cell_type": "code",
      "metadata": {
        "id": "ksUxxwEr9iSP"
      },
      "source": [
        "trainPredictPlot = np.empty_like(datac)\n",
        "trainPredictPlot[:, :] = np.nan\n",
        "trainPredictPlot[look_back:len(trainPredict)+look_back, :] = trainPredict\n",
        "\n",
        "# shift test predictions for plotting\n",
        "testPredictPlot = np.empty_like(datac)\n",
        "testPredictPlot[:, :] = np.nan\n",
        "testPredictPlot[len(trainPredict)+(look_back)+1:len(datac)-1, :] = testPredict\n",
        "\n",
        "# plot baseline and predictions\n",
        "plt.plot(scale.inverse_transform(datac), label='predict')\n",
        "plt.plot(trainPredictPlot, label='actual')\n",
        "plt.plot(testPredictPlot, label='forecast')\n",
        "plt.legend()\n",
        "plt.show()"
      ],
      "execution_count": null,
      "outputs": []
    },
    {
      "cell_type": "code",
      "metadata": {
        "id": "6v7NxOYu-6hp"
      },
      "source": [
        "mean_squared_error(testY[:,0], testPredict[:,0])"
      ],
      "execution_count": null,
      "outputs": []
    },
    {
      "cell_type": "code",
      "metadata": {
        "id": "c4RlEgwFAa6_"
      },
      "source": [
        "testPredict[:,0].mean()"
      ],
      "execution_count": null,
      "outputs": []
    },
    {
      "cell_type": "code",
      "metadata": {
        "id": "xU5-AUwmAjXv"
      },
      "source": [
        "from sklearn.metrics import mean_absolute_percentage_error\n",
        "mean_absolute_percentage_error(testY[:,0], testPredict[:,0])"
      ],
      "execution_count": null,
      "outputs": []
    },
    {
      "cell_type": "code",
      "metadata": {
        "id": "eowYm6SBA0P_"
      },
      "source": [
        "from sklearn.metrics import r2_score\n",
        "r2_score(testY[:,0], testPredict[:,0])"
      ],
      "execution_count": null,
      "outputs": []
    },
    {
      "cell_type": "code",
      "metadata": {
        "id": "8EXvogGNA9pn"
      },
      "source": [
        "from sklearn.metrics import mean_absolute_error\n",
        "print(mean_absolute_error(testY[:,0], testPredict[:,0]))"
      ],
      "execution_count": null,
      "outputs": []
    },
    {
      "cell_type": "code",
      "metadata": {
        "id": "-6-Dz28zBJG-"
      },
      "source": [
        "from sklearn.metrics import median_absolute_error\n",
        "print(median_absolute_error(testY[:,0], testPredict[:,0]))"
      ],
      "execution_count": null,
      "outputs": []
    },
    {
      "cell_type": "code",
      "metadata": {
        "id": "8ma0cWvJBUHH"
      },
      "source": [
        "from math import sqrt\n",
        "rmse = sqrt(mean_squared_error(testY[:,0], testPredict[:,0]))\n",
        "print(rmse)"
      ],
      "execution_count": null,
      "outputs": []
    },
    {
      "cell_type": "code",
      "metadata": {
        "id": "YdR00l4N_OIp"
      },
      "source": [
        "# Using simple LSTM code to do some time series predictions :)\n",
        "\n",
        "datacd.sort_values('date',inplace=True)\n",
        "lp=datacd[datacd['vaccines']=='Sinopharm/Beijing, Sinopharm/Wuhan, Sinovac']['daily_vaccinations']\n",
        "datacd.dropna(subset=[lp],inplace=True)\n",
        "datac = datacd[[lp]]\n",
        "dates=datacd['date'].values\n",
        "train,test=train_test_split(datac,test_size=0.2,shuffle=False)\n",
        "def create_test_train(dataset,look_back=1):\n",
        "    x=dataset.values[0:len(dataset)-look_back]\n",
        "    y=dataset.values[look_back:len(dataset)]\n",
        "    return x,y\n",
        "look_back = 2\n",
        "trainX, trainY = create_test_train(train, look_back)\n",
        "testX, testY = create_test_train(test, look_back)\n",
        "# reshape input to be [samples, time steps, features]\n",
        "trainX = np.reshape(trainX, (trainX.shape[0], 1, trainX.shape[1]))\n",
        "testX = np.reshape(testX, (testX.shape[0], 1, testX.shape[1]))\n",
        "\n",
        "# Making the model\n",
        "model = Sequential()\n",
        "model.add(LSTM(1000, input_shape=(1, 1), return_sequences=False))\n",
        "model.add(Dense(1000))\n",
        "model.add(Dense(100))\n",
        "model.add(Dense(1))\n",
        "model.compile(loss='mean_squared_error', optimizer='adam')\n",
        "fitted_model=model.fit(trainX, trainY, epochs=100, batch_size=8, verbose=2,validation_data=(testX,testY))"
      ],
      "execution_count": null,
      "outputs": []
    }
  ]
}